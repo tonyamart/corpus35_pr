{
 "cells": [
  {
   "cell_type": "markdown",
   "id": "0c9da31d",
   "metadata": {},
   "source": [
    "### Lemmatization for simple csv"
   ]
  },
  {
   "cell_type": "code",
   "execution_count": 1,
   "id": "76a0964c",
   "metadata": {},
   "outputs": [],
   "source": [
    "import re\n",
    "import pandas as pd\n",
    "from pymystem3 import Mystem\n",
    "\n",
    "m = Mystem()"
   ]
  },
  {
   "cell_type": "code",
   "execution_count": 2,
   "id": "bb551536",
   "metadata": {},
   "outputs": [
    {
     "name": "stdout",
     "output_type": "stream",
     "text": [
      "['попробовать', ' ', 'этот', ' ', 'мягкий', ' ', 'французский', ' ', 'булка', '\\n']\n"
     ]
    }
   ],
   "source": [
    "test = 'Попробуй этих мягких французских булок'\n",
    "lemma = m.lemmatize(test)\n",
    "print(lemma) # list output"
   ]
  },
  {
   "cell_type": "code",
   "execution_count": 3,
   "id": "95cdadf8",
   "metadata": {},
   "outputs": [
    {
     "data": {
      "text/plain": [
       "'/Users/tonya/Documents/thesis1830s/corpus35_pr/scr'"
      ]
     },
     "execution_count": 3,
     "metadata": {},
     "output_type": "execute_result"
    }
   ],
   "source": [
    "import os\n",
    "os.getcwd()"
   ]
  },
  {
   "cell_type": "code",
   "execution_count": 4,
   "id": "de62eeab",
   "metadata": {},
   "outputs": [],
   "source": [
    "os.chdir('../')"
   ]
  },
  {
   "cell_type": "code",
   "execution_count": 6,
   "id": "2112bfa3",
   "metadata": {},
   "outputs": [
    {
     "data": {
      "text/html": [
       "<div>\n",
       "<style scoped>\n",
       "    .dataframe tbody tr th:only-of-type {\n",
       "        vertical-align: middle;\n",
       "    }\n",
       "\n",
       "    .dataframe tbody tr th {\n",
       "        vertical-align: top;\n",
       "    }\n",
       "\n",
       "    .dataframe thead th {\n",
       "        text-align: right;\n",
       "    }\n",
       "</style>\n",
       "<table border=\"1\" class=\"dataframe\">\n",
       "  <thead>\n",
       "    <tr style=\"text-align: right;\">\n",
       "      <th></th>\n",
       "      <th>Unnamed: 0</th>\n",
       "      <th>id</th>\n",
       "      <th>text</th>\n",
       "    </tr>\n",
       "  </thead>\n",
       "  <tbody>\n",
       "    <tr>\n",
       "      <th>0</th>\n",
       "      <td>1</td>\n",
       "      <td>P_10</td>\n",
       "      <td>Зачем с небесной высоты, \\nИз горнего жилья, \\...</td>\n",
       "    </tr>\n",
       "    <tr>\n",
       "      <th>1</th>\n",
       "      <td>2</td>\n",
       "      <td>P_100</td>\n",
       "      <td>Вблизи дороги столбовой\\nНочует табор кочевой\\...</td>\n",
       "    </tr>\n",
       "    <tr>\n",
       "      <th>2</th>\n",
       "      <td>3</td>\n",
       "      <td>P_1000</td>\n",
       "      <td>О чем грустишь так неутешно?\\nУтраченных стяжа...</td>\n",
       "    </tr>\n",
       "    <tr>\n",
       "      <th>3</th>\n",
       "      <td>4</td>\n",
       "      <td>P_1001</td>\n",
       "      <td>Движим думою чудесной,\\n\"Здесь\", Он молвил \"бу...</td>\n",
       "    </tr>\n",
       "    <tr>\n",
       "      <th>4</th>\n",
       "      <td>5</td>\n",
       "      <td>P_1002</td>\n",
       "      <td>Я слушал вас... я прочитал\\nСии небрежные созд...</td>\n",
       "    </tr>\n",
       "  </tbody>\n",
       "</table>\n",
       "</div>"
      ],
      "text/plain": [
       "   Unnamed: 0      id                                               text\n",
       "0           1    P_10  Зачем с небесной высоты, \\nИз горнего жилья, \\...\n",
       "1           2   P_100  Вблизи дороги столбовой\\nНочует табор кочевой\\...\n",
       "2           3  P_1000  О чем грустишь так неутешно?\\nУтраченных стяжа...\n",
       "3           4  P_1001  Движим думою чудесной,\\n\"Здесь\", Он молвил \"бу...\n",
       "4           5  P_1002  Я слушал вас... я прочитал\\nСии небрежные созд..."
      ]
     },
     "execution_count": 6,
     "metadata": {},
     "output_type": "execute_result"
    }
   ],
   "source": [
    "df = pd.read_csv('data/id_text_lemm.csv')\n",
    "df.head()"
   ]
  },
  {
   "cell_type": "code",
   "execution_count": 7,
   "id": "d0a1d93d",
   "metadata": {},
   "outputs": [
    {
     "data": {
      "text/plain": [
       "1403"
      ]
     },
     "execution_count": 7,
     "metadata": {},
     "output_type": "execute_result"
    }
   ],
   "source": [
    "len(df)"
   ]
  },
  {
   "cell_type": "code",
   "execution_count": 8,
   "id": "e13bbe8b",
   "metadata": {},
   "outputs": [],
   "source": [
    "df = df.loc[df.text.apply(lambda x: not isinstance(x, (float, int)))]"
   ]
  },
  {
   "cell_type": "code",
   "execution_count": 9,
   "id": "a11b6df2",
   "metadata": {},
   "outputs": [
    {
     "data": {
      "text/plain": [
       "1403"
      ]
     },
     "execution_count": 9,
     "metadata": {},
     "output_type": "execute_result"
    }
   ],
   "source": [
    "len(df)"
   ]
  },
  {
   "cell_type": "code",
   "execution_count": null,
   "id": "a38d12e6",
   "metadata": {},
   "outputs": [],
   "source": [
    "df['text_lemm'] = df['text'].apply(m.lemmatize)\n",
    "df['text_lemm'] = [''.join(map(str, l)) for l in df['text_lemm']] \n",
    "#df['lemma'] = df['lemma'].str.replace('\\n', '', regex = True)"
   ]
  },
  {
   "cell_type": "code",
   "execution_count": 10,
   "id": "76103e42",
   "metadata": {},
   "outputs": [
    {
     "name": "stdout",
     "output_type": "stream",
     "text": [
      "     Unnamed: 0      id                                               text  \\\n",
      "0             1    P_10  Зачем с небесной высоты, \\nИз горнего жилья, \\...   \n",
      "1             2   P_100  Вблизи дороги столбовой\\nНочует табор кочевой\\...   \n",
      "2             3  P_1000  О чем грустишь так неутешно?\\nУтраченных стяжа...   \n",
      "3             4  P_1001  Движим думою чудесной,\\n\"Здесь\", Он молвил \"бу...   \n",
      "4             5  P_1002  Я слушал вас... я прочитал\\nСии небрежные созд...   \n",
      "..          ...     ...                                                ...   \n",
      "995         996    P_29  Трусоват был Ваня бедный: \\nРаз он позднею пор...   \n",
      "996         997   P_290  Слыхали ль вы, как он читал, \\nМечтой восторга...   \n",
      "997         998   P_291  Во цвете юности земной,\\nОн стал знаком уже с ...   \n",
      "998         999   P_292  Мрачен я теперь... Напрасно\\nВы вините в том м...   \n",
      "999        1000   P_293  Ах ты, матушка, земля русская ,\\nПравославная!...   \n",
      "\n",
      "                                                 lemma  \n",
      "0    зачем с небесный высота, \\nиз горний жилье, \\n...  \n",
      "1    вблизи дорога столбовой\\nночевать табор кочево...  \n",
      "2    о что грустить так неутешно?\\nутрачивать стяжа...  \n",
      "3    движимый дума чудесный,\\n\"здесь\", он молвить \"...  \n",
      "4    я слушать вы... я прочитывать\\nсей небрежный с...  \n",
      "..                                                 ...  \n",
      "995  трусоватый быть ваня бедный: \\nраз он поздний ...  \n",
      "996  слыхать ль вы, как он читать, \\nмечта восторг ...  \n",
      "997  во цвет юность земной,\\nон становиться знакомы...  \n",
      "998  мрачный я теперь... напрасно\\nвы винить в то я...  \n",
      "999  ах ты, матушка, земля русский ,\\nправославный!...  \n",
      "\n",
      "[1000 rows x 4 columns]\n"
     ]
    }
   ],
   "source": [
    "print(df.head(1000))"
   ]
  },
  {
   "cell_type": "code",
   "execution_count": 12,
   "id": "a25a53cd",
   "metadata": {},
   "outputs": [],
   "source": [
    "df.to_csv('data/id_text_lemm.csv')"
   ]
  },
  {
   "cell_type": "code",
   "execution_count": null,
   "id": "fab7aaef",
   "metadata": {},
   "outputs": [],
   "source": []
  }
 ],
 "metadata": {
  "kernelspec": {
   "display_name": "Python 3 (ipykernel)",
   "language": "python",
   "name": "python3"
  },
  "language_info": {
   "codemirror_mode": {
    "name": "ipython",
    "version": 3
   },
   "file_extension": ".py",
   "mimetype": "text/x-python",
   "name": "python",
   "nbconvert_exporter": "python",
   "pygments_lexer": "ipython3",
   "version": "3.9.2"
  }
 },
 "nbformat": 4,
 "nbformat_minor": 5
}
