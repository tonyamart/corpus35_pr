{
 "cells": [
  {
   "cell_type": "markdown",
   "id": "0c9da31d",
   "metadata": {},
   "source": [
    "### Lemmatization for simple csv"
   ]
  },
  {
   "cell_type": "code",
   "execution_count": 1,
   "id": "76a0964c",
   "metadata": {},
   "outputs": [],
   "source": [
    "import re\n",
    "import pandas as pd\n",
    "from pymystem3 import Mystem\n",
    "\n",
    "m = Mystem()"
   ]
  },
  {
   "cell_type": "code",
   "execution_count": 2,
   "id": "bb551536",
   "metadata": {},
   "outputs": [
    {
     "name": "stdout",
     "output_type": "stream",
     "text": [
      "['попробовать', ' ', 'этот', ' ', 'мягкий', ' ', 'французский', ' ', 'булка', '\\n']\n"
     ]
    }
   ],
   "source": [
    "test = 'Попробуй этих мягких французских булок'\n",
    "lemma = m.lemmatize(test)\n",
    "print(lemma) # list output"
   ]
  },
  {
   "cell_type": "code",
   "execution_count": 3,
   "id": "95cdadf8",
   "metadata": {},
   "outputs": [
    {
     "data": {
      "text/plain": [
       "'/Users/tonya/Documents/thesis1830s/corpus35_pr/scr/00_preprocessing'"
      ]
     },
     "execution_count": 3,
     "metadata": {},
     "output_type": "execute_result"
    }
   ],
   "source": [
    "import os\n",
    "os.getcwd()"
   ]
  },
  {
   "cell_type": "code",
   "execution_count": 29,
   "id": "de62eeab",
   "metadata": {},
   "outputs": [
    {
     "data": {
      "text/plain": [
       "['.DS_Store',\n",
       " '00_corpus_compilation.qmd',\n",
       " 'per_texts.csv',\n",
       " 'cols_texts.csv',\n",
       " 'periodicals_texts.csv',\n",
       " '00_lemmatization.ipynb',\n",
       " '00_preproc_new_orf.py',\n",
       " '.ipynb_checkpoints',\n",
       " '00_texts_separation.qmd']"
      ]
     },
     "execution_count": 29,
     "metadata": {},
     "output_type": "execute_result"
    }
   ],
   "source": [
    "#os.chdir('../02_chapter/')\n",
    "os.listdir()"
   ]
  },
  {
   "cell_type": "code",
   "execution_count": 30,
   "id": "2112bfa3",
   "metadata": {},
   "outputs": [
    {
     "data": {
      "text/html": [
       "<div>\n",
       "<style scoped>\n",
       "    .dataframe tbody tr th:only-of-type {\n",
       "        vertical-align: middle;\n",
       "    }\n",
       "\n",
       "    .dataframe tbody tr th {\n",
       "        vertical-align: top;\n",
       "    }\n",
       "\n",
       "    .dataframe thead th {\n",
       "        text-align: right;\n",
       "    }\n",
       "</style>\n",
       "<table border=\"1\" class=\"dataframe\">\n",
       "  <thead>\n",
       "    <tr style=\"text-align: right;\">\n",
       "      <th></th>\n",
       "      <th>Unnamed: 0</th>\n",
       "      <th>path_raw</th>\n",
       "      <th>path_acc</th>\n",
       "      <th>text_id</th>\n",
       "      <th>col_id</th>\n",
       "      <th>text_raw</th>\n",
       "      <th>text_acc</th>\n",
       "      <th>text_cln</th>\n",
       "    </tr>\n",
       "  </thead>\n",
       "  <tbody>\n",
       "    <tr>\n",
       "      <th>0</th>\n",
       "      <td>1</td>\n",
       "      <td>../../data/corpus1835/collections/raw_texts/un...</td>\n",
       "      <td>../../data/corpus1835/collections/accented//C_...</td>\n",
       "      <td>C_101__1</td>\n",
       "      <td>C_101</td>\n",
       "      <td>В власти - ль смертного забыть,\\nЧто ему всего...</td>\n",
       "      <td>В вла'сти - ль сме'ртного забы'ть,\\nЧто ему' в...</td>\n",
       "      <td>В власти - ль смертного забыть,\\nЧто ему всего...</td>\n",
       "    </tr>\n",
       "    <tr>\n",
       "      <th>1</th>\n",
       "      <td>2</td>\n",
       "      <td>../../data/corpus1835/collections/raw_texts/un...</td>\n",
       "      <td>../../data/corpus1835/collections/accented//C_...</td>\n",
       "      <td>C_101__10</td>\n",
       "      <td>C_101</td>\n",
       "      <td>Когда бы стройну лиру \\nВ руках своих имел, \\n...</td>\n",
       "      <td>Когда' бы стро'йну ли'ру\\nВ рука'х свои'х име'...</td>\n",
       "      <td>Когда бы стройну лиру \\nВ руках своих имел, \\n...</td>\n",
       "    </tr>\n",
       "    <tr>\n",
       "      <th>2</th>\n",
       "      <td>3</td>\n",
       "      <td>../../data/corpus1835/collections/raw_texts/un...</td>\n",
       "      <td>../../data/corpus1835/collections/accented//C_...</td>\n",
       "      <td>C_101__11</td>\n",
       "      <td>C_101</td>\n",
       "      <td>Мил сердечный друг,\\nЖизнь души моей!\\nИз твои...</td>\n",
       "      <td>Мил серде'чный друг,\\nЖизнь ду'ши мое'й!\\nИз т...</td>\n",
       "      <td>Мил сердечный друг,\\nЖизнь души моей!\\nИз твои...</td>\n",
       "    </tr>\n",
       "    <tr>\n",
       "      <th>3</th>\n",
       "      <td>4</td>\n",
       "      <td>../../data/corpus1835/collections/raw_texts/un...</td>\n",
       "      <td>../../data/corpus1835/collections/accented//C_...</td>\n",
       "      <td>C_101__12</td>\n",
       "      <td>C_101</td>\n",
       "      <td>Как красавицы не милы,\\nКак ни пел вас завсегд...</td>\n",
       "      <td>Как краса'вицы не ми'лы,\\nКак ни пел вас завсе...</td>\n",
       "      <td>Как красавицы не милы,\\nКак ни пел вас завсегд...</td>\n",
       "    </tr>\n",
       "    <tr>\n",
       "      <th>4</th>\n",
       "      <td>5</td>\n",
       "      <td>../../data/corpus1835/collections/raw_texts/un...</td>\n",
       "      <td>../../data/corpus1835/collections/accented//C_...</td>\n",
       "      <td>C_101__13</td>\n",
       "      <td>C_101</td>\n",
       "      <td>Через слезу был мир потерян,\\nАнтоний жертвова...</td>\n",
       "      <td>Че'рез слезу' был мир поте'рян,\\nАнто'ний же'р...</td>\n",
       "      <td>Через слезу был мир потерян,\\nАнтоний жертвова...</td>\n",
       "    </tr>\n",
       "  </tbody>\n",
       "</table>\n",
       "</div>"
      ],
      "text/plain": [
       "   Unnamed: 0                                           path_raw  \\\n",
       "0           1  ../../data/corpus1835/collections/raw_texts/un...   \n",
       "1           2  ../../data/corpus1835/collections/raw_texts/un...   \n",
       "2           3  ../../data/corpus1835/collections/raw_texts/un...   \n",
       "3           4  ../../data/corpus1835/collections/raw_texts/un...   \n",
       "4           5  ../../data/corpus1835/collections/raw_texts/un...   \n",
       "\n",
       "                                            path_acc    text_id col_id  \\\n",
       "0  ../../data/corpus1835/collections/accented//C_...   C_101__1  C_101   \n",
       "1  ../../data/corpus1835/collections/accented//C_...  C_101__10  C_101   \n",
       "2  ../../data/corpus1835/collections/accented//C_...  C_101__11  C_101   \n",
       "3  ../../data/corpus1835/collections/accented//C_...  C_101__12  C_101   \n",
       "4  ../../data/corpus1835/collections/accented//C_...  C_101__13  C_101   \n",
       "\n",
       "                                            text_raw  \\\n",
       "0  В власти - ль смертного забыть,\\nЧто ему всего...   \n",
       "1  Когда бы стройну лиру \\nВ руках своих имел, \\n...   \n",
       "2  Мил сердечный друг,\\nЖизнь души моей!\\nИз твои...   \n",
       "3  Как красавицы не милы,\\nКак ни пел вас завсегд...   \n",
       "4  Через слезу был мир потерян,\\nАнтоний жертвова...   \n",
       "\n",
       "                                            text_acc  \\\n",
       "0  В вла'сти - ль сме'ртного забы'ть,\\nЧто ему' в...   \n",
       "1  Когда' бы стро'йну ли'ру\\nВ рука'х свои'х име'...   \n",
       "2  Мил серде'чный друг,\\nЖизнь ду'ши мое'й!\\nИз т...   \n",
       "3  Как краса'вицы не ми'лы,\\nКак ни пел вас завсе...   \n",
       "4  Че'рез слезу' был мир поте'рян,\\nАнто'ний же'р...   \n",
       "\n",
       "                                            text_cln  \n",
       "0  В власти - ль смертного забыть,\\nЧто ему всего...  \n",
       "1  Когда бы стройну лиру \\nВ руках своих имел, \\n...  \n",
       "2  Мил сердечный друг,\\nЖизнь души моей!\\nИз твои...  \n",
       "3  Как красавицы не милы,\\nКак ни пел вас завсегд...  \n",
       "4  Через слезу был мир потерян,\\nАнтоний жертвова...  "
      ]
     },
     "execution_count": 30,
     "metadata": {},
     "output_type": "execute_result"
    }
   ],
   "source": [
    "df = pd.read_csv('cols_texts.csv')\n",
    "df.head()"
   ]
  },
  {
   "cell_type": "code",
   "execution_count": 31,
   "id": "d0a1d93d",
   "metadata": {},
   "outputs": [
    {
     "data": {
      "text/plain": [
       "2335"
      ]
     },
     "execution_count": 31,
     "metadata": {},
     "output_type": "execute_result"
    }
   ],
   "source": [
    "len(df)"
   ]
  },
  {
   "cell_type": "code",
   "execution_count": 32,
   "id": "e13bbe8b",
   "metadata": {},
   "outputs": [],
   "source": [
    "df = df.loc[df.text_cln.apply(lambda x: not isinstance(x, (float, int)))]"
   ]
  },
  {
   "cell_type": "code",
   "execution_count": 33,
   "id": "a11b6df2",
   "metadata": {},
   "outputs": [
    {
     "data": {
      "text/plain": [
       "2335"
      ]
     },
     "execution_count": 33,
     "metadata": {},
     "output_type": "execute_result"
    }
   ],
   "source": [
    "len(df)"
   ]
  },
  {
   "cell_type": "code",
   "execution_count": 34,
   "id": "a38d12e6",
   "metadata": {},
   "outputs": [],
   "source": [
    "df['text_lemm'] = df['text_cln'].apply(m.lemmatize)\n",
    "df['text_lemm'] = [''.join(map(str, l)) for l in df['text_lemm']] \n",
    "#df['lemma'] = df['lemma'].str.replace('\\n', '', regex = True)"
   ]
  },
  {
   "cell_type": "code",
   "execution_count": 35,
   "id": "8d49c353",
   "metadata": {},
   "outputs": [],
   "source": [
    "df = df.drop('Unnamed: 0', axis = 1)\n",
    "df = df.drop('text_cln', axis = 1)"
   ]
  },
  {
   "cell_type": "code",
   "execution_count": 36,
   "id": "76103e42",
   "metadata": {},
   "outputs": [
    {
     "name": "stdout",
     "output_type": "stream",
     "text": [
      "                                               path_raw  \\\n",
      "0     ../../data/corpus1835/collections/raw_texts/un...   \n",
      "1     ../../data/corpus1835/collections/raw_texts/un...   \n",
      "2     ../../data/corpus1835/collections/raw_texts/un...   \n",
      "3     ../../data/corpus1835/collections/raw_texts/un...   \n",
      "4     ../../data/corpus1835/collections/raw_texts/un...   \n",
      "...                                                 ...   \n",
      "1809  ../../data/corpus1835/collections/raw_texts/un...   \n",
      "1810  ../../data/corpus1835/collections/raw_texts/un...   \n",
      "1811  ../../data/corpus1835/collections/raw_texts/un...   \n",
      "1812  ../../data/corpus1835/collections/raw_texts/un...   \n",
      "1813  ../../data/corpus1835/collections/raw_texts/un...   \n",
      "\n",
      "                                               path_acc    text_id col_id  \\\n",
      "0     ../../data/corpus1835/collections/accented//C_...   C_101__1  C_101   \n",
      "1     ../../data/corpus1835/collections/accented//C_...  C_101__10  C_101   \n",
      "2     ../../data/corpus1835/collections/accented//C_...  C_101__11  C_101   \n",
      "3     ../../data/corpus1835/collections/accented//C_...  C_101__12  C_101   \n",
      "4     ../../data/corpus1835/collections/accented//C_...  C_101__13  C_101   \n",
      "...                                                 ...        ...    ...   \n",
      "1809  ../../data/corpus1835/collections/accented//C_...    C_42__5   C_42   \n",
      "1810  ../../data/corpus1835/collections/accented//C_...    C_42__6   C_42   \n",
      "1811  ../../data/corpus1835/collections/accented//C_...    C_42__7   C_42   \n",
      "1812  ../../data/corpus1835/collections/accented//C_...    C_42__8   C_42   \n",
      "1813  ../../data/corpus1835/collections/accented//C_...    C_42__9   C_42   \n",
      "\n",
      "                                               text_raw  \\\n",
      "0     В власти - ль смертного забыть,\\nЧто ему всего...   \n",
      "1     Когда бы стройну лиру \\nВ руках своих имел, \\n...   \n",
      "2     Мил сердечный друг,\\nЖизнь души моей!\\nИз твои...   \n",
      "3     Как красавицы не милы,\\nКак ни пел вас завсегд...   \n",
      "4     Через слезу был мир потерян,\\nАнтоний жертвова...   \n",
      "...                                                 ...   \n",
      "1809  Сказав прости стране любимой,\\nВ которой люди ...   \n",
      "1810  Мы, с каждым днем встречая снова\\nРазгул для в...   \n",
      "1811  Когда младый птенец орлиный,\\nРаскинув крылья ...   \n",
      "1812  Властитель моря — Севастополь ,\\nНа западном б...   \n",
      "1813  Оне свершились наконец,\\nМои давнишния желанья...   \n",
      "\n",
      "                                               text_acc  \\\n",
      "0     В вла'сти - ль сме'ртного забы'ть,\\nЧто ему' в...   \n",
      "1     Когда' бы стро'йну ли'ру\\nВ рука'х свои'х име'...   \n",
      "2     Мил серде'чный друг,\\nЖизнь ду'ши мое'й!\\nИз т...   \n",
      "3     Как краса'вицы не ми'лы,\\nКак ни пел вас завсе...   \n",
      "4     Че'рез слезу' был мир поте'рян,\\nАнто'ний же'р...   \n",
      "...                                                 ...   \n",
      "1809  Сказа'в прости' стране' люби'мой,\\nВ кото'рой ...   \n",
      "1810  Мы, с ка'ждым днем встреча'я сно'ва\\nРазгу'л д...   \n",
      "1811  Когда' мла'дый птене'ц орли'ный,\\nРаски'нув кр...   \n",
      "1812  Власти'тель мо'ря — Севасто'поль ,\\nНа за'падн...   \n",
      "1813  Оне' сверши'лись наконе'ц,\\nМои' давни'шния же...   \n",
      "\n",
      "                                              text_lemm  \n",
      "0     в власть - ль смертный забывать,\\nчто он все д...  \n",
      "1     когда бы стройна лира \\nв рука свой иметь, \\nт...  \n",
      "2     милый сердечный друг,\\nжизнь душа мой!\\nиз тво...  \n",
      "3     как красавица не милый,\\nкак ни петь вы завсег...  \n",
      "4     через слеза быть мир потерять,\\nантоний жертво...  \n",
      "...                                                 ...  \n",
      "1809  сказать прощать страна любимый,\\nв который чел...  \n",
      "1810  мы, с каждый день встречать снова\\nразгул для ...  \n",
      "1811  когда младый птенец орлиный,\\nраскидывать крыл...  \n",
      "1812  властитель море — севастополь ,\\nна западный б...  \n",
      "1813  они свершаться наконец,\\nмой давнишний желание...  \n",
      "\n",
      "[1814 rows x 7 columns]\n"
     ]
    }
   ],
   "source": [
    "print(df.head(1814))"
   ]
  },
  {
   "cell_type": "code",
   "execution_count": 37,
   "id": "a25a53cd",
   "metadata": {},
   "outputs": [],
   "source": [
    "df.to_csv('cols_texts.csv')"
   ]
  },
  {
   "cell_type": "code",
   "execution_count": null,
   "id": "fab7aaef",
   "metadata": {},
   "outputs": [],
   "source": []
  }
 ],
 "metadata": {
  "kernelspec": {
   "display_name": "Python 3 (ipykernel)",
   "language": "python",
   "name": "python3"
  },
  "language_info": {
   "codemirror_mode": {
    "name": "ipython",
    "version": 3
   },
   "file_extension": ".py",
   "mimetype": "text/x-python",
   "name": "python",
   "nbconvert_exporter": "python",
   "pygments_lexer": "ipython3",
   "version": "3.9.16"
  }
 },
 "nbformat": 4,
 "nbformat_minor": 5
}
