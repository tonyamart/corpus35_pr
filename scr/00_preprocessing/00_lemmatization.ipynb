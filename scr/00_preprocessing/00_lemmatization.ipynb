{
 "cells": [
  {
   "cell_type": "markdown",
   "id": "0c9da31d",
   "metadata": {},
   "source": [
    "### Lemmatization for simple csv"
   ]
  },
  {
   "cell_type": "code",
   "execution_count": 1,
   "id": "76a0964c",
   "metadata": {},
   "outputs": [],
   "source": [
    "import re\n",
    "import pandas as pd\n",
    "from pymystem3 import Mystem\n",
    "\n",
    "m = Mystem()"
   ]
  },
  {
   "cell_type": "code",
   "execution_count": 2,
   "id": "bb551536",
   "metadata": {},
   "outputs": [
    {
     "name": "stdout",
     "output_type": "stream",
     "text": [
      "['попробовать', ' ', 'этот', ' ', 'мягкий', ' ', 'французский', ' ', 'булка', '\\n']\n"
     ]
    }
   ],
   "source": [
    "test = 'Попробуй этих мягких французских булок'\n",
    "lemma = m.lemmatize(test)\n",
    "print(lemma) # list output"
   ]
  },
  {
   "cell_type": "code",
   "execution_count": 3,
   "id": "95cdadf8",
   "metadata": {},
   "outputs": [
    {
     "data": {
      "text/plain": [
       "'/Users/tonya/Documents/thesis1830s/corpus35_pr/scr/00_preprocessing'"
      ]
     },
     "execution_count": 3,
     "metadata": {},
     "output_type": "execute_result"
    }
   ],
   "source": [
    "import os\n",
    "os.getcwd()"
   ]
  },
  {
   "cell_type": "code",
   "execution_count": 23,
   "id": "de62eeab",
   "metadata": {},
   "outputs": [
    {
     "data": {
      "text/plain": [
       "['per_raw.csv',\n",
       " '.DS_Store',\n",
       " 'per_stressed',\n",
       " 'per_corpus.Rds',\n",
       " 'per_raw',\n",
       " 'raw_texts.zip']"
      ]
     },
     "execution_count": 23,
     "metadata": {},
     "output_type": "execute_result"
    }
   ],
   "source": [
    "os.chdir('../periodicals')\n",
    "os.listdir()"
   ]
  },
  {
   "cell_type": "code",
   "execution_count": 24,
   "id": "2112bfa3",
   "metadata": {},
   "outputs": [
    {
     "data": {
      "text/html": [
       "<div>\n",
       "<style scoped>\n",
       "    .dataframe tbody tr th:only-of-type {\n",
       "        vertical-align: middle;\n",
       "    }\n",
       "\n",
       "    .dataframe tbody tr th {\n",
       "        vertical-align: top;\n",
       "    }\n",
       "\n",
       "    .dataframe thead th {\n",
       "        text-align: right;\n",
       "    }\n",
       "</style>\n",
       "<table border=\"1\" class=\"dataframe\">\n",
       "  <thead>\n",
       "    <tr style=\"text-align: right;\">\n",
       "      <th></th>\n",
       "      <th>Unnamed: 0</th>\n",
       "      <th>text_id</th>\n",
       "      <th>text</th>\n",
       "    </tr>\n",
       "  </thead>\n",
       "  <tbody>\n",
       "    <tr>\n",
       "      <th>0</th>\n",
       "      <td>1</td>\n",
       "      <td>P_1</td>\n",
       "      <td>Ох, жизнь молодецкая,\\nБравая, солдатская!\\nКа...</td>\n",
       "    </tr>\n",
       "    <tr>\n",
       "      <th>1</th>\n",
       "      <td>2</td>\n",
       "      <td>P_10</td>\n",
       "      <td>Зачем с небесной высоты, \\nИз горнего жилья, \\...</td>\n",
       "    </tr>\n",
       "    <tr>\n",
       "      <th>2</th>\n",
       "      <td>3</td>\n",
       "      <td>P_100</td>\n",
       "      <td>Вблизи дороги столбовой\\nНочует табор кочевой\\...</td>\n",
       "    </tr>\n",
       "    <tr>\n",
       "      <th>3</th>\n",
       "      <td>4</td>\n",
       "      <td>P_1000</td>\n",
       "      <td>О чем грустишь так неутешно?\\nУтраченных стяжа...</td>\n",
       "    </tr>\n",
       "    <tr>\n",
       "      <th>4</th>\n",
       "      <td>5</td>\n",
       "      <td>P_1001</td>\n",
       "      <td>Движим думою чудесной,\\n\"Здесь\", Он молвил \"бу...</td>\n",
       "    </tr>\n",
       "  </tbody>\n",
       "</table>\n",
       "</div>"
      ],
      "text/plain": [
       "   Unnamed: 0 text_id                                               text\n",
       "0           1     P_1  Ох, жизнь молодецкая,\\nБравая, солдатская!\\nКа...\n",
       "1           2    P_10  Зачем с небесной высоты, \\nИз горнего жилья, \\...\n",
       "2           3   P_100  Вблизи дороги столбовой\\nНочует табор кочевой\\...\n",
       "3           4  P_1000  О чем грустишь так неутешно?\\nУтраченных стяжа...\n",
       "4           5  P_1001  Движим думою чудесной,\\n\"Здесь\", Он молвил \"бу..."
      ]
     },
     "execution_count": 24,
     "metadata": {},
     "output_type": "execute_result"
    }
   ],
   "source": [
    "df = pd.read_csv('per_raw.csv')\n",
    "df.head()"
   ]
  },
  {
   "cell_type": "code",
   "execution_count": 25,
   "id": "d0a1d93d",
   "metadata": {},
   "outputs": [
    {
     "data": {
      "text/plain": [
       "1905"
      ]
     },
     "execution_count": 25,
     "metadata": {},
     "output_type": "execute_result"
    }
   ],
   "source": [
    "len(df)"
   ]
  },
  {
   "cell_type": "code",
   "execution_count": 26,
   "id": "e13bbe8b",
   "metadata": {},
   "outputs": [],
   "source": [
    "df = df.loc[df.text.apply(lambda x: not isinstance(x, (float, int)))]"
   ]
  },
  {
   "cell_type": "code",
   "execution_count": 27,
   "id": "a11b6df2",
   "metadata": {},
   "outputs": [
    {
     "data": {
      "text/plain": [
       "1905"
      ]
     },
     "execution_count": 27,
     "metadata": {},
     "output_type": "execute_result"
    }
   ],
   "source": [
    "len(df)"
   ]
  },
  {
   "cell_type": "code",
   "execution_count": 28,
   "id": "a38d12e6",
   "metadata": {},
   "outputs": [],
   "source": [
    "df['text_lemm'] = df['text'].apply(m.lemmatize)\n",
    "df['text_lemm'] = [''.join(map(str, l)) for l in df['text_lemm']] \n",
    "#df['lemma'] = df['lemma'].str.replace('\\n', '', regex = True)"
   ]
  },
  {
   "cell_type": "code",
   "execution_count": 29,
   "id": "9fc1659a",
   "metadata": {},
   "outputs": [
    {
     "data": {
      "text/html": [
       "<div>\n",
       "<style scoped>\n",
       "    .dataframe tbody tr th:only-of-type {\n",
       "        vertical-align: middle;\n",
       "    }\n",
       "\n",
       "    .dataframe tbody tr th {\n",
       "        vertical-align: top;\n",
       "    }\n",
       "\n",
       "    .dataframe thead th {\n",
       "        text-align: right;\n",
       "    }\n",
       "</style>\n",
       "<table border=\"1\" class=\"dataframe\">\n",
       "  <thead>\n",
       "    <tr style=\"text-align: right;\">\n",
       "      <th></th>\n",
       "      <th>Unnamed: 0</th>\n",
       "      <th>text_id</th>\n",
       "      <th>text</th>\n",
       "      <th>text_lemm</th>\n",
       "    </tr>\n",
       "  </thead>\n",
       "  <tbody>\n",
       "    <tr>\n",
       "      <th>1900</th>\n",
       "      <td>1901</td>\n",
       "      <td>P_995</td>\n",
       "      <td>\"Нож и шашку и винтовку.\\nДа коня мне и чекмен...</td>\n",
       "      <td>\"нож и шашка и винтовка.\\nда конь я и чекмень\\...</td>\n",
       "    </tr>\n",
       "    <tr>\n",
       "      <th>1901</th>\n",
       "      <td>1902</td>\n",
       "      <td>P_996</td>\n",
       "      <td>Горько плача и рыдая, \\nПредстояла в сокрушень...</td>\n",
       "      <td>горько плакать и рыдать, \\nпредстоять в сокруш...</td>\n",
       "    </tr>\n",
       "    <tr>\n",
       "      <th>1902</th>\n",
       "      <td>1903</td>\n",
       "      <td>P_997</td>\n",
       "      <td>У старушки у вдовицы,\\nНа подпору дряхлых дней...</td>\n",
       "      <td>у старушка у вдовица,\\nна подпора дряхлый день...</td>\n",
       "    </tr>\n",
       "    <tr>\n",
       "      <th>1903</th>\n",
       "      <td>1904</td>\n",
       "      <td>P_998</td>\n",
       "      <td>Во льдяных шлемах великаны\\nСтоят, теряясь в н...</td>\n",
       "      <td>во льдяной шлем великан\\nстоять, теряться в не...</td>\n",
       "    </tr>\n",
       "    <tr>\n",
       "      <th>1904</th>\n",
       "      <td>1905</td>\n",
       "      <td>P_999</td>\n",
       "      <td>Полночь, полночь гудит!.. Урочный бой раздался...</td>\n",
       "      <td>полночь, полночь гудеть!.. урочный бой раздава...</td>\n",
       "    </tr>\n",
       "  </tbody>\n",
       "</table>\n",
       "</div>"
      ],
      "text/plain": [
       "      Unnamed: 0 text_id                                               text  \\\n",
       "1900        1901   P_995  \"Нож и шашку и винтовку.\\nДа коня мне и чекмен...   \n",
       "1901        1902   P_996  Горько плача и рыдая, \\nПредстояла в сокрушень...   \n",
       "1902        1903   P_997  У старушки у вдовицы,\\nНа подпору дряхлых дней...   \n",
       "1903        1904   P_998  Во льдяных шлемах великаны\\nСтоят, теряясь в н...   \n",
       "1904        1905   P_999  Полночь, полночь гудит!.. Урочный бой раздался...   \n",
       "\n",
       "                                              text_lemm  \n",
       "1900  \"нож и шашка и винтовка.\\nда конь я и чекмень\\...  \n",
       "1901  горько плакать и рыдать, \\nпредстоять в сокруш...  \n",
       "1902  у старушка у вдовица,\\nна подпора дряхлый день...  \n",
       "1903  во льдяной шлем великан\\nстоять, теряться в не...  \n",
       "1904  полночь, полночь гудеть!.. урочный бой раздава...  "
      ]
     },
     "execution_count": 29,
     "metadata": {},
     "output_type": "execute_result"
    }
   ],
   "source": [
    "df.tail()"
   ]
  },
  {
   "cell_type": "code",
   "execution_count": 30,
   "id": "8d49c353",
   "metadata": {},
   "outputs": [],
   "source": [
    "df = df.drop('Unnamed: 0', axis = 1)\n",
    "# df = df.drop('text', axis = 1)"
   ]
  },
  {
   "cell_type": "code",
   "execution_count": 31,
   "id": "76103e42",
   "metadata": {},
   "outputs": [
    {
     "name": "stdout",
     "output_type": "stream",
     "text": [
      "     text_id                                               text  \\\n",
      "0        P_1  Ох, жизнь молодецкая,\\nБравая, солдатская!\\nКа...   \n",
      "1       P_10  Зачем с небесной высоты, \\nИз горнего жилья, \\...   \n",
      "2      P_100  Вблизи дороги столбовой\\nНочует табор кочевой\\...   \n",
      "3     P_1000  О чем грустишь так неутешно?\\nУтраченных стяжа...   \n",
      "4     P_1001  Движим думою чудесной,\\n\"Здесь\", Он молвил \"бу...   \n",
      "...      ...                                                ...   \n",
      "1809    P_91  В годину печалей, тоски и ненастья,\\nГонимый с...   \n",
      "1810   P_910  И гроб опущен уж в могилу, \\nИ всё столпилося ...   \n",
      "1811   P_911  Восток белел... ладья катилась;\\nВетрило весел...   \n",
      "1812   P_912  Как птичка, с раннею зарей\\nМир, пробудившись,...   \n",
      "1813   P_913  Обеих вас я видел вместе –\\nИ всю тебя узнал я...   \n",
      "\n",
      "                                              text_lemm  \n",
      "0     ох, жизнь молодецкий,\\nбравый, солдатский!\\nка...  \n",
      "1     зачем с небесный высота, \\nиз горний жилье, \\n...  \n",
      "2     вблизи дорога столбовой\\nночевать табор кочево...  \n",
      "3     о что грустить так неутешно?\\nутрачивать стяжа...  \n",
      "4     движимый дума чудесный,\\n\"здесь\", он молвить \"...  \n",
      "...                                                 ...  \n",
      "1809  в година печаль, тоска и ненастье,\\nгонимый су...  \n",
      "1810  и гроб опускать уж в могила, \\nи все столпилос...  \n",
      "1811  восток белеть... ладья катиться;\\nветрило весе...  \n",
      "1812  как птичка, с ранний заря\\nмир, пробуждаться, ...  \n",
      "1813  оба вы я видеть вместе –\\nи весь ты узнавать я...  \n",
      "\n",
      "[1814 rows x 3 columns]\n"
     ]
    }
   ],
   "source": [
    "print(df.head(1814))"
   ]
  },
  {
   "cell_type": "code",
   "execution_count": 32,
   "id": "a25a53cd",
   "metadata": {},
   "outputs": [],
   "source": [
    "df.to_csv('per_corpus_lemm.csv')"
   ]
  },
  {
   "cell_type": "code",
   "execution_count": 4,
   "id": "fab7aaef",
   "metadata": {},
   "outputs": [
    {
     "data": {
      "text/plain": [
       "['poems_titles.csv',\n",
       " '.DS_Store',\n",
       " '03_3_smirnova',\n",
       " '.ipynb_checkpoints',\n",
       " '03_1_corpus_overview.qmd']"
      ]
     },
     "execution_count": 4,
     "metadata": {},
     "output_type": "execute_result"
    }
   ],
   "source": [
    "os.chdir('../../scr/03_chapter/')\n",
    "os.listdir()"
   ]
  },
  {
   "cell_type": "code",
   "execution_count": 11,
   "id": "e8719078",
   "metadata": {},
   "outputs": [
    {
     "data": {
      "text/html": [
       "<div>\n",
       "<style scoped>\n",
       "    .dataframe tbody tr th:only-of-type {\n",
       "        vertical-align: middle;\n",
       "    }\n",
       "\n",
       "    .dataframe tbody tr th {\n",
       "        vertical-align: top;\n",
       "    }\n",
       "\n",
       "    .dataframe thead th {\n",
       "        text-align: right;\n",
       "    }\n",
       "</style>\n",
       "<table border=\"1\" class=\"dataframe\">\n",
       "  <thead>\n",
       "    <tr style=\"text-align: right;\">\n",
       "      <th></th>\n",
       "      <th>Unnamed: 0</th>\n",
       "      <th>text_id</th>\n",
       "      <th>text_title</th>\n",
       "      <th>word</th>\n",
       "    </tr>\n",
       "  </thead>\n",
       "  <tbody>\n",
       "    <tr>\n",
       "      <th>0</th>\n",
       "      <td>1</td>\n",
       "      <td>P_1</td>\n",
       "      <td>Солдатская песня</td>\n",
       "      <td>солдатская</td>\n",
       "    </tr>\n",
       "    <tr>\n",
       "      <th>1</th>\n",
       "      <td>2</td>\n",
       "      <td>P_1</td>\n",
       "      <td>Солдатская песня</td>\n",
       "      <td>песня</td>\n",
       "    </tr>\n",
       "    <tr>\n",
       "      <th>2</th>\n",
       "      <td>3</td>\n",
       "      <td>P_10</td>\n",
       "      <td>Молния</td>\n",
       "      <td>молния</td>\n",
       "    </tr>\n",
       "    <tr>\n",
       "      <th>3</th>\n",
       "      <td>4</td>\n",
       "      <td>P_100</td>\n",
       "      <td>Ночлег чумаков</td>\n",
       "      <td>ночлег</td>\n",
       "    </tr>\n",
       "    <tr>\n",
       "      <th>4</th>\n",
       "      <td>5</td>\n",
       "      <td>P_100</td>\n",
       "      <td>Ночлег чумаков</td>\n",
       "      <td>чумаков</td>\n",
       "    </tr>\n",
       "  </tbody>\n",
       "</table>\n",
       "</div>"
      ],
      "text/plain": [
       "   Unnamed: 0 text_id        text_title        word\n",
       "0           1     P_1  Солдатская песня  солдатская\n",
       "1           2     P_1  Солдатская песня       песня\n",
       "2           3    P_10            Молния      молния\n",
       "3           4   P_100    Ночлег чумаков      ночлег\n",
       "4           5   P_100    Ночлег чумаков     чумаков"
      ]
     },
     "execution_count": 11,
     "metadata": {},
     "output_type": "execute_result"
    }
   ],
   "source": [
    "df = pd.read_csv('poems_titles.csv')\n",
    "df.head()"
   ]
  },
  {
   "cell_type": "code",
   "execution_count": 12,
   "id": "274182f9",
   "metadata": {},
   "outputs": [
    {
     "data": {
      "text/plain": [
       "12543"
      ]
     },
     "execution_count": 12,
     "metadata": {},
     "output_type": "execute_result"
    }
   ],
   "source": [
    "len(df)\n",
    "df = df.loc[df.word.apply(lambda x: not isinstance(x, (float, int)))]\n",
    "len(df)"
   ]
  },
  {
   "cell_type": "code",
   "execution_count": 13,
   "id": "f55b61d8",
   "metadata": {},
   "outputs": [],
   "source": [
    "df['lemma'] = df['word'].apply(m.lemmatize)\n",
    "df['lemma'] = [''.join(map(str, l)) for l in df['lemma']] \n",
    "df['lemma'] = df['lemma'].str.replace('\\n', '', regex = True)"
   ]
  },
  {
   "cell_type": "code",
   "execution_count": 14,
   "id": "ca712da7",
   "metadata": {},
   "outputs": [
    {
     "data": {
      "text/html": [
       "<div>\n",
       "<style scoped>\n",
       "    .dataframe tbody tr th:only-of-type {\n",
       "        vertical-align: middle;\n",
       "    }\n",
       "\n",
       "    .dataframe tbody tr th {\n",
       "        vertical-align: top;\n",
       "    }\n",
       "\n",
       "    .dataframe thead th {\n",
       "        text-align: right;\n",
       "    }\n",
       "</style>\n",
       "<table border=\"1\" class=\"dataframe\">\n",
       "  <thead>\n",
       "    <tr style=\"text-align: right;\">\n",
       "      <th></th>\n",
       "      <th>Unnamed: 0</th>\n",
       "      <th>text_id</th>\n",
       "      <th>text_title</th>\n",
       "      <th>word</th>\n",
       "      <th>lemma</th>\n",
       "    </tr>\n",
       "  </thead>\n",
       "  <tbody>\n",
       "    <tr>\n",
       "      <th>12538</th>\n",
       "      <td>12539</td>\n",
       "      <td>C_264__31</td>\n",
       "      <td>Приключения долины</td>\n",
       "      <td>коринны</td>\n",
       "      <td>коринна</td>\n",
       "    </tr>\n",
       "    <tr>\n",
       "      <th>12539</th>\n",
       "      <td>12540</td>\n",
       "      <td>C_264__32</td>\n",
       "      <td>Праздник Елисы</td>\n",
       "      <td>праздник</td>\n",
       "      <td>праздник</td>\n",
       "    </tr>\n",
       "    <tr>\n",
       "      <th>12540</th>\n",
       "      <td>12541</td>\n",
       "      <td>C_264__32</td>\n",
       "      <td>Праздник Елисы</td>\n",
       "      <td>елисы</td>\n",
       "      <td>елиса</td>\n",
       "    </tr>\n",
       "    <tr>\n",
       "      <th>12541</th>\n",
       "      <td>12542</td>\n",
       "      <td>C_264__32</td>\n",
       "      <td>Праздник Елисы</td>\n",
       "      <td>стихотворения</td>\n",
       "      <td>стихотворение</td>\n",
       "    </tr>\n",
       "    <tr>\n",
       "      <th>12542</th>\n",
       "      <td>12543</td>\n",
       "      <td>C_264__32</td>\n",
       "      <td>Праздник Елисы</td>\n",
       "      <td>коринны</td>\n",
       "      <td>коринна</td>\n",
       "    </tr>\n",
       "  </tbody>\n",
       "</table>\n",
       "</div>"
      ],
      "text/plain": [
       "       Unnamed: 0    text_id          text_title           word          lemma\n",
       "12538       12539  C_264__31  Приключения долины        коринны        коринна\n",
       "12539       12540  C_264__32      Праздник Елисы       праздник       праздник\n",
       "12540       12541  C_264__32      Праздник Елисы          елисы          елиса\n",
       "12541       12542  C_264__32      Праздник Елисы  стихотворения  стихотворение\n",
       "12542       12543  C_264__32      Праздник Елисы        коринны        коринна"
      ]
     },
     "execution_count": 14,
     "metadata": {},
     "output_type": "execute_result"
    }
   ],
   "source": [
    "df.tail()"
   ]
  },
  {
   "cell_type": "code",
   "execution_count": 15,
   "id": "d55d7ec5",
   "metadata": {},
   "outputs": [],
   "source": [
    "df = df.drop('Unnamed: 0', axis = 1)\n",
    "# df = df.drop('text', axis = 1)"
   ]
  },
  {
   "cell_type": "code",
   "execution_count": 16,
   "id": "055ce768",
   "metadata": {},
   "outputs": [],
   "source": [
    "df.to_csv('poems_titles.csv')"
   ]
  },
  {
   "cell_type": "code",
   "execution_count": null,
   "id": "5864bd81",
   "metadata": {},
   "outputs": [],
   "source": []
  }
 ],
 "metadata": {
  "kernelspec": {
   "display_name": "Python 3 (ipykernel)",
   "language": "python",
   "name": "python3"
  },
  "language_info": {
   "codemirror_mode": {
    "name": "ipython",
    "version": 3
   },
   "file_extension": ".py",
   "mimetype": "text/x-python",
   "name": "python",
   "nbconvert_exporter": "python",
   "pygments_lexer": "ipython3",
   "version": "3.9.16"
  }
 },
 "nbformat": 4,
 "nbformat_minor": 5
}
