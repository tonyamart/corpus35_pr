{
 "cells": [
  {
   "cell_type": "markdown",
   "id": "0c9da31d",
   "metadata": {},
   "source": [
    "### Lemmatization for simple csv"
   ]
  },
  {
   "cell_type": "code",
   "execution_count": 1,
   "id": "76a0964c",
   "metadata": {},
   "outputs": [],
   "source": [
    "import re\n",
    "import pandas as pd\n",
    "from pymystem3 import Mystem\n",
    "\n",
    "m = Mystem()"
   ]
  },
  {
   "cell_type": "code",
   "execution_count": 2,
   "id": "bb551536",
   "metadata": {},
   "outputs": [
    {
     "name": "stdout",
     "output_type": "stream",
     "text": [
      "['попробовать', ' ', 'этот', ' ', 'мягкий', ' ', 'французский', ' ', 'булка', '\\n']\n"
     ]
    }
   ],
   "source": [
    "test = 'Попробуй этих мягких французских булок'\n",
    "lemma = m.lemmatize(test)\n",
    "print(lemma) # list output"
   ]
  },
  {
   "cell_type": "code",
   "execution_count": 5,
   "id": "95cdadf8",
   "metadata": {},
   "outputs": [
    {
     "data": {
      "text/plain": [
       "'/Users/tonya/Documents/thesis1830s/corpus35_pr/scr/02_chapter'"
      ]
     },
     "execution_count": 5,
     "metadata": {},
     "output_type": "execute_result"
    }
   ],
   "source": [
    "import os\n",
    "os.getcwd()"
   ]
  },
  {
   "cell_type": "code",
   "execution_count": 6,
   "id": "de62eeab",
   "metadata": {},
   "outputs": [
    {
     "data": {
      "text/plain": [
       "['.Rhistory',\n",
       " '02_2_periodicals_overview.ipynb',\n",
       " '.DS_Store',\n",
       " 'per.csv',\n",
       " '01_1_nkrja_comparison.ipynb',\n",
       " '02_2_periodicals_overview.qmd',\n",
       " 'todo',\n",
       " 'periodicals_full_data.Rda',\n",
       " '.ipynb_checkpoints',\n",
       " 'plots',\n",
       " 'workfile__per_nkrja_texts_extraction.qmd']"
      ]
     },
     "execution_count": 6,
     "metadata": {},
     "output_type": "execute_result"
    }
   ],
   "source": [
    "os.chdir('../02_chapter/')\n",
    "os.listdir()"
   ]
  },
  {
   "cell_type": "code",
   "execution_count": 7,
   "id": "2112bfa3",
   "metadata": {},
   "outputs": [
    {
     "data": {
      "text/html": [
       "<div>\n",
       "<style scoped>\n",
       "    .dataframe tbody tr th:only-of-type {\n",
       "        vertical-align: middle;\n",
       "    }\n",
       "\n",
       "    .dataframe tbody tr th {\n",
       "        vertical-align: top;\n",
       "    }\n",
       "\n",
       "    .dataframe thead th {\n",
       "        text-align: right;\n",
       "    }\n",
       "</style>\n",
       "<table border=\"1\" class=\"dataframe\">\n",
       "  <thead>\n",
       "    <tr style=\"text-align: right;\">\n",
       "      <th></th>\n",
       "      <th>Unnamed: 0</th>\n",
       "      <th>text_ID</th>\n",
       "      <th>text_raw</th>\n",
       "    </tr>\n",
       "  </thead>\n",
       "  <tbody>\n",
       "    <tr>\n",
       "      <th>0</th>\n",
       "      <td>1</td>\n",
       "      <td>P_1</td>\n",
       "      <td>Ох, жизнь молодецкая,\\nБравая, солдатская!\\nКа...</td>\n",
       "    </tr>\n",
       "    <tr>\n",
       "      <th>1</th>\n",
       "      <td>2</td>\n",
       "      <td>P_10</td>\n",
       "      <td>Зачем с небесной высоты, \\nИз горнего жилья, \\...</td>\n",
       "    </tr>\n",
       "    <tr>\n",
       "      <th>2</th>\n",
       "      <td>3</td>\n",
       "      <td>P_100</td>\n",
       "      <td>Вблизи дороги столбовой\\nНочует табор кочевой\\...</td>\n",
       "    </tr>\n",
       "    <tr>\n",
       "      <th>3</th>\n",
       "      <td>4</td>\n",
       "      <td>P_1000</td>\n",
       "      <td>О чем грустишь так неутешно?\\nУтраченных стяжа...</td>\n",
       "    </tr>\n",
       "    <tr>\n",
       "      <th>4</th>\n",
       "      <td>5</td>\n",
       "      <td>P_1001</td>\n",
       "      <td>Движим думою чудесной,\\n\"Здесь\", Он молвил \"бу...</td>\n",
       "    </tr>\n",
       "  </tbody>\n",
       "</table>\n",
       "</div>"
      ],
      "text/plain": [
       "   Unnamed: 0 text_ID                                           text_raw\n",
       "0           1     P_1  Ох, жизнь молодецкая,\\nБравая, солдатская!\\nКа...\n",
       "1           2    P_10  Зачем с небесной высоты, \\nИз горнего жилья, \\...\n",
       "2           3   P_100  Вблизи дороги столбовой\\nНочует табор кочевой\\...\n",
       "3           4  P_1000  О чем грустишь так неутешно?\\nУтраченных стяжа...\n",
       "4           5  P_1001  Движим думою чудесной,\\n\"Здесь\", Он молвил \"бу..."
      ]
     },
     "execution_count": 7,
     "metadata": {},
     "output_type": "execute_result"
    }
   ],
   "source": [
    "df = pd.read_csv('per.csv')\n",
    "df.head()"
   ]
  },
  {
   "cell_type": "code",
   "execution_count": 8,
   "id": "d0a1d93d",
   "metadata": {},
   "outputs": [
    {
     "data": {
      "text/plain": [
       "1814"
      ]
     },
     "execution_count": 8,
     "metadata": {},
     "output_type": "execute_result"
    }
   ],
   "source": [
    "len(df)"
   ]
  },
  {
   "cell_type": "code",
   "execution_count": 10,
   "id": "e13bbe8b",
   "metadata": {},
   "outputs": [],
   "source": [
    "df = df.loc[df.text_raw.apply(lambda x: not isinstance(x, (float, int)))]"
   ]
  },
  {
   "cell_type": "code",
   "execution_count": 11,
   "id": "a11b6df2",
   "metadata": {},
   "outputs": [
    {
     "data": {
      "text/plain": [
       "1814"
      ]
     },
     "execution_count": 11,
     "metadata": {},
     "output_type": "execute_result"
    }
   ],
   "source": [
    "len(df)"
   ]
  },
  {
   "cell_type": "code",
   "execution_count": 12,
   "id": "a38d12e6",
   "metadata": {},
   "outputs": [],
   "source": [
    "df['text_lemm'] = df['text_raw'].apply(m.lemmatize)\n",
    "df['text_lemm'] = [''.join(map(str, l)) for l in df['text_lemm']] \n",
    "#df['lemma'] = df['lemma'].str.replace('\\n', '', regex = True)"
   ]
  },
  {
   "cell_type": "code",
   "execution_count": 15,
   "id": "8d49c353",
   "metadata": {},
   "outputs": [],
   "source": [
    "df = df.drop('Unnamed: 0', axis = 1)"
   ]
  },
  {
   "cell_type": "code",
   "execution_count": 16,
   "id": "76103e42",
   "metadata": {},
   "outputs": [
    {
     "name": "stdout",
     "output_type": "stream",
     "text": [
      "     text_ID                                           text_raw  \\\n",
      "0        P_1  Ох, жизнь молодецкая,\\nБравая, солдатская!\\nКа...   \n",
      "1       P_10  Зачем с небесной высоты, \\nИз горнего жилья, \\...   \n",
      "2      P_100  Вблизи дороги столбовой\\nНочует табор кочевой\\...   \n",
      "3     P_1000  О чем грустишь так неутешно?\\nУтраченных стяжа...   \n",
      "4     P_1001  Движим думою чудесной,\\n\"Здесь\", Он молвил \"бу...   \n",
      "...      ...                                                ...   \n",
      "1809   P_995  \"Нож и шашку и винтовку.\\nДа коня мне и чекмен...   \n",
      "1810   P_996  Горько плача и рыдая, \\nПредстояла в сокрушень...   \n",
      "1811   P_997  У старушки у вдовицы,\\nНа подпору дряхлых дней...   \n",
      "1812   P_998  Во льдяных шлемах великаны\\nСтоят, теряясь в н...   \n",
      "1813   P_999  Полночь, полночь гудит!.. Урочный бой раздался...   \n",
      "\n",
      "                                              text_lemm  \n",
      "0     ох, жизнь молодецкий,\\nбравый, солдатский!\\nка...  \n",
      "1     зачем с небесный высота, \\nиз горний жилье, \\n...  \n",
      "2     вблизи дорога столбовой\\nночевать табор кочево...  \n",
      "3     о что грустить так неутешно?\\nутрачивать стяжа...  \n",
      "4     движимый дума чудесный,\\n\"здесь\", он молвить \"...  \n",
      "...                                                 ...  \n",
      "1809  \"нож и шашка и винтовка.\\nда конь я и чекмень\\...  \n",
      "1810  горько плакать и рыдать, \\nпредстоять в сокруш...  \n",
      "1811  у старушка у вдовица,\\nна подпора дряхлый день...  \n",
      "1812  во льдяной шлем великан\\nстоять, теряться в не...  \n",
      "1813  полночь, полночь гудеть!.. урочный бой раздава...  \n",
      "\n",
      "[1814 rows x 3 columns]\n"
     ]
    }
   ],
   "source": [
    "print(df.head(1814))"
   ]
  },
  {
   "cell_type": "code",
   "execution_count": 17,
   "id": "a25a53cd",
   "metadata": {},
   "outputs": [],
   "source": [
    "df.to_csv('periodicals_texts.csv')"
   ]
  },
  {
   "cell_type": "code",
   "execution_count": null,
   "id": "fab7aaef",
   "metadata": {},
   "outputs": [],
   "source": []
  }
 ],
 "metadata": {
  "kernelspec": {
   "display_name": "Python 3 (ipykernel)",
   "language": "python",
   "name": "python3"
  },
  "language_info": {
   "codemirror_mode": {
    "name": "ipython",
    "version": 3
   },
   "file_extension": ".py",
   "mimetype": "text/x-python",
   "name": "python",
   "nbconvert_exporter": "python",
   "pygments_lexer": "ipython3",
   "version": "3.9.16"
  }
 },
 "nbformat": 4,
 "nbformat_minor": 5
}
