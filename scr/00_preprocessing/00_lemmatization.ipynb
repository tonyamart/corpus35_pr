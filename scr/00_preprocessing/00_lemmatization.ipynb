{
 "cells": [
  {
   "cell_type": "markdown",
   "id": "0c9da31d",
   "metadata": {},
   "source": [
    "### Lemmatization for simple csv"
   ]
  },
  {
   "cell_type": "code",
   "execution_count": 1,
   "id": "76a0964c",
   "metadata": {},
   "outputs": [],
   "source": [
    "import re\n",
    "import pandas as pd\n",
    "from pymystem3 import Mystem\n",
    "\n",
    "m = Mystem()"
   ]
  },
  {
   "cell_type": "code",
   "execution_count": 2,
   "id": "bb551536",
   "metadata": {},
   "outputs": [
    {
     "name": "stdout",
     "output_type": "stream",
     "text": [
      "['попробовать', ' ', 'этот', ' ', 'мягкий', ' ', 'французский', ' ', 'булка', '\\n']\n"
     ]
    }
   ],
   "source": [
    "test = 'Попробуй этих мягких французских булок'\n",
    "lemma = m.lemmatize(test)\n",
    "print(lemma) # list output"
   ]
  },
  {
   "cell_type": "code",
   "execution_count": 3,
   "id": "95cdadf8",
   "metadata": {},
   "outputs": [
    {
     "data": {
      "text/plain": [
       "'/Users/tonya/Documents/thesis1830s/corpus35_pr/scr/00_preprocessing'"
      ]
     },
     "execution_count": 3,
     "metadata": {},
     "output_type": "execute_result"
    }
   ],
   "source": [
    "import os\n",
    "os.getcwd()"
   ]
  },
  {
   "cell_type": "code",
   "execution_count": 23,
   "id": "de62eeab",
   "metadata": {},
   "outputs": [
    {
     "data": {
      "text/plain": [
       "['per_raw.csv',\n",
       " '.DS_Store',\n",
       " 'per_stressed',\n",
       " 'per_corpus.Rds',\n",
       " 'per_raw',\n",
       " 'raw_texts.zip']"
      ]
     },
     "execution_count": 23,
     "metadata": {},
     "output_type": "execute_result"
    }
   ],
   "source": [
    "os.chdir('../periodicals')\n",
    "os.listdir()"
   ]
  },
  {
   "cell_type": "code",
   "execution_count": 24,
   "id": "2112bfa3",
   "metadata": {},
   "outputs": [
    {
     "data": {
      "text/html": [
       "<div>\n",
       "<style scoped>\n",
       "    .dataframe tbody tr th:only-of-type {\n",
       "        vertical-align: middle;\n",
       "    }\n",
       "\n",
       "    .dataframe tbody tr th {\n",
       "        vertical-align: top;\n",
       "    }\n",
       "\n",
       "    .dataframe thead th {\n",
       "        text-align: right;\n",
       "    }\n",
       "</style>\n",
       "<table border=\"1\" class=\"dataframe\">\n",
       "  <thead>\n",
       "    <tr style=\"text-align: right;\">\n",
       "      <th></th>\n",
       "      <th>Unnamed: 0</th>\n",
       "      <th>text_id</th>\n",
       "      <th>text</th>\n",
       "    </tr>\n",
       "  </thead>\n",
       "  <tbody>\n",
       "    <tr>\n",
       "      <th>0</th>\n",
       "      <td>1</td>\n",
       "      <td>P_1</td>\n",
       "      <td>Ох, жизнь молодецкая,\\nБравая, солдатская!\\nКа...</td>\n",
       "    </tr>\n",
       "    <tr>\n",
       "      <th>1</th>\n",
       "      <td>2</td>\n",
       "      <td>P_10</td>\n",
       "      <td>Зачем с небесной высоты, \\nИз горнего жилья, \\...</td>\n",
       "    </tr>\n",
       "    <tr>\n",
       "      <th>2</th>\n",
       "      <td>3</td>\n",
       "      <td>P_100</td>\n",
       "      <td>Вблизи дороги столбовой\\nНочует табор кочевой\\...</td>\n",
       "    </tr>\n",
       "    <tr>\n",
       "      <th>3</th>\n",
       "      <td>4</td>\n",
       "      <td>P_1000</td>\n",
       "      <td>О чем грустишь так неутешно?\\nУтраченных стяжа...</td>\n",
       "    </tr>\n",
       "    <tr>\n",
       "      <th>4</th>\n",
       "      <td>5</td>\n",
       "      <td>P_1001</td>\n",
       "      <td>Движим думою чудесной,\\n\"Здесь\", Он молвил \"бу...</td>\n",
       "    </tr>\n",
       "  </tbody>\n",
       "</table>\n",
       "</div>"
      ],
      "text/plain": [
       "   Unnamed: 0 text_id                                               text\n",
       "0           1     P_1  Ох, жизнь молодецкая,\\nБравая, солдатская!\\nКа...\n",
       "1           2    P_10  Зачем с небесной высоты, \\nИз горнего жилья, \\...\n",
       "2           3   P_100  Вблизи дороги столбовой\\nНочует табор кочевой\\...\n",
       "3           4  P_1000  О чем грустишь так неутешно?\\nУтраченных стяжа...\n",
       "4           5  P_1001  Движим думою чудесной,\\n\"Здесь\", Он молвил \"бу..."
      ]
     },
     "execution_count": 24,
     "metadata": {},
     "output_type": "execute_result"
    }
   ],
   "source": [
    "df = pd.read_csv('per_raw.csv')\n",
    "df.head()"
   ]
  },
  {
   "cell_type": "code",
   "execution_count": 25,
   "id": "d0a1d93d",
   "metadata": {},
   "outputs": [
    {
     "data": {
      "text/plain": [
       "1905"
      ]
     },
     "execution_count": 25,
     "metadata": {},
     "output_type": "execute_result"
    }
   ],
   "source": [
    "len(df)"
   ]
  },
  {
   "cell_type": "code",
   "execution_count": 26,
   "id": "e13bbe8b",
   "metadata": {},
   "outputs": [],
   "source": [
    "df = df.loc[df.text.apply(lambda x: not isinstance(x, (float, int)))]"
   ]
  },
  {
   "cell_type": "code",
   "execution_count": 27,
   "id": "a11b6df2",
   "metadata": {},
   "outputs": [
    {
     "data": {
      "text/plain": [
       "1905"
      ]
     },
     "execution_count": 27,
     "metadata": {},
     "output_type": "execute_result"
    }
   ],
   "source": [
    "len(df)"
   ]
  },
  {
   "cell_type": "code",
   "execution_count": 28,
   "id": "a38d12e6",
   "metadata": {},
   "outputs": [],
   "source": [
    "df['text_lemm'] = df['text'].apply(m.lemmatize)\n",
    "df['text_lemm'] = [''.join(map(str, l)) for l in df['text_lemm']] \n",
    "#df['lemma'] = df['lemma'].str.replace('\\n', '', regex = True)"
   ]
  },
  {
   "cell_type": "code",
   "execution_count": 29,
   "id": "9fc1659a",
   "metadata": {},
   "outputs": [
    {
     "data": {
      "text/html": [
       "<div>\n",
       "<style scoped>\n",
       "    .dataframe tbody tr th:only-of-type {\n",
       "        vertical-align: middle;\n",
       "    }\n",
       "\n",
       "    .dataframe tbody tr th {\n",
       "        vertical-align: top;\n",
       "    }\n",
       "\n",
       "    .dataframe thead th {\n",
       "        text-align: right;\n",
       "    }\n",
       "</style>\n",
       "<table border=\"1\" class=\"dataframe\">\n",
       "  <thead>\n",
       "    <tr style=\"text-align: right;\">\n",
       "      <th></th>\n",
       "      <th>Unnamed: 0</th>\n",
       "      <th>text_id</th>\n",
       "      <th>text</th>\n",
       "      <th>text_lemm</th>\n",
       "    </tr>\n",
       "  </thead>\n",
       "  <tbody>\n",
       "    <tr>\n",
       "      <th>1900</th>\n",
       "      <td>1901</td>\n",
       "      <td>P_995</td>\n",
       "      <td>\"Нож и шашку и винтовку.\\nДа коня мне и чекмен...</td>\n",
       "      <td>\"нож и шашка и винтовка.\\nда конь я и чекмень\\...</td>\n",
       "    </tr>\n",
       "    <tr>\n",
       "      <th>1901</th>\n",
       "      <td>1902</td>\n",
       "      <td>P_996</td>\n",
       "      <td>Горько плача и рыдая, \\nПредстояла в сокрушень...</td>\n",
       "      <td>горько плакать и рыдать, \\nпредстоять в сокруш...</td>\n",
       "    </tr>\n",
       "    <tr>\n",
       "      <th>1902</th>\n",
       "      <td>1903</td>\n",
       "      <td>P_997</td>\n",
       "      <td>У старушки у вдовицы,\\nНа подпору дряхлых дней...</td>\n",
       "      <td>у старушка у вдовица,\\nна подпора дряхлый день...</td>\n",
       "    </tr>\n",
       "    <tr>\n",
       "      <th>1903</th>\n",
       "      <td>1904</td>\n",
       "      <td>P_998</td>\n",
       "      <td>Во льдяных шлемах великаны\\nСтоят, теряясь в н...</td>\n",
       "      <td>во льдяной шлем великан\\nстоять, теряться в не...</td>\n",
       "    </tr>\n",
       "    <tr>\n",
       "      <th>1904</th>\n",
       "      <td>1905</td>\n",
       "      <td>P_999</td>\n",
       "      <td>Полночь, полночь гудит!.. Урочный бой раздался...</td>\n",
       "      <td>полночь, полночь гудеть!.. урочный бой раздава...</td>\n",
       "    </tr>\n",
       "  </tbody>\n",
       "</table>\n",
       "</div>"
      ],
      "text/plain": [
       "      Unnamed: 0 text_id                                               text  \\\n",
       "1900        1901   P_995  \"Нож и шашку и винтовку.\\nДа коня мне и чекмен...   \n",
       "1901        1902   P_996  Горько плача и рыдая, \\nПредстояла в сокрушень...   \n",
       "1902        1903   P_997  У старушки у вдовицы,\\nНа подпору дряхлых дней...   \n",
       "1903        1904   P_998  Во льдяных шлемах великаны\\nСтоят, теряясь в н...   \n",
       "1904        1905   P_999  Полночь, полночь гудит!.. Урочный бой раздался...   \n",
       "\n",
       "                                              text_lemm  \n",
       "1900  \"нож и шашка и винтовка.\\nда конь я и чекмень\\...  \n",
       "1901  горько плакать и рыдать, \\nпредстоять в сокруш...  \n",
       "1902  у старушка у вдовица,\\nна подпора дряхлый день...  \n",
       "1903  во льдяной шлем великан\\nстоять, теряться в не...  \n",
       "1904  полночь, полночь гудеть!.. урочный бой раздава...  "
      ]
     },
     "execution_count": 29,
     "metadata": {},
     "output_type": "execute_result"
    }
   ],
   "source": [
    "df.tail()"
   ]
  },
  {
   "cell_type": "code",
   "execution_count": 30,
   "id": "8d49c353",
   "metadata": {},
   "outputs": [],
   "source": [
    "df = df.drop('Unnamed: 0', axis = 1)\n",
    "# df = df.drop('text', axis = 1)"
   ]
  },
  {
   "cell_type": "code",
   "execution_count": 31,
   "id": "76103e42",
   "metadata": {},
   "outputs": [
    {
     "name": "stdout",
     "output_type": "stream",
     "text": [
      "     text_id                                               text  \\\n",
      "0        P_1  Ох, жизнь молодецкая,\\nБравая, солдатская!\\nКа...   \n",
      "1       P_10  Зачем с небесной высоты, \\nИз горнего жилья, \\...   \n",
      "2      P_100  Вблизи дороги столбовой\\nНочует табор кочевой\\...   \n",
      "3     P_1000  О чем грустишь так неутешно?\\nУтраченных стяжа...   \n",
      "4     P_1001  Движим думою чудесной,\\n\"Здесь\", Он молвил \"бу...   \n",
      "...      ...                                                ...   \n",
      "1809    P_91  В годину печалей, тоски и ненастья,\\nГонимый с...   \n",
      "1810   P_910  И гроб опущен уж в могилу, \\nИ всё столпилося ...   \n",
      "1811   P_911  Восток белел... ладья катилась;\\nВетрило весел...   \n",
      "1812   P_912  Как птичка, с раннею зарей\\nМир, пробудившись,...   \n",
      "1813   P_913  Обеих вас я видел вместе –\\nИ всю тебя узнал я...   \n",
      "\n",
      "                                              text_lemm  \n",
      "0     ох, жизнь молодецкий,\\nбравый, солдатский!\\nка...  \n",
      "1     зачем с небесный высота, \\nиз горний жилье, \\n...  \n",
      "2     вблизи дорога столбовой\\nночевать табор кочево...  \n",
      "3     о что грустить так неутешно?\\nутрачивать стяжа...  \n",
      "4     движимый дума чудесный,\\n\"здесь\", он молвить \"...  \n",
      "...                                                 ...  \n",
      "1809  в година печаль, тоска и ненастье,\\nгонимый су...  \n",
      "1810  и гроб опускать уж в могила, \\nи все столпилос...  \n",
      "1811  восток белеть... ладья катиться;\\nветрило весе...  \n",
      "1812  как птичка, с ранний заря\\nмир, пробуждаться, ...  \n",
      "1813  оба вы я видеть вместе –\\nи весь ты узнавать я...  \n",
      "\n",
      "[1814 rows x 3 columns]\n"
     ]
    }
   ],
   "source": [
    "print(df.head(1814))"
   ]
  },
  {
   "cell_type": "code",
   "execution_count": 32,
   "id": "a25a53cd",
   "metadata": {},
   "outputs": [],
   "source": [
    "df.to_csv('per_corpus_lemm.csv')"
   ]
  },
  {
   "cell_type": "code",
   "execution_count": 4,
   "id": "fab7aaef",
   "metadata": {},
   "outputs": [
    {
     "data": {
      "text/plain": [
       "['corpus_1835_rhymewords.accented.txt',\n",
       " '.DS_Store',\n",
       " 'nkrja_rhyme_words.csv',\n",
       " 'corpus_1835_pos.csv',\n",
       " 'dicts',\n",
       " 'rnc_rhyme_words_lemmas.csv',\n",
       " 'nkrja_rhyme_pairs.csv',\n",
       " 'rhymer.txt',\n",
       " 'corpus-35_rhymes.csv',\n",
       " 'rnc_rhymes.csv',\n",
       " 'rhymes_parsed.csv',\n",
       " 'corpus_1835_unique_words.txt',\n",
       " 'rhymes_parsed_closure.csv',\n",
       " 'rhyme_words_lemmas.csv',\n",
       " 'old_corpus_1835_rhymewords.accented.txt',\n",
       " 'corpus_1835_rhymewords.txt']"
      ]
     },
     "execution_count": 4,
     "metadata": {},
     "output_type": "execute_result"
    }
   ],
   "source": [
    "os.chdir('../../data/ch5/')\n",
    "os.listdir()"
   ]
  },
  {
   "cell_type": "code",
   "execution_count": 5,
   "id": "e8719078",
   "metadata": {},
   "outputs": [
    {
     "data": {
      "text/html": [
       "<div>\n",
       "<style scoped>\n",
       "    .dataframe tbody tr th:only-of-type {\n",
       "        vertical-align: middle;\n",
       "    }\n",
       "\n",
       "    .dataframe tbody tr th {\n",
       "        vertical-align: top;\n",
       "    }\n",
       "\n",
       "    .dataframe thead th {\n",
       "        text-align: right;\n",
       "    }\n",
       "</style>\n",
       "<table border=\"1\" class=\"dataframe\">\n",
       "  <thead>\n",
       "    <tr style=\"text-align: right;\">\n",
       "      <th></th>\n",
       "      <th>Unnamed: 0</th>\n",
       "      <th>word</th>\n",
       "    </tr>\n",
       "  </thead>\n",
       "  <tbody>\n",
       "    <tr>\n",
       "      <th>0</th>\n",
       "      <td>1</td>\n",
       "      <td>кантемир</td>\n",
       "    </tr>\n",
       "    <tr>\n",
       "      <th>1</th>\n",
       "      <td>2</td>\n",
       "      <td>равнялись</td>\n",
       "    </tr>\n",
       "    <tr>\n",
       "      <th>2</th>\n",
       "      <td>3</td>\n",
       "      <td>блистал</td>\n",
       "    </tr>\n",
       "    <tr>\n",
       "      <th>3</th>\n",
       "      <td>4</td>\n",
       "      <td>находился</td>\n",
       "    </tr>\n",
       "    <tr>\n",
       "      <th>4</th>\n",
       "      <td>5</td>\n",
       "      <td>спокоен</td>\n",
       "    </tr>\n",
       "  </tbody>\n",
       "</table>\n",
       "</div>"
      ],
      "text/plain": [
       "   Unnamed: 0       word\n",
       "0           1   кантемир\n",
       "1           2  равнялись\n",
       "2           3    блистал\n",
       "3           4  находился\n",
       "4           5    спокоен"
      ]
     },
     "execution_count": 5,
     "metadata": {},
     "output_type": "execute_result"
    }
   ],
   "source": [
    "df = pd.read_csv('rnc_rhyme_words_lemmas.csv')\n",
    "df.head()"
   ]
  },
  {
   "cell_type": "code",
   "execution_count": 6,
   "id": "274182f9",
   "metadata": {},
   "outputs": [
    {
     "data": {
      "text/plain": [
       "225702"
      ]
     },
     "execution_count": 6,
     "metadata": {},
     "output_type": "execute_result"
    }
   ],
   "source": [
    "len(df)\n",
    "df = df.loc[df.word.apply(lambda x: not isinstance(x, (float, int)))]\n",
    "len(df)"
   ]
  },
  {
   "cell_type": "code",
   "execution_count": 7,
   "id": "f55b61d8",
   "metadata": {},
   "outputs": [],
   "source": [
    "df['lemma'] = df['word'].apply(m.lemmatize)\n",
    "df['lemma'] = [''.join(map(str, l)) for l in df['lemma']] \n",
    "df['lemma'] = df['lemma'].str.replace('\\n', '', regex = True)"
   ]
  },
  {
   "cell_type": "code",
   "execution_count": 8,
   "id": "ca712da7",
   "metadata": {},
   "outputs": [
    {
     "data": {
      "text/html": [
       "<div>\n",
       "<style scoped>\n",
       "    .dataframe tbody tr th:only-of-type {\n",
       "        vertical-align: middle;\n",
       "    }\n",
       "\n",
       "    .dataframe tbody tr th {\n",
       "        vertical-align: top;\n",
       "    }\n",
       "\n",
       "    .dataframe thead th {\n",
       "        text-align: right;\n",
       "    }\n",
       "</style>\n",
       "<table border=\"1\" class=\"dataframe\">\n",
       "  <thead>\n",
       "    <tr style=\"text-align: right;\">\n",
       "      <th></th>\n",
       "      <th>Unnamed: 0</th>\n",
       "      <th>word</th>\n",
       "      <th>lemma</th>\n",
       "    </tr>\n",
       "  </thead>\n",
       "  <tbody>\n",
       "    <tr>\n",
       "      <th>225697</th>\n",
       "      <td>225698</td>\n",
       "      <td>стана</td>\n",
       "      <td>стан</td>\n",
       "    </tr>\n",
       "    <tr>\n",
       "      <th>225698</th>\n",
       "      <td>225699</td>\n",
       "      <td>сияна</td>\n",
       "      <td>сиять</td>\n",
       "    </tr>\n",
       "    <tr>\n",
       "      <th>225699</th>\n",
       "      <td>225700</td>\n",
       "      <td>моя</td>\n",
       "      <td>мой</td>\n",
       "    </tr>\n",
       "    <tr>\n",
       "      <th>225700</th>\n",
       "      <td>225701</td>\n",
       "      <td>внимая</td>\n",
       "      <td>внимать</td>\n",
       "    </tr>\n",
       "    <tr>\n",
       "      <th>225701</th>\n",
       "      <td>225702</td>\n",
       "      <td>младая</td>\n",
       "      <td>младой</td>\n",
       "    </tr>\n",
       "  </tbody>\n",
       "</table>\n",
       "</div>"
      ],
      "text/plain": [
       "        Unnamed: 0    word    lemma\n",
       "225697      225698   стана     стан\n",
       "225698      225699   сияна    сиять\n",
       "225699      225700     моя      мой\n",
       "225700      225701  внимая  внимать\n",
       "225701      225702  младая   младой"
      ]
     },
     "execution_count": 8,
     "metadata": {},
     "output_type": "execute_result"
    }
   ],
   "source": [
    "df.tail()"
   ]
  },
  {
   "cell_type": "code",
   "execution_count": 9,
   "id": "d55d7ec5",
   "metadata": {},
   "outputs": [],
   "source": [
    "df = df.drop('Unnamed: 0', axis = 1)\n",
    "# df = df.drop('text', axis = 1)"
   ]
  },
  {
   "cell_type": "code",
   "execution_count": 10,
   "id": "055ce768",
   "metadata": {},
   "outputs": [],
   "source": [
    "df.to_csv('rnc_rhyme_words_lemmas.csv')"
   ]
  },
  {
   "cell_type": "code",
   "execution_count": null,
   "id": "5864bd81",
   "metadata": {},
   "outputs": [],
   "source": []
  }
 ],
 "metadata": {
  "kernelspec": {
   "display_name": "Python 3 (ipykernel)",
   "language": "python",
   "name": "python3"
  },
  "language_info": {
   "codemirror_mode": {
    "name": "ipython",
    "version": 3
   },
   "file_extension": ".py",
   "mimetype": "text/x-python",
   "name": "python",
   "nbconvert_exporter": "python",
   "pygments_lexer": "ipython3",
   "version": "3.9.16"
  }
 },
 "nbformat": 4,
 "nbformat_minor": 5
}
