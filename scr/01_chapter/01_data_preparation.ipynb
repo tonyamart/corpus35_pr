{
 "cells": [
  {
   "cell_type": "markdown",
   "id": "b3f41fb8",
   "metadata": {},
   "source": [
    "## Chapter 01\n",
    "\n",
    "### 1.3. Experiment on the books survival\n",
    "\n",
    "### Data cleaning & transformation to abundance data\n",
    "\n",
    "This notebook shows steps of data preparation performed to create the table `01_3_poetry_books_experiment_wide.csv` from the `01_raw_data_poetry_1830_1850.csv`. "
   ]
  },
  {
   "cell_type": "code",
   "execution_count": 1,
   "id": "cc220c18",
   "metadata": {
    "scrolled": false
   },
   "outputs": [
    {
     "name": "stderr",
     "output_type": "stream",
     "text": [
      "Warning message:\n",
      "“pakiet ‘ggplot2’ został zbudowany w wersji R 4.3.1”\n",
      "Warning message:\n",
      "“pakiet ‘tidyr’ został zbudowany w wersji R 4.3.1”\n",
      "Warning message:\n",
      "“pakiet ‘dplyr’ został zbudowany w wersji R 4.3.1”\n",
      "Warning message:\n",
      "“pakiet ‘lubridate’ został zbudowany w wersji R 4.3.1”\n",
      "── \u001b[1mAttaching core tidyverse packages\u001b[22m ──────────────────────── tidyverse 2.0.0 ──\n",
      "\u001b[32m✔\u001b[39m \u001b[34mdplyr    \u001b[39m 1.1.4     \u001b[32m✔\u001b[39m \u001b[34mreadr    \u001b[39m 2.1.4\n",
      "\u001b[32m✔\u001b[39m \u001b[34mforcats  \u001b[39m 1.0.0     \u001b[32m✔\u001b[39m \u001b[34mstringr  \u001b[39m 1.5.0\n",
      "\u001b[32m✔\u001b[39m \u001b[34mggplot2  \u001b[39m 3.5.1     \u001b[32m✔\u001b[39m \u001b[34mtibble   \u001b[39m 3.2.1\n",
      "\u001b[32m✔\u001b[39m \u001b[34mlubridate\u001b[39m 1.9.3     \u001b[32m✔\u001b[39m \u001b[34mtidyr    \u001b[39m 1.3.1\n",
      "\u001b[32m✔\u001b[39m \u001b[34mpurrr    \u001b[39m 1.0.2     \n",
      "── \u001b[1mConflicts\u001b[22m ────────────────────────────────────────── tidyverse_conflicts() ──\n",
      "\u001b[31m✖\u001b[39m \u001b[34mdplyr\u001b[39m::\u001b[32mfilter()\u001b[39m masks \u001b[34mstats\u001b[39m::filter()\n",
      "\u001b[31m✖\u001b[39m \u001b[34mdplyr\u001b[39m::\u001b[32mlag()\u001b[39m    masks \u001b[34mstats\u001b[39m::lag()\n",
      "\u001b[36mℹ\u001b[39m Use the conflicted package (\u001b[3m\u001b[34m<http://conflicted.r-lib.org/>\u001b[39m\u001b[23m) to force all conflicts to become errors\n"
     ]
    }
   ],
   "source": [
    "library(tidyverse)"
   ]
  },
  {
   "cell_type": "markdown",
   "id": "1890d369",
   "metadata": {},
   "source": [
    "#### Data cleaning"
   ]
  },
  {
   "cell_type": "code",
   "execution_count": 3,
   "id": "5c48045a",
   "metadata": {},
   "outputs": [
    {
     "data": {
      "text/html": [
       "'/Users/tonya/Documents/thesis1830s/corpus35_pr/scr/01_chapter'"
      ],
      "text/latex": [
       "'/Users/tonya/Documents/thesis1830s/corpus35\\_pr/scr/01\\_chapter'"
      ],
      "text/markdown": [
       "'/Users/tonya/Documents/thesis1830s/corpus35_pr/scr/01_chapter'"
      ],
      "text/plain": [
       "[1] \"/Users/tonya/Documents/thesis1830s/corpus35_pr/scr/01_chapter\""
      ]
     },
     "metadata": {},
     "output_type": "display_data"
    }
   ],
   "source": [
    "getwd()"
   ]
  },
  {
   "cell_type": "code",
   "execution_count": 4,
   "id": "23226ebc",
   "metadata": {
    "scrolled": true
   },
   "outputs": [
    {
     "name": "stderr",
     "output_type": "stream",
     "text": [
      "\u001b[1m\u001b[22mNew names:\n",
      "\u001b[36m•\u001b[39m `` -> `...1`\n"
     ]
    },
    {
     "name": "stdout",
     "output_type": "stream",
     "text": [
      "Rows: 1,105\n",
      "Columns: 43\n",
      "$ id                 \u001b[3m\u001b[90m<chr>\u001b[39m\u001b[23m \"1\", \"2\", \"4\", \"5\", \"6\", \"7\", \"8\", \"9\", \"10\", \"11\",…\n",
      "$ poetry_prose       \u001b[3m\u001b[90m<chr>\u001b[39m\u001b[23m \"v\", \"v\", \"v\", \"v\", \"v\", \"v\", \"v\", \"v\", \"v\", \"v\", \"…\n",
      "$ book_type          \u001b[3m\u001b[90m<chr>\u001b[39m\u001b[23m \"sep\", \"sep\", \"sep\", \"col\", \"sep\", \"col\", \"sep\", \"s…\n",
      "$ genre              \u001b[3m\u001b[90m<chr>\u001b[39m\u001b[23m \"nar\", \"lyr\", \"lyr\", \"lyr\", \"nar\", \"lyr\", \"nar\", \"n…\n",
      "$ special_tag        \u001b[3m\u001b[90m<chr>\u001b[39m\u001b[23m NA, \"unknown\", \"unknown\", NA, NA, NA, NA, NA, NA, N…\n",
      "$ author_sign        \u001b[3m\u001b[90m<chr>\u001b[39m\u001b[23m \"Артемьев П.\", NA, NA, \"Батюшков К.\", \"Александр Б.…\n",
      "$ author             \u001b[3m\u001b[90m<chr>\u001b[39m\u001b[23m \"Артемьев П. А.\", NA, NA, \"Батюшков К.Н.\", \"Боде А.…\n",
      "$ author_full_name   \u001b[3m\u001b[90m<chr>\u001b[39m\u001b[23m \"Артемьев Павел Алексеевич\", NA, NA, \"Батюшков Конс…\n",
      "$ title              \u001b[3m\u001b[90m<chr>\u001b[39m\u001b[23m \"Страдалец: Повесть в стихах, взятая с истинного ра…\n",
      "$ city               \u001b[3m\u001b[90m<chr>\u001b[39m\u001b[23m \"М.\", \"СПб.\", \"СПб.\", \"СПб.\", \"СПб.\", \"М.\", \"СПб.\",…\n",
      "$ publisher          \u001b[3m\u001b[90m<chr>\u001b[39m\u001b[23m \"Селивановского\", \"Крайя\", \"Акад. наук\", \"И. Глазун…\n",
      "$ year               \u001b[3m\u001b[90m<chr>\u001b[39m\u001b[23m \"1834\", \"1834\", \"1834\", \"1834\", \"1834\", \"1834\", \"18…\n",
      "$ pages              \u001b[3m\u001b[90m<chr>\u001b[39m\u001b[23m \"30\", NA, NA, \"270\", \"22\", \"79\", \"122\", \"35\", \"159\"…\n",
      "$ size_fold          \u001b[3m\u001b[90m<chr>\u001b[39m\u001b[23m \"8\", NA, NA, \"8\", NA, NA, NA, NA, \"8\", \"12\", NA, NA…\n",
      "$ size_cm            \u001b[3m\u001b[90m<chr>\u001b[39m\u001b[23m \"20\", NA, NA, \"22\", \"24\", \"22\", \"19\", \"24\", \"23\", \"…\n",
      "$ smirdin_1832       \u001b[3m\u001b[90m<chr>\u001b[39m\u001b[23m NA, NA, NA, NA, NA, NA, NA, NA, NA, NA, NA, NA, NA,…\n",
      "$ smirdin_1832_price \u001b[3m\u001b[90m<chr>\u001b[39m\u001b[23m NA, NA, NA, NA, NA, NA, NA, NA, NA, NA, NA, NA, NA,…\n",
      "$ olhin_46           \u001b[3m\u001b[90m<chr>\u001b[39m\u001b[23m \"5394\", NA, NA, NA, NA, NA, NA, NA, \"5408\", NA, NA,…\n",
      "$ olhin_46_price     \u001b[3m\u001b[90m<chr>\u001b[39m\u001b[23m \"1 р.\", NA, NA, NA, NA, NA, NA, NA, \"1 р. 40 к.\", N…\n",
      "$ krashen_52         \u001b[3m\u001b[90m<chr>\u001b[39m\u001b[23m NA, NA, NA, \"6119\", \"15362\", \"15196\", \"15987\", \"162…\n",
      "$ krashen_52_price   \u001b[3m\u001b[90m<chr>\u001b[39m\u001b[23m NA, NA, NA, NA, \"0.75\", \"1\", \"1.5\", \"1\", \"1.4\", NA,…\n",
      "$ kymmel_89          \u001b[3m\u001b[90m<chr>\u001b[39m\u001b[23m NA, NA, NA, \"1240\", \"567\", \"569\", NA, NA, \"1317а\", …\n",
      "$ kymmel_89_price    \u001b[3m\u001b[90m<chr>\u001b[39m\u001b[23m NA, NA, NA, NA, \"1\", \"0.75\", NA, NA, \"1\", \"1\", NA, …\n",
      "$ kymmel_xxiv        \u001b[3m\u001b[90m<chr>\u001b[39m\u001b[23m NA, NA, NA, NA, NA, NA, NA, NA, NA, NA, NA, NA, NA,…\n",
      "$ MU_1838            \u001b[3m\u001b[90m<chr>\u001b[39m\u001b[23m NA, NA, NA, \"да\", NA, NA, NA, NA, NA, NA, NA, NA, N…\n",
      "$ CZ_SLK             \u001b[3m\u001b[90m<chr>\u001b[39m\u001b[23m NA, NA, NA, \"да\", \"да\", NA, NA, \"да\", NA, NA, NA, N…\n",
      "$ EE_ester           \u001b[3m\u001b[90m<chr>\u001b[39m\u001b[23m NA, NA, NA, \"да\", NA, NA, \"да\", NA, NA, NA, NA, NA,…\n",
      "$ FI_NL              \u001b[3m\u001b[90m<chr>\u001b[39m\u001b[23m NA, NA, NA, \"да\", NA, \"да\", NA, NA, \"да\", NA, NA, N…\n",
      "$ LT_VUL             \u001b[3m\u001b[90m<chr>\u001b[39m\u001b[23m NA, NA, NA, NA, NA, NA, NA, NA, NA, NA, NA, NA, NA,…\n",
      "$ PL_BUW             \u001b[3m\u001b[90m<chr>\u001b[39m\u001b[23m NA, NA, NA, \"да\", NA, NA, NA, NA, NA, NA, NA, NA, N…\n",
      "$ PL_BN              \u001b[3m\u001b[90m<chr>\u001b[39m\u001b[23m NA, NA, NA, \"да\", NA, NA, NA, NA, NA, NA, NA, NA, N…\n",
      "$ RNL                \u001b[3m\u001b[90m<chr>\u001b[39m\u001b[23m \"004475784\", NA, NA, \"004475787\", \"004475875\", \"004…\n",
      "$ RSL                \u001b[3m\u001b[90m<chr>\u001b[39m\u001b[23m \"да\", NA, NA, \"да\", NA, \"да\", \"да\", \"да\", \"да\", \"да…\n",
      "$ SPbGU              \u001b[3m\u001b[90m<chr>\u001b[39m\u001b[23m NA, NA, NA, NA, NA, NA, NA, NA, NA, NA, NA, NA, \"да…\n",
      "$ US_Harvard         \u001b[3m\u001b[90m<chr>\u001b[39m\u001b[23m NA, NA, NA, \"да\", \"да\", NA, \"да\", NA, NA, NA, NA, \"…\n",
      "$ Rosanov            \u001b[3m\u001b[90m<chr>\u001b[39m\u001b[23m \"259\", NA, NA, \"295\", \"338\", \"341\", \"600\", \"711\", \"…\n",
      "$ SmSok              \u001b[3m\u001b[90m<chr>\u001b[39m\u001b[23m NA, NA, NA, NA, NA, NA, NA, NA, NA, NA, NA, NA, NA,…\n",
      "$ digital_copy       \u001b[3m\u001b[90m<chr>\u001b[39m\u001b[23m NA, NA, NA, \"ЧБ\", \"ЧБ\", NA, \"РНБ\", NA, NA, NA, NA, …\n",
      "$ digital_copy_URL   \u001b[3m\u001b[90m<chr>\u001b[39m\u001b[23m NA, NA, NA, \"https://books.google.com/books?id=fVdd…\n",
      "$ Comments           \u001b[3m\u001b[90m<chr>\u001b[39m\u001b[23m NA, NA, NA, NA, NA, NA, \"Эл. копия РГБ: https://dli…\n",
      "$ Censure_permit     \u001b[3m\u001b[90m<chr>\u001b[39m\u001b[23m NA, \"02.12.1833\", \"12.03.1834\", NA, NA, NA, NA, NA,…\n",
      "$ Add_censure_data   \u001b[3m\u001b[90m<chr>\u001b[39m\u001b[23m NA, NA, NA, NA, NA, NA, NA, NA, NA, NA, NA, NA, NA,…\n",
      "$ Comment_Balakin    \u001b[3m\u001b[90m<chr>\u001b[39m\u001b[23m NA, \"Билет выдан 5.01.1834 (ЦГИА, 777--27--266, л.2…\n"
     ]
    }
   ],
   "source": [
    "##### upload raw data #####\n",
    "dat <- read_csv(\"../../data/ch1/01_raw_data_poetry_1830_1850.csv\",\n",
    "               col_types = cols(.default = \"c\")) %>% \n",
    "    select(-`...1`)\n",
    "\n",
    "glimpse(dat)"
   ]
  },
  {
   "cell_type": "code",
   "execution_count": 5,
   "id": "e981d4f2",
   "metadata": {
    "scrolled": false
   },
   "outputs": [
    {
     "data": {
      "text/html": [
       "<style>\n",
       ".list-inline {list-style: none; margin:0; padding: 0}\n",
       ".list-inline>li {display: inline-block}\n",
       ".list-inline>li:not(:last-child)::after {content: \"\\00b7\"; padding: 0 .5ex}\n",
       "</style>\n",
       "<ol class=list-inline><li>'2'</li><li>'4'</li><li>'88'</li><li>'126'</li><li>'179'</li><li>'188'</li></ol>\n"
      ],
      "text/latex": [
       "\\begin{enumerate*}\n",
       "\\item '2'\n",
       "\\item '4'\n",
       "\\item '88'\n",
       "\\item '126'\n",
       "\\item '179'\n",
       "\\item '188'\n",
       "\\end{enumerate*}\n"
      ],
      "text/markdown": [
       "1. '2'\n",
       "2. '4'\n",
       "3. '88'\n",
       "4. '126'\n",
       "5. '179'\n",
       "6. '188'\n",
       "\n",
       "\n"
      ],
      "text/plain": [
       "[1] \"2\"   \"4\"   \"88\"  \"126\" \"179\" \"188\""
      ]
     },
     "metadata": {},
     "output_type": "display_data"
    },
    {
     "data": {
      "text/html": [
       "<table class=\"dataframe\">\n",
       "<caption>A tibble: 6 × 25</caption>\n",
       "<thead>\n",
       "\t<tr><th scope=col>id</th><th scope=col>poetry_prose</th><th scope=col>book_type</th><th scope=col>genre</th><th scope=col>special_tag</th><th scope=col>author_sign</th><th scope=col>author</th><th scope=col>author_full_name</th><th scope=col>title</th><th scope=col>city</th><th scope=col>⋯</th><th scope=col>RSL</th><th scope=col>CZ_SLK</th><th scope=col>EE_ester</th><th scope=col>FI_NL</th><th scope=col>LT_VUL</th><th scope=col>PL_BUW</th><th scope=col>PL_BN</th><th scope=col>SPbGU</th><th scope=col>US_Harvard</th><th scope=col>Rosanov</th></tr>\n",
       "\t<tr><th scope=col>&lt;int&gt;</th><th scope=col>&lt;chr&gt;</th><th scope=col>&lt;chr&gt;</th><th scope=col>&lt;chr&gt;</th><th scope=col>&lt;chr&gt;</th><th scope=col>&lt;chr&gt;</th><th scope=col>&lt;chr&gt;</th><th scope=col>&lt;chr&gt;</th><th scope=col>&lt;chr&gt;</th><th scope=col>&lt;chr&gt;</th><th scope=col>⋯</th><th scope=col>&lt;chr&gt;</th><th scope=col>&lt;chr&gt;</th><th scope=col>&lt;chr&gt;</th><th scope=col>&lt;chr&gt;</th><th scope=col>&lt;chr&gt;</th><th scope=col>&lt;chr&gt;</th><th scope=col>&lt;chr&gt;</th><th scope=col>&lt;chr&gt;</th><th scope=col>&lt;chr&gt;</th><th scope=col>&lt;chr&gt;</th></tr>\n",
       "</thead>\n",
       "<tbody>\n",
       "\t<tr><td>1</td><td>v</td><td>sep</td><td>nar</td><td>NA</td><td>Артемьев П. </td><td>Артемьев П. А.</td><td>Артемьев Павел Алексеевич     </td><td>Страдалец: Повесть в стихах, взятая с истинного рассказа родственников страдальца</td><td>М.  </td><td>⋯</td><td>да</td><td>NA</td><td>NA</td><td>NA</td><td>NA</td><td>NA</td><td>NA</td><td>NA</td><td>NA</td><td>259</td></tr>\n",
       "\t<tr><td>2</td><td>v</td><td>col</td><td>lyr</td><td>NA</td><td>Батюшков К. </td><td>Батюшков К.Н. </td><td>Батюшков Константин Николаевич</td><td>Сочинения в прозе и стихах Константина Батюшкова. Ч. 2. Стихотворения            </td><td>СПб.</td><td>⋯</td><td>да</td><td>да</td><td>да</td><td>да</td><td>NA</td><td>да</td><td>да</td><td>NA</td><td>да</td><td>295</td></tr>\n",
       "\t<tr><td>3</td><td>v</td><td>sep</td><td>nar</td><td>NA</td><td>Александр Б.</td><td>Боде А.К.     </td><td>Боде Александр Карлович       </td><td>Милана : Русская баллада, или Старые погудки на новый лад                        </td><td>СПб.</td><td>⋯</td><td>NA</td><td>да</td><td>NA</td><td>NA</td><td>NA</td><td>NA</td><td>NA</td><td>NA</td><td>да</td><td>338</td></tr>\n",
       "\t<tr><td>4</td><td>v</td><td>col</td><td>lyr</td><td>NA</td><td>Бороздна И. </td><td>Бороздна И.П. </td><td>Бороздна Иван Петрович        </td><td>Лира / [Соч.] Ивана Бороздны                                                     </td><td>М.  </td><td>⋯</td><td>да</td><td>NA</td><td>NA</td><td>да</td><td>NA</td><td>NA</td><td>NA</td><td>NA</td><td>NA</td><td>341</td></tr>\n",
       "\t<tr><td>5</td><td>v</td><td>sep</td><td>nar</td><td>NA</td><td>П. Ершов    </td><td>Ершов П.П.    </td><td>Ершов Петр Павлович           </td><td>Конек-горбунок. Русская сказка                                                   </td><td>СПб.</td><td>⋯</td><td>да</td><td>NA</td><td>да</td><td>NA</td><td>NA</td><td>NA</td><td>NA</td><td>NA</td><td>да</td><td>600</td></tr>\n",
       "\t<tr><td>6</td><td>v</td><td>sep</td><td>nar</td><td>NA</td><td>Карцов Н.   </td><td>Карцов Н.     </td><td>Карцов Н.                     </td><td>Семейство Комариных : Роман в стихах                                             </td><td>М.  </td><td>⋯</td><td>да</td><td>да</td><td>NA</td><td>NA</td><td>NA</td><td>NA</td><td>NA</td><td>NA</td><td>NA</td><td>711</td></tr>\n",
       "</tbody>\n",
       "</table>\n"
      ],
      "text/latex": [
       "A tibble: 6 × 25\n",
       "\\begin{tabular}{lllllllllllllllllllll}\n",
       " id & poetry\\_prose & book\\_type & genre & special\\_tag & author\\_sign & author & author\\_full\\_name & title & city & ⋯ & RSL & CZ\\_SLK & EE\\_ester & FI\\_NL & LT\\_VUL & PL\\_BUW & PL\\_BN & SPbGU & US\\_Harvard & Rosanov\\\\\n",
       " <int> & <chr> & <chr> & <chr> & <chr> & <chr> & <chr> & <chr> & <chr> & <chr> & ⋯ & <chr> & <chr> & <chr> & <chr> & <chr> & <chr> & <chr> & <chr> & <chr> & <chr>\\\\\n",
       "\\hline\n",
       "\t 1 & v & sep & nar & NA & Артемьев П.  & Артемьев П. А. & Артемьев Павел Алексеевич      & Страдалец: Повесть в стихах, взятая с истинного рассказа родственников страдальца & М.   & ⋯ & да & NA & NA & NA & NA & NA & NA & NA & NA & 259\\\\\n",
       "\t 2 & v & col & lyr & NA & Батюшков К.  & Батюшков К.Н.  & Батюшков Константин Николаевич & Сочинения в прозе и стихах Константина Батюшкова. Ч. 2. Стихотворения             & СПб. & ⋯ & да & да & да & да & NA & да & да & NA & да & 295\\\\\n",
       "\t 3 & v & sep & nar & NA & Александр Б. & Боде А.К.      & Боде Александр Карлович        & Милана : Русская баллада, или Старые погудки на новый лад                         & СПб. & ⋯ & NA & да & NA & NA & NA & NA & NA & NA & да & 338\\\\\n",
       "\t 4 & v & col & lyr & NA & Бороздна И.  & Бороздна И.П.  & Бороздна Иван Петрович         & Лира / {[}Соч.{]} Ивана Бороздны                                                      & М.   & ⋯ & да & NA & NA & да & NA & NA & NA & NA & NA & 341\\\\\n",
       "\t 5 & v & sep & nar & NA & П. Ершов     & Ершов П.П.     & Ершов Петр Павлович            & Конек-горбунок. Русская сказка                                                    & СПб. & ⋯ & да & NA & да & NA & NA & NA & NA & NA & да & 600\\\\\n",
       "\t 6 & v & sep & nar & NA & Карцов Н.    & Карцов Н.      & Карцов Н.                      & Семейство Комариных : Роман в стихах                                              & М.   & ⋯ & да & да & NA & NA & NA & NA & NA & NA & NA & 711\\\\\n",
       "\\end{tabular}\n"
      ],
      "text/markdown": [
       "\n",
       "A tibble: 6 × 25\n",
       "\n",
       "| id &lt;int&gt; | poetry_prose &lt;chr&gt; | book_type &lt;chr&gt; | genre &lt;chr&gt; | special_tag &lt;chr&gt; | author_sign &lt;chr&gt; | author &lt;chr&gt; | author_full_name &lt;chr&gt; | title &lt;chr&gt; | city &lt;chr&gt; | ⋯ ⋯ | RSL &lt;chr&gt; | CZ_SLK &lt;chr&gt; | EE_ester &lt;chr&gt; | FI_NL &lt;chr&gt; | LT_VUL &lt;chr&gt; | PL_BUW &lt;chr&gt; | PL_BN &lt;chr&gt; | SPbGU &lt;chr&gt; | US_Harvard &lt;chr&gt; | Rosanov &lt;chr&gt; |\n",
       "|---|---|---|---|---|---|---|---|---|---|---|---|---|---|---|---|---|---|---|---|---|\n",
       "| 1 | v | sep | nar | NA | Артемьев П.  | Артемьев П. А. | Артемьев Павел Алексеевич      | Страдалец: Повесть в стихах, взятая с истинного рассказа родственников страдальца | М.   | ⋯ | да | NA | NA | NA | NA | NA | NA | NA | NA | 259 |\n",
       "| 2 | v | col | lyr | NA | Батюшков К.  | Батюшков К.Н.  | Батюшков Константин Николаевич | Сочинения в прозе и стихах Константина Батюшкова. Ч. 2. Стихотворения             | СПб. | ⋯ | да | да | да | да | NA | да | да | NA | да | 295 |\n",
       "| 3 | v | sep | nar | NA | Александр Б. | Боде А.К.      | Боде Александр Карлович        | Милана : Русская баллада, или Старые погудки на новый лад                         | СПб. | ⋯ | NA | да | NA | NA | NA | NA | NA | NA | да | 338 |\n",
       "| 4 | v | col | lyr | NA | Бороздна И.  | Бороздна И.П.  | Бороздна Иван Петрович         | Лира / [Соч.] Ивана Бороздны                                                      | М.   | ⋯ | да | NA | NA | да | NA | NA | NA | NA | NA | 341 |\n",
       "| 5 | v | sep | nar | NA | П. Ершов     | Ершов П.П.     | Ершов Петр Павлович            | Конек-горбунок. Русская сказка                                                    | СПб. | ⋯ | да | NA | да | NA | NA | NA | NA | NA | да | 600 |\n",
       "| 6 | v | sep | nar | NA | Карцов Н.    | Карцов Н.      | Карцов Н.                      | Семейство Комариных : Роман в стихах                                              | М.   | ⋯ | да | да | NA | NA | NA | NA | NA | NA | NA | 711 |\n",
       "\n"
      ],
      "text/plain": [
       "  id poetry_prose book_type genre special_tag author_sign  author        \n",
       "1 1  v            sep       nar   NA          Артемьев П.  Артемьев П. А.\n",
       "2 2  v            col       lyr   NA          Батюшков К.  Батюшков К.Н. \n",
       "3 3  v            sep       nar   NA          Александр Б. Боде А.К.     \n",
       "4 4  v            col       lyr   NA          Бороздна И.  Бороздна И.П. \n",
       "5 5  v            sep       nar   NA          П. Ершов     Ершов П.П.    \n",
       "6 6  v            sep       nar   NA          Карцов Н.    Карцов Н.     \n",
       "  author_full_name              \n",
       "1 Артемьев Павел Алексеевич     \n",
       "2 Батюшков Константин Николаевич\n",
       "3 Боде Александр Карлович       \n",
       "4 Бороздна Иван Петрович        \n",
       "5 Ершов Петр Павлович           \n",
       "6 Карцов Н.                     \n",
       "  title                                                                            \n",
       "1 Страдалец: Повесть в стихах, взятая с истинного рассказа родственников страдальца\n",
       "2 Сочинения в прозе и стихах Константина Батюшкова. Ч. 2. Стихотворения            \n",
       "3 Милана : Русская баллада, или Старые погудки на новый лад                        \n",
       "4 Лира / [Соч.] Ивана Бороздны                                                     \n",
       "5 Конек-горбунок. Русская сказка                                                   \n",
       "6 Семейство Комариных : Роман в стихах                                             \n",
       "  city ⋯ RSL CZ_SLK EE_ester FI_NL LT_VUL PL_BUW PL_BN SPbGU US_Harvard Rosanov\n",
       "1 М.   ⋯ да  NA     NA       NA    NA     NA     NA    NA    NA         259    \n",
       "2 СПб. ⋯ да  да     да       да    NA     да     да    NA    да         295    \n",
       "3 СПб. ⋯ NA  да     NA       NA    NA     NA     NA    NA    да         338    \n",
       "4 М.   ⋯ да  NA     NA       да    NA     NA     NA    NA    NA         341    \n",
       "5 СПб. ⋯ да  NA     да       NA    NA     NA     NA    NA    да         600    \n",
       "6 М.   ⋯ да  да     NA       NA    NA     NA     NA    NA    NA         711    "
      ]
     },
     "metadata": {},
     "output_type": "display_data"
    }
   ],
   "source": [
    "##### Cleaning #####\n",
    "\n",
    "# Filter out books that were not found in any collections \n",
    "# (artefacts from archival registers)\n",
    "not_trusted <- dat %>% \n",
    "  filter(if_all(17:38, is.na)) %>% \n",
    "  pull(id)\n",
    "\n",
    "head(not_trusted)\n",
    "\n",
    "# clean\n",
    "dat <- dat %>% \n",
    "  filter(!id %in% not_trusted)\n",
    "\n",
    "\n",
    "# Select df columns for ids & abundance data\n",
    "dat <- dat %>% \n",
    "  mutate(id = row_number()) %>% \n",
    "  select(id, poetry_prose,  book_type, genre, special_tag, author_sign, \n",
    "         author, author_full_name, title, \n",
    "         city, publisher, year, \n",
    "         pages, size_cm, \n",
    "         RNL, RSL,\n",
    "         CZ_SLK, EE_ester, FI_NL, LT_VUL, PL_BUW, PL_BN,\n",
    "         SPbGU, US_Harvard, Rosanov)\n",
    "\n",
    "head(dat)"
   ]
  },
  {
   "cell_type": "code",
   "execution_count": 6,
   "id": "336d55e9",
   "metadata": {
    "scrolled": false
   },
   "outputs": [
    {
     "data": {
      "text/html": [
       "<style>\n",
       ".list-inline {list-style: none; margin:0; padding: 0}\n",
       ".list-inline>li {display: inline-block}\n",
       ".list-inline>li:not(:last-child)::after {content: \"\\00b7\"; padding: 0 .5ex}\n",
       "</style>\n",
       "<ol class=list-inline><li>'sep'</li><li>'col'</li><li>'alm'</li></ol>\n"
      ],
      "text/latex": [
       "\\begin{enumerate*}\n",
       "\\item 'sep'\n",
       "\\item 'col'\n",
       "\\item 'alm'\n",
       "\\end{enumerate*}\n"
      ],
      "text/markdown": [
       "1. 'sep'\n",
       "2. 'col'\n",
       "3. 'alm'\n",
       "\n",
       "\n"
      ],
      "text/plain": [
       "[1] \"sep\" \"col\" \"alm\""
      ]
     },
     "metadata": {},
     "output_type": "display_data"
    },
    {
     "data": {
      "text/plain": [
       "\n",
       "alm col sep \n",
       "112 399 565 "
      ]
     },
     "metadata": {},
     "output_type": "display_data"
    },
    {
     "data": {
      "text/plain": [
       "\n",
       " pr   v \n",
       "112 963 "
      ]
     },
     "metadata": {},
     "output_type": "display_data"
    },
    {
     "data": {
      "text/html": [
       "<style>\n",
       ".list-inline {list-style: none; margin:0; padding: 0}\n",
       ".list-inline>li {display: inline-block}\n",
       ".list-inline>li:not(:last-child)::after {content: \"\\00b7\"; padding: 0 .5ex}\n",
       "</style>\n",
       "<ol class=list-inline><li>'v'</li><li>'pr'</li><li>NA</li></ol>\n"
      ],
      "text/latex": [
       "\\begin{enumerate*}\n",
       "\\item 'v'\n",
       "\\item 'pr'\n",
       "\\item NA\n",
       "\\end{enumerate*}\n"
      ],
      "text/markdown": [
       "1. 'v'\n",
       "2. 'pr'\n",
       "3. NA\n",
       "\n",
       "\n"
      ],
      "text/plain": [
       "[1] \"v\"  \"pr\" NA  "
      ]
     },
     "metadata": {},
     "output_type": "display_data"
    }
   ],
   "source": [
    "#### drop prose, unknown & NA ####\n",
    "\n",
    "# check grouping tag\n",
    "unique(dat$book_type)\n",
    "table(dat$book_type)\n",
    "\n",
    "# check prose/verse tag\n",
    "table(dat$poetry_prose)\n",
    "unique(dat$poetry_prose)\n",
    "\n",
    "# filter NA\n",
    "dat <- dat %>% \n",
    "  filter(!is.na(poetry_prose))"
   ]
  },
  {
   "cell_type": "code",
   "execution_count": 8,
   "id": "9e0c3d7e",
   "metadata": {
    "scrolled": true
   },
   "outputs": [
    {
     "data": {
      "text/html": [
       "<style>\n",
       ".list-inline {list-style: none; margin:0; padding: 0}\n",
       ".list-inline>li {display: inline-block}\n",
       ".list-inline>li:not(:last-child)::after {content: \"\\00b7\"; padding: 0 .5ex}\n",
       "</style>\n",
       "<ol class=list-inline><li>'nar'</li><li>'lyr'</li><li>NA</li><li>'lyr; nar'</li></ol>\n"
      ],
      "text/latex": [
       "\\begin{enumerate*}\n",
       "\\item 'nar'\n",
       "\\item 'lyr'\n",
       "\\item NA\n",
       "\\item 'lyr; nar'\n",
       "\\end{enumerate*}\n"
      ],
      "text/markdown": [
       "1. 'nar'\n",
       "2. 'lyr'\n",
       "3. NA\n",
       "4. 'lyr; nar'\n",
       "\n",
       "\n"
      ],
      "text/plain": [
       "[1] \"nar\"      \"lyr\"      NA         \"lyr; nar\""
      ]
     },
     "metadata": {},
     "output_type": "display_data"
    },
    {
     "data": {
      "text/html": [
       "<table class=\"dataframe\">\n",
       "<caption>A tibble: 1 × 1</caption>\n",
       "<thead>\n",
       "\t<tr><th scope=col>book_type</th></tr>\n",
       "\t<tr><th scope=col>&lt;chr&gt;</th></tr>\n",
       "</thead>\n",
       "<tbody>\n",
       "\t<tr><td>alm</td></tr>\n",
       "</tbody>\n",
       "</table>\n"
      ],
      "text/latex": [
       "A tibble: 1 × 1\n",
       "\\begin{tabular}{l}\n",
       " book\\_type\\\\\n",
       " <chr>\\\\\n",
       "\\hline\n",
       "\t alm\\\\\n",
       "\\end{tabular}\n"
      ],
      "text/markdown": [
       "\n",
       "A tibble: 1 × 1\n",
       "\n",
       "| book_type &lt;chr&gt; |\n",
       "|---|\n",
       "| alm |\n",
       "\n"
      ],
      "text/plain": [
       "  book_type\n",
       "1 alm      "
      ]
     },
     "metadata": {},
     "output_type": "display_data"
    }
   ],
   "source": [
    "# check second grouping tag\n",
    "unique(dat$genre)\n",
    "\n",
    "# genre is NA for almanacs only\n",
    "dat %>% \n",
    "  filter(is.na(genre)) %>% \n",
    "  select(book_type) %>% unique()"
   ]
  },
  {
   "cell_type": "code",
   "execution_count": 9,
   "id": "b693ea15",
   "metadata": {
    "scrolled": true
   },
   "outputs": [
    {
     "data": {
      "text/html": [
       "941"
      ],
      "text/latex": [
       "941"
      ],
      "text/markdown": [
       "941"
      ],
      "text/plain": [
       "[1] 941"
      ]
     },
     "metadata": {},
     "output_type": "display_data"
    },
    {
     "data": {
      "text/html": [
       "<table class=\"dataframe\">\n",
       "<caption>A tibble: 12 × 1</caption>\n",
       "<thead>\n",
       "\t<tr><th scope=col>title</th></tr>\n",
       "\t<tr><th scope=col>&lt;chr&gt;</th></tr>\n",
       "</thead>\n",
       "<tbody>\n",
       "\t<tr><td>Повести [и мечты] / [Соч.] П. Машкова. [Ч. 1-3]. [Ч. 3 : Вероломство ; Стихотворения].              </td></tr>\n",
       "\t<tr><td>Кривой бес. Русская сказка [Стихотворения]                                                          </td></tr>\n",
       "\t<tr><td>Поэмы и повести Александра Пушкина. Ч. 1.                                                           </td></tr>\n",
       "\t<tr><td>Поэмы и повести Александра Пушкина. Ч. 2.                                                           </td></tr>\n",
       "\t<tr><td>Стихотворения Василья Жуковского: В 8 ч. / Изд. 4-е. Т. 1. Орлеанская дева; лирические стихотворения</td></tr>\n",
       "\t<tr><td>Беглец : Повесть в стихах : С присовокуплением пяти стихотворений                                   </td></tr>\n",
       "\t<tr><td>Сказки и басни К. Цимбалина: В 5 кн.                                                                </td></tr>\n",
       "\t<tr><td>Повести и мелкие стихотворения А. Подолинского. Ч. 1.                                               </td></tr>\n",
       "\t<tr><td>Странный бал. Повесть из рассказов на станции, и восемь стихотворений. Сочинение В. Олина           </td></tr>\n",
       "\t<tr><td>Лирические стихотворения и сказки                                                                   </td></tr>\n",
       "\t<tr><td>Краткий, в стихах, очерк С. Петербурга и другие мелкие стихотворения / [Соч.] Сергея Павлова        </td></tr>\n",
       "\t<tr><td>Мериносовая шаль, повесть нравственно-сатирическая и двадцать четыре стихотворения                  </td></tr>\n",
       "</tbody>\n",
       "</table>\n"
      ],
      "text/latex": [
       "A tibble: 12 × 1\n",
       "\\begin{tabular}{l}\n",
       " title\\\\\n",
       " <chr>\\\\\n",
       "\\hline\n",
       "\t Повести {[}и мечты{]} / {[}Соч.{]} П. Машкова. {[}Ч. 1-3{]}. {[}Ч. 3 : Вероломство ; Стихотворения{]}.              \\\\\n",
       "\t Кривой бес. Русская сказка {[}Стихотворения{]}                                                          \\\\\n",
       "\t Поэмы и повести Александра Пушкина. Ч. 1.                                                           \\\\\n",
       "\t Поэмы и повести Александра Пушкина. Ч. 2.                                                           \\\\\n",
       "\t Стихотворения Василья Жуковского: В 8 ч. / Изд. 4-е. Т. 1. Орлеанская дева; лирические стихотворения\\\\\n",
       "\t Беглец : Повесть в стихах : С присовокуплением пяти стихотворений                                   \\\\\n",
       "\t Сказки и басни К. Цимбалина: В 5 кн.                                                                \\\\\n",
       "\t Повести и мелкие стихотворения А. Подолинского. Ч. 1.                                               \\\\\n",
       "\t Странный бал. Повесть из рассказов на станции, и восемь стихотворений. Сочинение В. Олина           \\\\\n",
       "\t Лирические стихотворения и сказки                                                                   \\\\\n",
       "\t Краткий, в стихах, очерк С. Петербурга и другие мелкие стихотворения / {[}Соч.{]} Сергея Павлова        \\\\\n",
       "\t Мериносовая шаль, повесть нравственно-сатирическая и двадцать четыре стихотворения                  \\\\\n",
       "\\end{tabular}\n"
      ],
      "text/markdown": [
       "\n",
       "A tibble: 12 × 1\n",
       "\n",
       "| title &lt;chr&gt; |\n",
       "|---|\n",
       "| Повести [и мечты] / [Соч.] П. Машкова. [Ч. 1-3]. [Ч. 3 : Вероломство ; Стихотворения].               |\n",
       "| Кривой бес. Русская сказка [Стихотворения]                                                           |\n",
       "| Поэмы и повести Александра Пушкина. Ч. 1.                                                            |\n",
       "| Поэмы и повести Александра Пушкина. Ч. 2.                                                            |\n",
       "| Стихотворения Василья Жуковского: В 8 ч. / Изд. 4-е. Т. 1. Орлеанская дева; лирические стихотворения |\n",
       "| Беглец : Повесть в стихах : С присовокуплением пяти стихотворений                                    |\n",
       "| Сказки и басни К. Цимбалина: В 5 кн.                                                                 |\n",
       "| Повести и мелкие стихотворения А. Подолинского. Ч. 1.                                                |\n",
       "| Странный бал. Повесть из рассказов на станции, и восемь стихотворений. Сочинение В. Олина            |\n",
       "| Лирические стихотворения и сказки                                                                    |\n",
       "| Краткий, в стихах, очерк С. Петербурга и другие мелкие стихотворения / [Соч.] Сергея Павлова         |\n",
       "| Мериносовая шаль, повесть нравственно-сатирическая и двадцать четыре стихотворения                   |\n",
       "\n"
      ],
      "text/plain": [
       "   title                                                                                               \n",
       "1  Повести [и мечты] / [Соч.] П. Машкова. [Ч. 1-3]. [Ч. 3 : Вероломство ; Стихотворения].              \n",
       "2  Кривой бес. Русская сказка [Стихотворения]                                                          \n",
       "3  Поэмы и повести Александра Пушкина. Ч. 1.                                                           \n",
       "4  Поэмы и повести Александра Пушкина. Ч. 2.                                                           \n",
       "5  Стихотворения Василья Жуковского: В 8 ч. / Изд. 4-е. Т. 1. Орлеанская дева; лирические стихотворения\n",
       "6  Беглец : Повесть в стихах : С присовокуплением пяти стихотворений                                   \n",
       "7  Сказки и басни К. Цимбалина: В 5 кн.                                                                \n",
       "8  Повести и мелкие стихотворения А. Подолинского. Ч. 1.                                               \n",
       "9  Странный бал. Повесть из рассказов на станции, и восемь стихотворений. Сочинение В. Олина           \n",
       "10 Лирические стихотворения и сказки                                                                   \n",
       "11 Краткий, в стихах, очерк С. Петербурга и другие мелкие стихотворения / [Соч.] Сергея Павлова        \n",
       "12 Мериносовая шаль, повесть нравственно-сатирическая и двадцать четыре стихотворения                  "
      ]
     },
     "metadata": {},
     "output_type": "display_data"
    }
   ],
   "source": [
    "# NA for special tag is ok\n",
    "\n",
    "dat %>% \n",
    "  filter(is.na(special_tag))  %>% \n",
    "  nrow() # number of trusted books -- 941\n",
    "\n",
    "# clean books tagged as doubles & others since they were not collected consecutively from all sources\n",
    "tags_to_cln <- c(\"unknown\", \"double\", \"songs; double\", \"ortho; double\", \"songs; ukr lang\", \"ukr lang\")\n",
    "\n",
    "# books with mixed (nar & lyr) types - \n",
    "dat %>% \n",
    "  filter(genre == \"lyr; nar\") %>% \n",
    "  select(title)\n",
    "\n",
    "## cleaning ###\n",
    "dat <- dat %>% \n",
    "  filter(!special_tag %in% tags_to_cln) %>% \n",
    "  # clean if some almanacs tagged with genre (old ver of tagging)\n",
    "  mutate(genre = ifelse(book_type == \"alm\", \"\", genre)) %>% \n",
    "  # tag mixed collections as narrative, since most of them follows the type: a narrative poem + some short poems\n",
    "  mutate(genre = ifelse(str_detect(genre, \";|:\"), \"nar\", genre)) %>% \n",
    "  # create a grouping column \n",
    "  mutate(group = paste(poetry_prose, book_type, genre, sep = \"_\")) %>% \n",
    "  mutate(group = ifelse(str_detect(group, \"alm\"), \"almanac\", group))"
   ]
  },
  {
   "cell_type": "code",
   "execution_count": 10,
   "id": "8c5c4a99",
   "metadata": {
    "scrolled": false
   },
   "outputs": [
    {
     "data": {
      "text/html": [
       "<table class=\"dataframe\">\n",
       "<caption>A grouped_df: 8 × 2</caption>\n",
       "<thead>\n",
       "\t<tr><th scope=col>group</th><th scope=col>n</th></tr>\n",
       "\t<tr><th scope=col>&lt;chr&gt;</th><th scope=col>&lt;int&gt;</th></tr>\n",
       "</thead>\n",
       "<tbody>\n",
       "\t<tr><td>almanac   </td><td>106</td></tr>\n",
       "\t<tr><td>pr_col_lyr</td><td> 27</td></tr>\n",
       "\t<tr><td>pr_sep_lyr</td><td>  3</td></tr>\n",
       "\t<tr><td>pr_sep_nar</td><td>  1</td></tr>\n",
       "\t<tr><td>v_col_lyr </td><td>320</td></tr>\n",
       "\t<tr><td>v_col_nar </td><td> 27</td></tr>\n",
       "\t<tr><td>v_sep_lyr </td><td>276</td></tr>\n",
       "\t<tr><td>v_sep_nar </td><td>260</td></tr>\n",
       "</tbody>\n",
       "</table>\n"
      ],
      "text/latex": [
       "A grouped\\_df: 8 × 2\n",
       "\\begin{tabular}{ll}\n",
       " group & n\\\\\n",
       " <chr> & <int>\\\\\n",
       "\\hline\n",
       "\t almanac    & 106\\\\\n",
       "\t pr\\_col\\_lyr &  27\\\\\n",
       "\t pr\\_sep\\_lyr &   3\\\\\n",
       "\t pr\\_sep\\_nar &   1\\\\\n",
       "\t v\\_col\\_lyr  & 320\\\\\n",
       "\t v\\_col\\_nar  &  27\\\\\n",
       "\t v\\_sep\\_lyr  & 276\\\\\n",
       "\t v\\_sep\\_nar  & 260\\\\\n",
       "\\end{tabular}\n"
      ],
      "text/markdown": [
       "\n",
       "A grouped_df: 8 × 2\n",
       "\n",
       "| group &lt;chr&gt; | n &lt;int&gt; |\n",
       "|---|---|\n",
       "| almanac    | 106 |\n",
       "| pr_col_lyr |  27 |\n",
       "| pr_sep_lyr |   3 |\n",
       "| pr_sep_nar |   1 |\n",
       "| v_col_lyr  | 320 |\n",
       "| v_col_nar  |  27 |\n",
       "| v_sep_lyr  | 276 |\n",
       "| v_sep_nar  | 260 |\n",
       "\n"
      ],
      "text/plain": [
       "  group      n  \n",
       "1 almanac    106\n",
       "2 pr_col_lyr  27\n",
       "3 pr_sep_lyr   3\n",
       "4 pr_sep_nar   1\n",
       "5 v_col_lyr  320\n",
       "6 v_col_nar   27\n",
       "7 v_sep_lyr  276\n",
       "8 v_sep_nar  260"
      ]
     },
     "metadata": {},
     "output_type": "display_data"
    },
    {
     "data": {
      "image/png": "[encoded data removed]",
      "text/plain": [
       "plot without title"
      ]
     },
     "metadata": {
      "image/png": {
       "height": 420,
       "width": 420
      }
     },
     "output_type": "display_data"
    }
   ],
   "source": [
    "# check resulting data\n",
    "\n",
    "dat %>% \n",
    "  group_by(group) %>% \n",
    "  count()\n",
    "\n",
    "dat %>% \n",
    "  group_by(year, group) %>% \n",
    "  count() %>% \n",
    "  ggplot(aes(x = year, y = n, fill = group)) + geom_col() + theme_minimal()"
   ]
  },
  {
   "cell_type": "code",
   "execution_count": 11,
   "id": "155adc75",
   "metadata": {
    "scrolled": false
   },
   "outputs": [
    {
     "data": {
      "text/html": [
       "<table class=\"dataframe\">\n",
       "<caption>A tibble: 1 × 1</caption>\n",
       "<thead>\n",
       "\t<tr><th scope=col>n</th></tr>\n",
       "\t<tr><th scope=col>&lt;int&gt;</th></tr>\n",
       "</thead>\n",
       "<tbody>\n",
       "\t<tr><td>989</td></tr>\n",
       "</tbody>\n",
       "</table>\n"
      ],
      "text/latex": [
       "A tibble: 1 × 1\n",
       "\\begin{tabular}{l}\n",
       " n\\\\\n",
       " <int>\\\\\n",
       "\\hline\n",
       "\t 989\\\\\n",
       "\\end{tabular}\n"
      ],
      "text/markdown": [
       "\n",
       "A tibble: 1 × 1\n",
       "\n",
       "| n &lt;int&gt; |\n",
       "|---|\n",
       "| 989 |\n",
       "\n"
      ],
      "text/plain": [
       "  n  \n",
       "1 989"
      ]
     },
     "metadata": {},
     "output_type": "display_data"
    },
    {
     "data": {
      "text/plain": [
       "\n",
       "almanac col_lyr col_nar sep_lyr sep_nar \n",
       "    106     320      27     276     260 "
      ]
     },
     "metadata": {},
     "output_type": "display_data"
    }
   ],
   "source": [
    "# remove books containing prose (except for almanacs)\n",
    "\n",
    "dat %>% \n",
    "  filter(!str_detect(group, \"pr\")) %>% \n",
    "  count() # 989 books tagged as not containing any prose OR being almanacs\n",
    "\n",
    "# select only poetry & almanacs \n",
    "dat <- dat %>% \n",
    "  filter(!str_detect(group, \"pr_\")) %>% \n",
    "  mutate(group = str_remove_all(group, \"^v_\")) # clean group tag\n",
    "\n",
    "table(dat$group)"
   ]
  },
  {
   "cell_type": "code",
   "execution_count": 12,
   "id": "93ef7bc0",
   "metadata": {},
   "outputs": [
    {
     "name": "stdout",
     "output_type": "stream",
     "text": [
      "[1] \"Number of books in different genres for 1835-1840\"\n"
     ]
    },
    {
     "data": {
      "text/html": [
       "<table class=\"dataframe\">\n",
       "<caption>A grouped_df: 5 × 2</caption>\n",
       "<thead>\n",
       "\t<tr><th scope=col>group</th><th scope=col>n</th></tr>\n",
       "\t<tr><th scope=col>&lt;chr&gt;</th><th scope=col>&lt;int&gt;</th></tr>\n",
       "</thead>\n",
       "<tbody>\n",
       "\t<tr><td>almanac</td><td> 23</td></tr>\n",
       "\t<tr><td>col_lyr</td><td>108</td></tr>\n",
       "\t<tr><td>col_nar</td><td> 15</td></tr>\n",
       "\t<tr><td>sep_lyr</td><td> 53</td></tr>\n",
       "\t<tr><td>sep_nar</td><td> 60</td></tr>\n",
       "</tbody>\n",
       "</table>\n"
      ],
      "text/latex": [
       "A grouped\\_df: 5 × 2\n",
       "\\begin{tabular}{ll}\n",
       " group & n\\\\\n",
       " <chr> & <int>\\\\\n",
       "\\hline\n",
       "\t almanac &  23\\\\\n",
       "\t col\\_lyr & 108\\\\\n",
       "\t col\\_nar &  15\\\\\n",
       "\t sep\\_lyr &  53\\\\\n",
       "\t sep\\_nar &  60\\\\\n",
       "\\end{tabular}\n"
      ],
      "text/markdown": [
       "\n",
       "A grouped_df: 5 × 2\n",
       "\n",
       "| group &lt;chr&gt; | n &lt;int&gt; |\n",
       "|---|---|\n",
       "| almanac |  23 |\n",
       "| col_lyr | 108 |\n",
       "| col_nar |  15 |\n",
       "| sep_lyr |  53 |\n",
       "| sep_nar |  60 |\n",
       "\n"
      ],
      "text/plain": [
       "  group   n  \n",
       "1 almanac  23\n",
       "2 col_lyr 108\n",
       "3 col_nar  15\n",
       "4 sep_lyr  53\n",
       "5 sep_nar  60"
      ]
     },
     "metadata": {},
     "output_type": "display_data"
    }
   ],
   "source": [
    "print(\"Number of books in different genres for 1835-1840\")\n",
    "dat %>% \n",
    "    filter(year > 1834 & year < 1841) %>% \n",
    "    group_by(group) %>% \n",
    "    count"
   ]
  },
  {
   "cell_type": "markdown",
   "id": "e5993ace",
   "metadata": {},
   "source": [
    "#### Data to 1 and 0"
   ]
  },
  {
   "cell_type": "code",
   "execution_count": null,
   "id": "7a535b30",
   "metadata": {
    "scrolled": true
   },
   "outputs": [],
   "source": [
    "# check columns for each collection to have only NA or value of a book's presence\n",
    "unique(dat$RNL) \n",
    "unique(dat$RSL)\n",
    "unique(dat$Rosanov)\n",
    "unique(dat$US_Harvard)\n",
    "unique(dat$CZ_SLK)\n",
    "unique(dat$PL_BUW)\n",
    "unique(dat$PL_BN)\n",
    "unique(dat$LT_VUL)\n",
    "unique(dat$EE_ester)\n",
    "unique(dat$FI_NL)\n",
    "unique(dat$SPbGU)"
   ]
  },
  {
   "cell_type": "code",
   "execution_count": 14,
   "id": "43d1fc8d",
   "metadata": {
    "scrolled": false
   },
   "outputs": [
    {
     "name": "stdout",
     "output_type": "stream",
     "text": [
      "Rows: 989\n",
      "Columns: 26\n",
      "$ id               \u001b[3m\u001b[90m<int>\u001b[39m\u001b[23m 1, 2, 3, 4, 5, 6, 7, 8, 9, 10, 11, 12, 13, 14, 15, 16…\n",
      "$ poetry_prose     \u001b[3m\u001b[90m<chr>\u001b[39m\u001b[23m \"v\", \"v\", \"v\", \"v\", \"v\", \"v\", \"v\", \"v\", \"v\", \"v\", \"v\"…\n",
      "$ book_type        \u001b[3m\u001b[90m<chr>\u001b[39m\u001b[23m \"sep\", \"col\", \"sep\", \"col\", \"sep\", \"sep\", \"sep\", \"col…\n",
      "$ genre            \u001b[3m\u001b[90m<chr>\u001b[39m\u001b[23m \"nar\", \"lyr\", \"nar\", \"lyr\", \"nar\", \"nar\", \"nar\", \"lyr…\n",
      "$ special_tag      \u001b[3m\u001b[90m<chr>\u001b[39m\u001b[23m NA, NA, NA, NA, NA, NA, NA, NA, NA, NA, NA, NA, NA, N…\n",
      "$ author_sign      \u001b[3m\u001b[90m<chr>\u001b[39m\u001b[23m \"Артемьев П.\", \"Батюшков К.\", \"Александр Б.\", \"Борозд…\n",
      "$ author           \u001b[3m\u001b[90m<chr>\u001b[39m\u001b[23m \"Артемьев П. А.\", \"Батюшков К.Н.\", \"Боде А.К.\", \"Боро…\n",
      "$ author_full_name \u001b[3m\u001b[90m<chr>\u001b[39m\u001b[23m \"Артемьев Павел Алексеевич\", \"Батюшков Константин Ник…\n",
      "$ title            \u001b[3m\u001b[90m<chr>\u001b[39m\u001b[23m \"Страдалец: Повесть в стихах, взятая с истинного расс…\n",
      "$ city             \u001b[3m\u001b[90m<chr>\u001b[39m\u001b[23m \"М.\", \"СПб.\", \"СПб.\", \"М.\", \"СПб.\", \"М.\", \"СПб.\", \"СП…\n",
      "$ publisher        \u001b[3m\u001b[90m<chr>\u001b[39m\u001b[23m \"Селивановского\", \"И. Глазунова\", \"Крайя\", \"Семена\", …\n",
      "$ year             \u001b[3m\u001b[90m<chr>\u001b[39m\u001b[23m \"1834\", \"1834\", \"1834\", \"1834\", \"1834\", \"1834\", \"1834…\n",
      "$ pages            \u001b[3m\u001b[90m<chr>\u001b[39m\u001b[23m \"30\", \"270\", \"22\", \"79\", \"122\", \"35\", \"159\", \"128\", \"…\n",
      "$ size_cm          \u001b[3m\u001b[90m<chr>\u001b[39m\u001b[23m \"20\", \"22\", \"24\", \"22\", \"19\", \"24\", \"23\", \"18\", \"17\",…\n",
      "$ group            \u001b[3m\u001b[90m<chr>\u001b[39m\u001b[23m \"sep_nar\", \"col_lyr\", \"sep_nar\", \"col_lyr\", \"sep_nar\"…\n",
      "$ nlr              \u001b[3m\u001b[90m<dbl>\u001b[39m\u001b[23m 1, 1, 1, 1, 1, 1, 1, 1, 1, 1, 1, 1, 1, 1, 1, 1, 1, 1,…\n",
      "$ rsl              \u001b[3m\u001b[90m<dbl>\u001b[39m\u001b[23m 1, 1, 0, 1, 1, 1, 1, 1, 0, 1, 1, 0, 0, 1, 1, 0, 1, 1,…\n",
      "$ rozanov          \u001b[3m\u001b[90m<dbl>\u001b[39m\u001b[23m 1, 1, 1, 1, 1, 1, 1, 1, 0, 1, 1, 1, 1, 1, 1, 1, 1, 1,…\n",
      "$ us_harvard       \u001b[3m\u001b[90m<dbl>\u001b[39m\u001b[23m 0, 1, 1, 0, 1, 0, 0, 0, 0, 1, 0, 0, 0, 0, 0, 0, 0, 1,…\n",
      "$ cz_slk           \u001b[3m\u001b[90m<dbl>\u001b[39m\u001b[23m 0, 1, 1, 0, 0, 1, 0, 0, 0, 0, 1, 0, 0, 0, 0, 0, 0, 1,…\n",
      "$ lt_vul           \u001b[3m\u001b[90m<dbl>\u001b[39m\u001b[23m 0, 0, 0, 0, 0, 0, 0, 0, 0, 0, 0, 0, 0, 0, 0, 0, 0, 0,…\n",
      "$ pl_bn            \u001b[3m\u001b[90m<dbl>\u001b[39m\u001b[23m 0, 1, 0, 0, 0, 0, 0, 0, 0, 0, 0, 0, 0, 0, 0, 0, 0, 0,…\n",
      "$ pl_buw           \u001b[3m\u001b[90m<dbl>\u001b[39m\u001b[23m 0, 1, 0, 0, 0, 0, 0, 0, 0, 0, 0, 0, 0, 0, 0, 0, 0, 0,…\n",
      "$ ee_ester         \u001b[3m\u001b[90m<dbl>\u001b[39m\u001b[23m 0, 1, 0, 0, 1, 0, 0, 0, 0, 0, 0, 0, 0, 0, 0, 0, 0, 0,…\n",
      "$ fi_sl            \u001b[3m\u001b[90m<dbl>\u001b[39m\u001b[23m 0, 1, 0, 1, 0, 0, 1, 0, 0, 0, 0, 1, 0, 0, 0, 0, 0, 1,…\n",
      "$ spbgu            \u001b[3m\u001b[90m<dbl>\u001b[39m\u001b[23m 0, 0, 0, 0, 0, 0, 0, 0, 0, 0, 1, 0, 0, 0, 0, 0, 0, 0,…\n"
     ]
    }
   ],
   "source": [
    "# rewrite the table with 0 and 1\n",
    "dat <- dat %>% \n",
    "  mutate(nlr = ifelse(!is.na(RNL), 1, 0)) %>% \n",
    "  mutate(rsl = ifelse(!is.na(RSL), 1, 0)) %>% \n",
    "  mutate(rozanov = ifelse(!is.na(Rosanov), 1, 0)) %>% \n",
    "  mutate(us_harvard = ifelse(!is.na(US_Harvard), 1, 0)) %>% \n",
    "  mutate(cz_slk = ifelse(!is.na(CZ_SLK), 1, 0)) %>% \n",
    "  mutate(lt_vul = ifelse(!is.na(LT_VUL), 1, 0)) %>% \n",
    "  mutate(pl_bn = ifelse(!is.na(PL_BN), 1, 0)) %>% \n",
    "  mutate(pl_buw = ifelse(!is.na(PL_BUW), 1, 0)) %>% \n",
    "  mutate(ee_ester = ifelse(!is.na(EE_ester), 1, 0)) %>% \n",
    "  mutate(fi_sl = ifelse(!is.na(FI_NL), 1, 0)) %>% \n",
    "  mutate(spbgu = ifelse(!is.na(SPbGU), 1, 0)) %>% \n",
    "  select(-c(RNL:Rosanov)) \n",
    "\n",
    "\n",
    "glimpse(dat)"
   ]
  },
  {
   "cell_type": "code",
   "execution_count": 15,
   "id": "87dc7c1e",
   "metadata": {
    "scrolled": false
   },
   "outputs": [
    {
     "data": {
      "text/html": [
       "<table class=\"dataframe\">\n",
       "<caption>A tibble: 3 × 11</caption>\n",
       "<thead>\n",
       "\t<tr><th scope=col>nlr</th><th scope=col>rsl</th><th scope=col>rozanov</th><th scope=col>us_harvard</th><th scope=col>cz_slk</th><th scope=col>lt_vul</th><th scope=col>pl_bn</th><th scope=col>pl_buw</th><th scope=col>ee_ester</th><th scope=col>fi_sl</th><th scope=col>spbgu</th></tr>\n",
       "\t<tr><th scope=col>&lt;dbl&gt;</th><th scope=col>&lt;dbl&gt;</th><th scope=col>&lt;dbl&gt;</th><th scope=col>&lt;dbl&gt;</th><th scope=col>&lt;dbl&gt;</th><th scope=col>&lt;dbl&gt;</th><th scope=col>&lt;dbl&gt;</th><th scope=col>&lt;dbl&gt;</th><th scope=col>&lt;dbl&gt;</th><th scope=col>&lt;dbl&gt;</th><th scope=col>&lt;dbl&gt;</th></tr>\n",
       "</thead>\n",
       "<tbody>\n",
       "\t<tr><td>  924</td><td>  529</td><td> 230</td><td> 167</td><td> 185</td><td>  22</td><td>  19</td><td> 18</td><td>  58</td><td> 217</td><td>93</td></tr>\n",
       "\t<tr><td>58000</td><td>28000</td><td>1914</td><td>1887</td><td>4222</td><td>4423</td><td>1450</td><td>827</td><td>3212</td><td>3593</td><td>96</td></tr>\n",
       "\t<tr><td>  196</td><td>  122</td><td>  58</td><td>  48</td><td>  49</td><td>   4</td><td>   7</td><td>  4</td><td>   8</td><td>  41</td><td>38</td></tr>\n",
       "</tbody>\n",
       "</table>\n"
      ],
      "text/latex": [
       "A tibble: 3 × 11\n",
       "\\begin{tabular}{lllllllllll}\n",
       " nlr & rsl & rozanov & us\\_harvard & cz\\_slk & lt\\_vul & pl\\_bn & pl\\_buw & ee\\_ester & fi\\_sl & spbgu\\\\\n",
       " <dbl> & <dbl> & <dbl> & <dbl> & <dbl> & <dbl> & <dbl> & <dbl> & <dbl> & <dbl> & <dbl>\\\\\n",
       "\\hline\n",
       "\t   924 &   529 &  230 &  167 &  185 &   22 &   19 &  18 &   58 &  217 & 93\\\\\n",
       "\t 58000 & 28000 & 1914 & 1887 & 4222 & 4423 & 1450 & 827 & 3212 & 3593 & 96\\\\\n",
       "\t   196 &   122 &   58 &   48 &   49 &    4 &    7 &   4 &    8 &   41 & 38\\\\\n",
       "\\end{tabular}\n"
      ],
      "text/markdown": [
       "\n",
       "A tibble: 3 × 11\n",
       "\n",
       "| nlr &lt;dbl&gt; | rsl &lt;dbl&gt; | rozanov &lt;dbl&gt; | us_harvard &lt;dbl&gt; | cz_slk &lt;dbl&gt; | lt_vul &lt;dbl&gt; | pl_bn &lt;dbl&gt; | pl_buw &lt;dbl&gt; | ee_ester &lt;dbl&gt; | fi_sl &lt;dbl&gt; | spbgu &lt;dbl&gt; |\n",
       "|---|---|---|---|---|---|---|---|---|---|---|\n",
       "|   924 |   529 |  230 |  167 |  185 |   22 |   19 |  18 |   58 |  217 | 93 |\n",
       "| 58000 | 28000 | 1914 | 1887 | 4222 | 4423 | 1450 | 827 | 3212 | 3593 | 96 |\n",
       "|   196 |   122 |   58 |   48 |   49 |    4 |    7 |   4 |    8 |   41 | 38 |\n",
       "\n"
      ],
      "text/plain": [
       "  nlr   rsl   rozanov us_harvard cz_slk lt_vul pl_bn pl_buw ee_ester fi_sl\n",
       "1   924   529  230     167        185     22     19   18      58      217 \n",
       "2 58000 28000 1914    1887       4222   4423   1450  827    3212     3593 \n",
       "3   196   122   58      48         49      4      7    4       8       41 \n",
       "  spbgu\n",
       "1 93   \n",
       "2 96   \n",
       "3 38   "
      ]
     },
     "metadata": {},
     "output_type": "display_data"
    },
    {
     "data": {
      "text/html": [
       "<table class=\"dataframe\">\n",
       "<caption>A tibble: 11 × 5</caption>\n",
       "<thead>\n",
       "\t<tr><th scope=col>x</th><th scope=col>name</th><th scope=col>value</th><th scope=col>sum</th><th scope=col>perc</th></tr>\n",
       "\t<tr><th scope=col>&lt;chr&gt;</th><th scope=col>&lt;chr&gt;</th><th scope=col>&lt;dbl&gt;</th><th scope=col>&lt;list&gt;</th><th scope=col>&lt;dbl&gt;</th></tr>\n",
       "</thead>\n",
       "<tbody>\n",
       "\t<tr><td>all</td><td>nlr       </td><td>924</td><td>58000</td><td> 1.6</td></tr>\n",
       "\t<tr><td>all</td><td>rsl       </td><td>529</td><td>28000</td><td> 1.9</td></tr>\n",
       "\t<tr><td>all</td><td>rozanov   </td><td>230</td><td>1914</td><td>12.0</td></tr>\n",
       "\t<tr><td>all</td><td>us_harvard</td><td>167</td><td>1887</td><td> 8.9</td></tr>\n",
       "\t<tr><td>all</td><td>cz_slk    </td><td>185</td><td>4222</td><td> 4.4</td></tr>\n",
       "\t<tr><td>all</td><td>lt_vul    </td><td> 22</td><td>4423</td><td> 0.5</td></tr>\n",
       "\t<tr><td>all</td><td>pl_bn     </td><td> 19</td><td>1450</td><td> 1.3</td></tr>\n",
       "\t<tr><td>all</td><td>pl_buw    </td><td> 18</td><td>827</td><td> 2.2</td></tr>\n",
       "\t<tr><td>all</td><td>ee_ester  </td><td> 58</td><td>3212</td><td> 1.8</td></tr>\n",
       "\t<tr><td>all</td><td>fi_sl     </td><td>217</td><td>3593</td><td> 6.0</td></tr>\n",
       "\t<tr><td>all</td><td>spbgu     </td><td> 93</td><td>96</td><td>96.9</td></tr>\n",
       "</tbody>\n",
       "</table>\n"
      ],
      "text/latex": [
       "A tibble: 11 × 5\n",
       "\\begin{tabular}{lllll}\n",
       " x & name & value & sum & perc\\\\\n",
       " <chr> & <chr> & <dbl> & <list> & <dbl>\\\\\n",
       "\\hline\n",
       "\t all & nlr        & 924 & 58000 &  1.6\\\\\n",
       "\t all & rsl        & 529 & 28000 &  1.9\\\\\n",
       "\t all & rozanov    & 230 & 1914 & 12.0\\\\\n",
       "\t all & us\\_harvard & 167 & 1887 &  8.9\\\\\n",
       "\t all & cz\\_slk     & 185 & 4222 &  4.4\\\\\n",
       "\t all & lt\\_vul     &  22 & 4423 &  0.5\\\\\n",
       "\t all & pl\\_bn      &  19 & 1450 &  1.3\\\\\n",
       "\t all & pl\\_buw     &  18 & 827 &  2.2\\\\\n",
       "\t all & ee\\_ester   &  58 & 3212 &  1.8\\\\\n",
       "\t all & fi\\_sl      & 217 & 3593 &  6.0\\\\\n",
       "\t all & spbgu      &  93 & 96 & 96.9\\\\\n",
       "\\end{tabular}\n"
      ],
      "text/markdown": [
       "\n",
       "A tibble: 11 × 5\n",
       "\n",
       "| x &lt;chr&gt; | name &lt;chr&gt; | value &lt;dbl&gt; | sum &lt;list&gt; | perc &lt;dbl&gt; |\n",
       "|---|---|---|---|---|\n",
       "| all | nlr        | 924 | 58000 |  1.6 |\n",
       "| all | rsl        | 529 | 28000 |  1.9 |\n",
       "| all | rozanov    | 230 | 1914 | 12.0 |\n",
       "| all | us_harvard | 167 | 1887 |  8.9 |\n",
       "| all | cz_slk     | 185 | 4222 |  4.4 |\n",
       "| all | lt_vul     |  22 | 4423 |  0.5 |\n",
       "| all | pl_bn      |  19 | 1450 |  1.3 |\n",
       "| all | pl_buw     |  18 | 827 |  2.2 |\n",
       "| all | ee_ester   |  58 | 3212 |  1.8 |\n",
       "| all | fi_sl      | 217 | 3593 |  6.0 |\n",
       "| all | spbgu      |  93 | 96 | 96.9 |\n",
       "\n"
      ],
      "text/plain": [
       "   x   name       value sum   perc\n",
       "1  all nlr        924   58000  1.6\n",
       "2  all rsl        529   28000  1.9\n",
       "3  all rozanov    230   1914  12.0\n",
       "4  all us_harvard 167   1887   8.9\n",
       "5  all cz_slk     185   4222   4.4\n",
       "6  all lt_vul      22   4423   0.5\n",
       "7  all pl_bn       19   1450   1.3\n",
       "8  all pl_buw      18   827    2.2\n",
       "9  all ee_ester    58   3212   1.8\n",
       "10 all fi_sl      217   3593   6.0\n",
       "11 all spbgu       93   96    96.9"
      ]
     },
     "metadata": {},
     "output_type": "display_data"
    }
   ],
   "source": [
    "# select columns\n",
    "biblio_wide <- dat %>% \n",
    "  select(id, group, author_sign, author_full_name, title, \n",
    "         city, publisher, year, pages, size_cm, \n",
    "         nlr, rsl, rozanov, us_harvard, cz_slk, lt_vul, pl_bn, pl_buw, ee_ester, fi_sl, spbgu)\n",
    "\n",
    "# add available data on collection size in Russian (books issued in 1830-1850)\n",
    "counts <- biblio_wide %>% \n",
    "  summarise_at(vars(nlr:spbgu), sum)\n",
    "\n",
    "counts_1835 <- biblio_wide %>% \n",
    "    filter(year > 1835 & year < 1841) %>% \n",
    "    summarise_at(vars(nlr:spbgu), sum)\n",
    "\n",
    "total <- list(58000, 28000, 1914, 1887, 4222, 4423, 1450, 827, 3212, 3593, 96)\n",
    "counts <- rbind(counts, total, counts_1835)\n",
    "\n",
    "# total number of poetry books VS collection size (not applicable to rozanov & spbgu)\n",
    "counts\n",
    "\n",
    "counts_t <- cbind(x = c(\"all\", \"total\", \"five\"), counts)\n",
    "counts_t %>% \n",
    "    pivot_longer(!x) %>% \n",
    "    filter(x == \"all\") %>%\n",
    "    mutate(sum = total,\n",
    "           perc = round( (as.numeric(value)/as.numeric(sum))*100, 1 ))"
   ]
  },
  {
   "cell_type": "code",
   "execution_count": 16,
   "id": "5798fb18",
   "metadata": {
    "scrolled": false
   },
   "outputs": [
    {
     "data": {
      "text/plain": [
       "\n",
       "almanac col_lyr col_nar sep_lyr sep_nar \n",
       "    101     313      27     269     257 "
      ]
     },
     "metadata": {},
     "output_type": "display_data"
    }
   ],
   "source": [
    "# count total number of occurances for each book\n",
    "biblio_wide <- biblio_wide %>% \n",
    "  rowwise() %>% mutate(n_total = sum(c_across(11:21)))\n",
    "\n",
    "#glimpse(biblio_wide)\n",
    "\n",
    "#biblio_wide %>% \n",
    "#  filter(n_total == 0) %>% \n",
    "#  nrow # at least 20 books mentioned in Smirdin's col. are completely lost\n",
    "\n",
    "# final ver of data with books found at least in one collection\n",
    "# 967 books\n",
    "biblio_wide <- biblio_wide %>% \n",
    "  filter(!n_total == 0)\n",
    "\n",
    "table(biblio_wide$group)\n",
    "\n",
    "# write.csv(biblio_wide, file = \"../../data/ch1/01_3_poetry_books_experiment_wide.csv\")"
   ]
  },
  {
   "cell_type": "code",
   "execution_count": 17,
   "id": "d14934b3",
   "metadata": {},
   "outputs": [
    {
     "name": "stdout",
     "output_type": "stream",
     "text": [
      "Rows: 967\n",
      "Columns: 22\n",
      "Rowwise: \n",
      "$ id               \u001b[3m\u001b[90m<int>\u001b[39m\u001b[23m 1, 2, 3, 4, 5, 6, 7, 8, 9, 10, 11, 12, 13, 14, 15, 16…\n",
      "$ group            \u001b[3m\u001b[90m<chr>\u001b[39m\u001b[23m \"sep_nar\", \"col_lyr\", \"sep_nar\", \"col_lyr\", \"sep_nar\"…\n",
      "$ author_sign      \u001b[3m\u001b[90m<chr>\u001b[39m\u001b[23m \"Артемьев П.\", \"Батюшков К.\", \"Александр Б.\", \"Борозд…\n",
      "$ author_full_name \u001b[3m\u001b[90m<chr>\u001b[39m\u001b[23m \"Артемьев Павел Алексеевич\", \"Батюшков Константин Ник…\n",
      "$ title            \u001b[3m\u001b[90m<chr>\u001b[39m\u001b[23m \"Страдалец: Повесть в стихах, взятая с истинного расс…\n",
      "$ city             \u001b[3m\u001b[90m<chr>\u001b[39m\u001b[23m \"М.\", \"СПб.\", \"СПб.\", \"М.\", \"СПб.\", \"М.\", \"СПб.\", \"СП…\n",
      "$ publisher        \u001b[3m\u001b[90m<chr>\u001b[39m\u001b[23m \"Селивановского\", \"И. Глазунова\", \"Крайя\", \"Семена\", …\n",
      "$ year             \u001b[3m\u001b[90m<chr>\u001b[39m\u001b[23m \"1834\", \"1834\", \"1834\", \"1834\", \"1834\", \"1834\", \"1834…\n",
      "$ pages            \u001b[3m\u001b[90m<chr>\u001b[39m\u001b[23m \"30\", \"270\", \"22\", \"79\", \"122\", \"35\", \"159\", \"128\", \"…\n",
      "$ size_cm          \u001b[3m\u001b[90m<chr>\u001b[39m\u001b[23m \"20\", \"22\", \"24\", \"22\", \"19\", \"24\", \"23\", \"18\", \"17\",…\n",
      "$ nlr              \u001b[3m\u001b[90m<dbl>\u001b[39m\u001b[23m 1, 1, 1, 1, 1, 1, 1, 1, 1, 1, 1, 1, 1, 1, 1, 1, 1, 1,…\n",
      "$ rsl              \u001b[3m\u001b[90m<dbl>\u001b[39m\u001b[23m 1, 1, 0, 1, 1, 1, 1, 1, 0, 1, 1, 0, 0, 1, 1, 0, 1, 1,…\n",
      "$ rozanov          \u001b[3m\u001b[90m<dbl>\u001b[39m\u001b[23m 1, 1, 1, 1, 1, 1, 1, 1, 0, 1, 1, 1, 1, 1, 1, 1, 1, 1,…\n",
      "$ us_harvard       \u001b[3m\u001b[90m<dbl>\u001b[39m\u001b[23m 0, 1, 1, 0, 1, 0, 0, 0, 0, 1, 0, 0, 0, 0, 0, 0, 0, 1,…\n",
      "$ cz_slk           \u001b[3m\u001b[90m<dbl>\u001b[39m\u001b[23m 0, 1, 1, 0, 0, 1, 0, 0, 0, 0, 1, 0, 0, 0, 0, 0, 0, 1,…\n",
      "$ lt_vul           \u001b[3m\u001b[90m<dbl>\u001b[39m\u001b[23m 0, 0, 0, 0, 0, 0, 0, 0, 0, 0, 0, 0, 0, 0, 0, 0, 0, 0,…\n",
      "$ pl_bn            \u001b[3m\u001b[90m<dbl>\u001b[39m\u001b[23m 0, 1, 0, 0, 0, 0, 0, 0, 0, 0, 0, 0, 0, 0, 0, 0, 0, 0,…\n",
      "$ pl_buw           \u001b[3m\u001b[90m<dbl>\u001b[39m\u001b[23m 0, 1, 0, 0, 0, 0, 0, 0, 0, 0, 0, 0, 0, 0, 0, 0, 0, 0,…\n",
      "$ ee_ester         \u001b[3m\u001b[90m<dbl>\u001b[39m\u001b[23m 0, 1, 0, 0, 1, 0, 0, 0, 0, 0, 0, 0, 0, 0, 0, 0, 0, 0,…\n",
      "$ fi_sl            \u001b[3m\u001b[90m<dbl>\u001b[39m\u001b[23m 0, 1, 0, 1, 0, 0, 1, 0, 0, 0, 0, 1, 0, 0, 0, 0, 0, 1,…\n",
      "$ spbgu            \u001b[3m\u001b[90m<dbl>\u001b[39m\u001b[23m 0, 0, 0, 0, 0, 0, 0, 0, 0, 0, 1, 0, 0, 0, 0, 0, 0, 0,…\n",
      "$ n_total          \u001b[3m\u001b[90m<dbl>\u001b[39m\u001b[23m 3, 9, 4, 4, 5, 4, 4, 3, 1, 4, 5, 3, 2, 3, 3, 2, 3, 6,…\n"
     ]
    }
   ],
   "source": [
    "glimpse(biblio_wide)"
   ]
  },
  {
   "cell_type": "markdown",
   "id": "df197a98",
   "metadata": {},
   "source": [
    "#### Write data for experiment"
   ]
  },
  {
   "cell_type": "code",
   "execution_count": 18,
   "id": "8f455a2b",
   "metadata": {
    "scrolled": false
   },
   "outputs": [
    {
     "data": {
      "text/html": [
       "<table class=\"dataframe\">\n",
       "<caption>A tibble: 6 × 3</caption>\n",
       "<thead>\n",
       "\t<tr><th scope=col>group</th><th scope=col>work</th><th scope=col>collection</th></tr>\n",
       "\t<tr><th scope=col>&lt;chr&gt;</th><th scope=col>&lt;chr&gt;</th><th scope=col>&lt;chr&gt;</th></tr>\n",
       "</thead>\n",
       "<tbody>\n",
       "\t<tr><td>sep_nar</td><td>1834_1_Артемьев П._Страдалец: Повесть в стихах, взятая с истинного рассказа родственников страдальца</td><td>nlr    </td></tr>\n",
       "\t<tr><td>sep_nar</td><td>1834_1_Артемьев П._Страдалец: Повесть в стихах, взятая с истинного рассказа родственников страдальца</td><td>rsl    </td></tr>\n",
       "\t<tr><td>sep_nar</td><td>1834_1_Артемьев П._Страдалец: Повесть в стихах, взятая с истинного рассказа родственников страдальца</td><td>rozanov</td></tr>\n",
       "\t<tr><td>col_lyr</td><td>1834_2_Батюшков К._Сочинения в прозе и стихах Константина Батюшкова. Ч. 2. Стихотворения            </td><td>nlr    </td></tr>\n",
       "\t<tr><td>col_lyr</td><td>1834_2_Батюшков К._Сочинения в прозе и стихах Константина Батюшкова. Ч. 2. Стихотворения            </td><td>rsl    </td></tr>\n",
       "\t<tr><td>col_lyr</td><td>1834_2_Батюшков К._Сочинения в прозе и стихах Константина Батюшкова. Ч. 2. Стихотворения            </td><td>rozanov</td></tr>\n",
       "</tbody>\n",
       "</table>\n"
      ],
      "text/latex": [
       "A tibble: 6 × 3\n",
       "\\begin{tabular}{lll}\n",
       " group & work & collection\\\\\n",
       " <chr> & <chr> & <chr>\\\\\n",
       "\\hline\n",
       "\t sep\\_nar & 1834\\_1\\_Артемьев П.\\_Страдалец: Повесть в стихах, взятая с истинного рассказа родственников страдальца & nlr    \\\\\n",
       "\t sep\\_nar & 1834\\_1\\_Артемьев П.\\_Страдалец: Повесть в стихах, взятая с истинного рассказа родственников страдальца & rsl    \\\\\n",
       "\t sep\\_nar & 1834\\_1\\_Артемьев П.\\_Страдалец: Повесть в стихах, взятая с истинного рассказа родственников страдальца & rozanov\\\\\n",
       "\t col\\_lyr & 1834\\_2\\_Батюшков К.\\_Сочинения в прозе и стихах Константина Батюшкова. Ч. 2. Стихотворения             & nlr    \\\\\n",
       "\t col\\_lyr & 1834\\_2\\_Батюшков К.\\_Сочинения в прозе и стихах Константина Батюшкова. Ч. 2. Стихотворения             & rsl    \\\\\n",
       "\t col\\_lyr & 1834\\_2\\_Батюшков К.\\_Сочинения в прозе и стихах Константина Батюшкова. Ч. 2. Стихотворения             & rozanov\\\\\n",
       "\\end{tabular}\n"
      ],
      "text/markdown": [
       "\n",
       "A tibble: 6 × 3\n",
       "\n",
       "| group &lt;chr&gt; | work &lt;chr&gt; | collection &lt;chr&gt; |\n",
       "|---|---|---|\n",
       "| sep_nar | 1834_1_Артемьев П._Страдалец: Повесть в стихах, взятая с истинного рассказа родственников страдальца | nlr     |\n",
       "| sep_nar | 1834_1_Артемьев П._Страдалец: Повесть в стихах, взятая с истинного рассказа родственников страдальца | rsl     |\n",
       "| sep_nar | 1834_1_Артемьев П._Страдалец: Повесть в стихах, взятая с истинного рассказа родственников страдальца | rozanov |\n",
       "| col_lyr | 1834_2_Батюшков К._Сочинения в прозе и стихах Константина Батюшкова. Ч. 2. Стихотворения             | nlr     |\n",
       "| col_lyr | 1834_2_Батюшков К._Сочинения в прозе и стихах Константина Батюшкова. Ч. 2. Стихотворения             | rsl     |\n",
       "| col_lyr | 1834_2_Батюшков К._Сочинения в прозе и стихах Константина Батюшкова. Ч. 2. Стихотворения             | rozanov |\n",
       "\n"
      ],
      "text/plain": [
       "  group  \n",
       "1 sep_nar\n",
       "2 sep_nar\n",
       "3 sep_nar\n",
       "4 col_lyr\n",
       "5 col_lyr\n",
       "6 col_lyr\n",
       "  work                                                                                                \n",
       "1 1834_1_Артемьев П._Страдалец: Повесть в стихах, взятая с истинного рассказа родственников страдальца\n",
       "2 1834_1_Артемьев П._Страдалец: Повесть в стихах, взятая с истинного рассказа родственников страдальца\n",
       "3 1834_1_Артемьев П._Страдалец: Повесть в стихах, взятая с истинного рассказа родственников страдальца\n",
       "4 1834_2_Батюшков К._Сочинения в прозе и стихах Константина Батюшкова. Ч. 2. Стихотворения            \n",
       "5 1834_2_Батюшков К._Сочинения в прозе и стихах Константина Батюшкова. Ч. 2. Стихотворения            \n",
       "6 1834_2_Батюшков К._Сочинения в прозе и стихах Константина Батюшкова. Ч. 2. Стихотворения            \n",
       "  collection\n",
       "1 nlr       \n",
       "2 rsl       \n",
       "3 rozanov   \n",
       "4 nlr       \n",
       "5 rsl       \n",
       "6 rozanov   "
      ]
     },
     "metadata": {},
     "output_type": "display_data"
    }
   ],
   "source": [
    "# create ids w/ groups\n",
    "to_exp <- biblio_wide %>% \n",
    "  mutate(work = paste0(group, \"__\", year, \"_\", id, \"_\", author_sign, \"_\", title)) %>% \n",
    "  select(work,\n",
    "         nlr:spbgu)\n",
    "\n",
    "# pivot data to long format\n",
    "to_exp_long <- to_exp %>% \n",
    "  pivot_longer(!work, names_to = \"collection\", values_to = \"count\") %>% \n",
    "  # leave only existing copies\n",
    "  filter(count != 0) %>% \n",
    "  # detach groups to separate column\n",
    "  separate(work, into = c(\"group\", \"work\"), sep = \"__\") %>% \n",
    "  select(group, work, collection)\n",
    "\n",
    "head(to_exp_long)"
   ]
  },
  {
   "cell_type": "code",
   "execution_count": 19,
   "id": "a4f0e148",
   "metadata": {},
   "outputs": [],
   "source": [
    "# short df for 1835-1840 only\n",
    "\n",
    "# create ids w/ groups\n",
    "to_exp_35 <- biblio_wide %>% \n",
    "  filter(year > 1834 & year < 1841) %>%\n",
    "  mutate(work = paste0(group, \"__\", year, \"_\", id, \"_\", author_sign, \"_\", title)) %>% \n",
    "  select(work,\n",
    "         nlr:spbgu)\n",
    "\n",
    "# pivot data to long format\n",
    "to_exp_35 <- to_exp_35 %>% \n",
    "  pivot_longer(!work, names_to = \"collection\", values_to = \"count\") %>% \n",
    "  # leave only existing copies\n",
    "  filter(count != 0) %>% \n",
    "  # detach groups to separate column\n",
    "  separate(work, into = c(\"group\", \"work\"), sep = \"__\") %>% \n",
    "  select(group, work, collection)"
   ]
  },
  {
   "cell_type": "markdown",
   "id": "024dc052",
   "metadata": {},
   "source": [
    "#### Main experiment data tables"
   ]
  },
  {
   "cell_type": "code",
   "execution_count": 20,
   "id": "76e478e6",
   "metadata": {},
   "outputs": [
    {
     "data": {
      "text/html": [
       "<style>\n",
       ".list-inline {list-style: none; margin:0; padding: 0}\n",
       ".list-inline>li {display: inline-block}\n",
       ".list-inline>li:not(:last-child)::after {content: \"\\00b7\"; padding: 0 .5ex}\n",
       "</style>\n",
       "<ol class=list-inline><li>'sep_nar'</li><li>'col_lyr'</li><li>'sep_lyr'</li><li>'almanac'</li><li>'col_nar'</li></ol>\n"
      ],
      "text/latex": [
       "\\begin{enumerate*}\n",
       "\\item 'sep\\_nar'\n",
       "\\item 'col\\_lyr'\n",
       "\\item 'sep\\_lyr'\n",
       "\\item 'almanac'\n",
       "\\item 'col\\_nar'\n",
       "\\end{enumerate*}\n"
      ],
      "text/markdown": [
       "1. 'sep_nar'\n",
       "2. 'col_lyr'\n",
       "3. 'sep_lyr'\n",
       "4. 'almanac'\n",
       "5. 'col_nar'\n",
       "\n",
       "\n"
      ],
      "text/plain": [
       "[1] \"sep_nar\" \"col_lyr\" \"sep_lyr\" \"almanac\" \"col_nar\""
      ]
     },
     "metadata": {},
     "output_type": "display_data"
    }
   ],
   "source": [
    "unique(to_exp_long$group)"
   ]
  },
  {
   "cell_type": "code",
   "execution_count": 47,
   "id": "5373f6ad",
   "metadata": {},
   "outputs": [],
   "source": [
    "# write full data for 1830-1850\n",
    "\n",
    "x <- NULL\n",
    "df <- NULL\n",
    "\n",
    "for (i in 1:length(unique(to_exp_long$group))) {\n",
    "    \n",
    "    x <- unique(to_exp_long$group)[i]\n",
    "    \n",
    "    filename <- paste0(\"../../data/ch1/01_copia_experiment/1830_1850/\", x, \".csv\")\n",
    "    \n",
    "    df <- to_exp_long %>% \n",
    "        filter(group == x) %>% \n",
    "        select(work, collection)\n",
    "    \n",
    "    write.csv(df, file = filename)\n",
    "}"
   ]
  },
  {
   "cell_type": "code",
   "execution_count": 49,
   "id": "9f8014f2",
   "metadata": {},
   "outputs": [],
   "source": [
    "# write data for 1835-1840\n",
    "\n",
    "x <- NULL\n",
    "df <- NULL\n",
    "\n",
    "for (i in 1:length(unique(to_exp_35$group))) {\n",
    "    \n",
    "    x <- unique(to_exp_35$group)[i]\n",
    "    \n",
    "    filename <- paste0(\"../../data/01_copia_experiment/1835_1840/\", x, \".csv\")\n",
    "    \n",
    "    df <- to_exp_35 %>% \n",
    "        filter(group == x) %>% \n",
    "        select(work, collection)\n",
    "    \n",
    "    write.csv(df, file = filename)\n",
    "}"
   ]
  },
  {
   "cell_type": "markdown",
   "id": "e8d92983",
   "metadata": {},
   "source": [
    "#### data view demonstration"
   ]
  },
  {
   "cell_type": "code",
   "execution_count": 21,
   "id": "ce5d8866",
   "metadata": {
    "scrolled": false
   },
   "outputs": [
    {
     "data": {
      "text/html": [
       "<table class=\"dataframe\">\n",
       "<caption>A grouped_df: 20 × 2</caption>\n",
       "<thead>\n",
       "\t<tr><th scope=col>work</th><th scope=col>n</th></tr>\n",
       "\t<tr><th scope=col>&lt;chr&gt;</th><th scope=col>&lt;int&gt;</th></tr>\n",
       "</thead>\n",
       "<tbody>\n",
       "\t<tr><td>1834_2_Батюшков К._Сочинения в прозе и стихах Константина Батюшкова. Ч. 2. Стихотворения                                                            </td><td>9</td></tr>\n",
       "\t<tr><td>1835_73_Баратынский Е._Сочинения Е. Баратынского: В 2 ч.                                                                                            </td><td>9</td></tr>\n",
       "\t<tr><td>1830_1073_Крылов И._Басни Ивана Крылова: В 8 книгах                                                                                                 </td><td>8</td></tr>\n",
       "\t<tr><td>1832_1047_Катенин П., Голицын Н._Сочинения и переводы в стихах Павла Катенина, с приобщение нескольких стихотворения князя Николая Голицына : Ч. 1-2</td><td>8</td></tr>\n",
       "\t<tr><td>1832_784_Давыдов Д.В._Стихотворения Дениса Давыдова                                                                                                 </td><td>8</td></tr>\n",
       "\t<tr><td>1833_1046_Козлов И._Собрание стихотворений Ивана Козлова : Ч. 1-2                                                                                   </td><td>8</td></tr>\n",
       "\t<tr><td>1833_780_Кульман Е.Б._Пиитические опыты Елисаветы Кульман: В 3 ч.                                                                                   </td><td>8</td></tr>\n",
       "\t<tr><td>1831_797_Маркевич Н._Украинские мелодии. Соч. Ник. Маркевича                                                                                        </td><td>7</td></tr>\n",
       "\t<tr><td>1831_923_Масальский К._Сочинения, переводы и подражания в стихах Константина Масальского                                                            </td><td>7</td></tr>\n",
       "\t<tr><td>1832_790_Полежаев А._Стихотворения Александра Полежаева                                                                                             </td><td>7</td></tr>\n",
       "\t<tr><td>1834_53_Крылов И._Басни Ивана Крылова / [С илл. А.П. Сапожникова]. Ч. 1-2                                                                           </td><td>7</td></tr>\n",
       "\t<tr><td>1835_75_Деларю М._Опыты в стихах Михаила Деларю                                                                                                     </td><td>7</td></tr>\n",
       "\t<tr><td>1836_124_Мейснер А._Стихотворения Алексея Мейснера                                                                                                  </td><td>7</td></tr>\n",
       "\t<tr><td>1837_156_Бороздна И.П._Поэтические очерки Украины, Одессы и Крыма: Письма в стихах к гр. В.П. З[авадскому], Ивана Бороздны                          </td><td>7</td></tr>\n",
       "\t<tr><td>1837_159_Быстроглазов А._Стихотворения А. Быстроглазова. В 2 ч. Ч. 2                                                                                </td><td>7</td></tr>\n",
       "\t<tr><td>1837_166_Подолинский А._Повести и мелкие стихотворения А. Подолинского. Ч. 2. Мелкие стихотворения                                                  </td><td>7</td></tr>\n",
       "\t<tr><td>1837_170_Смирнова А._Собрание различных стихотворений. Соч. Анны Смирновой. Изд. 1-е                                                                </td><td>7</td></tr>\n",
       "\t<tr><td>1838_216_Полежаев А.И._Арфа: Стихотворения Александра Полежаева                                                                                     </td><td>7</td></tr>\n",
       "\t<tr><td>1830_919_Алипанов Е._Стихотворения крестьянина Егора Алипанова                                                                                      </td><td>6</td></tr>\n",
       "\t<tr><td>1830_978_Мерзляков А._Песни и романсы                                                                                                               </td><td>6</td></tr>\n",
       "</tbody>\n",
       "</table>\n"
      ],
      "text/latex": [
       "A grouped\\_df: 20 × 2\n",
       "\\begin{tabular}{ll}\n",
       " work & n\\\\\n",
       " <chr> & <int>\\\\\n",
       "\\hline\n",
       "\t 1834\\_2\\_Батюшков К.\\_Сочинения в прозе и стихах Константина Батюшкова. Ч. 2. Стихотворения                                                             & 9\\\\\n",
       "\t 1835\\_73\\_Баратынский Е.\\_Сочинения Е. Баратынского: В 2 ч.                                                                                             & 9\\\\\n",
       "\t 1830\\_1073\\_Крылов И.\\_Басни Ивана Крылова: В 8 книгах                                                                                                  & 8\\\\\n",
       "\t 1832\\_1047\\_Катенин П., Голицын Н.\\_Сочинения и переводы в стихах Павла Катенина, с приобщение нескольких стихотворения князя Николая Голицына : Ч. 1-2 & 8\\\\\n",
       "\t 1832\\_784\\_Давыдов Д.В.\\_Стихотворения Дениса Давыдова                                                                                                  & 8\\\\\n",
       "\t 1833\\_1046\\_Козлов И.\\_Собрание стихотворений Ивана Козлова : Ч. 1-2                                                                                    & 8\\\\\n",
       "\t 1833\\_780\\_Кульман Е.Б.\\_Пиитические опыты Елисаветы Кульман: В 3 ч.                                                                                    & 8\\\\\n",
       "\t 1831\\_797\\_Маркевич Н.\\_Украинские мелодии. Соч. Ник. Маркевича                                                                                         & 7\\\\\n",
       "\t 1831\\_923\\_Масальский К.\\_Сочинения, переводы и подражания в стихах Константина Масальского                                                             & 7\\\\\n",
       "\t 1832\\_790\\_Полежаев А.\\_Стихотворения Александра Полежаева                                                                                              & 7\\\\\n",
       "\t 1834\\_53\\_Крылов И.\\_Басни Ивана Крылова / {[}С илл. А.П. Сапожникова{]}. Ч. 1-2                                                                            & 7\\\\\n",
       "\t 1835\\_75\\_Деларю М.\\_Опыты в стихах Михаила Деларю                                                                                                      & 7\\\\\n",
       "\t 1836\\_124\\_Мейснер А.\\_Стихотворения Алексея Мейснера                                                                                                   & 7\\\\\n",
       "\t 1837\\_156\\_Бороздна И.П.\\_Поэтические очерки Украины, Одессы и Крыма: Письма в стихах к гр. В.П. З{[}авадскому{]}, Ивана Бороздны                           & 7\\\\\n",
       "\t 1837\\_159\\_Быстроглазов А.\\_Стихотворения А. Быстроглазова. В 2 ч. Ч. 2                                                                                 & 7\\\\\n",
       "\t 1837\\_166\\_Подолинский А.\\_Повести и мелкие стихотворения А. Подолинского. Ч. 2. Мелкие стихотворения                                                   & 7\\\\\n",
       "\t 1837\\_170\\_Смирнова А.\\_Собрание различных стихотворений. Соч. Анны Смирновой. Изд. 1-е                                                                 & 7\\\\\n",
       "\t 1838\\_216\\_Полежаев А.И.\\_Арфа: Стихотворения Александра Полежаева                                                                                      & 7\\\\\n",
       "\t 1830\\_919\\_Алипанов Е.\\_Стихотворения крестьянина Егора Алипанова                                                                                       & 6\\\\\n",
       "\t 1830\\_978\\_Мерзляков А.\\_Песни и романсы                                                                                                                & 6\\\\\n",
       "\\end{tabular}\n"
      ],
      "text/markdown": [
       "\n",
       "A grouped_df: 20 × 2\n",
       "\n",
       "| work &lt;chr&gt; | n &lt;int&gt; |\n",
       "|---|---|\n",
       "| 1834_2_Батюшков К._Сочинения в прозе и стихах Константина Батюшкова. Ч. 2. Стихотворения                                                             | 9 |\n",
       "| 1835_73_Баратынский Е._Сочинения Е. Баратынского: В 2 ч.                                                                                             | 9 |\n",
       "| 1830_1073_Крылов И._Басни Ивана Крылова: В 8 книгах                                                                                                  | 8 |\n",
       "| 1832_1047_Катенин П., Голицын Н._Сочинения и переводы в стихах Павла Катенина, с приобщение нескольких стихотворения князя Николая Голицына : Ч. 1-2 | 8 |\n",
       "| 1832_784_Давыдов Д.В._Стихотворения Дениса Давыдова                                                                                                  | 8 |\n",
       "| 1833_1046_Козлов И._Собрание стихотворений Ивана Козлова : Ч. 1-2                                                                                    | 8 |\n",
       "| 1833_780_Кульман Е.Б._Пиитические опыты Елисаветы Кульман: В 3 ч.                                                                                    | 8 |\n",
       "| 1831_797_Маркевич Н._Украинские мелодии. Соч. Ник. Маркевича                                                                                         | 7 |\n",
       "| 1831_923_Масальский К._Сочинения, переводы и подражания в стихах Константина Масальского                                                             | 7 |\n",
       "| 1832_790_Полежаев А._Стихотворения Александра Полежаева                                                                                              | 7 |\n",
       "| 1834_53_Крылов И._Басни Ивана Крылова / [С илл. А.П. Сапожникова]. Ч. 1-2                                                                            | 7 |\n",
       "| 1835_75_Деларю М._Опыты в стихах Михаила Деларю                                                                                                      | 7 |\n",
       "| 1836_124_Мейснер А._Стихотворения Алексея Мейснера                                                                                                   | 7 |\n",
       "| 1837_156_Бороздна И.П._Поэтические очерки Украины, Одессы и Крыма: Письма в стихах к гр. В.П. З[авадскому], Ивана Бороздны                           | 7 |\n",
       "| 1837_159_Быстроглазов А._Стихотворения А. Быстроглазова. В 2 ч. Ч. 2                                                                                 | 7 |\n",
       "| 1837_166_Подолинский А._Повести и мелкие стихотворения А. Подолинского. Ч. 2. Мелкие стихотворения                                                   | 7 |\n",
       "| 1837_170_Смирнова А._Собрание различных стихотворений. Соч. Анны Смирновой. Изд. 1-е                                                                 | 7 |\n",
       "| 1838_216_Полежаев А.И._Арфа: Стихотворения Александра Полежаева                                                                                      | 7 |\n",
       "| 1830_919_Алипанов Е._Стихотворения крестьянина Егора Алипанова                                                                                       | 6 |\n",
       "| 1830_978_Мерзляков А._Песни и романсы                                                                                                                | 6 |\n",
       "\n"
      ],
      "text/plain": [
       "   work                                                                                                                                                \n",
       "1  1834_2_Батюшков К._Сочинения в прозе и стихах Константина Батюшкова. Ч. 2. Стихотворения                                                            \n",
       "2  1835_73_Баратынский Е._Сочинения Е. Баратынского: В 2 ч.                                                                                            \n",
       "3  1830_1073_Крылов И._Басни Ивана Крылова: В 8 книгах                                                                                                 \n",
       "4  1832_1047_Катенин П., Голицын Н._Сочинения и переводы в стихах Павла Катенина, с приобщение нескольких стихотворения князя Николая Голицына : Ч. 1-2\n",
       "5  1832_784_Давыдов Д.В._Стихотворения Дениса Давыдова                                                                                                 \n",
       "6  1833_1046_Козлов И._Собрание стихотворений Ивана Козлова : Ч. 1-2                                                                                   \n",
       "7  1833_780_Кульман Е.Б._Пиитические опыты Елисаветы Кульман: В 3 ч.                                                                                   \n",
       "8  1831_797_Маркевич Н._Украинские мелодии. Соч. Ник. Маркевича                                                                                        \n",
       "9  1831_923_Масальский К._Сочинения, переводы и подражания в стихах Константина Масальского                                                            \n",
       "10 1832_790_Полежаев А._Стихотворения Александра Полежаева                                                                                             \n",
       "11 1834_53_Крылов И._Басни Ивана Крылова / [С илл. А.П. Сапожникова]. Ч. 1-2                                                                           \n",
       "12 1835_75_Деларю М._Опыты в стихах Михаила Деларю                                                                                                     \n",
       "13 1836_124_Мейснер А._Стихотворения Алексея Мейснера                                                                                                  \n",
       "14 1837_156_Бороздна И.П._Поэтические очерки Украины, Одессы и Крыма: Письма в стихах к гр. В.П. З[авадскому], Ивана Бороздны                          \n",
       "15 1837_159_Быстроглазов А._Стихотворения А. Быстроглазова. В 2 ч. Ч. 2                                                                                \n",
       "16 1837_166_Подолинский А._Повести и мелкие стихотворения А. Подолинского. Ч. 2. Мелкие стихотворения                                                  \n",
       "17 1837_170_Смирнова А._Собрание различных стихотворений. Соч. Анны Смирновой. Изд. 1-е                                                                \n",
       "18 1838_216_Полежаев А.И._Арфа: Стихотворения Александра Полежаева                                                                                     \n",
       "19 1830_919_Алипанов Е._Стихотворения крестьянина Егора Алипанова                                                                                      \n",
       "20 1830_978_Мерзляков А._Песни и романсы                                                                                                               \n",
       "   n\n",
       "1  9\n",
       "2  9\n",
       "3  8\n",
       "4  8\n",
       "5  8\n",
       "6  8\n",
       "7  8\n",
       "8  7\n",
       "9  7\n",
       "10 7\n",
       "11 7\n",
       "12 7\n",
       "13 7\n",
       "14 7\n",
       "15 7\n",
       "16 7\n",
       "17 7\n",
       "18 7\n",
       "19 6\n",
       "20 6"
      ]
     },
     "metadata": {},
     "output_type": "display_data"
    },
    {
     "data": {
      "text/html": [
       "313"
      ],
      "text/latex": [
       "313"
      ],
      "text/markdown": [
       "313"
      ],
      "text/plain": [
       "[1] 313"
      ]
     },
     "metadata": {},
     "output_type": "display_data"
    }
   ],
   "source": [
    "#### Lyric collections ####\n",
    "\n",
    "col_lyr <- to_exp_long %>% \n",
    "  filter(group == \"col_lyr\") %>% \n",
    "  select(work, collection)\n",
    "\n",
    "col_lyr %>% \n",
    "  group_by(work) %>% \n",
    "  count(sort = T) %>% \n",
    "  head(20)\n",
    "\n",
    "length(unique(col_lyr$work))\n",
    "\n",
    "# write.csv(col_lyr, file = \"../../data/ch1/01_copia_experiment/1830_1850/Lyric_collections.csv\")"
   ]
  },
  {
   "cell_type": "code",
   "execution_count": 22,
   "id": "ff5b3019",
   "metadata": {
    "scrolled": false
   },
   "outputs": [
    {
     "data": {
      "text/html": [
       "269"
      ],
      "text/latex": [
       "269"
      ],
      "text/markdown": [
       "269"
      ],
      "text/plain": [
       "[1] 269"
      ]
     },
     "metadata": {},
     "output_type": "display_data"
    },
    {
     "data": {
      "text/html": [
       "<table class=\"dataframe\">\n",
       "<caption>A tibble: 20 × 2</caption>\n",
       "<thead>\n",
       "\t<tr><th scope=col>work</th><th scope=col>n</th></tr>\n",
       "\t<tr><th scope=col>&lt;chr&gt;</th><th scope=col>&lt;int&gt;</th></tr>\n",
       "</thead>\n",
       "<tbody>\n",
       "\t<tr><td>1831_992_Жуковский В._Русская слава : Стихотворение                                                                                                                                                       </td><td>5</td></tr>\n",
       "\t<tr><td>1832_884_Соколовский В._Мироздание [Опыт духовного стихотворения]. Изд. 1-е                                                                                                                               </td><td>5</td></tr>\n",
       "\t<tr><td>1831_1041_Фомин Н._Отец Царства Русского, или Неделя пребывания великого монарха Николая I в печальной Москве / Взятое из истин. происшествия Николаем Фоминым                                            </td><td>4</td></tr>\n",
       "\t<tr><td>1831_1045_Жуковский В., Пушкин А._На взятие Варшавы : Три стихотворения                                                                                                                                   </td><td>4</td></tr>\n",
       "\t<tr><td>1831_976_NA_Шесть элегических стихотворений                                                                                                                                                               </td><td>4</td></tr>\n",
       "\t<tr><td>1833_1056_Поднебесный М._Прогулка на Выставке российских изделий в Санкт-Петербурге 1833 года : [стихотворение]                                                                                           </td><td>4</td></tr>\n",
       "\t<tr><td>1838_208_Доброхотов Ф._Взгляд на поэзию Феофила Доброхотова                                                                                                                                               </td><td>4</td></tr>\n",
       "\t<tr><td>1840_300_Данков И.И._Могила боярина Артамона Сергеевича Матвеева: [Стихотворение]                                                                                                                         </td><td>4</td></tr>\n",
       "\t<tr><td>1848_624_Вяземский П._Святая Русь : Стихотворение К[н]. П. Вяземского, изданное в пользу Второй Адмиралтейской школы                                                                                      </td><td>4</td></tr>\n",
       "\t<tr><td>1849_668_Вяземский П._Приветствие В.А. Жуковскому, 29-го января 1849 года, в день рождения его и в память совершившегося пятидесятилетия его литературной деятельности : [Стихотворение] / Князь Вяземский</td><td>4</td></tr>\n",
       "\t<tr><td>1830_1040_Углегов Ф._Два послания Выпивалина к водке и к бутылке: С приб. послания к г. Выпивалину                                                                                                        </td><td>3</td></tr>\n",
       "\t<tr><td>1831_990_Хвостов_Радостная в Августе весть / Стихотворение Графа Хвостова                                                                                                                                 </td><td>3</td></tr>\n",
       "\t<tr><td>1834_31_Бакунин В._Воспоминания при взгляде на памятник императора Александра Первого : Стихотворение Василия Бакунина                                                                                    </td><td>3</td></tr>\n",
       "\t<tr><td>1834_33_Хвостов Д. И._22-го апреля в С.-Петербурге 1834 года : Стихотворение гр. Хвостова                                                                                                                 </td><td>3</td></tr>\n",
       "\t<tr><td>1834_38_Хвостов Д. И._Маньчжурская песнь с перевода в прозе, переложенная стихами : 20 янв. 1834 г                                                                                                        </td><td>3</td></tr>\n",
       "\t<tr><td>1836_143_NA_Хвалебное приношение веры новопрославленному Святителю Митрофану, Епископу Воронежскому. Стихотворение в пяти песнях                                                                          </td><td>3</td></tr>\n",
       "\t<tr><td>1837_160_Глинка Ф.Н._Воспоминание о пиитической жизни Пушкина. Посвящена отцу поэта                                                                                                                       </td><td>3</td></tr>\n",
       "\t<tr><td>1839_268_NA_Гробница на востоке: Полуоткрытая тайна: [Стихотворение]                                                                                                                                      </td><td>3</td></tr>\n",
       "\t<tr><td>1839_280_Харинский Х._Гимн на восшествие Государя Императора Николая 1-го на Всероссийский престол. Написана Хрисанфом Харинским                                                                          </td><td>3</td></tr>\n",
       "\t<tr><td>1840_327_Ободовский П._Царский цветник : Der Kaisergarten. Ein Gedicht von P. Obodofskoy. Uebers. [в стихах] von Karl Friedrich von Grossheinrich                                                         </td><td>3</td></tr>\n",
       "</tbody>\n",
       "</table>\n"
      ],
      "text/latex": [
       "A tibble: 20 × 2\n",
       "\\begin{tabular}{ll}\n",
       " work & n\\\\\n",
       " <chr> & <int>\\\\\n",
       "\\hline\n",
       "\t 1831\\_992\\_Жуковский В.\\_Русская слава : Стихотворение                                                                                                                                                        & 5\\\\\n",
       "\t 1832\\_884\\_Соколовский В.\\_Мироздание {[}Опыт духовного стихотворения{]}. Изд. 1-е                                                                                                                                & 5\\\\\n",
       "\t 1831\\_1041\\_Фомин Н.\\_Отец Царства Русского, или Неделя пребывания великого монарха Николая I в печальной Москве / Взятое из истин. происшествия Николаем Фоминым                                             & 4\\\\\n",
       "\t 1831\\_1045\\_Жуковский В., Пушкин А.\\_На взятие Варшавы : Три стихотворения                                                                                                                                    & 4\\\\\n",
       "\t 1831\\_976\\_NA\\_Шесть элегических стихотворений                                                                                                                                                                & 4\\\\\n",
       "\t 1833\\_1056\\_Поднебесный М.\\_Прогулка на Выставке российских изделий в Санкт-Петербурге 1833 года : {[}стихотворение{]}                                                                                            & 4\\\\\n",
       "\t 1838\\_208\\_Доброхотов Ф.\\_Взгляд на поэзию Феофила Доброхотова                                                                                                                                                & 4\\\\\n",
       "\t 1840\\_300\\_Данков И.И.\\_Могила боярина Артамона Сергеевича Матвеева: {[}Стихотворение{]}                                                                                                                          & 4\\\\\n",
       "\t 1848\\_624\\_Вяземский П.\\_Святая Русь : Стихотворение К{[}н{]}. П. Вяземского, изданное в пользу Второй Адмиралтейской школы                                                                                       & 4\\\\\n",
       "\t 1849\\_668\\_Вяземский П.\\_Приветствие В.А. Жуковскому, 29-го января 1849 года, в день рождения его и в память совершившегося пятидесятилетия его литературной деятельности : {[}Стихотворение{]} / Князь Вяземский & 4\\\\\n",
       "\t 1830\\_1040\\_Углегов Ф.\\_Два послания Выпивалина к водке и к бутылке: С приб. послания к г. Выпивалину                                                                                                         & 3\\\\\n",
       "\t 1831\\_990\\_Хвостов\\_Радостная в Августе весть / Стихотворение Графа Хвостова                                                                                                                                  & 3\\\\\n",
       "\t 1834\\_31\\_Бакунин В.\\_Воспоминания при взгляде на памятник императора Александра Первого : Стихотворение Василия Бакунина                                                                                     & 3\\\\\n",
       "\t 1834\\_33\\_Хвостов Д. И.\\_22-го апреля в С.-Петербурге 1834 года : Стихотворение гр. Хвостова                                                                                                                  & 3\\\\\n",
       "\t 1834\\_38\\_Хвостов Д. И.\\_Маньчжурская песнь с перевода в прозе, переложенная стихами : 20 янв. 1834 г                                                                                                         & 3\\\\\n",
       "\t 1836\\_143\\_NA\\_Хвалебное приношение веры новопрославленному Святителю Митрофану, Епископу Воронежскому. Стихотворение в пяти песнях                                                                           & 3\\\\\n",
       "\t 1837\\_160\\_Глинка Ф.Н.\\_Воспоминание о пиитической жизни Пушкина. Посвящена отцу поэта                                                                                                                        & 3\\\\\n",
       "\t 1839\\_268\\_NA\\_Гробница на востоке: Полуоткрытая тайна: {[}Стихотворение{]}                                                                                                                                       & 3\\\\\n",
       "\t 1839\\_280\\_Харинский Х.\\_Гимн на восшествие Государя Императора Николая 1-го на Всероссийский престол. Написана Хрисанфом Харинским                                                                           & 3\\\\\n",
       "\t 1840\\_327\\_Ободовский П.\\_Царский цветник : Der Kaisergarten. Ein Gedicht von P. Obodofskoy. Uebers. {[}в стихах{]} von Karl Friedrich von Grossheinrich                                                          & 3\\\\\n",
       "\\end{tabular}\n"
      ],
      "text/markdown": [
       "\n",
       "A tibble: 20 × 2\n",
       "\n",
       "| work &lt;chr&gt; | n &lt;int&gt; |\n",
       "|---|---|\n",
       "| 1831_992_Жуковский В._Русская слава : Стихотворение                                                                                                                                                        | 5 |\n",
       "| 1832_884_Соколовский В._Мироздание [Опыт духовного стихотворения]. Изд. 1-е                                                                                                                                | 5 |\n",
       "| 1831_1041_Фомин Н._Отец Царства Русского, или Неделя пребывания великого монарха Николая I в печальной Москве / Взятое из истин. происшествия Николаем Фоминым                                             | 4 |\n",
       "| 1831_1045_Жуковский В., Пушкин А._На взятие Варшавы : Три стихотворения                                                                                                                                    | 4 |\n",
       "| 1831_976_NA_Шесть элегических стихотворений                                                                                                                                                                | 4 |\n",
       "| 1833_1056_Поднебесный М._Прогулка на Выставке российских изделий в Санкт-Петербурге 1833 года : [стихотворение]                                                                                            | 4 |\n",
       "| 1838_208_Доброхотов Ф._Взгляд на поэзию Феофила Доброхотова                                                                                                                                                | 4 |\n",
       "| 1840_300_Данков И.И._Могила боярина Артамона Сергеевича Матвеева: [Стихотворение]                                                                                                                          | 4 |\n",
       "| 1848_624_Вяземский П._Святая Русь : Стихотворение К[н]. П. Вяземского, изданное в пользу Второй Адмиралтейской школы                                                                                       | 4 |\n",
       "| 1849_668_Вяземский П._Приветствие В.А. Жуковскому, 29-го января 1849 года, в день рождения его и в память совершившегося пятидесятилетия его литературной деятельности : [Стихотворение] / Князь Вяземский | 4 |\n",
       "| 1830_1040_Углегов Ф._Два послания Выпивалина к водке и к бутылке: С приб. послания к г. Выпивалину                                                                                                         | 3 |\n",
       "| 1831_990_Хвостов_Радостная в Августе весть / Стихотворение Графа Хвостова                                                                                                                                  | 3 |\n",
       "| 1834_31_Бакунин В._Воспоминания при взгляде на памятник императора Александра Первого : Стихотворение Василия Бакунина                                                                                     | 3 |\n",
       "| 1834_33_Хвостов Д. И._22-го апреля в С.-Петербурге 1834 года : Стихотворение гр. Хвостова                                                                                                                  | 3 |\n",
       "| 1834_38_Хвостов Д. И._Маньчжурская песнь с перевода в прозе, переложенная стихами : 20 янв. 1834 г                                                                                                         | 3 |\n",
       "| 1836_143_NA_Хвалебное приношение веры новопрославленному Святителю Митрофану, Епископу Воронежскому. Стихотворение в пяти песнях                                                                           | 3 |\n",
       "| 1837_160_Глинка Ф.Н._Воспоминание о пиитической жизни Пушкина. Посвящена отцу поэта                                                                                                                        | 3 |\n",
       "| 1839_268_NA_Гробница на востоке: Полуоткрытая тайна: [Стихотворение]                                                                                                                                       | 3 |\n",
       "| 1839_280_Харинский Х._Гимн на восшествие Государя Императора Николая 1-го на Всероссийский престол. Написана Хрисанфом Харинским                                                                           | 3 |\n",
       "| 1840_327_Ободовский П._Царский цветник : Der Kaisergarten. Ein Gedicht von P. Obodofskoy. Uebers. [в стихах] von Karl Friedrich von Grossheinrich                                                          | 3 |\n",
       "\n"
      ],
      "text/plain": [
       "   work                                                                                                                                                                                                      \n",
       "1  1831_992_Жуковский В._Русская слава : Стихотворение                                                                                                                                                       \n",
       "2  1832_884_Соколовский В._Мироздание [Опыт духовного стихотворения]. Изд. 1-е                                                                                                                               \n",
       "3  1831_1041_Фомин Н._Отец Царства Русского, или Неделя пребывания великого монарха Николая I в печальной Москве / Взятое из истин. происшествия Николаем Фоминым                                            \n",
       "4  1831_1045_Жуковский В., Пушкин А._На взятие Варшавы : Три стихотворения                                                                                                                                   \n",
       "5  1831_976_NA_Шесть элегических стихотворений                                                                                                                                                               \n",
       "6  1833_1056_Поднебесный М._Прогулка на Выставке российских изделий в Санкт-Петербурге 1833 года : [стихотворение]                                                                                           \n",
       "7  1838_208_Доброхотов Ф._Взгляд на поэзию Феофила Доброхотова                                                                                                                                               \n",
       "8  1840_300_Данков И.И._Могила боярина Артамона Сергеевича Матвеева: [Стихотворение]                                                                                                                         \n",
       "9  1848_624_Вяземский П._Святая Русь : Стихотворение К[н]. П. Вяземского, изданное в пользу Второй Адмиралтейской школы                                                                                      \n",
       "10 1849_668_Вяземский П._Приветствие В.А. Жуковскому, 29-го января 1849 года, в день рождения его и в память совершившегося пятидесятилетия его литературной деятельности : [Стихотворение] / Князь Вяземский\n",
       "11 1830_1040_Углегов Ф._Два послания Выпивалина к водке и к бутылке: С приб. послания к г. Выпивалину                                                                                                        \n",
       "12 1831_990_Хвостов_Радостная в Августе весть / Стихотворение Графа Хвостова                                                                                                                                 \n",
       "13 1834_31_Бакунин В._Воспоминания при взгляде на памятник императора Александра Первого : Стихотворение Василия Бакунина                                                                                    \n",
       "14 1834_33_Хвостов Д. И._22-го апреля в С.-Петербурге 1834 года : Стихотворение гр. Хвостова                                                                                                                 \n",
       "15 1834_38_Хвостов Д. И._Маньчжурская песнь с перевода в прозе, переложенная стихами : 20 янв. 1834 г                                                                                                        \n",
       "16 1836_143_NA_Хвалебное приношение веры новопрославленному Святителю Митрофану, Епископу Воронежскому. Стихотворение в пяти песнях                                                                          \n",
       "17 1837_160_Глинка Ф.Н._Воспоминание о пиитической жизни Пушкина. Посвящена отцу поэта                                                                                                                       \n",
       "18 1839_268_NA_Гробница на востоке: Полуоткрытая тайна: [Стихотворение]                                                                                                                                      \n",
       "19 1839_280_Харинский Х._Гимн на восшествие Государя Императора Николая 1-го на Всероссийский престол. Написана Хрисанфом Харинским                                                                          \n",
       "20 1840_327_Ободовский П._Царский цветник : Der Kaisergarten. Ein Gedicht von P. Obodofskoy. Uebers. [в стихах] von Karl Friedrich von Grossheinrich                                                         \n",
       "   n\n",
       "1  5\n",
       "2  5\n",
       "3  4\n",
       "4  4\n",
       "5  4\n",
       "6  4\n",
       "7  4\n",
       "8  4\n",
       "9  4\n",
       "10 4\n",
       "11 3\n",
       "12 3\n",
       "13 3\n",
       "14 3\n",
       "15 3\n",
       "16 3\n",
       "17 3\n",
       "18 3\n",
       "19 3\n",
       "20 3"
      ]
     },
     "metadata": {},
     "output_type": "display_data"
    }
   ],
   "source": [
    "#### Separate lyric poems ####\n",
    "\n",
    "sep_lyr <- to_exp_long %>% \n",
    "  filter(group == \"sep_lyr\") %>% \n",
    "  select(work, collection)\n",
    "\n",
    "length(unique(sep_lyr$work))\n",
    "\n",
    "sep_lyr %>% \n",
    "  count(work, sort = T) %>% \n",
    "  head(20)\n",
    "\n",
    "# write.csv(sep_lyr, file = \"../data/ch1/01_copia_experiment/Lyric_booklets.csv\")"
   ]
  },
  {
   "cell_type": "code",
   "execution_count": 23,
   "id": "3ad1466e",
   "metadata": {
    "scrolled": false
   },
   "outputs": [
    {
     "data": {
      "text/html": [
       "257"
      ],
      "text/latex": [
       "257"
      ],
      "text/markdown": [
       "257"
      ],
      "text/plain": [
       "[1] 257"
      ]
     },
     "metadata": {},
     "output_type": "display_data"
    },
    {
     "data": {
      "text/html": [
       "<table class=\"dataframe\">\n",
       "<caption>A tibble: 20 × 2</caption>\n",
       "<thead>\n",
       "\t<tr><th scope=col>work</th><th scope=col>n</th></tr>\n",
       "\t<tr><th scope=col>&lt;chr&gt;</th><th scope=col>&lt;int&gt;</th></tr>\n",
       "</thead>\n",
       "<tbody>\n",
       "\t<tr><td>1830_1002_Слепушкин Ф._Четыре времени года Русского Поселянина : Сельская поэма Федора Слепушкина                   </td><td>8</td></tr>\n",
       "\t<tr><td>1830_999_Глинка С._Карелия, или заточение Марфы Иоанновны Романовой, описательное стихотворение : В 4 ч.            </td><td>7</td></tr>\n",
       "\t<tr><td>1832_812_Марков_Мятежники. Повесть, взятая из войны с Польскими мятежниками. Соч. Маркова                           </td><td>7</td></tr>\n",
       "\t<tr><td>1837_167_Подолинский А._Смерть Пери                                                                                 </td><td>7</td></tr>\n",
       "\t<tr><td>1838_223_Бернет Е._Елена: Поэма                                                                                     </td><td>7</td></tr>\n",
       "\t<tr><td>1830_935_Козлов И._Безумная : Русская повесть в стихах                                                              </td><td>6</td></tr>\n",
       "\t<tr><td>1830_948_Подолинский А._Нищий                                                                                       </td><td>6</td></tr>\n",
       "\t<tr><td>1830_959_Масальский К._Терпи казак, атаман будешь : Стихотворная повесть / Изд. 3-е                                 </td><td>6</td></tr>\n",
       "\t<tr><td>1831_946_Вельтман А._Муромские леса : Повесть в стихах                                                              </td><td>6</td></tr>\n",
       "\t<tr><td>1837_173_Филимонов В._Обед: Поэма                                                                                   </td><td>6</td></tr>\n",
       "\t<tr><td>1839_260_Карамзин А._Борис Ульин : Повесть в стихах                                                                 </td><td>6</td></tr>\n",
       "\t<tr><td>1830_1036_Пушкин А._Евгений Онегин: Роман в стихах : Гл. 2 / 2-е изд.                                               </td><td>5</td></tr>\n",
       "\t<tr><td>1830_933_Пушкин А._Бахчисарайский фонтан / 3-е изд.                                                                 </td><td>5</td></tr>\n",
       "\t<tr><td>1830_993_Орлов А._Смерть купца, или Отеческое наставление сыну при конце жизни : [В стихах] / Соч. Александра Орлова</td><td>5</td></tr>\n",
       "\t<tr><td>1831_937_Шидловский А._Гребенский казак : Повесть                                                                   </td><td>5</td></tr>\n",
       "\t<tr><td>1832_1028_Рындовский Ф._Сотворение мира : Поэма / Соч. Федора Рындовского                                           </td><td>5</td></tr>\n",
       "\t<tr><td>1833_1014_Неведомский Н._Деньги : сатира                                                                            </td><td>5</td></tr>\n",
       "\t<tr><td>1834_5_П. Ершов_Конек-горбунок. Русская сказка                                                                      </td><td>5</td></tr>\n",
       "\t<tr><td>1835_68_Т-м-ф-в_Елизавета Кульман : Фантазия : [Пьеса в стихах]                                                     </td><td>5</td></tr>\n",
       "\t<tr><td>1835_69_NA_Ижорский : Мистерия                                                                                      </td><td>5</td></tr>\n",
       "</tbody>\n",
       "</table>\n"
      ],
      "text/latex": [
       "A tibble: 20 × 2\n",
       "\\begin{tabular}{ll}\n",
       " work & n\\\\\n",
       " <chr> & <int>\\\\\n",
       "\\hline\n",
       "\t 1830\\_1002\\_Слепушкин Ф.\\_Четыре времени года Русского Поселянина : Сельская поэма Федора Слепушкина                    & 8\\\\\n",
       "\t 1830\\_999\\_Глинка С.\\_Карелия, или заточение Марфы Иоанновны Романовой, описательное стихотворение : В 4 ч.             & 7\\\\\n",
       "\t 1832\\_812\\_Марков\\_Мятежники. Повесть, взятая из войны с Польскими мятежниками. Соч. Маркова                            & 7\\\\\n",
       "\t 1837\\_167\\_Подолинский А.\\_Смерть Пери                                                                                  & 7\\\\\n",
       "\t 1838\\_223\\_Бернет Е.\\_Елена: Поэма                                                                                      & 7\\\\\n",
       "\t 1830\\_935\\_Козлов И.\\_Безумная : Русская повесть в стихах                                                               & 6\\\\\n",
       "\t 1830\\_948\\_Подолинский А.\\_Нищий                                                                                        & 6\\\\\n",
       "\t 1830\\_959\\_Масальский К.\\_Терпи казак, атаман будешь : Стихотворная повесть / Изд. 3-е                                  & 6\\\\\n",
       "\t 1831\\_946\\_Вельтман А.\\_Муромские леса : Повесть в стихах                                                               & 6\\\\\n",
       "\t 1837\\_173\\_Филимонов В.\\_Обед: Поэма                                                                                    & 6\\\\\n",
       "\t 1839\\_260\\_Карамзин А.\\_Борис Ульин : Повесть в стихах                                                                  & 6\\\\\n",
       "\t 1830\\_1036\\_Пушкин А.\\_Евгений Онегин: Роман в стихах : Гл. 2 / 2-е изд.                                                & 5\\\\\n",
       "\t 1830\\_933\\_Пушкин А.\\_Бахчисарайский фонтан / 3-е изд.                                                                  & 5\\\\\n",
       "\t 1830\\_993\\_Орлов А.\\_Смерть купца, или Отеческое наставление сыну при конце жизни : {[}В стихах{]} / Соч. Александра Орлова & 5\\\\\n",
       "\t 1831\\_937\\_Шидловский А.\\_Гребенский казак : Повесть                                                                    & 5\\\\\n",
       "\t 1832\\_1028\\_Рындовский Ф.\\_Сотворение мира : Поэма / Соч. Федора Рындовского                                            & 5\\\\\n",
       "\t 1833\\_1014\\_Неведомский Н.\\_Деньги : сатира                                                                             & 5\\\\\n",
       "\t 1834\\_5\\_П. Ершов\\_Конек-горбунок. Русская сказка                                                                       & 5\\\\\n",
       "\t 1835\\_68\\_Т-м-ф-в\\_Елизавета Кульман : Фантазия : {[}Пьеса в стихах{]}                                                      & 5\\\\\n",
       "\t 1835\\_69\\_NA\\_Ижорский : Мистерия                                                                                       & 5\\\\\n",
       "\\end{tabular}\n"
      ],
      "text/markdown": [
       "\n",
       "A tibble: 20 × 2\n",
       "\n",
       "| work &lt;chr&gt; | n &lt;int&gt; |\n",
       "|---|---|\n",
       "| 1830_1002_Слепушкин Ф._Четыре времени года Русского Поселянина : Сельская поэма Федора Слепушкина                    | 8 |\n",
       "| 1830_999_Глинка С._Карелия, или заточение Марфы Иоанновны Романовой, описательное стихотворение : В 4 ч.             | 7 |\n",
       "| 1832_812_Марков_Мятежники. Повесть, взятая из войны с Польскими мятежниками. Соч. Маркова                            | 7 |\n",
       "| 1837_167_Подолинский А._Смерть Пери                                                                                  | 7 |\n",
       "| 1838_223_Бернет Е._Елена: Поэма                                                                                      | 7 |\n",
       "| 1830_935_Козлов И._Безумная : Русская повесть в стихах                                                               | 6 |\n",
       "| 1830_948_Подолинский А._Нищий                                                                                        | 6 |\n",
       "| 1830_959_Масальский К._Терпи казак, атаман будешь : Стихотворная повесть / Изд. 3-е                                  | 6 |\n",
       "| 1831_946_Вельтман А._Муромские леса : Повесть в стихах                                                               | 6 |\n",
       "| 1837_173_Филимонов В._Обед: Поэма                                                                                    | 6 |\n",
       "| 1839_260_Карамзин А._Борис Ульин : Повесть в стихах                                                                  | 6 |\n",
       "| 1830_1036_Пушкин А._Евгений Онегин: Роман в стихах : Гл. 2 / 2-е изд.                                                | 5 |\n",
       "| 1830_933_Пушкин А._Бахчисарайский фонтан / 3-е изд.                                                                  | 5 |\n",
       "| 1830_993_Орлов А._Смерть купца, или Отеческое наставление сыну при конце жизни : [В стихах] / Соч. Александра Орлова | 5 |\n",
       "| 1831_937_Шидловский А._Гребенский казак : Повесть                                                                    | 5 |\n",
       "| 1832_1028_Рындовский Ф._Сотворение мира : Поэма / Соч. Федора Рындовского                                            | 5 |\n",
       "| 1833_1014_Неведомский Н._Деньги : сатира                                                                             | 5 |\n",
       "| 1834_5_П. Ершов_Конек-горбунок. Русская сказка                                                                       | 5 |\n",
       "| 1835_68_Т-м-ф-в_Елизавета Кульман : Фантазия : [Пьеса в стихах]                                                      | 5 |\n",
       "| 1835_69_NA_Ижорский : Мистерия                                                                                       | 5 |\n",
       "\n"
      ],
      "text/plain": [
       "   work                                                                                                                \n",
       "1  1830_1002_Слепушкин Ф._Четыре времени года Русского Поселянина : Сельская поэма Федора Слепушкина                   \n",
       "2  1830_999_Глинка С._Карелия, или заточение Марфы Иоанновны Романовой, описательное стихотворение : В 4 ч.            \n",
       "3  1832_812_Марков_Мятежники. Повесть, взятая из войны с Польскими мятежниками. Соч. Маркова                           \n",
       "4  1837_167_Подолинский А._Смерть Пери                                                                                 \n",
       "5  1838_223_Бернет Е._Елена: Поэма                                                                                     \n",
       "6  1830_935_Козлов И._Безумная : Русская повесть в стихах                                                              \n",
       "7  1830_948_Подолинский А._Нищий                                                                                       \n",
       "8  1830_959_Масальский К._Терпи казак, атаман будешь : Стихотворная повесть / Изд. 3-е                                 \n",
       "9  1831_946_Вельтман А._Муромские леса : Повесть в стихах                                                              \n",
       "10 1837_173_Филимонов В._Обед: Поэма                                                                                   \n",
       "11 1839_260_Карамзин А._Борис Ульин : Повесть в стихах                                                                 \n",
       "12 1830_1036_Пушкин А._Евгений Онегин: Роман в стихах : Гл. 2 / 2-е изд.                                               \n",
       "13 1830_933_Пушкин А._Бахчисарайский фонтан / 3-е изд.                                                                 \n",
       "14 1830_993_Орлов А._Смерть купца, или Отеческое наставление сыну при конце жизни : [В стихах] / Соч. Александра Орлова\n",
       "15 1831_937_Шидловский А._Гребенский казак : Повесть                                                                   \n",
       "16 1832_1028_Рындовский Ф._Сотворение мира : Поэма / Соч. Федора Рындовского                                           \n",
       "17 1833_1014_Неведомский Н._Деньги : сатира                                                                            \n",
       "18 1834_5_П. Ершов_Конек-горбунок. Русская сказка                                                                      \n",
       "19 1835_68_Т-м-ф-в_Елизавета Кульман : Фантазия : [Пьеса в стихах]                                                     \n",
       "20 1835_69_NA_Ижорский : Мистерия                                                                                      \n",
       "   n\n",
       "1  8\n",
       "2  7\n",
       "3  7\n",
       "4  7\n",
       "5  7\n",
       "6  6\n",
       "7  6\n",
       "8  6\n",
       "9  6\n",
       "10 6\n",
       "11 6\n",
       "12 5\n",
       "13 5\n",
       "14 5\n",
       "15 5\n",
       "16 5\n",
       "17 5\n",
       "18 5\n",
       "19 5\n",
       "20 5"
      ]
     },
     "metadata": {},
     "output_type": "display_data"
    }
   ],
   "source": [
    "#### Separate narrative poems ####\n",
    "\n",
    "sep_nar <- to_exp_long %>% \n",
    "  filter(group == \"sep_nar\") %>% \n",
    "  select(work, collection)\n",
    "\n",
    "length(unique(sep_nar$work))\n",
    "\n",
    "sep_nar %>% \n",
    "  count(work, sort = T) %>% \n",
    "  head(20)\n",
    "\n",
    "# write.csv(sep_nar, file = \".../data/ch1/01_copia_experiment/Narrative_booklets.csv\")"
   ]
  },
  {
   "cell_type": "code",
   "execution_count": 24,
   "id": "2ab39087",
   "metadata": {
    "scrolled": false
   },
   "outputs": [
    {
     "data": {
      "text/html": [
       "27"
      ],
      "text/latex": [
       "27"
      ],
      "text/markdown": [
       "27"
      ],
      "text/plain": [
       "[1] 27"
      ]
     },
     "metadata": {},
     "output_type": "display_data"
    },
    {
     "data": {
      "text/html": [
       "<table class=\"dataframe\">\n",
       "<caption>A tibble: 20 × 2</caption>\n",
       "<thead>\n",
       "\t<tr><th scope=col>work</th><th scope=col>n</th></tr>\n",
       "\t<tr><th scope=col>&lt;chr&gt;</th><th scope=col>&lt;int&gt;</th></tr>\n",
       "</thead>\n",
       "<tbody>\n",
       "\t<tr><td>1831_966_Жуковский В._Баллады и повести : В 2 ч.                                                                           </td><td>7</td></tr>\n",
       "\t<tr><td>1835_82_Пушкин А.С._Поэмы и повести Александра Пушкина. Ч. 2.                                                              </td><td>7</td></tr>\n",
       "\t<tr><td>1836_144_Подолинский А._Повести и мелкие стихотворения А. Подолинского. Ч. 1.                                              </td><td>7</td></tr>\n",
       "\t<tr><td>1835_81_Пушкин А.С._Поэмы и повести Александра Пушкина. Ч. 1.                                                              </td><td>6</td></tr>\n",
       "\t<tr><td>1838_200_Павлов М._Повести в стихах                                                                                        </td><td>6</td></tr>\n",
       "\t<tr><td>1832_805_Полежаев А._Эрпели и Чир-Юрт. Две поэмы А. Полежаева                                                              </td><td>5</td></tr>\n",
       "\t<tr><td>1835_92_Жуковский В.А._Стихотворения Василья Жуковского: В 8 ч. / Изд. 4-е. Т. 1. Орлеанская дева; лирические стихотворения</td><td>5</td></tr>\n",
       "\t<tr><td>1835_94_Жуковский В.А._Стихотворения Василья Жуковского: В 8 ч. / Изд. 4-е. Т. 3. Баллады                                  </td><td>5</td></tr>\n",
       "\t<tr><td>1835_95_Жуковский В.А._Стихотворения Василья Жуковского: В 8 ч. / Изд. 4-е. Т. 4. Баллады                                  </td><td>5</td></tr>\n",
       "\t<tr><td>1838_245_Олин В._Странный бал. Повесть из рассказов на станции, и восемь стихотворений. Сочинение В. Олина                 </td><td>5</td></tr>\n",
       "\t<tr><td>1831_938_Глинка С._Две повести в стихах, почерпнутые из древних армянских летописей                                        </td><td>4</td></tr>\n",
       "\t<tr><td>1833_773_NA_Мериносовая шаль, повесть нравственно-сатирическая и двадцать четыре стихотворения                             </td><td>4</td></tr>\n",
       "\t<tr><td>1836_116_Вельтман А._Беглец : Повесть в стихах : С присовокуплением пяти стихотворений                                     </td><td>4</td></tr>\n",
       "\t<tr><td>1836_131_Цимбалин К._Сказки и басни К. Цимбалина: В 5 кн.                                                                  </td><td>4</td></tr>\n",
       "\t<tr><td>1839_296_Кульман Е.Б._Сказки Елисаветы Кульман: В 3 ч.                                                                     </td><td>4</td></tr>\n",
       "\t<tr><td>1842_388_Шахова Е._Повести в стихах Елисаветы Шаховой                                                                      </td><td>4</td></tr>\n",
       "\t<tr><td>1847_582_Голишев Н._Повести Николая Голишева : В стихах                                                                    </td><td>4</td></tr>\n",
       "\t<tr><td>1847_589_П.В.Ш._Москва 1147-1847 : Рассказы москвитянина : [В стихах] / П.В.Ш.                                             </td><td>4</td></tr>\n",
       "\t<tr><td>1830_926_Ф. С-в_Три стихотворения, сочинение Ф. С-ва                                                                       </td><td>3</td></tr>\n",
       "\t<tr><td>1835_110_Никитин А._Повести Александра Никитина : 1-[2]                                                                    </td><td>3</td></tr>\n",
       "</tbody>\n",
       "</table>\n"
      ],
      "text/latex": [
       "A tibble: 20 × 2\n",
       "\\begin{tabular}{ll}\n",
       " work & n\\\\\n",
       " <chr> & <int>\\\\\n",
       "\\hline\n",
       "\t 1831\\_966\\_Жуковский В.\\_Баллады и повести : В 2 ч.                                                                            & 7\\\\\n",
       "\t 1835\\_82\\_Пушкин А.С.\\_Поэмы и повести Александра Пушкина. Ч. 2.                                                               & 7\\\\\n",
       "\t 1836\\_144\\_Подолинский А.\\_Повести и мелкие стихотворения А. Подолинского. Ч. 1.                                               & 7\\\\\n",
       "\t 1835\\_81\\_Пушкин А.С.\\_Поэмы и повести Александра Пушкина. Ч. 1.                                                               & 6\\\\\n",
       "\t 1838\\_200\\_Павлов М.\\_Повести в стихах                                                                                         & 6\\\\\n",
       "\t 1832\\_805\\_Полежаев А.\\_Эрпели и Чир-Юрт. Две поэмы А. Полежаева                                                               & 5\\\\\n",
       "\t 1835\\_92\\_Жуковский В.А.\\_Стихотворения Василья Жуковского: В 8 ч. / Изд. 4-е. Т. 1. Орлеанская дева; лирические стихотворения & 5\\\\\n",
       "\t 1835\\_94\\_Жуковский В.А.\\_Стихотворения Василья Жуковского: В 8 ч. / Изд. 4-е. Т. 3. Баллады                                   & 5\\\\\n",
       "\t 1835\\_95\\_Жуковский В.А.\\_Стихотворения Василья Жуковского: В 8 ч. / Изд. 4-е. Т. 4. Баллады                                   & 5\\\\\n",
       "\t 1838\\_245\\_Олин В.\\_Странный бал. Повесть из рассказов на станции, и восемь стихотворений. Сочинение В. Олина                  & 5\\\\\n",
       "\t 1831\\_938\\_Глинка С.\\_Две повести в стихах, почерпнутые из древних армянских летописей                                         & 4\\\\\n",
       "\t 1833\\_773\\_NA\\_Мериносовая шаль, повесть нравственно-сатирическая и двадцать четыре стихотворения                              & 4\\\\\n",
       "\t 1836\\_116\\_Вельтман А.\\_Беглец : Повесть в стихах : С присовокуплением пяти стихотворений                                      & 4\\\\\n",
       "\t 1836\\_131\\_Цимбалин К.\\_Сказки и басни К. Цимбалина: В 5 кн.                                                                   & 4\\\\\n",
       "\t 1839\\_296\\_Кульман Е.Б.\\_Сказки Елисаветы Кульман: В 3 ч.                                                                      & 4\\\\\n",
       "\t 1842\\_388\\_Шахова Е.\\_Повести в стихах Елисаветы Шаховой                                                                       & 4\\\\\n",
       "\t 1847\\_582\\_Голишев Н.\\_Повести Николая Голишева : В стихах                                                                     & 4\\\\\n",
       "\t 1847\\_589\\_П.В.Ш.\\_Москва 1147-1847 : Рассказы москвитянина : {[}В стихах{]} / П.В.Ш.                                              & 4\\\\\n",
       "\t 1830\\_926\\_Ф. С-в\\_Три стихотворения, сочинение Ф. С-ва                                                                        & 3\\\\\n",
       "\t 1835\\_110\\_Никитин А.\\_Повести Александра Никитина : 1-{[}2{]}                                                                     & 3\\\\\n",
       "\\end{tabular}\n"
      ],
      "text/markdown": [
       "\n",
       "A tibble: 20 × 2\n",
       "\n",
       "| work &lt;chr&gt; | n &lt;int&gt; |\n",
       "|---|---|\n",
       "| 1831_966_Жуковский В._Баллады и повести : В 2 ч.                                                                            | 7 |\n",
       "| 1835_82_Пушкин А.С._Поэмы и повести Александра Пушкина. Ч. 2.                                                               | 7 |\n",
       "| 1836_144_Подолинский А._Повести и мелкие стихотворения А. Подолинского. Ч. 1.                                               | 7 |\n",
       "| 1835_81_Пушкин А.С._Поэмы и повести Александра Пушкина. Ч. 1.                                                               | 6 |\n",
       "| 1838_200_Павлов М._Повести в стихах                                                                                         | 6 |\n",
       "| 1832_805_Полежаев А._Эрпели и Чир-Юрт. Две поэмы А. Полежаева                                                               | 5 |\n",
       "| 1835_92_Жуковский В.А._Стихотворения Василья Жуковского: В 8 ч. / Изд. 4-е. Т. 1. Орлеанская дева; лирические стихотворения | 5 |\n",
       "| 1835_94_Жуковский В.А._Стихотворения Василья Жуковского: В 8 ч. / Изд. 4-е. Т. 3. Баллады                                   | 5 |\n",
       "| 1835_95_Жуковский В.А._Стихотворения Василья Жуковского: В 8 ч. / Изд. 4-е. Т. 4. Баллады                                   | 5 |\n",
       "| 1838_245_Олин В._Странный бал. Повесть из рассказов на станции, и восемь стихотворений. Сочинение В. Олина                  | 5 |\n",
       "| 1831_938_Глинка С._Две повести в стихах, почерпнутые из древних армянских летописей                                         | 4 |\n",
       "| 1833_773_NA_Мериносовая шаль, повесть нравственно-сатирическая и двадцать четыре стихотворения                              | 4 |\n",
       "| 1836_116_Вельтман А._Беглец : Повесть в стихах : С присовокуплением пяти стихотворений                                      | 4 |\n",
       "| 1836_131_Цимбалин К._Сказки и басни К. Цимбалина: В 5 кн.                                                                   | 4 |\n",
       "| 1839_296_Кульман Е.Б._Сказки Елисаветы Кульман: В 3 ч.                                                                      | 4 |\n",
       "| 1842_388_Шахова Е._Повести в стихах Елисаветы Шаховой                                                                       | 4 |\n",
       "| 1847_582_Голишев Н._Повести Николая Голишева : В стихах                                                                     | 4 |\n",
       "| 1847_589_П.В.Ш._Москва 1147-1847 : Рассказы москвитянина : [В стихах] / П.В.Ш.                                              | 4 |\n",
       "| 1830_926_Ф. С-в_Три стихотворения, сочинение Ф. С-ва                                                                        | 3 |\n",
       "| 1835_110_Никитин А._Повести Александра Никитина : 1-[2]                                                                     | 3 |\n",
       "\n"
      ],
      "text/plain": [
       "   work                                                                                                                       \n",
       "1  1831_966_Жуковский В._Баллады и повести : В 2 ч.                                                                           \n",
       "2  1835_82_Пушкин А.С._Поэмы и повести Александра Пушкина. Ч. 2.                                                              \n",
       "3  1836_144_Подолинский А._Повести и мелкие стихотворения А. Подолинского. Ч. 1.                                              \n",
       "4  1835_81_Пушкин А.С._Поэмы и повести Александра Пушкина. Ч. 1.                                                              \n",
       "5  1838_200_Павлов М._Повести в стихах                                                                                        \n",
       "6  1832_805_Полежаев А._Эрпели и Чир-Юрт. Две поэмы А. Полежаева                                                              \n",
       "7  1835_92_Жуковский В.А._Стихотворения Василья Жуковского: В 8 ч. / Изд. 4-е. Т. 1. Орлеанская дева; лирические стихотворения\n",
       "8  1835_94_Жуковский В.А._Стихотворения Василья Жуковского: В 8 ч. / Изд. 4-е. Т. 3. Баллады                                  \n",
       "9  1835_95_Жуковский В.А._Стихотворения Василья Жуковского: В 8 ч. / Изд. 4-е. Т. 4. Баллады                                  \n",
       "10 1838_245_Олин В._Странный бал. Повесть из рассказов на станции, и восемь стихотворений. Сочинение В. Олина                 \n",
       "11 1831_938_Глинка С._Две повести в стихах, почерпнутые из древних армянских летописей                                        \n",
       "12 1833_773_NA_Мериносовая шаль, повесть нравственно-сатирическая и двадцать четыре стихотворения                             \n",
       "13 1836_116_Вельтман А._Беглец : Повесть в стихах : С присовокуплением пяти стихотворений                                     \n",
       "14 1836_131_Цимбалин К._Сказки и басни К. Цимбалина: В 5 кн.                                                                  \n",
       "15 1839_296_Кульман Е.Б._Сказки Елисаветы Кульман: В 3 ч.                                                                     \n",
       "16 1842_388_Шахова Е._Повести в стихах Елисаветы Шаховой                                                                      \n",
       "17 1847_582_Голишев Н._Повести Николая Голишева : В стихах                                                                    \n",
       "18 1847_589_П.В.Ш._Москва 1147-1847 : Рассказы москвитянина : [В стихах] / П.В.Ш.                                             \n",
       "19 1830_926_Ф. С-в_Три стихотворения, сочинение Ф. С-ва                                                                       \n",
       "20 1835_110_Никитин А._Повести Александра Никитина : 1-[2]                                                                    \n",
       "   n\n",
       "1  7\n",
       "2  7\n",
       "3  7\n",
       "4  6\n",
       "5  6\n",
       "6  5\n",
       "7  5\n",
       "8  5\n",
       "9  5\n",
       "10 5\n",
       "11 4\n",
       "12 4\n",
       "13 4\n",
       "14 4\n",
       "15 4\n",
       "16 4\n",
       "17 4\n",
       "18 4\n",
       "19 3\n",
       "20 3"
      ]
     },
     "metadata": {},
     "output_type": "display_data"
    }
   ],
   "source": [
    "#### Collections narrative ####\n",
    "\n",
    "col_nar <- to_exp_long %>% \n",
    "  filter(group == \"col_nar\") %>% \n",
    "  select(work, collection)\n",
    "\n",
    "length(unique(col_nar$work))\n",
    "\n",
    "col_nar %>% \n",
    "  count(work, sort = T) %>% \n",
    "  head(20)\n",
    "\n",
    "# write.csv(col_nar, file = \"../data/ch1/01_copia_experiment/Narrative_collections.csv\")"
   ]
  },
  {
   "cell_type": "code",
   "execution_count": 25,
   "id": "388eb24b",
   "metadata": {
    "scrolled": false
   },
   "outputs": [
    {
     "data": {
      "text/html": [
       "101"
      ],
      "text/latex": [
       "101"
      ],
      "text/markdown": [
       "101"
      ],
      "text/plain": [
       "[1] 101"
      ]
     },
     "metadata": {},
     "output_type": "display_data"
    },
    {
     "data": {
      "text/html": [
       "<table class=\"dataframe\">\n",
       "<caption>A tibble: 20 × 2</caption>\n",
       "<thead>\n",
       "\t<tr><th scope=col>work</th><th scope=col>n</th></tr>\n",
       "\t<tr><th scope=col>&lt;chr&gt;</th><th scope=col>&lt;int&gt;</th></tr>\n",
       "</thead>\n",
       "<tbody>\n",
       "\t<tr><td>1839_265_Кукольник Н. (изд.)_Новогодник, собрание сочинений в прозе и стихах, современных русских писателей изданный Н. Кукольником                                                 </td><td>6</td></tr>\n",
       "\t<tr><td>1841_371_NA_Русская беседа : Собр. соч. рус. литераторов, изд. в пользу А.Ф. Смирдина: В 3 т. Т. 1                                                                                  </td><td>6</td></tr>\n",
       "\t<tr><td>1841_372_NA_Русская беседа : Собр. соч. рус. литераторов, изд. в пользу А.Ф. Смирдина: В 3 т. Т. 2                                                                                  </td><td>6</td></tr>\n",
       "\t<tr><td>1832_770_Эртель В., Глебов А. (изд.)_Русский альманах на 1832 и 1833 годы                                                                                                           </td><td>5</td></tr>\n",
       "\t<tr><td>1833_767_NA_Новоселье: [альманах]. Часть 1                                                                                                                                          </td><td>5</td></tr>\n",
       "\t<tr><td>1834_50_NA_Новоселье. Ч. 2                                                                                                                                                          </td><td>5</td></tr>\n",
       "\t<tr><td>1840_331_Владиславлев В._Утренняя заря Альманах Владиславлева на 1840 год. 2-й год                                                                                                  </td><td>5</td></tr>\n",
       "\t<tr><td>1841_341_Владиславлев В.А._Утренняя заря Альманах Владиславлева на 1841 год. 3-й год                                                                                                </td><td>5</td></tr>\n",
       "\t<tr><td>1842_414_NA_Русская беседа : Собр. соч. рус. литераторов, изд. в пользу А.Ф. Смирдина: В 3 т. Т. 3                                                                                  </td><td>5</td></tr>\n",
       "\t<tr><td>1842_422_Владиславлев В. (изд.)_Утренняя заря Альманах Владиславлева на 1842 год. 4-й год                                                                                           </td><td>5</td></tr>\n",
       "\t<tr><td>1844_490_NA_Литературный вечер : [Сб. рассказов и стихов в память В.В. Пассека]                                                                                                     </td><td>5</td></tr>\n",
       "\t<tr><td>1844_494_NA_Архангельский историческо-литературный сборник, изданный Флегонтом Вальневым.                                                                                           </td><td>5</td></tr>\n",
       "\t<tr><td>1830_899_Дельвиг А. (изд.)_Северные цветы на 1831 год                                                                                                                               </td><td>4</td></tr>\n",
       "\t<tr><td>1831_912_NA_Сиротка, литературный альманах на 1831 год, изд. в пользу заведения призрения бедных сирот                                                                              </td><td>4</td></tr>\n",
       "\t<tr><td>1831_915_NA_Цинтия, Альманах на 1832 год                                                                                                                                            </td><td>4</td></tr>\n",
       "\t<tr><td>1834_48_NA_Подарок бедным: Альманах на 1834 год, изданный новороссийским женским обществом призрения бедных                                                                         </td><td>4</td></tr>\n",
       "\t<tr><td>1835_97_NA_Весенние цветы, или Собрание романсов, баллад и песен Пушкина, Жуковского, Козлова, Баратынского, Туманского, Ф. Глинки, Ознобишина, Раича, Маркевича, Вяземского и проч.</td><td>4</td></tr>\n",
       "\t<tr><td>1835_98_NA_Летопись факультетов на 1835 год, изданная в двух книгах А. Галичем и В. Плаксиным. Кн. 1.                                                                               </td><td>4</td></tr>\n",
       "\t<tr><td>1836_136_Крыловский В._Мое новоселье. Альманах на 1836 год, изд. В. Крыловским                                                                                                      </td><td>4</td></tr>\n",
       "\t<tr><td>1838_198_Владиславлев В.А._Альманах на 1838 год составленный из литературных трудов и проч. Владиславлева                                                                           </td><td>4</td></tr>\n",
       "</tbody>\n",
       "</table>\n"
      ],
      "text/latex": [
       "A tibble: 20 × 2\n",
       "\\begin{tabular}{ll}\n",
       " work & n\\\\\n",
       " <chr> & <int>\\\\\n",
       "\\hline\n",
       "\t 1839\\_265\\_Кукольник Н. (изд.)\\_Новогодник, собрание сочинений в прозе и стихах, современных русских писателей изданный Н. Кукольником                                                  & 6\\\\\n",
       "\t 1841\\_371\\_NA\\_Русская беседа : Собр. соч. рус. литераторов, изд. в пользу А.Ф. Смирдина: В 3 т. Т. 1                                                                                   & 6\\\\\n",
       "\t 1841\\_372\\_NA\\_Русская беседа : Собр. соч. рус. литераторов, изд. в пользу А.Ф. Смирдина: В 3 т. Т. 2                                                                                   & 6\\\\\n",
       "\t 1832\\_770\\_Эртель В., Глебов А. (изд.)\\_Русский альманах на 1832 и 1833 годы                                                                                                            & 5\\\\\n",
       "\t 1833\\_767\\_NA\\_Новоселье: {[}альманах{]}. Часть 1                                                                                                                                           & 5\\\\\n",
       "\t 1834\\_50\\_NA\\_Новоселье. Ч. 2                                                                                                                                                           & 5\\\\\n",
       "\t 1840\\_331\\_Владиславлев В.\\_Утренняя заря Альманах Владиславлева на 1840 год. 2-й год                                                                                                   & 5\\\\\n",
       "\t 1841\\_341\\_Владиславлев В.А.\\_Утренняя заря Альманах Владиславлева на 1841 год. 3-й год                                                                                                 & 5\\\\\n",
       "\t 1842\\_414\\_NA\\_Русская беседа : Собр. соч. рус. литераторов, изд. в пользу А.Ф. Смирдина: В 3 т. Т. 3                                                                                   & 5\\\\\n",
       "\t 1842\\_422\\_Владиславлев В. (изд.)\\_Утренняя заря Альманах Владиславлева на 1842 год. 4-й год                                                                                            & 5\\\\\n",
       "\t 1844\\_490\\_NA\\_Литературный вечер : {[}Сб. рассказов и стихов в память В.В. Пассека{]}                                                                                                      & 5\\\\\n",
       "\t 1844\\_494\\_NA\\_Архангельский историческо-литературный сборник, изданный Флегонтом Вальневым.                                                                                            & 5\\\\\n",
       "\t 1830\\_899\\_Дельвиг А. (изд.)\\_Северные цветы на 1831 год                                                                                                                                & 4\\\\\n",
       "\t 1831\\_912\\_NA\\_Сиротка, литературный альманах на 1831 год, изд. в пользу заведения призрения бедных сирот                                                                               & 4\\\\\n",
       "\t 1831\\_915\\_NA\\_Цинтия, Альманах на 1832 год                                                                                                                                             & 4\\\\\n",
       "\t 1834\\_48\\_NA\\_Подарок бедным: Альманах на 1834 год, изданный новороссийским женским обществом призрения бедных                                                                          & 4\\\\\n",
       "\t 1835\\_97\\_NA\\_Весенние цветы, или Собрание романсов, баллад и песен Пушкина, Жуковского, Козлова, Баратынского, Туманского, Ф. Глинки, Ознобишина, Раича, Маркевича, Вяземского и проч. & 4\\\\\n",
       "\t 1835\\_98\\_NA\\_Летопись факультетов на 1835 год, изданная в двух книгах А. Галичем и В. Плаксиным. Кн. 1.                                                                                & 4\\\\\n",
       "\t 1836\\_136\\_Крыловский В.\\_Мое новоселье. Альманах на 1836 год, изд. В. Крыловским                                                                                                       & 4\\\\\n",
       "\t 1838\\_198\\_Владиславлев В.А.\\_Альманах на 1838 год составленный из литературных трудов и проч. Владиславлева                                                                            & 4\\\\\n",
       "\\end{tabular}\n"
      ],
      "text/markdown": [
       "\n",
       "A tibble: 20 × 2\n",
       "\n",
       "| work &lt;chr&gt; | n &lt;int&gt; |\n",
       "|---|---|\n",
       "| 1839_265_Кукольник Н. (изд.)_Новогодник, собрание сочинений в прозе и стихах, современных русских писателей изданный Н. Кукольником                                                  | 6 |\n",
       "| 1841_371_NA_Русская беседа : Собр. соч. рус. литераторов, изд. в пользу А.Ф. Смирдина: В 3 т. Т. 1                                                                                   | 6 |\n",
       "| 1841_372_NA_Русская беседа : Собр. соч. рус. литераторов, изд. в пользу А.Ф. Смирдина: В 3 т. Т. 2                                                                                   | 6 |\n",
       "| 1832_770_Эртель В., Глебов А. (изд.)_Русский альманах на 1832 и 1833 годы                                                                                                            | 5 |\n",
       "| 1833_767_NA_Новоселье: [альманах]. Часть 1                                                                                                                                           | 5 |\n",
       "| 1834_50_NA_Новоселье. Ч. 2                                                                                                                                                           | 5 |\n",
       "| 1840_331_Владиславлев В._Утренняя заря Альманах Владиславлева на 1840 год. 2-й год                                                                                                   | 5 |\n",
       "| 1841_341_Владиславлев В.А._Утренняя заря Альманах Владиславлева на 1841 год. 3-й год                                                                                                 | 5 |\n",
       "| 1842_414_NA_Русская беседа : Собр. соч. рус. литераторов, изд. в пользу А.Ф. Смирдина: В 3 т. Т. 3                                                                                   | 5 |\n",
       "| 1842_422_Владиславлев В. (изд.)_Утренняя заря Альманах Владиславлева на 1842 год. 4-й год                                                                                            | 5 |\n",
       "| 1844_490_NA_Литературный вечер : [Сб. рассказов и стихов в память В.В. Пассека]                                                                                                      | 5 |\n",
       "| 1844_494_NA_Архангельский историческо-литературный сборник, изданный Флегонтом Вальневым.                                                                                            | 5 |\n",
       "| 1830_899_Дельвиг А. (изд.)_Северные цветы на 1831 год                                                                                                                                | 4 |\n",
       "| 1831_912_NA_Сиротка, литературный альманах на 1831 год, изд. в пользу заведения призрения бедных сирот                                                                               | 4 |\n",
       "| 1831_915_NA_Цинтия, Альманах на 1832 год                                                                                                                                             | 4 |\n",
       "| 1834_48_NA_Подарок бедным: Альманах на 1834 год, изданный новороссийским женским обществом призрения бедных                                                                          | 4 |\n",
       "| 1835_97_NA_Весенние цветы, или Собрание романсов, баллад и песен Пушкина, Жуковского, Козлова, Баратынского, Туманского, Ф. Глинки, Ознобишина, Раича, Маркевича, Вяземского и проч. | 4 |\n",
       "| 1835_98_NA_Летопись факультетов на 1835 год, изданная в двух книгах А. Галичем и В. Плаксиным. Кн. 1.                                                                                | 4 |\n",
       "| 1836_136_Крыловский В._Мое новоселье. Альманах на 1836 год, изд. В. Крыловским                                                                                                       | 4 |\n",
       "| 1838_198_Владиславлев В.А._Альманах на 1838 год составленный из литературных трудов и проч. Владиславлева                                                                            | 4 |\n",
       "\n"
      ],
      "text/plain": [
       "   work                                                                                                                                                                                \n",
       "1  1839_265_Кукольник Н. (изд.)_Новогодник, собрание сочинений в прозе и стихах, современных русских писателей изданный Н. Кукольником                                                 \n",
       "2  1841_371_NA_Русская беседа : Собр. соч. рус. литераторов, изд. в пользу А.Ф. Смирдина: В 3 т. Т. 1                                                                                  \n",
       "3  1841_372_NA_Русская беседа : Собр. соч. рус. литераторов, изд. в пользу А.Ф. Смирдина: В 3 т. Т. 2                                                                                  \n",
       "4  1832_770_Эртель В., Глебов А. (изд.)_Русский альманах на 1832 и 1833 годы                                                                                                           \n",
       "5  1833_767_NA_Новоселье: [альманах]. Часть 1                                                                                                                                          \n",
       "6  1834_50_NA_Новоселье. Ч. 2                                                                                                                                                          \n",
       "7  1840_331_Владиславлев В._Утренняя заря Альманах Владиславлева на 1840 год. 2-й год                                                                                                  \n",
       "8  1841_341_Владиславлев В.А._Утренняя заря Альманах Владиславлева на 1841 год. 3-й год                                                                                                \n",
       "9  1842_414_NA_Русская беседа : Собр. соч. рус. литераторов, изд. в пользу А.Ф. Смирдина: В 3 т. Т. 3                                                                                  \n",
       "10 1842_422_Владиславлев В. (изд.)_Утренняя заря Альманах Владиславлева на 1842 год. 4-й год                                                                                           \n",
       "11 1844_490_NA_Литературный вечер : [Сб. рассказов и стихов в память В.В. Пассека]                                                                                                     \n",
       "12 1844_494_NA_Архангельский историческо-литературный сборник, изданный Флегонтом Вальневым.                                                                                           \n",
       "13 1830_899_Дельвиг А. (изд.)_Северные цветы на 1831 год                                                                                                                               \n",
       "14 1831_912_NA_Сиротка, литературный альманах на 1831 год, изд. в пользу заведения призрения бедных сирот                                                                              \n",
       "15 1831_915_NA_Цинтия, Альманах на 1832 год                                                                                                                                            \n",
       "16 1834_48_NA_Подарок бедным: Альманах на 1834 год, изданный новороссийским женским обществом призрения бедных                                                                         \n",
       "17 1835_97_NA_Весенние цветы, или Собрание романсов, баллад и песен Пушкина, Жуковского, Козлова, Баратынского, Туманского, Ф. Глинки, Ознобишина, Раича, Маркевича, Вяземского и проч.\n",
       "18 1835_98_NA_Летопись факультетов на 1835 год, изданная в двух книгах А. Галичем и В. Плаксиным. Кн. 1.                                                                               \n",
       "19 1836_136_Крыловский В._Мое новоселье. Альманах на 1836 год, изд. В. Крыловским                                                                                                      \n",
       "20 1838_198_Владиславлев В.А._Альманах на 1838 год составленный из литературных трудов и проч. Владиславлева                                                                           \n",
       "   n\n",
       "1  6\n",
       "2  6\n",
       "3  6\n",
       "4  5\n",
       "5  5\n",
       "6  5\n",
       "7  5\n",
       "8  5\n",
       "9  5\n",
       "10 5\n",
       "11 5\n",
       "12 5\n",
       "13 4\n",
       "14 4\n",
       "15 4\n",
       "16 4\n",
       "17 4\n",
       "18 4\n",
       "19 4\n",
       "20 4"
      ]
     },
     "metadata": {},
     "output_type": "display_data"
    }
   ],
   "source": [
    "#### Almanacs ####\n",
    "\n",
    "alm <- to_exp_long %>% \n",
    "  filter(group == \"almanac\") %>% \n",
    "  select(work, collection)\n",
    "\n",
    "length(unique(alm$work))\n",
    "\n",
    "alm %>% \n",
    "  count(work, sort = T) %>% \n",
    "  head(20)\n",
    "\n",
    "# write.csv(alm, file = \"../data/ch1/01_copia_experiment/Almanacks.csv\")"
   ]
  },
  {
   "cell_type": "code",
   "execution_count": null,
   "id": "b7bb8527",
   "metadata": {
    "scrolled": false
   },
   "outputs": [],
   "source": [
    "#### Additional experiment ####\n",
    "#### year + genre grouping ####\n",
    "\n",
    "to_exp_years <- biblio_wide %>% \n",
    "  mutate(year_group = floor(year/5)*5) %>% \n",
    "  mutate(year_group = ifelse(year_group == 1850, 1845, year_group)) %>% \n",
    "  mutate(work = paste0(group, \"_\", year_group, \"____\", id, \"_\", author_sign, \"_\", title)) %>% \n",
    "  select(work,\n",
    "         nlr:spbgu)\n",
    "\n",
    "\n",
    "to_exp_years_long <- to_exp_years %>% \n",
    "  pivot_longer(!work, names_to = \"collection\", values_to = \"count\") %>% \n",
    "  filter(count != 0) %>% \n",
    "  separate(work, into = c(\"group\", \"work\"), sep = \"____\") %>% \n",
    "  select(group, work, collection)\n",
    "\n",
    "glimpse(to_exp_years_long)\n",
    "\n",
    "to_exp_years_long %>% \n",
    "  group_by(group) %>% \n",
    "  count()\n",
    "\n",
    "x <- NULL\n",
    "group <- NULL\n",
    "\n",
    "for (i in 1:length(unique(to_exp_years_long$group))) {\n",
    "  \n",
    "  group_i <- unique(to_exp_years_long$group)[i]\n",
    "  \n",
    "  x <- to_exp_years_long %>% \n",
    "    filter(group == group_i) %>% \n",
    "    select(work, collection)\n",
    "  \n",
    "  write.csv(x, file = paste0(\"data/ch1/01_copia_experiment/addition/\", group_i, \".csv\"))\n",
    "}"
   ]
  }
 ],
 "metadata": {
  "kernelspec": {
   "display_name": "R",
   "language": "R",
   "name": "ir"
  },
  "language_info": {
   "codemirror_mode": "r",
   "file_extension": ".r",
   "mimetype": "text/x-r-source",
   "name": "R",
   "pygments_lexer": "r",
   "version": "4.3.0"
  }
 },
 "nbformat": 4,
 "nbformat_minor": 5
}
