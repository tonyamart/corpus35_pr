{
 "cells": [
  {
   "cell_type": "markdown",
   "id": "4f26219f",
   "metadata": {},
   "source": [
    "## Chapter 2.2. Poems in periodicals: statistics\n",
    "\n",
    "Load packages and periodicals data"
   ]
  },
  {
   "cell_type": "code",
   "execution_count": null,
   "id": "373857a6",
   "metadata": {},
   "outputs": [],
   "source": [
    "library(tidyverse)\n",
    "\n",
    "library(treemap)\n",
    "library(ggplotify)\n",
    "theme_set(theme_minimal())\n",
    "library(wesanderson)"
   ]
  },
  {
   "cell_type": "markdown",
   "id": "70ed3bae",
   "metadata": {},
   "source": [
    "Load data"
   ]
  },
  {
   "cell_type": "code",
   "execution_count": null,
   "id": "383f9bb9",
   "metadata": {},
   "outputs": [],
   "source": [
    "# periodicals\n",
    "per <- read.csv(\"../../data/periodicals_lem.csv\") %>% \n",
    "            select(-X) %>% \n",
    "            rename(author = Author_Initials,\n",
    "                  year = Year, \n",
    "                  title = Text_title,\n",
    "                  first_line = First_line) %>% \n",
    "            filter(year != 1834)\n",
    "glimpse(per)"
   ]
  },
  {
   "cell_type": "code",
   "execution_count": null,
   "id": "34038463",
   "metadata": {},
   "outputs": [],
   "source": [
    "# RNC data\n",
    "load(\"../../data/nkrja_19th_lem.Rda\")\n",
    "\n",
    "rnc_authors <- c19 %>% \n",
    "    select(author) %>% \n",
    "    mutate(author = str_remove_all(author, \"[[:space:]]|[[:punct:]]\")) %>% \n",
    "    distinct() %>% \n",
    "    pull()\n",
    "\n",
    "head(rnc_authors)\n",
    "\n",
    "#rm(c19)"
   ]
  },
  {
   "cell_type": "code",
   "execution_count": null,
   "id": "5db19320",
   "metadata": {},
   "outputs": [],
   "source": [
    "print(\"Total number of authors in periodicals:\")\n",
    "per %>% \n",
    "    filter(!is.na(A_ID) & !is.na(author)) %>% # 1095 poems are with known author\n",
    "    select(author) %>% \n",
    "    count(author, sort = T) %>% nrow() \n",
    "\n",
    "print(\"Number of authors with biography in RP:\")\n",
    "per %>% \n",
    "    filter(!is.na(RP_biography)) %>% \n",
    "    select(RP_biography) %>% \n",
    "    count(RP_biography, sort = T) %>% nrow() \n",
    "\n",
    "print(\"Number of authors included in RNC\")\n",
    "per %>% \n",
    "    filter(!is.na(author)) %>% \n",
    "    select(author) %>% \n",
    "    mutate(author = str_replace_all(author, \"(.*?[[:space:]])(\\\\w\\\\.\\\\w.)\", \"\\\\2\\\\1\")) %>% \n",
    "    mutate(author = str_remove_all(author, \"[[:space:]]|[[:punct:]]\")) %>% \n",
    "    distinct() %>% \n",
    "    filter(author %in% rnc_authors) %>% nrow()"
   ]
  },
  {
   "cell_type": "markdown",
   "id": "5cb46e7c",
   "metadata": {},
   "source": [
    "## Textual intersections between RNC & periodicals\n",
    "- Create for each poem an id column containing two first lines\n",
    "- Mark the intersection with a special tag"
   ]
  },
  {
   "cell_type": "code",
   "execution_count": null,
   "id": "20b81011",
   "metadata": {},
   "outputs": [],
   "source": [
    "periodicals <- per %>% \n",
    "    filter(n_lines > 3) %>%\n",
    "    mutate(doublesCheck = str_extract(text_lemm, \"^.*?\\n.*?\\n.*?\\n\")) %>% \n",
    "    mutate(doublesCheck = str_remove_all(doublesCheck, \"[[:punct:]]|[[:space:]]\"))\n",
    "\n",
    "glimpse(periodicals)"
   ]
  },
  {
   "cell_type": "code",
   "execution_count": null,
   "id": "d062b6e8",
   "metadata": {},
   "outputs": [],
   "source": [
    "nkrja19 <- c19 %>% \n",
    "    rename(index = `Unnamed..0`,\n",
    "          text_lemm = lemma) %>% \n",
    "    select(index, author, text_lemm) %>%\n",
    "    mutate(doublesCheck = str_extract(text_lemm, \"^.*?\\n.*?\\n.*?\\n\")) %>% \n",
    "    mutate(doublesCheck = str_remove_all(doublesCheck, \"[[:punct:]]|[[:space:]]\"))\n",
    "\n",
    "glimpse(nkrja19)"
   ]
  },
  {
   "cell_type": "code",
   "execution_count": null,
   "id": "8719dc26",
   "metadata": {},
   "outputs": [],
   "source": [
    "doubles_id <- periodicals %>% \n",
    "    inner_join(nkrja19, by = \"doublesCheck\") %>% \n",
    "    select(index, id, year, author.x, author.y, doublesCheck, text_raw)\n",
    "\n",
    "doubles_id %>% select(-text_raw)"
   ]
  },
  {
   "cell_type": "code",
   "execution_count": null,
   "id": "d6ecbc30",
   "metadata": {},
   "outputs": [],
   "source": [
    "print(\"Total number of intersected texts:\")\n",
    "nrow(doubles_id)\n",
    "\n",
    "print(\"Total number of texts in periodicals:\")\n",
    "nrow(periodicals)\n",
    "\n",
    "print(\"Total % of intersected texts out for all periodicals texts:\")\n",
    "round( (nrow(doubles_id)/nrow(periodicals))*100 , 1) "
   ]
  },
  {
   "cell_type": "code",
   "execution_count": null,
   "id": "3eb9000e",
   "metadata": {},
   "outputs": [],
   "source": [
    "glimpse(doubles_id)\n",
    "\n",
    "doubles_counts <- doubles_id %>% \n",
    "    count(year) %>% \n",
    "    mutate(group = \"Периодика и НКРЯ\")\n",
    "\n",
    "doubles_counts %>% pivot_wider(names_from = year, values_from = n)"
   ]
  },
  {
   "cell_type": "markdown",
   "id": "c1b803c0",
   "metadata": {},
   "source": [
    "### Plot 2.2"
   ]
  },
  {
   "cell_type": "code",
   "execution_count": null,
   "id": "08b3e681",
   "metadata": {},
   "outputs": [],
   "source": [
    "rnc_1835 <- c19 %>% \n",
    "    rename(index = `Unnamed..0`) %>% \n",
    "    # remove intersection\n",
    "    #anti_join(doubles_id %>% select(index), by = \"index\") %>%\n",
    "\n",
    "    # calculate number of unique poems\n",
    "    filter(year > 1834 & year < 1841) %>% \n",
    "    count(year, sort = F) %>% \n",
    "    mutate(group = \"НКРЯ\")\n",
    "\n",
    "rnc_1835 %>% pivot_wider(names_from = year, values_from = n)"
   ]
  },
  {
   "cell_type": "code",
   "execution_count": null,
   "id": "65c3ee68",
   "metadata": {},
   "outputs": [],
   "source": [
    "counter_1835 <- per %>% \n",
    "    # remove intersection\n",
    "    #anti_join(doubles_id %>% select(id), by = \"id\") %>%\n",
    "\n",
    "    count(year, sort = F) %>% \n",
    "    mutate(group = \"Периодика\") %>%\n",
    "    rbind(rnc_1835, doubles_counts)\n",
    "\n",
    "counter_1835 %>% pivot_wider(names_from = year, values_from = n)"
   ]
  },
  {
   "cell_type": "code",
   "execution_count": null,
   "id": "97126af2",
   "metadata": {},
   "outputs": [],
   "source": [
    "p2_2_1 <- counter_1835 %>%\n",
    "    ggplot(aes(x = year, y = n, fill = group)) + \n",
    "    geom_col(position = \"dodge\", width = 0.6) + \n",
    "    scale_fill_manual(values = c(\n",
    "                                wes_palette(\"Zissou1\")[4],\n",
    "                                wes_palette(\"Royal1\")[1], \n",
    "                                wes_palette(\"Royal1\")[2])) + \n",
    "    scale_x_continuous(breaks = 1835:1840) +\n",
    "    theme(axis.text = element_text(size = 14),\n",
    "         axis.title = element_text(size = 16),\n",
    "         legend.title = element_text(size = 16, face = \"bold\"),\n",
    "         legend.text = element_text(size = 14)) + \n",
    "    labs(x = \"Год\",\n",
    "        y = \"Количество текстов\",\n",
    "        fill = \"Корпус\")\n",
    "\n",
    "p2_2_1"
   ]
  },
  {
   "cell_type": "code",
   "execution_count": null,
   "id": "153f10fb",
   "metadata": {},
   "outputs": [],
   "source": [
    "ggsave(file = \"plots/fig2_2_1.png\", plot = p2_2_1, dpi = 300,\n",
    "      width = 8, height = 6, bg = \"white\")"
   ]
  },
  {
   "cell_type": "markdown",
   "id": "6b3b82df",
   "metadata": {},
   "source": [
    "## Sources statistics\n",
    "Analysis of poems published in different sources (journals & newspapers) and by different authors"
   ]
  },
  {
   "cell_type": "code",
   "execution_count": null,
   "id": "9e153c9f",
   "metadata": {},
   "outputs": [],
   "source": [
    "glimpse(per)"
   ]
  },
  {
   "cell_type": "code",
   "execution_count": null,
   "id": "de3350b2",
   "metadata": {},
   "outputs": [],
   "source": [
    "# current state of digitisation\n",
    "\n",
    "per %>% \n",
    "    group_by(year, PER_ID) %>% \n",
    "    count(sort = F)"
   ]
  },
  {
   "cell_type": "code",
   "execution_count": null,
   "id": "bda3fb7e",
   "metadata": {},
   "outputs": [],
   "source": [
    "per %>% group_by(year, PER_ID) %>% count() %>% \n",
    "    ggplot(aes(x = year, y = n, fill = PER_ID)) + geom_col()"
   ]
  },
  {
   "cell_type": "code",
   "execution_count": null,
   "id": "3b720de4",
   "metadata": {},
   "outputs": [],
   "source": [
    "authors_sources <- per %>% \n",
    "    mutate(PER_ID = ifelse(str_detect(PER_ID,\"СОиСА\"), \"СО\", PER_ID)) %>% \n",
    "    filter(!is.na(author)) %>% \n",
    "    \n",
    "    # grouping by author, year and source\n",
    "    group_by(year, PER_ID, author) %>% \n",
    "    count(sort = T) %>% \n",
    "    ungroup() %>%\n",
    "    \n",
    "    # non-frequent authors grouped as \"others\"\n",
    "    mutate(author = ifelse(n < 3, \"Другие\", author)) %>% \n",
    "    group_by(year, PER_ID, author) %>% \n",
    "    # sum poems by others\n",
    "    summarise(n = sum(n)) %>% \n",
    "    mutate(author_label = paste0(author, \" (\", n, \")\"))\n",
    "\n",
    "head(authors_sources)"
   ]
  },
  {
   "cell_type": "code",
   "execution_count": null,
   "id": "5a905647",
   "metadata": {},
   "outputs": [],
   "source": [
    "light_palette <- \n",
    "    c(wes_palette(\"Chevalier1\")[1], \n",
    "    wes_palette(\"Chevalier1\")[2], \n",
    "    wes_palette(\"Chevalier1\")[3], \n",
    "    wes_palette(\"Darjeeling2\")[1], \n",
    "    wes_palette(\"Darjeeling2\")[2], \n",
    "    wes_palette(\"Darjeeling2\")[3])"
   ]
  },
  {
   "cell_type": "code",
   "execution_count": null,
   "id": "9236b098",
   "metadata": {},
   "outputs": [],
   "source": [
    "# treemap: https://cran.r-project.org/web/packages/treemap/treemap.pdf\n",
    "\n",
    "x <- NULL\n",
    "\n",
    "for (i in 1:length(unique(per$year))) {\n",
    "    \n",
    "    x <- unique(per$year)[i]\n",
    "    \n",
    "    filename = paste0(\"plots/treemaps/plot_\", x, \".png\")\n",
    "\n",
    "    png(filename, width = 600, height = 600)\n",
    "\n",
    "    t <- authors_sources %>% \n",
    "        filter(year == x) %>% \n",
    "        treemap(\n",
    "            index = c(\"PER_ID\", \"author_label\"),\n",
    "            vSize = \"n\",\n",
    "            type = \"index\",\n",
    "            palette = light_palette,\n",
    "            fontsize.labels = c(20, 16),\n",
    "            #position.legend = \"right\",\n",
    "            overlap.labels = 1,\n",
    "            title = x,\n",
    "            fontsize.title = 22\n",
    "        )\n",
    "\n",
    "    dev.off()\n",
    "}"
   ]
  },
  {
   "cell_type": "code",
   "execution_count": null,
   "id": "5bd031c2",
   "metadata": {},
   "outputs": [],
   "source": [
    "authors_sources %>% \n",
    "        filter(year == 1835) %>% \n",
    "        treemap(\n",
    "            index = c(\"PER_ID\", \"author_label\"),\n",
    "            vSize = \"n\",\n",
    "            type = \"index\",\n",
    "            palette = light_palette,\n",
    "            fontsize.labels = c(20, 16),\n",
    "            #position.legend = \"right\",\n",
    "            overlap.labels = 1,\n",
    "            title = \"1835\",\n",
    "            fontsize.title = 22\n",
    "        )"
   ]
  }
 ],
 "metadata": {
  "kernelspec": {
   "display_name": "R",
   "language": "R",
   "name": "ir"
  },
  "language_info": {
   "codemirror_mode": "r",
   "file_extension": ".r",
   "mimetype": "text/x-r-source",
   "name": "R",
   "pygments_lexer": "r",
   "version": "4.2.1"
  }
 },
 "nbformat": 4,
 "nbformat_minor": 5
}
