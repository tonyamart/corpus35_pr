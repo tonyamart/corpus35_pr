{
 "cells": [
  {
   "cell_type": "markdown",
   "id": "4f26219f",
   "metadata": {},
   "source": [
    "## Chapter 2.2. Poems in periodicals: statistics\n",
    "\n",
    "Load packages and periodicals data"
   ]
  },
  {
   "cell_type": "code",
   "execution_count": 3,
   "id": "373857a6",
   "metadata": {},
   "outputs": [],
   "source": [
    "library(tidyverse)\n",
    "\n",
    "theme_set(theme_minimal())\n",
    "library(wesanderson)"
   ]
  },
  {
   "cell_type": "markdown",
   "id": "70ed3bae",
   "metadata": {},
   "source": [
    "Load data"
   ]
  },
  {
   "cell_type": "code",
   "execution_count": 8,
   "id": "383f9bb9",
   "metadata": {},
   "outputs": [
    {
     "name": "stdout",
     "output_type": "stream",
     "text": [
      "Rows: 1,402\n",
      "Columns: 27\n",
      "$ id               \u001b[3m\u001b[90m<chr>\u001b[39m\u001b[23m \"P_8\", \"P_9\", \"P_10\", \"P_11\", \"P_12\", \"P_13\", \"P_14\",…\n",
      "$ Unmed..0         \u001b[3m\u001b[90m<int>\u001b[39m\u001b[23m NA, 2873, 1232, NA, NA, 12698, NA, NA, NA, 12683, NA,…\n",
      "$ author_nkrja     \u001b[3m\u001b[90m<chr>\u001b[39m\u001b[23m \"\", \"Е. А. Баратынский\", \"Л. А. Якубович\", \"\", \"\", \"А…\n",
      "$ A_ID             \u001b[3m\u001b[90m<chr>\u001b[39m\u001b[23m \"A-74\", \"A-2\", \"A-50\", \"A-138\", \"A-139\", \"A-11\", \"A-1…\n",
      "$ author           \u001b[3m\u001b[90m<chr>\u001b[39m\u001b[23m \"Марков М.А.\", \"Баратынский Е.А.\", \"Якубович Л.А.\", \"…\n",
      "$ title            \u001b[3m\u001b[90m<chr>\u001b[39m\u001b[23m \"Русский царь\", \"Запустение\", \"Молния\", \"Аполог\", \"По…\n",
      "$ first_line       \u001b[3m\u001b[90m<chr>\u001b[39m\u001b[23m \"Достигнула Европа цели\", \"Я посетил тебя, пленительн…\n",
      "$ PER_ID           \u001b[3m\u001b[90m<chr>\u001b[39m\u001b[23m \"БдЧ\", \"БдЧ\", \"БдЧ\", \"БдЧ\", \"БдЧ\", \"БдЧ\", \"БдЧ\", \"БдЧ…\n",
      "$ year             \u001b[3m\u001b[90m<int>\u001b[39m\u001b[23m 1835, 1835, 1835, 1835, 1835, 1835, 1835, 1835, 1835,…\n",
      "$ Vol              \u001b[3m\u001b[90m<chr>\u001b[39m\u001b[23m \"Т.8. Отд. 1\", \"Т.8. Отд. 1\", \"Т.8. Отд. 1\", \"Т.8. От…\n",
      "$ Num              \u001b[3m\u001b[90m<chr>\u001b[39m\u001b[23m NA, NA, NA, NA, NA, NA, NA, NA, NA, NA, NA, NA, NA, N…\n",
      "$ Pages            \u001b[3m\u001b[90m<chr>\u001b[39m\u001b[23m \"5-8\", \"19-21\", \"21\", \"22\", \"145-157\", \"158\", \"159\", …\n",
      "$ Subtitle         \u001b[3m\u001b[90m<chr>\u001b[39m\u001b[23m NA, \"Элегия\", NA, NA, \"Баллада\", NA, NA, NA, NA, \"Пес…\n",
      "$ Author_sign      \u001b[3m\u001b[90m<chr>\u001b[39m\u001b[23m \"М. Марков\", \"Е. Баратынский\", \"Л. Якубович\", \"А.И. К…\n",
      "$ Author_full_name \u001b[3m\u001b[90m<chr>\u001b[39m\u001b[23m \"Марков Михаил Александрович\", \"Баратынский Евгений А…\n",
      "$ Author_birth     \u001b[3m\u001b[90m<int>\u001b[39m\u001b[23m 1810, 1800, 1805, 1784, 1810, 1799, 1779, 1779, 1795,…\n",
      "$ Author_death     \u001b[3m\u001b[90m<chr>\u001b[39m\u001b[23m \"1876\", \"1844\", \"1839\", \"1812\", \"1857\", \"1837\", \"1840…\n",
      "$ RP_biography     \u001b[3m\u001b[90m<chr>\u001b[39m\u001b[23m \"3-528\", \"1-158\", NA, NA, \"5-151\", \"5\", \"3-5\", \"3-5\",…\n",
      "$ Comment          \u001b[3m\u001b[90m<chr>\u001b[39m\u001b[23m \"\", \"\", \"\", \"\", \"\", \"\", \"\", \"\", \"\", \"\", \"\", \"\", \"\", \"…\n",
      "$ text_raw         \u001b[3m\u001b[90m<chr>\u001b[39m\u001b[23m \"Достигнула! Европа цели, —\\nСвятая Русь поражена,\\nИ…\n",
      "$ text_lemm        \u001b[3m\u001b[90m<chr>\u001b[39m\u001b[23m \"достигнуть! европа цель, —\\nсвятой русь поражать,\\nи…\n",
      "$ meter            \u001b[3m\u001b[90m<chr>\u001b[39m\u001b[23m \"iamb\", \"iamb\", \"iamb\", \"trochee\", \"trochee\", \"troche…\n",
      "$ feet             \u001b[3m\u001b[90m<chr>\u001b[39m\u001b[23m \"4\", \"free\", \"free\", \"4\", \"4\", \"4\", NA, \"6\", \"free\", …\n",
      "$ perc_meter       \u001b[3m\u001b[90m<dbl>\u001b[39m\u001b[23m 1.0000000, 1.0000000, 1.0000000, 1.0000000, 0.9500000…\n",
      "$ perc_feet        \u001b[3m\u001b[90m<dbl>\u001b[39m\u001b[23m 0.7800000, NA, NA, 0.7500000, 0.8914141, 0.8846154, N…\n",
      "$ formula          \u001b[3m\u001b[90m<chr>\u001b[39m\u001b[23m \"iamb_4\", \"iamb_free\", \"iamb_free\", \"trochee_4\", \"tro…\n",
      "$ n_lines          \u001b[3m\u001b[90m<int>\u001b[39m\u001b[23m 100, 69, 16, 28, 400, 26, 14, 14, 18, 82, 54, 47, 91,…\n"
     ]
    }
   ],
   "source": [
    "# periodicals\n",
    "per <- read.csv(\"../../data/periodicals_lem.csv\") %>% \n",
    "            select(-txt_raw, -text, -X) %>% \n",
    "            rename(author = Author_Initials,\n",
    "                  year = Year, \n",
    "                  title = Text_title,\n",
    "                  first_line = First_line) %>% \n",
    "            filter(year != 1834)\n",
    "glimpse(per)"
   ]
  },
  {
   "cell_type": "code",
   "execution_count": 25,
   "id": "34038463",
   "metadata": {},
   "outputs": [
    {
     "data": {
      "text/html": [
       "<style>\n",
       ".list-inline {list-style: none; margin:0; padding: 0}\n",
       ".list-inline>li {display: inline-block}\n",
       ".list-inline>li:not(:last-child)::after {content: \"\\00b7\"; padding: 0 .5ex}\n",
       "</style>\n",
       "<ol class=list-inline><li>'ССБобров'</li><li>'САТучков'</li><li>'ССПестов'</li><li>'ППСумароков'</li><li>'НССмирнов'</li><li>'ПАСловцов'</li></ol>\n"
      ],
      "text/latex": [
       "\\begin{enumerate*}\n",
       "\\item 'ССБобров'\n",
       "\\item 'САТучков'\n",
       "\\item 'ССПестов'\n",
       "\\item 'ППСумароков'\n",
       "\\item 'НССмирнов'\n",
       "\\item 'ПАСловцов'\n",
       "\\end{enumerate*}\n"
      ],
      "text/markdown": [
       "1. 'ССБобров'\n",
       "2. 'САТучков'\n",
       "3. 'ССПестов'\n",
       "4. 'ППСумароков'\n",
       "5. 'НССмирнов'\n",
       "6. 'ПАСловцов'\n",
       "\n",
       "\n"
      ],
      "text/plain": [
       "[1] \"ССБобров\"    \"САТучков\"    \"ССПестов\"    \"ППСумароков\" \"НССмирнов\"  \n",
       "[6] \"ПАСловцов\"  "
      ]
     },
     "metadata": {},
     "output_type": "display_data"
    }
   ],
   "source": [
    "# RNC data\n",
    "load(\"../../data/nkrja_19th_lem.Rda\")\n",
    "\n",
    "rnc_authors <- c19 %>% \n",
    "    select(author) %>% \n",
    "    mutate(author = str_remove_all(author, \"[[:space:]]|[[:punct:]]\")) %>% \n",
    "    distinct() %>% \n",
    "    pull()\n",
    "\n",
    "head(rnc_authors)\n",
    "\n",
    "rm(c19)"
   ]
  },
  {
   "cell_type": "code",
   "execution_count": 39,
   "id": "5db19320",
   "metadata": {},
   "outputs": [
    {
     "name": "stdout",
     "output_type": "stream",
     "text": [
      "[1] \"Total number of authors in periodicals:\"\n"
     ]
    },
    {
     "data": {
      "text/html": [
       "164"
      ],
      "text/latex": [
       "164"
      ],
      "text/markdown": [
       "164"
      ],
      "text/plain": [
       "[1] 164"
      ]
     },
     "metadata": {},
     "output_type": "display_data"
    },
    {
     "name": "stdout",
     "output_type": "stream",
     "text": [
      "[1] \"Number of authors with biography in RP:\"\n"
     ]
    },
    {
     "data": {
      "text/html": [
       "101"
      ],
      "text/latex": [
       "101"
      ],
      "text/markdown": [
       "101"
      ],
      "text/plain": [
       "[1] 101"
      ]
     },
     "metadata": {},
     "output_type": "display_data"
    },
    {
     "name": "stdout",
     "output_type": "stream",
     "text": [
      "[1] \"Number of authors included in RNC\"\n"
     ]
    },
    {
     "data": {
      "text/html": [
       "54"
      ],
      "text/latex": [
       "54"
      ],
      "text/markdown": [
       "54"
      ],
      "text/plain": [
       "[1] 54"
      ]
     },
     "metadata": {},
     "output_type": "display_data"
    }
   ],
   "source": [
    "print(\"Total number of authors in periodicals:\")\n",
    "per %>% \n",
    "    filter(!is.na(A_ID) & !is.na(author)) %>% # 1095 poems are with known author\n",
    "    select(author) %>% \n",
    "    count(author, sort = T) %>% nrow() \n",
    "\n",
    "print(\"Number of authors with biography in RP:\")\n",
    "per %>% \n",
    "    filter(!is.na(RP_biography)) %>% \n",
    "    select(RP_biography) %>% \n",
    "    count(RP_biography, sort = T) %>% nrow() \n",
    "\n",
    "print(\"Number of authors included in RNC\")\n",
    "per %>% \n",
    "    filter(!is.na(author)) %>% \n",
    "    select(author) %>% \n",
    "    mutate(author = str_replace_all(author, \"(.*?[[:space:]])(\\\\w\\\\.\\\\w.)\", \"\\\\2\\\\1\")) %>% \n",
    "    mutate(author = str_remove_all(author, \"[[:space:]]|[[:punct:]]\")) %>% \n",
    "    distinct() %>% \n",
    "    filter(author %in% rnc_authors) %>% nrow()"
   ]
  },
  {
   "cell_type": "code",
   "execution_count": null,
   "id": "1f8a2136",
   "metadata": {},
   "outputs": [],
   "source": []
  }
 ],
 "metadata": {
  "kernelspec": {
   "display_name": "R",
   "language": "R",
   "name": "ir"
  },
  "language_info": {
   "codemirror_mode": "r",
   "file_extension": ".r",
   "mimetype": "text/x-r-source",
   "name": "R",
   "pygments_lexer": "r",
   "version": "4.2.1"
  }
 },
 "nbformat": 4,
 "nbformat_minor": 5
}
