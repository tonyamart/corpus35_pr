{
  "cells": [
    {
      "cell_type": "raw",
      "metadata": {},
      "source": [
        "---\n",
        "title: \"04_analysis\"\n",
        "author: \"tonya\"\n",
        "format: html\n",
        "editor: visual\n",
        "---"
      ]
    },
    {
      "cell_type": "markdown",
      "metadata": {},
      "source": [
        "## Chapter 1.4\n",
        "\n",
        "Analysis of poetry collections metadata (1835-1840)"
      ]
    },
    {
      "cell_type": "code",
      "metadata": {},
      "source": [
        "library(tidyverse)\n",
        "\n",
        "library(patchwork)\n",
        "library(wesanderson)\n",
        "library(MetBrewer)\n",
        "library(gghighlight)\n",
        "theme_set(theme_minimal())\n",
        "\n",
        "# fix problems with cyrillics\n",
        "# library(extrafont)\n",
        "# library(showtext)\n",
        "# font_add(\"Arial\", \"/Library/Fonts/Arial.ttf\") \n",
        "# showtext_auto()\n",
        "\n",
        "pal <- c(wes_palette(\"Chevalier1\")[4], # sand\n",
        "         wes_palette(\"Royal1\")[1], # grey\n",
        "         wes_palette(\"Zissou1\")[4], # yellow\n",
        "         wes_palette(\"Royal1\")[2] # red\n",
        "        ) "
      ],
      "execution_count": null,
      "outputs": []
    },
    {
      "cell_type": "code",
      "metadata": {},
      "source": [
        "# do not run\n",
        "# how`data/01_4 fil` was done\n",
        "#`meta/collections_meta.cs` is derived from `numbers_meta/biblio_poetry_1830_1850_short.numbers`\n",
        "# \n",
        "# pb <- read.csv(\"../../meta/collections_meta.csv\", sep = \";\") %>%\n",
        "#     # add older ids where available\n",
        "#     mutate(COL_ID = ifelse(!is.na(COL_ID), paste0(\"COL_\", COL_ID), COL_ID)) %>% \n",
        "#     select(id, COL_ID,\n",
        "#           poetry_prose, book_type, genre, special_tag,\n",
        "#           author_sign, author, author_full_name,\n",
        "#           title,\n",
        "#           city, publisher, year,\n",
        "#           pages, size_fold, size_cm, \n",
        "#           digital_copy, digital_copy_URL)\n",
        "# \n",
        "# glimpse(pb)\n",
        "# \n",
        "# #write.csv(pb, file = \"../../data/01_4_poetry_books_1835_1840.csv\")\n",
        "# rm(pb)"
      ],
      "execution_count": null,
      "outputs": []
    },
    {
      "cell_type": "markdown",
      "metadata": {},
      "source": [
        "Load dataset:"
      ]
    },
    {
      "cell_type": "code",
      "metadata": {},
      "source": [
        "pb_full <- read.csv(\"../../data/01_4_poetry_books_1835_1840.csv\") %>% \n",
        "    select(-X) %>%\n",
        "    mutate(year = as.numeric(year),\n",
        "          group = paste0(book_type, \"_\", genre),\n",
        "          # cleaning of tagging artefacts\n",
        "          group = str_replace_all(group, \"(alm).*\", \"\\\\1\"),\n",
        "          group = str_remove_all(group, \"; nar\")) \n",
        "\n",
        "glimpse(pb_full)"
      ],
      "execution_count": null,
      "outputs": []
    },
    {
      "cell_type": "markdown",
      "metadata": {},
      "source": [
        "### **Clean metadata with only lyric poetry between 1835 and 1840**"
      ]
    },
    {
      "cell_type": "code",
      "metadata": {},
      "source": [
        "pb <- pb_full %>% \n",
        "    filter(year > 1834 & year < 1841) %>% \n",
        "\n",
        "    # remove completely unknown books (not found either in 19-c. catalogues nor in modern ones)\n",
        "    filter(special_tag != \"unknown\") %>%\n",
        "    \n",
        "    # for now I also filter out all narrative poems!\n",
        "    filter(!str_detect(group, \"nar\")) %>%\n",
        "    \n",
        "    # recode group names\n",
        "    mutate(group_abbr = group,\n",
        "          group_eng = recode(group,\n",
        "                         alm = \"Almanacks\",\n",
        "                         col_lyr = \"Lyric collections\",\n",
        "                         col_nar = \"Narrative collections\",\n",
        "                         sep_nar = \"Narrative booklets\",\n",
        "                         sep_lyr = \"Lyric booklets\"),\n",
        "          group = recode(group_abbr,\n",
        "                            alm = \"Альманахи\",\n",
        "                            col_lyr = \"Сборники стихотворений\",\n",
        "                         col_nar = \"Сборники поэм\",\n",
        "                         sep_nar = \"Отд. поэмы\",\n",
        "                         sep_lyr = \"Отд. стихотворения\")) %>% \n",
        "    \n",
        "    # fill author's names if unavailable\n",
        "    mutate(author = ifelse(author == \"\" & author_sign != \"\", author_sign, author))\n",
        "\n",
        "pb %>% \n",
        "    count(group)"
      ],
      "execution_count": null,
      "outputs": []
    },
    {
      "cell_type": "code",
      "metadata": {},
      "source": [
        "# test how many books are containing prose (except for almanacks)\n",
        "pb %>%\n",
        "    filter(poetry_prose == \"pr\" & book_type != \"alm\")"
      ],
      "execution_count": null,
      "outputs": []
    },
    {
      "cell_type": "markdown",
      "metadata": {},
      "source": [
        "#### Plot 1.4.1. Number of books by category"
      ]
    },
    {
      "cell_type": "code",
      "metadata": {},
      "source": [
        "pb %>% \n",
        "    group_by(group, year) %>% \n",
        "    count() %>%\n",
        "    ggplot(aes(x = year, y = n,# color = group, \n",
        "               fill = group)) + \n",
        "        # geom_line() + geom_point() +\n",
        "        #facet_wrap(~group_rus, scales = \"free_x\") +\n",
        "        geom_col(position = \"dodge\") + \n",
        "        scale_fill_manual(values = pal) + \n",
        "        scale_x_continuous(breaks = seq(1835,1840,1)) +\n",
        "        theme(\n",
        "            legend.position = \"bottom\",\n",
        "            axis.title = element_text(size = 14),\n",
        "            axis.text = element_text(size = 12),\n",
        "            legend.text = element_text(size = 14)\n",
        "        ) + \n",
        "        labs(x = \"Год\", y = \"Количество книг\", fill = \"\")\n",
        "\n",
        "ggsave(file = \"plots/Fig_1-4-1.png\", plot = last_plot(), dpi = 300,\n",
        "    width = 10, height = 8, bg = \"white\")"
      ],
      "execution_count": null,
      "outputs": []
    },
    {
      "cell_type": "markdown",
      "metadata": {},
      "source": [
        "#### Plot 1.4.2. Boxplots w/ n of pages and size in cm"
      ]
    },
    {
      "cell_type": "code",
      "metadata": {},
      "source": [
        "p1 <- pb %>% \n",
        "    filter(!is.na(pages)) %>%\n",
        "    ggplot(aes(x = year, y = pages, group = year, \n",
        "               #color = group, \n",
        "               fill = group)) + \n",
        "        geom_boxplot() + \n",
        "        facet_wrap(~group) + \n",
        "        \n",
        "        scale_x_continuous(breaks = seq(1835, 1840, 1)) +\n",
        "        scale_fill_manual(values = pal) + \n",
        "        theme(\n",
        "            legend.position = \"None\",\n",
        "            axis.text = element_text(size = 12),\n",
        "            axis.text.x = element_blank(), # removed years from x axis for the upper plot\n",
        "            strip.text = element_text(size = 14)\n",
        "        ) + \n",
        "        labs(x = \"\", y = \"Количество страниц\")\n",
        "\n",
        "p2 <- pb %>% \n",
        "    filter(!is.na(size_cm)) %>% \n",
        "    ggplot(aes(x = year, y = size_cm, group = year, fill = group)) + \n",
        "        geom_boxplot() + \n",
        "        facet_wrap(~group) + \n",
        "        scale_x_continuous(breaks = seq(1835, 1840, 1)) +\n",
        "        scale_fill_manual(values = pal) + \n",
        "        theme(\n",
        "            legend.position = \"None\",\n",
        "            axis.text = element_text(size = 12),\n",
        "            strip.text = element_blank() # remove facet labels for lower plot\n",
        "        ) + \n",
        "        labs(x = \"Год\", y = \"Размер в сантиметрах\")\n",
        "\n",
        "\n",
        "p3 <- p1 / p2\n",
        "\n",
        "p3\n",
        "\n",
        "ggsave(\"plots/Fig_1-4-2.png\", plot = p3, dpi = 300, bg = \"white\",\n",
        "      width = 10, height = 8)"
      ],
      "execution_count": null,
      "outputs": []
    },
    {
      "cell_type": "markdown",
      "metadata": {},
      "source": [
        "### Lyric collections"
      ]
    },
    {
      "cell_type": "code",
      "metadata": {},
      "source": [
        "lyr <- pb %>% \n",
        "  filter(group_abbr == \"col_lyr\" & special_tag != \"unknown\")\n",
        "\n",
        "glimpse(lyr)"
      ],
      "execution_count": null,
      "outputs": []
    },
    {
      "cell_type": "markdown",
      "metadata": {},
      "source": [
        "Top authors"
      ]
    },
    {
      "cell_type": "code",
      "metadata": {},
      "source": [
        "lyr %>% \n",
        "    filter(author != \"\") %>% \n",
        "    count(author, sort = T) %>% head(15)"
      ],
      "execution_count": null,
      "outputs": []
    },
    {
      "cell_type": "markdown",
      "metadata": {},
      "source": [
        "Smallest & biggest lyric collections (in size, cm)"
      ]
    },
    {
      "cell_type": "code",
      "metadata": {},
      "source": [
        "lyr %>% \n",
        "    select(author, title, publisher, year, pages, size_fold, size_cm) %>%\n",
        "    arrange(-desc(size_cm)) %>% head(10)\n",
        "\n",
        "lyr %>% \n",
        "    select(author, title, publisher, year, pages, size_fold, size_cm) %>%\n",
        "    arrange(desc(size_cm)) %>% head(10)"
      ],
      "execution_count": null,
      "outputs": []
    },
    {
      "cell_type": "markdown",
      "metadata": {},
      "source": [
        "Smallest lyric collections in the number of pages & the thickiest"
      ]
    },
    {
      "cell_type": "code",
      "metadata": {},
      "source": [
        "lyr %>% \n",
        "    select(author, title, publisher, year, pages, size_fold, size_cm) %>%\n",
        "    arrange(-desc(pages)) %>% head(10)\n",
        "\n",
        "lyr %>% \n",
        "    select(author, title, publisher, year, pages, size_fold, size_cm) %>%\n",
        "    arrange(desc(pages)) %>% head(10)"
      ],
      "execution_count": null,
      "outputs": []
    },
    {
      "cell_type": "markdown",
      "metadata": {},
      "source": [
        "### Separate editions"
      ]
    },
    {
      "cell_type": "code",
      "metadata": {},
      "source": [
        "pb %>% \n",
        "  filter(group_abbr == \"sep_lyr\" & author != \"\") %>% \n",
        "  group_by(author) %>% \n",
        "  count(sort = T) %>% \n",
        "  head(10)"
      ],
      "execution_count": null,
      "outputs": []
    },
    {
      "cell_type": "markdown",
      "metadata": {},
      "source": [
        "Some random examples of separate editions:"
      ]
    },
    {
      "cell_type": "code",
      "metadata": {},
      "source": [
        "pb %>% \n",
        "  filter(group_abbr == \"sep_lyr\" & author != \"\") %>% \n",
        "  sample_n(size = 10) %>% \n",
        "  select(title)"
      ],
      "execution_count": null,
      "outputs": []
    },
    {
      "cell_type": "markdown",
      "metadata": {},
      "source": [
        "### City of publishing"
      ]
    },
    {
      "cell_type": "code",
      "metadata": {},
      "source": [
        "pb %>% \n",
        "  count(city, sort = T)"
      ],
      "execution_count": null,
      "outputs": []
    },
    {
      "cell_type": "code",
      "metadata": {},
      "source": [
        "pb %>% \n",
        "  filter(city != \"\") %>% \n",
        "  group_by(year, city) %>% \n",
        "  count(sort = F) %>% \n",
        "  pivot_wider(names_from = year, values_from = n)"
      ],
      "execution_count": null,
      "outputs": []
    },
    {
      "cell_type": "code",
      "metadata": {},
      "source": [
        "pb %>% \n",
        "  #filter(group_abbr == \"col_lyr\") %>% \n",
        "  filter(city %in% c(\"СПб.\", \"М.\")) %>% \n",
        "  count(city, year) %>% \n",
        "  mutate(city = ifelse(city == \"М.\", \"Москва\", \"Санкт-Петербург\")) %>% \n",
        "  ggplot(aes(x = year, y = n, fill = city)) + \n",
        "  geom_col(position = \"dodge\", width = 0.8) + \n",
        "  #geom_smooth(aes(color = city)) + \n",
        "  facet_wrap(~city, ncol = 1) + \n",
        "  scale_x_continuous(breaks = seq(1835, 1840, 1)) + \n",
        "  scale_fill_manual(values = pal) + \n",
        "  scale_color_manual(values = pal) + \n",
        "  labs(x = \"Год\", y = \"Количество книг\", fill = \"\") + \n",
        "  theme(strip.text = element_text(size = 14),\n",
        "        legend.text = element_text(size = 14),\n",
        "        axis.text = element_text(size = 14),\n",
        "        axis.title = element_text(size = 12),\n",
        "        legend.position = \"bottom\")\n",
        "\n",
        "# ggsave(file = \"plots/Fig_1-4-3.png\", plot = last_plot(), dpi = 300,\n",
        "#        width = 8, height = 8,\n",
        "#        bg = \"white\")"
      ],
      "execution_count": null,
      "outputs": []
    },
    {
      "cell_type": "markdown",
      "metadata": {},
      "source": [
        "### Publishers"
      ]
    },
    {
      "cell_type": "code",
      "metadata": {},
      "source": [
        "publ_totals <- pb %>% \n",
        "  mutate(publisher = paste0(city, \": \", publisher)) %>% \n",
        "  filter(publisher != \": \") %>%\n",
        "  count(publisher, sort = T) %>% \n",
        "  rename(total = n)\n",
        "\n",
        "pb %>% \n",
        "  mutate(publisher = paste0(city, \": \", publisher)) %>% \n",
        "  filter(publisher != \": \") %>% \n",
        "  left_join(publ_totals, by = \"publisher\") %>% \n",
        "  \n",
        "  # variant 1: select publishers by total n of books\n",
        "  filter(publisher %in% publ_totals$publisher[1:12]) %>% \n",
        "  mutate(publisher = paste0(publisher, \" (\", total, \")\")) %>% \n",
        "  count(year, publisher) %>% \n",
        "  \n",
        "    \n",
        "  # variant 2: select by number of non-NA in each year  \n",
        "  # count number of missing values\n",
        "  \n",
        "  #pivot_wider(names_from = year, values_from = n) %>% \n",
        "  # mutate(x = rowSums(is.na(.))) %>% \n",
        "  # # drop rows with more than 2 years missing\n",
        "  # filter(x < 4) %>% \n",
        "  # select(-x) %>% \n",
        "  # pivot_longer(!publisher, names_to = \"year\", values_to = \"n\") %>% \n",
        "    \n",
        "  # plot  \n",
        "  ggplot(aes(x = year, y = n, fill = publisher)) +\n",
        "  geom_col(width = 0.95) + \n",
        "  facet_wrap(~publisher, \n",
        "             strip.position = \"left\",\n",
        "             ncol = 1) + \n",
        "  scale_x_continuous(breaks = seq(1835, 1840, 1)) + \n",
        "  scale_fill_met_d(name = \"Redon\") + \n",
        "  labs(x = \"Год\", \n",
        "       y = \"\") + \n",
        "  theme(legend.position = \"None\",\n",
        "        strip.text.y.left = element_text(angle = 0),\n",
        "        strip.placement = \"outside\",\n",
        "        strip.text = element_text(size = 12),\n",
        "        axis.text.y.left = element_blank(),\n",
        "        axis.text.x = element_text(size = 12),\n",
        "        axis.title = element_text(size = 14))\n",
        "\n",
        "# ggsave(file = \"plots/Fig_1-4-4.png\", plot = last_plot(), dpi = 300,\n",
        "#        width = 8, height = 10,\n",
        "#        bg = \"white\")"
      ],
      "execution_count": null,
      "outputs": []
    },
    {
      "cell_type": "code",
      "metadata": {},
      "source": [
        "publ_totals[1:12,]"
      ],
      "execution_count": null,
      "outputs": []
    },
    {
      "cell_type": "markdown",
      "metadata": {},
      "source": [
        "Full publishers' data"
      ]
    },
    {
      "cell_type": "code",
      "metadata": {},
      "source": [
        "# filter typographies with more than 15 poetry books issued\n",
        "top_typos_35 <- sort(publ_totals$publisher[1:12])\n",
        "\n",
        "publ_plot_data <- pb_full %>% \n",
        "    mutate(typo = paste0(city, \": \", publisher)) %>% \n",
        "    filter(!is.na(year)) %>% \n",
        "    #filter(typo %in% top_typos) %>%\n",
        "    count(typo, year, sort = T) %>% \n",
        "    ungroup() %>% \n",
        "    pivot_wider(names_from = year, values_from = n) %>%\n",
        "    mutate_if(is.numeric, ~replace_na(., 0)) %>%\n",
        "    pivot_longer(!typo, names_to = \"year\", values_to = \"n\") %>% \n",
        "    arrange(-desc(year)) %>%\n",
        "    group_by(typo) %>% \n",
        "    mutate(cum_sum = cumsum(n),\n",
        "          typo_group = ifelse(typo %in% top_typos_35, typo, \"others\")) %>% \n",
        "    filter(typo_group != \"others\")\n",
        "\n",
        "# glimpse(publ_plot_data)\n",
        "\n",
        "publ_plot_data %>% \n",
        "    ggplot(aes(x = as.factor(year), y = cum_sum, color = typo_group, \n",
        "               group = typo)) + \n",
        "        geom_line(alpha = 0.6, linewidth = 1) + \n",
        "        gghighlight(use_direct_label = FALSE,\n",
        "              unhighlighted_params = list(colour = alpha(\"grey85\", 1))) + \n",
        "        scale_color_met_d(name = \"Redon\") + \n",
        "        \n",
        "  \n",
        "        geom_point(data = publ_plot_data %>% \n",
        "                     filter(year == 1835) %>% \n",
        "                     group_by(typo) %>% \n",
        "                     slice_max(cum_sum)\n",
        "                     ) + \n",
        "        geom_text(data = publ_plot_data %>% \n",
        "                     filter(year == 1835) %>% \n",
        "                     group_by(typo) %>% \n",
        "                     slice_max(cum_sum),\n",
        "                  aes(label = cum_sum),\n",
        "                  vjust = -1) + \n",
        "  \n",
        "        geom_point(data = publ_plot_data %>% \n",
        "                     filter(year == 1840) %>% \n",
        "                     group_by(typo) %>% \n",
        "                     slice_max(cum_sum)\n",
        "                     ) + \n",
        "        geom_text(data = publ_plot_data %>% \n",
        "                     filter(year == 1840) %>% \n",
        "                     group_by(typo) %>% \n",
        "                     slice_max(cum_sum),\n",
        "                  aes(label = cum_sum),\n",
        "                  vjust = -1) +\n",
        "        \n",
        "        facet_wrap(~factor(typo_group,\n",
        "                          levels = top_typos_35),\n",
        "                   ncol = 3) +\n",
        "        scale_x_discrete(breaks = seq(1830, 1850, 5)) +\n",
        "        labs(x = \"\",\n",
        "             y = \"\",\n",
        "             color = \"\") + \n",
        "        theme(axis.text = element_text(size = 12),\n",
        "              legend.text = element_text(size = 14),\n",
        "              strip.text = element_text(size = 12),\n",
        "              panel.spacing = unit(1.5, \"lines\")) + \n",
        "  \n",
        "        annotate(\"rect\", \n",
        "                 xmin = 6, xmax = 11, \n",
        "                 ymin = 0, ymax = Inf, \n",
        "                 alpha = 0.1)\n",
        "  \n",
        "ggsave(\"plots/Fig_1-4-5.png\", plot = last_plot(), dpi = 300,\n",
        "       height = 12, width = 11,\n",
        "       bg = \"white\")"
      ],
      "execution_count": null,
      "outputs": []
    }
  ],
  "metadata": {
    "kernelspec": {
      "name": "ir",
      "language": "R",
      "display_name": "R"
    }
  },
  "nbformat": 4,
  "nbformat_minor": 4
}