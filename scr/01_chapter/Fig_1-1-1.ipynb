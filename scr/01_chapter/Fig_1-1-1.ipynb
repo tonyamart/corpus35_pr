{
 "cells": [
  {
   "cell_type": "markdown",
   "id": "9f39e944",
   "metadata": {},
   "source": [
    "### 01 Sankey plot for Smirdin's collection dynamics\n",
    "\n",
    "This notebooks shows the way the data was prepared for creating the sankey plot (`riverplot` pck)."
   ]
  },
  {
   "cell_type": "code",
   "execution_count": 3,
   "id": "0bdb07d3",
   "metadata": {},
   "outputs": [],
   "source": [
    "library(tidyverse)\n",
    "library(riverplot)\n",
    "\n",
    "library(wesanderson)"
   ]
  },
  {
   "cell_type": "markdown",
   "id": "7af716c1",
   "metadata": {},
   "source": [
    "## path below needs to be changed"
   ]
  },
  {
   "cell_type": "code",
   "execution_count": 4,
   "id": "7242b3d9",
   "metadata": {},
   "outputs": [
    {
     "name": "stderr",
     "output_type": "stream",
     "text": [
      "\u001b[1m\u001b[22mNew names:\n",
      "\u001b[36m•\u001b[39m `` -> `...1`\n"
     ]
    },
    {
     "data": {
      "text/html": [
       "<table class=\"dataframe\">\n",
       "<caption>A tibble: 6 × 10</caption>\n",
       "<thead>\n",
       "\t<tr><th scope=col>id</th><th scope=col>year</th><th scope=col>poetry_prose</th><th scope=col>book_type</th><th scope=col>genre</th><th scope=col>smirdin_1832</th><th scope=col>olhin_46</th><th scope=col>krashen_52</th><th scope=col>kymmel_89</th><th scope=col>CZ_SLK</th></tr>\n",
       "\t<tr><th scope=col>&lt;chr&gt;</th><th scope=col>&lt;chr&gt;</th><th scope=col>&lt;chr&gt;</th><th scope=col>&lt;chr&gt;</th><th scope=col>&lt;chr&gt;</th><th scope=col>&lt;chr&gt;</th><th scope=col>&lt;chr&gt;</th><th scope=col>&lt;chr&gt;</th><th scope=col>&lt;chr&gt;</th><th scope=col>&lt;chr&gt;</th></tr>\n",
       "</thead>\n",
       "<tbody>\n",
       "\t<tr><td>1</td><td>1834</td><td>v</td><td>sep</td><td>nar</td><td>NA</td><td>5394</td><td>NA   </td><td>NA  </td><td>NA</td></tr>\n",
       "\t<tr><td>2</td><td>1834</td><td>v</td><td>sep</td><td>lyr</td><td>NA</td><td>NA  </td><td>NA   </td><td>NA  </td><td>NA</td></tr>\n",
       "\t<tr><td>4</td><td>1834</td><td>v</td><td>sep</td><td>lyr</td><td>NA</td><td>NA  </td><td>NA   </td><td>NA  </td><td>NA</td></tr>\n",
       "\t<tr><td>5</td><td>1834</td><td>v</td><td>col</td><td>lyr</td><td>NA</td><td>NA  </td><td>6119 </td><td>1240</td><td>да</td></tr>\n",
       "\t<tr><td>6</td><td>1834</td><td>v</td><td>sep</td><td>nar</td><td>NA</td><td>NA  </td><td>15362</td><td>567 </td><td>да</td></tr>\n",
       "\t<tr><td>7</td><td>1834</td><td>v</td><td>col</td><td>lyr</td><td>NA</td><td>NA  </td><td>15196</td><td>569 </td><td>NA</td></tr>\n",
       "</tbody>\n",
       "</table>\n"
      ],
      "text/latex": [
       "A tibble: 6 × 10\n",
       "\\begin{tabular}{llllllllll}\n",
       " id & year & poetry\\_prose & book\\_type & genre & smirdin\\_1832 & olhin\\_46 & krashen\\_52 & kymmel\\_89 & CZ\\_SLK\\\\\n",
       " <chr> & <chr> & <chr> & <chr> & <chr> & <chr> & <chr> & <chr> & <chr> & <chr>\\\\\n",
       "\\hline\n",
       "\t 1 & 1834 & v & sep & nar & NA & 5394 & NA    & NA   & NA\\\\\n",
       "\t 2 & 1834 & v & sep & lyr & NA & NA   & NA    & NA   & NA\\\\\n",
       "\t 4 & 1834 & v & sep & lyr & NA & NA   & NA    & NA   & NA\\\\\n",
       "\t 5 & 1834 & v & col & lyr & NA & NA   & 6119  & 1240 & да\\\\\n",
       "\t 6 & 1834 & v & sep & nar & NA & NA   & 15362 & 567  & да\\\\\n",
       "\t 7 & 1834 & v & col & lyr & NA & NA   & 15196 & 569  & NA\\\\\n",
       "\\end{tabular}\n"
      ],
      "text/markdown": [
       "\n",
       "A tibble: 6 × 10\n",
       "\n",
       "| id &lt;chr&gt; | year &lt;chr&gt; | poetry_prose &lt;chr&gt; | book_type &lt;chr&gt; | genre &lt;chr&gt; | smirdin_1832 &lt;chr&gt; | olhin_46 &lt;chr&gt; | krashen_52 &lt;chr&gt; | kymmel_89 &lt;chr&gt; | CZ_SLK &lt;chr&gt; |\n",
       "|---|---|---|---|---|---|---|---|---|---|\n",
       "| 1 | 1834 | v | sep | nar | NA | 5394 | NA    | NA   | NA |\n",
       "| 2 | 1834 | v | sep | lyr | NA | NA   | NA    | NA   | NA |\n",
       "| 4 | 1834 | v | sep | lyr | NA | NA   | NA    | NA   | NA |\n",
       "| 5 | 1834 | v | col | lyr | NA | NA   | 6119  | 1240 | да |\n",
       "| 6 | 1834 | v | sep | nar | NA | NA   | 15362 | 567  | да |\n",
       "| 7 | 1834 | v | col | lyr | NA | NA   | 15196 | 569  | NA |\n",
       "\n"
      ],
      "text/plain": [
       "  id year poetry_prose book_type genre smirdin_1832 olhin_46 krashen_52\n",
       "1 1  1834 v            sep       nar   NA           5394     NA        \n",
       "2 2  1834 v            sep       lyr   NA           NA       NA        \n",
       "3 4  1834 v            sep       lyr   NA           NA       NA        \n",
       "4 5  1834 v            col       lyr   NA           NA       6119      \n",
       "5 6  1834 v            sep       nar   NA           NA       15362     \n",
       "6 7  1834 v            col       lyr   NA           NA       15196     \n",
       "  kymmel_89 CZ_SLK\n",
       "1 NA        NA    \n",
       "2 NA        NA    \n",
       "3 NA        NA    \n",
       "4 1240      да    \n",
       "5 567       да    \n",
       "6 569       NA    "
      ]
     },
     "metadata": {},
     "output_type": "display_data"
    }
   ],
   "source": [
    "#### load & prepare data ####\n",
    "\n",
    "# open bibliography table\n",
    "smird <- read_csv(\"../../data/ch1/01_raw_data_poetry_1830_1850.csv\", \n",
    "                   col_types = cols(.default = \"c\"))\n",
    "\n",
    "# select only id and Smirding's library-related columns\n",
    "smird <- smird %>% \n",
    "  select(id, year, poetry_prose, book_type, genre, \n",
    "         smirdin_1832, olhin_46, krashen_52, kymmel_89, CZ_SLK) %>% \n",
    "  mutate_all(~na_if(., \"\")) %>% \n",
    "  mutate_at(vars(smirdin_1832:CZ_SLK), ~na_if(., \"нет\"))\n",
    "  \n",
    "head(smird)"
   ]
  },
  {
   "cell_type": "code",
   "execution_count": 5,
   "id": "3d1384dc",
   "metadata": {},
   "outputs": [
    {
     "data": {
      "text/html": [
       "<table class=\"dataframe\">\n",
       "<caption>A tibble: 6 × 11</caption>\n",
       "<thead>\n",
       "\t<tr><th scope=col>book_id</th><th scope=col>sm_ol</th><th scope=col>sm_kr</th><th scope=col>sm_kym</th><th scope=col>sm_cz</th><th scope=col>ol_kr</th><th scope=col>ol_kym</th><th scope=col>ol_cz</th><th scope=col>kr_kym</th><th scope=col>kr_cz</th><th scope=col>kym_cz</th></tr>\n",
       "\t<tr><th scope=col>&lt;chr&gt;</th><th scope=col>&lt;dbl&gt;</th><th scope=col>&lt;dbl&gt;</th><th scope=col>&lt;dbl&gt;</th><th scope=col>&lt;dbl&gt;</th><th scope=col>&lt;dbl&gt;</th><th scope=col>&lt;dbl&gt;</th><th scope=col>&lt;dbl&gt;</th><th scope=col>&lt;dbl&gt;</th><th scope=col>&lt;dbl&gt;</th><th scope=col>&lt;dbl&gt;</th></tr>\n",
       "</thead>\n",
       "<tbody>\n",
       "\t<tr><td>1_1834_v_sep_nar</td><td>0</td><td>0</td><td>0</td><td>0</td><td>0</td><td>0</td><td>0</td><td>0</td><td>0</td><td>0</td></tr>\n",
       "\t<tr><td>2_1834_v_sep_lyr</td><td>0</td><td>0</td><td>0</td><td>0</td><td>0</td><td>0</td><td>0</td><td>0</td><td>0</td><td>0</td></tr>\n",
       "\t<tr><td>4_1834_v_sep_lyr</td><td>0</td><td>0</td><td>0</td><td>0</td><td>0</td><td>0</td><td>0</td><td>0</td><td>0</td><td>0</td></tr>\n",
       "\t<tr><td>5_1834_v_col_lyr</td><td>0</td><td>0</td><td>0</td><td>0</td><td>0</td><td>0</td><td>0</td><td>1</td><td>1</td><td>1</td></tr>\n",
       "\t<tr><td>6_1834_v_sep_nar</td><td>0</td><td>0</td><td>0</td><td>0</td><td>0</td><td>0</td><td>0</td><td>1</td><td>1</td><td>1</td></tr>\n",
       "\t<tr><td>7_1834_v_col_lyr</td><td>0</td><td>0</td><td>0</td><td>0</td><td>0</td><td>0</td><td>0</td><td>1</td><td>0</td><td>0</td></tr>\n",
       "</tbody>\n",
       "</table>\n"
      ],
      "text/latex": [
       "A tibble: 6 × 11\n",
       "\\begin{tabular}{lllllllllll}\n",
       " book\\_id & sm\\_ol & sm\\_kr & sm\\_kym & sm\\_cz & ol\\_kr & ol\\_kym & ol\\_cz & kr\\_kym & kr\\_cz & kym\\_cz\\\\\n",
       " <chr> & <dbl> & <dbl> & <dbl> & <dbl> & <dbl> & <dbl> & <dbl> & <dbl> & <dbl> & <dbl>\\\\\n",
       "\\hline\n",
       "\t 1\\_1834\\_v\\_sep\\_nar & 0 & 0 & 0 & 0 & 0 & 0 & 0 & 0 & 0 & 0\\\\\n",
       "\t 2\\_1834\\_v\\_sep\\_lyr & 0 & 0 & 0 & 0 & 0 & 0 & 0 & 0 & 0 & 0\\\\\n",
       "\t 4\\_1834\\_v\\_sep\\_lyr & 0 & 0 & 0 & 0 & 0 & 0 & 0 & 0 & 0 & 0\\\\\n",
       "\t 5\\_1834\\_v\\_col\\_lyr & 0 & 0 & 0 & 0 & 0 & 0 & 0 & 1 & 1 & 1\\\\\n",
       "\t 6\\_1834\\_v\\_sep\\_nar & 0 & 0 & 0 & 0 & 0 & 0 & 0 & 1 & 1 & 1\\\\\n",
       "\t 7\\_1834\\_v\\_col\\_lyr & 0 & 0 & 0 & 0 & 0 & 0 & 0 & 1 & 0 & 0\\\\\n",
       "\\end{tabular}\n"
      ],
      "text/markdown": [
       "\n",
       "A tibble: 6 × 11\n",
       "\n",
       "| book_id &lt;chr&gt; | sm_ol &lt;dbl&gt; | sm_kr &lt;dbl&gt; | sm_kym &lt;dbl&gt; | sm_cz &lt;dbl&gt; | ol_kr &lt;dbl&gt; | ol_kym &lt;dbl&gt; | ol_cz &lt;dbl&gt; | kr_kym &lt;dbl&gt; | kr_cz &lt;dbl&gt; | kym_cz &lt;dbl&gt; |\n",
       "|---|---|---|---|---|---|---|---|---|---|---|\n",
       "| 1_1834_v_sep_nar | 0 | 0 | 0 | 0 | 0 | 0 | 0 | 0 | 0 | 0 |\n",
       "| 2_1834_v_sep_lyr | 0 | 0 | 0 | 0 | 0 | 0 | 0 | 0 | 0 | 0 |\n",
       "| 4_1834_v_sep_lyr | 0 | 0 | 0 | 0 | 0 | 0 | 0 | 0 | 0 | 0 |\n",
       "| 5_1834_v_col_lyr | 0 | 0 | 0 | 0 | 0 | 0 | 0 | 1 | 1 | 1 |\n",
       "| 6_1834_v_sep_nar | 0 | 0 | 0 | 0 | 0 | 0 | 0 | 1 | 1 | 1 |\n",
       "| 7_1834_v_col_lyr | 0 | 0 | 0 | 0 | 0 | 0 | 0 | 1 | 0 | 0 |\n",
       "\n"
      ],
      "text/plain": [
       "  book_id          sm_ol sm_kr sm_kym sm_cz ol_kr ol_kym ol_cz kr_kym kr_cz\n",
       "1 1_1834_v_sep_nar 0     0     0      0     0     0      0     0      0    \n",
       "2 2_1834_v_sep_lyr 0     0     0      0     0     0      0     0      0    \n",
       "3 4_1834_v_sep_lyr 0     0     0      0     0     0      0     0      0    \n",
       "4 5_1834_v_col_lyr 0     0     0      0     0     0      0     1      1    \n",
       "5 6_1834_v_sep_nar 0     0     0      0     0     0      0     1      1    \n",
       "6 7_1834_v_col_lyr 0     0     0      0     0     0      0     1      0    \n",
       "  kym_cz\n",
       "1 0     \n",
       "2 0     \n",
       "3 0     \n",
       "4 1     \n",
       "5 1     \n",
       "6 0     "
      ]
     },
     "metadata": {},
     "output_type": "display_data"
    }
   ],
   "source": [
    "# count connections between each collections\n",
    "smird_wide <- smird %>%\n",
    "  mutate(book_id = paste(id, year, poetry_prose, book_type, genre, sep = \"_\")) %>%\n",
    "  select(book_id, smirdin_1832, olhin_46, krashen_52, kymmel_89, CZ_SLK) %>% \n",
    "  mutate(sm_ol = ifelse((!is.na(smirdin_1832) & !is.na(olhin_46)), 1, 0),\n",
    "         sm_kr = ifelse((!is.na(smirdin_1832) & !is.na(krashen_52)), 1, 0),\n",
    "         sm_kym = ifelse((!is.na(smirdin_1832) & !is.na(kymmel_89)), 1, 0),\n",
    "         sm_cz = ifelse((!is.na(smirdin_1832) & !is.na(CZ_SLK)), 1, 0),\n",
    "\n",
    "         ol_kr = ifelse(!is.na(olhin_46) & !is.na(krashen_52), 1, 0),\n",
    "         ol_kym = ifelse(!is.na(olhin_46) & !is.na(kymmel_89), 1, 0),\n",
    "         ol_cz = ifelse(!is.na(olhin_46) & !is.na(CZ_SLK), 1, 0),\n",
    "         \n",
    "         kr_kym = ifelse(!is.na(krashen_52) & !is.na(kymmel_89), 1, 0),\n",
    "         kr_cz = ifelse(!is.na(krashen_52) & !is.na(CZ_SLK), 1, 0),\n",
    "         \n",
    "         kym_cz = ifelse(!is.na(kymmel_89) & !is.na(CZ_SLK), 1, 0)) %>% \n",
    "  select(book_id, sm_ol:kym_cz) \n",
    "\n",
    "head(smird_wide)"
   ]
  },
  {
   "cell_type": "markdown",
   "id": "b4c908f1",
   "metadata": {},
   "source": [
    "#### Prepare nodes and edges for sankey plot"
   ]
  },
  {
   "cell_type": "code",
   "execution_count": 6,
   "id": "8ce062d5",
   "metadata": {},
   "outputs": [
    {
     "data": {
      "text/html": [
       "<table class=\"dataframe\">\n",
       "<caption>A data.frame: 10 × 4</caption>\n",
       "<thead>\n",
       "\t<tr><th scope=col>ID</th><th scope=col>N1</th><th scope=col>N2</th><th scope=col>Value</th></tr>\n",
       "\t<tr><th scope=col>&lt;chr&gt;</th><th scope=col>&lt;chr&gt;</th><th scope=col>&lt;chr&gt;</th><th scope=col>&lt;dbl&gt;</th></tr>\n",
       "</thead>\n",
       "<tbody>\n",
       "\t<tr><td>E.kr_cz </td><td>kr </td><td>cz </td><td>117</td></tr>\n",
       "\t<tr><td>E.kr_kym</td><td>kr </td><td>kym</td><td>206</td></tr>\n",
       "\t<tr><td>E.kym_cz</td><td>kym</td><td>cz </td><td>101</td></tr>\n",
       "\t<tr><td>E.ol_cz </td><td>ol </td><td>cz </td><td> 84</td></tr>\n",
       "\t<tr><td>E.ol_kr </td><td>ol </td><td>kr </td><td>185</td></tr>\n",
       "\t<tr><td>E.ol_kym</td><td>ol </td><td>kym</td><td>136</td></tr>\n",
       "\t<tr><td>E.sm_cz </td><td>sm </td><td>cz </td><td> 37</td></tr>\n",
       "\t<tr><td>E.sm_kr </td><td>sm </td><td>kr </td><td>  4</td></tr>\n",
       "\t<tr><td>E.sm_kym</td><td>sm </td><td>kym</td><td> 52</td></tr>\n",
       "\t<tr><td>E.sm_ol </td><td>sm </td><td>ol </td><td>  4</td></tr>\n",
       "</tbody>\n",
       "</table>\n"
      ],
      "text/latex": [
       "A data.frame: 10 × 4\n",
       "\\begin{tabular}{llll}\n",
       " ID & N1 & N2 & Value\\\\\n",
       " <chr> & <chr> & <chr> & <dbl>\\\\\n",
       "\\hline\n",
       "\t E.kr\\_cz  & kr  & cz  & 117\\\\\n",
       "\t E.kr\\_kym & kr  & kym & 206\\\\\n",
       "\t E.kym\\_cz & kym & cz  & 101\\\\\n",
       "\t E.ol\\_cz  & ol  & cz  &  84\\\\\n",
       "\t E.ol\\_kr  & ol  & kr  & 185\\\\\n",
       "\t E.ol\\_kym & ol  & kym & 136\\\\\n",
       "\t E.sm\\_cz  & sm  & cz  &  37\\\\\n",
       "\t E.sm\\_kr  & sm  & kr  &   4\\\\\n",
       "\t E.sm\\_kym & sm  & kym &  52\\\\\n",
       "\t E.sm\\_ol  & sm  & ol  &   4\\\\\n",
       "\\end{tabular}\n"
      ],
      "text/markdown": [
       "\n",
       "A data.frame: 10 × 4\n",
       "\n",
       "| ID &lt;chr&gt; | N1 &lt;chr&gt; | N2 &lt;chr&gt; | Value &lt;dbl&gt; |\n",
       "|---|---|---|---|\n",
       "| E.kr_cz  | kr  | cz  | 117 |\n",
       "| E.kr_kym | kr  | kym | 206 |\n",
       "| E.kym_cz | kym | cz  | 101 |\n",
       "| E.ol_cz  | ol  | cz  |  84 |\n",
       "| E.ol_kr  | ol  | kr  | 185 |\n",
       "| E.ol_kym | ol  | kym | 136 |\n",
       "| E.sm_cz  | sm  | cz  |  37 |\n",
       "| E.sm_kr  | sm  | kr  |   4 |\n",
       "| E.sm_kym | sm  | kym |  52 |\n",
       "| E.sm_ol  | sm  | ol  |   4 |\n",
       "\n"
      ],
      "text/plain": [
       "   ID       N1  N2  Value\n",
       "1  E.kr_cz  kr  cz  117  \n",
       "2  E.kr_kym kr  kym 206  \n",
       "3  E.kym_cz kym cz  101  \n",
       "4  E.ol_cz  ol  cz   84  \n",
       "5  E.ol_kr  ol  kr  185  \n",
       "6  E.ol_kym ol  kym 136  \n",
       "7  E.sm_cz  sm  cz   37  \n",
       "8  E.sm_kr  sm  kr    4  \n",
       "9  E.sm_kym sm  kym  52  \n",
       "10 E.sm_ol  sm  ol    4  "
      ]
     },
     "metadata": {},
     "output_type": "display_data"
    }
   ],
   "source": [
    "# pivot table to edges & count frequency of each edge\n",
    "edges <- smird_wide %>% \n",
    "  pivot_longer(!book_id, names_to = \"direction\", values_to = \"value\") %>% \n",
    "  group_by(direction) %>% \n",
    "  summarise(Value = sum(value)) %>% \n",
    "  filter(Value != 0) %>% \n",
    "  separate(col = direction, into = c(\"N1\", \"N2\")) %>% \n",
    "  mutate(ID = paste0(\"E.\", N1, \"_\", N2)) %>% \n",
    "  select(ID, N1, N2, Value) %>% \n",
    "  data.frame\n",
    "\n",
    "\n",
    "nodes <- data.frame(ID = unique(c(edges$N1, edges$N2)),\n",
    "                    # x-axis positions for each collection (chronological)\n",
    "                    x = c(5,8,2,1,10))\n",
    "\n",
    "edges"
   ]
  },
  {
   "cell_type": "code",
   "execution_count": 7,
   "id": "66b26953",
   "metadata": {},
   "outputs": [
    {
     "data": {
      "text/html": [
       "<table class=\"dataframe\">\n",
       "<caption>A data.frame: 5 × 2</caption>\n",
       "<thead>\n",
       "\t<tr><th scope=col>ID</th><th scope=col>x</th></tr>\n",
       "\t<tr><th scope=col>&lt;chr&gt;</th><th scope=col>&lt;dbl&gt;</th></tr>\n",
       "</thead>\n",
       "<tbody>\n",
       "\t<tr><td>kr </td><td> 5</td></tr>\n",
       "\t<tr><td>kym</td><td> 8</td></tr>\n",
       "\t<tr><td>ol </td><td> 2</td></tr>\n",
       "\t<tr><td>sm </td><td> 1</td></tr>\n",
       "\t<tr><td>cz </td><td>10</td></tr>\n",
       "</tbody>\n",
       "</table>\n"
      ],
      "text/latex": [
       "A data.frame: 5 × 2\n",
       "\\begin{tabular}{ll}\n",
       " ID & x\\\\\n",
       " <chr> & <dbl>\\\\\n",
       "\\hline\n",
       "\t kr  &  5\\\\\n",
       "\t kym &  8\\\\\n",
       "\t ol  &  2\\\\\n",
       "\t sm  &  1\\\\\n",
       "\t cz  & 10\\\\\n",
       "\\end{tabular}\n"
      ],
      "text/markdown": [
       "\n",
       "A data.frame: 5 × 2\n",
       "\n",
       "| ID &lt;chr&gt; | x &lt;dbl&gt; |\n",
       "|---|---|\n",
       "| kr  |  5 |\n",
       "| kym |  8 |\n",
       "| ol  |  2 |\n",
       "| sm  |  1 |\n",
       "| cz  | 10 |\n",
       "\n"
      ],
      "text/plain": [
       "  ID  x \n",
       "1 kr   5\n",
       "2 kym  8\n",
       "3 ol   2\n",
       "4 sm   1\n",
       "5 cz  10"
      ]
     },
     "metadata": {},
     "output_type": "display_data"
    }
   ],
   "source": [
    "nodes"
   ]
  },
  {
   "cell_type": "code",
   "execution_count": 8,
   "id": "2ade806d",
   "metadata": {},
   "outputs": [
    {
     "data": {
      "text/html": [
       "<table class=\"dataframe\">\n",
       "<caption>A tibble: 5 × 2</caption>\n",
       "<thead>\n",
       "\t<tr><th scope=col>libs</th><th scope=col>total</th></tr>\n",
       "\t<tr><th scope=col>&lt;chr&gt;</th><th scope=col>&lt;dbl&gt;</th></tr>\n",
       "</thead>\n",
       "<tbody>\n",
       "\t<tr><td>CZ_SLK      </td><td>197</td></tr>\n",
       "\t<tr><td>krashen_52  </td><td>347</td></tr>\n",
       "\t<tr><td>kymmel_89   </td><td>312</td></tr>\n",
       "\t<tr><td>olhin_46    </td><td>425</td></tr>\n",
       "\t<tr><td>smirdin_1832</td><td>113</td></tr>\n",
       "</tbody>\n",
       "</table>\n"
      ],
      "text/latex": [
       "A tibble: 5 × 2\n",
       "\\begin{tabular}{ll}\n",
       " libs & total\\\\\n",
       " <chr> & <dbl>\\\\\n",
       "\\hline\n",
       "\t CZ\\_SLK       & 197\\\\\n",
       "\t krashen\\_52   & 347\\\\\n",
       "\t kymmel\\_89    & 312\\\\\n",
       "\t olhin\\_46     & 425\\\\\n",
       "\t smirdin\\_1832 & 113\\\\\n",
       "\\end{tabular}\n"
      ],
      "text/markdown": [
       "\n",
       "A tibble: 5 × 2\n",
       "\n",
       "| libs &lt;chr&gt; | total &lt;dbl&gt; |\n",
       "|---|---|\n",
       "| CZ_SLK       | 197 |\n",
       "| krashen_52   | 347 |\n",
       "| kymmel_89    | 312 |\n",
       "| olhin_46     | 425 |\n",
       "| smirdin_1832 | 113 |\n",
       "\n"
      ],
      "text/plain": [
       "  libs         total\n",
       "1 CZ_SLK       197  \n",
       "2 krashen_52   347  \n",
       "3 kymmel_89    312  \n",
       "4 olhin_46     425  \n",
       "5 smirdin_1832 113  "
      ]
     },
     "metadata": {},
     "output_type": "display_data"
    }
   ],
   "source": [
    "# total number of books in each collection\n",
    "smird %>% \n",
    "  select(c(id, smirdin_1832:CZ_SLK)) %>% \n",
    "  mutate(across(everything(), as.character)) %>% \n",
    "  pivot_longer(!id, names_to = \"libs\", values_to = \"value\") %>% \n",
    "  mutate(value = ifelse(!is.na(value), 1, 0)) %>% \n",
    "  group_by(libs) %>% \n",
    "  summarise(total = sum(value))"
   ]
  },
  {
   "cell_type": "markdown",
   "id": "dc749949",
   "metadata": {},
   "source": [
    "#### Sankeyplot "
   ]
  },
  {
   "cell_type": "code",
   "execution_count": null,
   "id": "ed57124b",
   "metadata": {},
   "outputs": [],
   "source": [
    "#png(filename = \"plots/Fig_1-1-1.png\",\n",
    "#   width = 1000, height = 800)\n",
    "\n",
    "r <- makeRiver(nodes = nodes, edges = edges,\n",
    "               node_labels = c(\n",
    "                 \"Крашенинников\\n1852\",\n",
    "                 \"Киммель\\n1889\", \n",
    "                 \"Ольхин\\n1846\",\n",
    "                 \"Смирдин\\n1832\",\n",
    "                 \"Чешская\\nбиблиотека\\n(наст. вр.)\"\n",
    "               ),\n",
    "               node_styles = list(\n",
    "                 sm = list(col = \"#3B9AB295\"),\n",
    "                 ol = list(col = \"#78B7C595\"),\n",
    "                 kr = list(col = \"#EBCC2A95\"),\n",
    "                 kym = list(col = \"#E1AF0095\"),\n",
    "                 cz = list(col = \"#F21A0095\")\n",
    "               ))\n",
    "\n",
    "par(mar=rep(0.3,4))\n",
    "par(lty = 0)\n",
    "\n",
    "\n",
    "plot(r, \n",
    "     plot_area = c(1, 0.7),\n",
    "     srt = 0, \n",
    "     textcex = 1.5)\n",
    "\n",
    "# additional labels\n",
    "text(0.48, 0.78, \"37\", cex = 1.3) # sm to cz\n",
    "text(0.48, 0.70, \"52\", cex = 1.3) # sm to kym\n",
    "text(0.48, 0.62, \"84\", cex = 1.3) # ol to cz\n",
    "text(0.48, 0.53, \"136\", cex = 1.3) # ol to kym\n",
    "text(0.27, 0.40, \"185\", cex = 1.3) # ol to kr\n",
    "text(0.57, 0.43, \"117\", cex = 1.3) # kr to cz\n",
    "text(0.57, 0.31, \"206\", cex = 1.3) # kr to kym\n",
    "text(0.89, 0.51, \"101\", cex = 1.3) # kym to cz\n",
    "\n",
    "  \n",
    "#wes_palette(\"Chevalier1\")[1]\n",
    "text(0.08, 0.76, expression(sum(113)), cex = 1.2, col = \"#446455\") # sm\n",
    "text(0.11, 0.47, expression(sum(425)), cex = 1.2, col = \"#446455\") # ol\n",
    "text(0.44, 0.26, expression(sum(347)), cex = 1.2, col = \"#446455\") # kr\n",
    "text(0.77, 0.38, expression(sum(312)), cex = 1.2, col = \"#446455\") # kym\n",
    "text(0.999, 0.59, expression(sum(197)), cex = 1.2, col = \"#446455\") # cz\n",
    "\n",
    "#dev.off()"
   ]
  },
  {
   "cell_type": "code",
   "execution_count": null,
   "id": "e7081b66",
   "metadata": {},
   "outputs": [],
   "source": []
  }
 ],
 "metadata": {
  "kernelspec": {
   "display_name": "R",
   "language": "R",
   "name": "ir"
  },
  "language_info": {
   "codemirror_mode": "r",
   "file_extension": ".r",
   "mimetype": "text/x-r-source",
   "name": "R",
   "pygments_lexer": "r",
   "version": "4.3.0"
  }
 },
 "nbformat": 4,
 "nbformat_minor": 5
}
