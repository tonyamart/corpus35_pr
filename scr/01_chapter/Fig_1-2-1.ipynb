{
 "cells": [
  {
   "cell_type": "markdown",
   "id": "45a1ffc4",
   "metadata": {},
   "source": [
    "### Fig. 1.2.1. Distribution of survived poetry books\n",
    "The plot below takes raw bibliographic data as an input, reorganise it and present data as related flows of books detected in Smirdin library catalogues (19th-c.), National Library of Russia (legal deposit library before 1917, modern catalogue) and other modern collections."
   ]
  },
  {
   "cell_type": "markdown",
   "id": "c0315881",
   "metadata": {},
   "source": [
    "#### Data load and preprocessing"
   ]
  },
  {
   "cell_type": "code",
   "execution_count": 1,
   "id": "ff4c67a9",
   "metadata": {},
   "outputs": [
    {
     "name": "stderr",
     "output_type": "stream",
     "text": [
      "Warning message:\n",
      "“pakiet ‘ggplot2’ został zbudowany w wersji R 4.3.1”\n",
      "Warning message:\n",
      "“pakiet ‘tidyr’ został zbudowany w wersji R 4.3.1”\n",
      "Warning message:\n",
      "“pakiet ‘dplyr’ został zbudowany w wersji R 4.3.1”\n",
      "Warning message:\n",
      "“pakiet ‘lubridate’ został zbudowany w wersji R 4.3.1”\n",
      "── \u001b[1mAttaching core tidyverse packages\u001b[22m ──────────────────────── tidyverse 2.0.0 ──\n",
      "\u001b[32m✔\u001b[39m \u001b[34mdplyr    \u001b[39m 1.1.4     \u001b[32m✔\u001b[39m \u001b[34mreadr    \u001b[39m 2.1.4\n",
      "\u001b[32m✔\u001b[39m \u001b[34mforcats  \u001b[39m 1.0.0     \u001b[32m✔\u001b[39m \u001b[34mstringr  \u001b[39m 1.5.0\n",
      "\u001b[32m✔\u001b[39m \u001b[34mggplot2  \u001b[39m 3.5.1     \u001b[32m✔\u001b[39m \u001b[34mtibble   \u001b[39m 3.2.1\n",
      "\u001b[32m✔\u001b[39m \u001b[34mlubridate\u001b[39m 1.9.3     \u001b[32m✔\u001b[39m \u001b[34mtidyr    \u001b[39m 1.3.1\n",
      "\u001b[32m✔\u001b[39m \u001b[34mpurrr    \u001b[39m 1.0.2     \n",
      "── \u001b[1mConflicts\u001b[22m ────────────────────────────────────────── tidyverse_conflicts() ──\n",
      "\u001b[31m✖\u001b[39m \u001b[34mdplyr\u001b[39m::\u001b[32mfilter()\u001b[39m masks \u001b[34mstats\u001b[39m::filter()\n",
      "\u001b[31m✖\u001b[39m \u001b[34mdplyr\u001b[39m::\u001b[32mlag()\u001b[39m    masks \u001b[34mstats\u001b[39m::lag()\n",
      "\u001b[36mℹ\u001b[39m Use the conflicted package (\u001b[3m\u001b[34m<http://conflicted.r-lib.org/>\u001b[39m\u001b[23m) to force all conflicts to become errors\n"
     ]
    }
   ],
   "source": [
    "library(tidyverse)\n",
    "library(ggalluvial)\n",
    "library(MetBrewer)"
   ]
  },
  {
   "cell_type": "code",
   "execution_count": 2,
   "id": "427c5b67",
   "metadata": {},
   "outputs": [
    {
     "name": "stderr",
     "output_type": "stream",
     "text": [
      "\u001b[1m\u001b[22mNew names:\n",
      "\u001b[36m•\u001b[39m `` -> `...1`\n"
     ]
    },
    {
     "name": "stdout",
     "output_type": "stream",
     "text": [
      "Rows: 1,066\n",
      "Columns: 18\n",
      "$ book_id      \u001b[3m\u001b[90m<chr>\u001b[39m\u001b[23m \"1_1834_v_sep_nar\", \"2_1834_v_sep_lyr\", \"4_1834_v_sep_lyr…\n",
      "$ smirdin_1832 \u001b[3m\u001b[90m<chr>\u001b[39m\u001b[23m NA, NA, NA, NA, NA, NA, NA, NA, NA, NA, NA, NA, NA, NA, N…\n",
      "$ olhin_46     \u001b[3m\u001b[90m<chr>\u001b[39m\u001b[23m \"5394\", NA, NA, NA, NA, NA, NA, NA, \"5408\", NA, NA, NA, N…\n",
      "$ krashen_52   \u001b[3m\u001b[90m<chr>\u001b[39m\u001b[23m NA, NA, NA, \"6119\", \"15362\", \"15196\", \"15987\", \"16271\", \"…\n",
      "$ kymmel_89    \u001b[3m\u001b[90m<chr>\u001b[39m\u001b[23m NA, NA, NA, \"1240\", \"567\", \"569\", NA, NA, \"1317а\", \"776\",…\n",
      "$ kymmel_xxiv  \u001b[3m\u001b[90m<chr>\u001b[39m\u001b[23m NA, NA, NA, NA, NA, NA, NA, NA, NA, NA, NA, NA, NA, NA, N…\n",
      "$ MU_1838      \u001b[3m\u001b[90m<chr>\u001b[39m\u001b[23m NA, NA, NA, \"да\", NA, NA, NA, NA, NA, NA, NA, NA, NA, NA,…\n",
      "$ CZ_SLK       \u001b[3m\u001b[90m<chr>\u001b[39m\u001b[23m NA, NA, NA, \"да\", \"да\", NA, NA, \"да\", NA, NA, NA, NA, \"да…\n",
      "$ EE_ester     \u001b[3m\u001b[90m<chr>\u001b[39m\u001b[23m NA, NA, NA, \"да\", NA, NA, \"да\", NA, NA, NA, NA, NA, NA, N…\n",
      "$ FI_NL        \u001b[3m\u001b[90m<chr>\u001b[39m\u001b[23m NA, NA, NA, \"да\", NA, \"да\", NA, NA, \"да\", NA, NA, NA, NA,…\n",
      "$ LT_VUL       \u001b[3m\u001b[90m<chr>\u001b[39m\u001b[23m NA, NA, NA, NA, NA, NA, NA, NA, NA, NA, NA, NA, NA, NA, N…\n",
      "$ PL_BUW       \u001b[3m\u001b[90m<chr>\u001b[39m\u001b[23m NA, NA, NA, \"да\", NA, NA, NA, NA, NA, NA, NA, NA, NA, NA,…\n",
      "$ PL_BN        \u001b[3m\u001b[90m<chr>\u001b[39m\u001b[23m NA, NA, NA, \"да\", NA, NA, NA, NA, NA, NA, NA, NA, NA, NA,…\n",
      "$ RNL          \u001b[3m\u001b[90m<chr>\u001b[39m\u001b[23m \"004475784\", NA, NA, \"004475787\", \"004475875\", \"004430931…\n",
      "$ RSL          \u001b[3m\u001b[90m<chr>\u001b[39m\u001b[23m \"да\", NA, NA, \"да\", NA, \"да\", \"да\", \"да\", \"да\", \"да\", NA,…\n",
      "$ SPbGU        \u001b[3m\u001b[90m<chr>\u001b[39m\u001b[23m NA, NA, NA, NA, NA, NA, NA, NA, NA, NA, NA, NA, \"да\", NA,…\n",
      "$ US_Harvard   \u001b[3m\u001b[90m<chr>\u001b[39m\u001b[23m NA, NA, NA, \"да\", \"да\", NA, \"да\", NA, NA, NA, NA, \"да\", N…\n",
      "$ Rosanov      \u001b[3m\u001b[90m<chr>\u001b[39m\u001b[23m \"259\", NA, NA, \"295\", \"338\", \"341\", \"600\", \"711\", \"714\", …\n"
     ]
    }
   ],
   "source": [
    "# load raw data\n",
    "\n",
    "biblio <- read_csv(\"../../data/ch1/01_raw_data_poetry_1830_1850.csv\", \n",
    "                   col_types = cols(.default = \"c\")) %>% \n",
    "    mutate_all(~na_if(., \"\"))\n",
    "\n",
    "# cleaning\n",
    "\n",
    "biblio <- biblio %>% \n",
    "  # filter books which have several editions, while it was not always possible to detect specific editions\n",
    "  filter(!str_detect(special_tag, \"double\")|is.na(special_tag)) %>% \n",
    "  # merge book id\n",
    "  mutate(book_id = paste(id, year, poetry_prose, book_type, genre, sep = \"_\")) %>% \n",
    "  # select only needed columns\n",
    "  select(c(book_id, smirdin_1832:Rosanov)) %>% \n",
    "  select(-(contains(\"price\")))\n",
    "\n",
    "glimpse(biblio)"
   ]
  },
  {
   "cell_type": "code",
   "execution_count": 3,
   "id": "5a872e32",
   "metadata": {},
   "outputs": [
    {
     "name": "stdout",
     "output_type": "stream",
     "text": [
      "Rows: 1,066\n",
      "Columns: 18\n",
      "$ book_id      \u001b[3m\u001b[90m<chr>\u001b[39m\u001b[23m \"1_1834_v_sep_nar\", \"2_1834_v_sep_lyr\", \"4_1834_v_sep_lyr…\n",
      "$ smirdin_1832 \u001b[3m\u001b[90m<chr>\u001b[39m\u001b[23m NA, NA, NA, NA, NA, NA, NA, NA, NA, NA, NA, NA, NA, NA, N…\n",
      "$ olhin_46     \u001b[3m\u001b[90m<chr>\u001b[39m\u001b[23m \"yes\", NA, NA, NA, NA, NA, NA, NA, \"yes\", NA, NA, NA, NA,…\n",
      "$ krashen_52   \u001b[3m\u001b[90m<chr>\u001b[39m\u001b[23m NA, NA, NA, \"yes\", \"yes\", \"yes\", \"yes\", \"yes\", \"yes\", NA,…\n",
      "$ kymmel_89    \u001b[3m\u001b[90m<chr>\u001b[39m\u001b[23m NA, NA, NA, \"yes\", \"yes\", \"yes\", NA, NA, \"yes\", \"yes\", NA…\n",
      "$ kymmel_xxiv  \u001b[3m\u001b[90m<chr>\u001b[39m\u001b[23m NA, NA, NA, NA, NA, NA, NA, NA, NA, NA, NA, NA, NA, NA, N…\n",
      "$ MU_1838      \u001b[3m\u001b[90m<chr>\u001b[39m\u001b[23m NA, NA, NA, \"yes\", NA, NA, NA, NA, NA, NA, NA, NA, NA, NA…\n",
      "$ CZ_SLK       \u001b[3m\u001b[90m<chr>\u001b[39m\u001b[23m NA, NA, NA, \"yes\", \"yes\", NA, NA, \"yes\", NA, NA, NA, NA, …\n",
      "$ EE_ester     \u001b[3m\u001b[90m<chr>\u001b[39m\u001b[23m NA, NA, NA, \"yes\", NA, NA, \"yes\", NA, NA, NA, NA, NA, NA,…\n",
      "$ FI_NL        \u001b[3m\u001b[90m<chr>\u001b[39m\u001b[23m NA, NA, NA, \"yes\", NA, \"yes\", NA, NA, \"yes\", NA, NA, NA, …\n",
      "$ LT_VUL       \u001b[3m\u001b[90m<chr>\u001b[39m\u001b[23m NA, NA, NA, NA, NA, NA, NA, NA, NA, NA, NA, NA, NA, NA, N…\n",
      "$ PL_BUW       \u001b[3m\u001b[90m<chr>\u001b[39m\u001b[23m NA, NA, NA, \"yes\", NA, NA, NA, NA, NA, NA, NA, NA, NA, NA…\n",
      "$ PL_BN        \u001b[3m\u001b[90m<chr>\u001b[39m\u001b[23m NA, NA, NA, \"yes\", NA, NA, NA, NA, NA, NA, NA, NA, NA, NA…\n",
      "$ RU_NLR       \u001b[3m\u001b[90m<chr>\u001b[39m\u001b[23m \"yes\", NA, NA, \"yes\", \"yes\", \"yes\", \"yes\", \"yes\", \"yes\", …\n",
      "$ RU_RSL       \u001b[3m\u001b[90m<chr>\u001b[39m\u001b[23m \"yes\", NA, NA, \"yes\", NA, \"yes\", \"yes\", \"yes\", \"yes\", \"ye…\n",
      "$ RU_SPU       \u001b[3m\u001b[90m<chr>\u001b[39m\u001b[23m NA, NA, NA, NA, NA, NA, NA, NA, NA, NA, NA, NA, \"yes\", NA…\n",
      "$ US_Harvard   \u001b[3m\u001b[90m<chr>\u001b[39m\u001b[23m NA, NA, NA, \"yes\", \"yes\", NA, \"yes\", NA, NA, NA, NA, \"yes…\n",
      "$ RU_Rosanov   \u001b[3m\u001b[90m<chr>\u001b[39m\u001b[23m \"yes\", NA, NA, \"yes\", \"yes\", \"yes\", \"yes\", \"yes\", \"yes\", …\n"
     ]
    }
   ],
   "source": [
    "# put column names as values at all non-NA cells\n",
    "\n",
    "biblio_s <- biblio %>% \n",
    "  mutate_at(vars(smirdin_1832:Rosanov), ~ifelse(!is.na(.), \"yes\" , . )) %>% \n",
    "  # rename some columns\n",
    "  rename(RU_NLR = RNL,\n",
    "         RU_RSL = RSL,\n",
    "         RU_SPU = SPbGU,\n",
    "         RU_Rosanov = Rosanov)\n",
    "\n",
    "glimpse(biblio_s)"
   ]
  },
  {
   "cell_type": "code",
   "execution_count": 4,
   "id": "eac4252c",
   "metadata": {},
   "outputs": [
    {
     "name": "stdout",
     "output_type": "stream",
     "text": [
      "Rows: 1,066\n",
      "Columns: 18\n",
      "$ book_id      \u001b[3m\u001b[90m<chr>\u001b[39m\u001b[23m \"1_1834_v_sep_nar\", \"2_1834_v_sep_lyr\", \"4_1834_v_sep_lyr…\n",
      "$ smirdin_1832 \u001b[3m\u001b[90m<chr>\u001b[39m\u001b[23m NA, NA, NA, NA, NA, NA, NA, NA, NA, NA, NA, NA, NA, NA, N…\n",
      "$ olhin_46     \u001b[3m\u001b[90m<chr>\u001b[39m\u001b[23m \"olhin_46\", NA, NA, NA, NA, NA, NA, NA, \"olhin_46\", NA, N…\n",
      "$ krashen_52   \u001b[3m\u001b[90m<chr>\u001b[39m\u001b[23m NA, NA, NA, \"krashen_52\", \"krashen_52\", \"krashen_52\", \"kr…\n",
      "$ kymmel_89    \u001b[3m\u001b[90m<chr>\u001b[39m\u001b[23m NA, NA, NA, \"kymmel_89\", \"kymmel_89\", \"kymmel_89\", NA, NA…\n",
      "$ kymmel_xxiv  \u001b[3m\u001b[90m<chr>\u001b[39m\u001b[23m NA, NA, NA, NA, NA, NA, NA, NA, NA, NA, NA, NA, NA, NA, N…\n",
      "$ MU_1838      \u001b[3m\u001b[90m<chr>\u001b[39m\u001b[23m NA, NA, NA, \"MU_1838\", NA, NA, NA, NA, NA, NA, NA, NA, NA…\n",
      "$ CZ_SLK       \u001b[3m\u001b[90m<chr>\u001b[39m\u001b[23m NA, NA, NA, \"CZ_SLK\", \"CZ_SLK\", NA, NA, \"CZ_SLK\", NA, NA,…\n",
      "$ EE_ester     \u001b[3m\u001b[90m<chr>\u001b[39m\u001b[23m NA, NA, NA, \"EE_ester\", NA, NA, \"EE_ester\", NA, NA, NA, N…\n",
      "$ FI_NL        \u001b[3m\u001b[90m<chr>\u001b[39m\u001b[23m NA, NA, NA, \"FI_NL\", NA, \"FI_NL\", NA, NA, \"FI_NL\", NA, NA…\n",
      "$ LT_VUL       \u001b[3m\u001b[90m<chr>\u001b[39m\u001b[23m NA, NA, NA, NA, NA, NA, NA, NA, NA, NA, NA, NA, NA, NA, N…\n",
      "$ PL_BUW       \u001b[3m\u001b[90m<chr>\u001b[39m\u001b[23m NA, NA, NA, \"PL_BUW\", NA, NA, NA, NA, NA, NA, NA, NA, NA,…\n",
      "$ PL_BN        \u001b[3m\u001b[90m<chr>\u001b[39m\u001b[23m NA, NA, NA, \"PL_BN\", NA, NA, NA, NA, NA, NA, NA, NA, NA, …\n",
      "$ RU_NLR       \u001b[3m\u001b[90m<chr>\u001b[39m\u001b[23m \"RU_NLR\", NA, NA, \"RU_NLR\", \"RU_NLR\", \"RU_NLR\", \"RU_NLR\",…\n",
      "$ RU_RSL       \u001b[3m\u001b[90m<chr>\u001b[39m\u001b[23m \"RU_RSL\", NA, NA, \"RU_RSL\", NA, \"RU_RSL\", \"RU_RSL\", \"RU_R…\n",
      "$ RU_SPU       \u001b[3m\u001b[90m<chr>\u001b[39m\u001b[23m NA, NA, NA, NA, NA, NA, NA, NA, NA, NA, NA, NA, \"RU_SPU\",…\n",
      "$ US_Harvard   \u001b[3m\u001b[90m<chr>\u001b[39m\u001b[23m NA, NA, NA, \"US_Harvard\", \"US_Harvard\", NA, \"US_Harvard\",…\n",
      "$ RU_Rosanov   \u001b[3m\u001b[90m<chr>\u001b[39m\u001b[23m \"RU_Rosanov\", NA, NA, \"RU_Rosanov\", \"RU_Rosanov\", \"RU_Ros…\n"
     ]
    }
   ],
   "source": [
    "biblio_s <- biblio_s %>% \n",
    "    pivot_longer(!book_id, names_to = \"holding\", values_to = \"presence\") %>% \n",
    "    mutate(presence = if_else(presence == \"yes\", holding, presence)) %>% \n",
    "    pivot_wider(names_from = holding, values_from = presence)\n",
    "\n",
    "glimpse(biblio_s)"
   ]
  },
  {
   "cell_type": "code",
   "execution_count": 5,
   "id": "89b0d8d0",
   "metadata": {},
   "outputs": [
    {
     "data": {
      "text/html": [
       "<table class=\"dataframe\">\n",
       "<caption>A tibble: 6 × 2</caption>\n",
       "<thead>\n",
       "\t<tr><th scope=col>book_id</th><th scope=col>old_cat</th></tr>\n",
       "\t<tr><th scope=col>&lt;chr&gt;</th><th scope=col>&lt;chr&gt;</th></tr>\n",
       "</thead>\n",
       "<tbody>\n",
       "\t<tr><td>1_1834_v_sep_nar</td><td>NA        </td></tr>\n",
       "\t<tr><td>1_1834_v_sep_nar</td><td>olhin_46  </td></tr>\n",
       "\t<tr><td>2_1834_v_sep_lyr</td><td>NA        </td></tr>\n",
       "\t<tr><td>4_1834_v_sep_lyr</td><td>NA        </td></tr>\n",
       "\t<tr><td>5_1834_v_col_lyr</td><td>NA        </td></tr>\n",
       "\t<tr><td>5_1834_v_col_lyr</td><td>krashen_52</td></tr>\n",
       "</tbody>\n",
       "</table>\n"
      ],
      "text/latex": [
       "A tibble: 6 × 2\n",
       "\\begin{tabular}{ll}\n",
       " book\\_id & old\\_cat\\\\\n",
       " <chr> & <chr>\\\\\n",
       "\\hline\n",
       "\t 1\\_1834\\_v\\_sep\\_nar & NA        \\\\\n",
       "\t 1\\_1834\\_v\\_sep\\_nar & olhin\\_46  \\\\\n",
       "\t 2\\_1834\\_v\\_sep\\_lyr & NA        \\\\\n",
       "\t 4\\_1834\\_v\\_sep\\_lyr & NA        \\\\\n",
       "\t 5\\_1834\\_v\\_col\\_lyr & NA        \\\\\n",
       "\t 5\\_1834\\_v\\_col\\_lyr & krashen\\_52\\\\\n",
       "\\end{tabular}\n"
      ],
      "text/markdown": [
       "\n",
       "A tibble: 6 × 2\n",
       "\n",
       "| book_id &lt;chr&gt; | old_cat &lt;chr&gt; |\n",
       "|---|---|\n",
       "| 1_1834_v_sep_nar | NA         |\n",
       "| 1_1834_v_sep_nar | olhin_46   |\n",
       "| 2_1834_v_sep_lyr | NA         |\n",
       "| 4_1834_v_sep_lyr | NA         |\n",
       "| 5_1834_v_col_lyr | NA         |\n",
       "| 5_1834_v_col_lyr | krashen_52 |\n",
       "\n"
      ],
      "text/plain": [
       "  book_id          old_cat   \n",
       "1 1_1834_v_sep_nar NA        \n",
       "2 1_1834_v_sep_nar olhin_46  \n",
       "3 2_1834_v_sep_lyr NA        \n",
       "4 4_1834_v_sep_lyr NA        \n",
       "5 5_1834_v_col_lyr NA        \n",
       "6 5_1834_v_col_lyr krashen_52"
      ]
     },
     "metadata": {},
     "output_type": "display_data"
    }
   ],
   "source": [
    "# grouping old catalogues as one column var\n",
    "\n",
    "old_cats <- biblio_s %>% \n",
    "  select(c(book_id, smirdin_1832:MU_1838)) %>% \n",
    "  pivot_longer(!book_id, \n",
    "               names_to = \"name\", values_to = \"old_cat\") %>% \n",
    "  select(-name) %>% \n",
    "  distinct()\n",
    "\n",
    "head(old_cats)"
   ]
  },
  {
   "cell_type": "code",
   "execution_count": 6,
   "id": "de983689",
   "metadata": {},
   "outputs": [
    {
     "data": {
      "text/html": [
       "<table class=\"dataframe\">\n",
       "<caption>A tibble: 6 × 2</caption>\n",
       "<thead>\n",
       "\t<tr><th scope=col>book_id</th><th scope=col>new_cat</th></tr>\n",
       "\t<tr><th scope=col>&lt;chr&gt;</th><th scope=col>&lt;chr&gt;</th></tr>\n",
       "</thead>\n",
       "<tbody>\n",
       "\t<tr><td>1_1834_v_sep_nar</td><td>RU_RSL    </td></tr>\n",
       "\t<tr><td>1_1834_v_sep_nar</td><td>RU_Rosanov</td></tr>\n",
       "\t<tr><td>5_1834_v_col_lyr</td><td>CZ_SLK    </td></tr>\n",
       "\t<tr><td>5_1834_v_col_lyr</td><td>EE_ester  </td></tr>\n",
       "\t<tr><td>5_1834_v_col_lyr</td><td>FI_NL     </td></tr>\n",
       "\t<tr><td>5_1834_v_col_lyr</td><td>PL_BUW    </td></tr>\n",
       "</tbody>\n",
       "</table>\n"
      ],
      "text/latex": [
       "A tibble: 6 × 2\n",
       "\\begin{tabular}{ll}\n",
       " book\\_id & new\\_cat\\\\\n",
       " <chr> & <chr>\\\\\n",
       "\\hline\n",
       "\t 1\\_1834\\_v\\_sep\\_nar & RU\\_RSL    \\\\\n",
       "\t 1\\_1834\\_v\\_sep\\_nar & RU\\_Rosanov\\\\\n",
       "\t 5\\_1834\\_v\\_col\\_lyr & CZ\\_SLK    \\\\\n",
       "\t 5\\_1834\\_v\\_col\\_lyr & EE\\_ester  \\\\\n",
       "\t 5\\_1834\\_v\\_col\\_lyr & FI\\_NL     \\\\\n",
       "\t 5\\_1834\\_v\\_col\\_lyr & PL\\_BUW    \\\\\n",
       "\\end{tabular}\n"
      ],
      "text/markdown": [
       "\n",
       "A tibble: 6 × 2\n",
       "\n",
       "| book_id &lt;chr&gt; | new_cat &lt;chr&gt; |\n",
       "|---|---|\n",
       "| 1_1834_v_sep_nar | RU_RSL     |\n",
       "| 1_1834_v_sep_nar | RU_Rosanov |\n",
       "| 5_1834_v_col_lyr | CZ_SLK     |\n",
       "| 5_1834_v_col_lyr | EE_ester   |\n",
       "| 5_1834_v_col_lyr | FI_NL      |\n",
       "| 5_1834_v_col_lyr | PL_BUW     |\n",
       "\n"
      ],
      "text/plain": [
       "  book_id          new_cat   \n",
       "1 1_1834_v_sep_nar RU_RSL    \n",
       "2 1_1834_v_sep_nar RU_Rosanov\n",
       "3 5_1834_v_col_lyr CZ_SLK    \n",
       "4 5_1834_v_col_lyr EE_ester  \n",
       "5 5_1834_v_col_lyr FI_NL     \n",
       "6 5_1834_v_col_lyr PL_BUW    "
      ]
     },
     "metadata": {},
     "output_type": "display_data"
    }
   ],
   "source": [
    "# grouping new catalogues (except RNL) as one column\n",
    "\n",
    "new_cats <- biblio_s %>% \n",
    "  select(c(book_id, CZ_SLK:RU_Rosanov)) %>% \n",
    "  select(-RU_NLR) %>% \n",
    "  pivot_longer(!book_id,\n",
    "               names_to = \"name\", values_to = \"new_cat\") %>% \n",
    "  select(-name) %>% \n",
    "  filter(!is.na(new_cat)) %>% \n",
    "  distinct()\n",
    "\n",
    "head(new_cats)"
   ]
  },
  {
   "cell_type": "code",
   "execution_count": 7,
   "id": "cefad4aa",
   "metadata": {},
   "outputs": [],
   "source": [
    "# additional groups for filling colour column (\"survival\")\n",
    "\n",
    "# books found only in NLR\n",
    "only_rnl <- biblio_s %>% \n",
    "  select(book_id, RU_NLR) %>% \n",
    "  filter(!is.na(RU_NLR)) %>% \n",
    "  anti_join(new_cats, by = \"book_id\") %>% \n",
    "  mutate(survived = \"Только в РНБ\") %>% \n",
    "  select(book_id, survived)\n",
    "\n",
    "# separate table for books not found in any catalogues\n",
    "lost <- biblio_s %>% \n",
    "  anti_join(new_cats, by = \"book_id\") %>% \n",
    "  anti_join(only_rnl, by = \"book_id\") %>% \n",
    "  mutate(survived = \"Утеряна\") %>% \n",
    "  select(book_id, survived)\n",
    "\n",
    "# books not found in RNL but elsewhere\n",
    "only_outside <- biblio_s %>% \n",
    "  select(book_id, RU_NLR) %>% \n",
    "  filter(is.na(RU_NLR)) %>% \n",
    "  inner_join(new_cats, by = \"book_id\") %>% \n",
    "  mutate(survived = \"Только вне РНБ\") %>% \n",
    "  select(book_id, survived)"
   ]
  },
  {
   "cell_type": "code",
   "execution_count": 8,
   "id": "b4f0b854",
   "metadata": {},
   "outputs": [
    {
     "name": "stderr",
     "output_type": "stream",
     "text": [
      "Warning message in left_join(., new_cats, by = \"book_id\"):\n",
      "“\u001b[1m\u001b[22mDetected an unexpected many-to-many relationship between `x` and `y`.\n",
      "\u001b[36mℹ\u001b[39m Row 1 of `x` matches multiple rows in `y`.\n",
      "\u001b[36mℹ\u001b[39m Row 1 of `y` matches multiple rows in `x`.\n",
      "\u001b[36mℹ\u001b[39m If a many-to-many relationship is expected, set `relationship =\n",
      "  \"many-to-many\"` to silence this warning.”\n",
      "Warning message in left_join(., only_outside, by = \"book_id\"):\n",
      "“\u001b[1m\u001b[22mDetected an unexpected many-to-many relationship between `x` and `y`.\n",
      "\u001b[36mℹ\u001b[39m Row 811 of `x` matches multiple rows in `y`.\n",
      "\u001b[36mℹ\u001b[39m Row 1 of `y` matches multiple rows in `x`.\n",
      "\u001b[36mℹ\u001b[39m If a many-to-many relationship is expected, set `relationship =\n",
      "  \"many-to-many\"` to silence this warning.”\n"
     ]
    },
    {
     "data": {
      "text/html": [
       "<table class=\"dataframe\">\n",
       "<caption>A tibble: 6 × 5</caption>\n",
       "<thead>\n",
       "\t<tr><th scope=col>RU_NLR</th><th scope=col>old_cat</th><th scope=col>new_cat</th><th scope=col>survived</th><th scope=col>n</th></tr>\n",
       "\t<tr><th scope=col>&lt;chr&gt;</th><th scope=col>&lt;chr&gt;</th><th scope=col>&lt;chr&gt;</th><th scope=col>&lt;chr&gt;</th><th scope=col>&lt;int&gt;</th></tr>\n",
       "</thead>\n",
       "<tbody>\n",
       "\t<tr><td>RU_NLR</td><td>NA        </td><td>RU_RSL    </td><td>В РНБ и за ее пределами</td><td>520</td></tr>\n",
       "\t<tr><td>RU_NLR</td><td>NA        </td><td>NA        </td><td>Только в РНБ           </td><td>318</td></tr>\n",
       "\t<tr><td>RU_NLR</td><td>NA        </td><td>RU_Rosanov</td><td>В РНБ и за ее пределами</td><td>229</td></tr>\n",
       "\t<tr><td>RU_NLR</td><td>krashen_52</td><td>RU_RSL    </td><td>В РНБ и за ее пределами</td><td>226</td></tr>\n",
       "\t<tr><td>RU_NLR</td><td>NA        </td><td>FI_NL     </td><td>В РНБ и за ее пределами</td><td>210</td></tr>\n",
       "\t<tr><td>RU_NLR</td><td>olhin_46  </td><td>RU_RSL    </td><td>В РНБ и за ее пределами</td><td>210</td></tr>\n",
       "</tbody>\n",
       "</table>\n"
      ],
      "text/latex": [
       "A tibble: 6 × 5\n",
       "\\begin{tabular}{lllll}\n",
       " RU\\_NLR & old\\_cat & new\\_cat & survived & n\\\\\n",
       " <chr> & <chr> & <chr> & <chr> & <int>\\\\\n",
       "\\hline\n",
       "\t RU\\_NLR & NA         & RU\\_RSL     & В РНБ и за ее пределами & 520\\\\\n",
       "\t RU\\_NLR & NA         & NA         & Только в РНБ            & 318\\\\\n",
       "\t RU\\_NLR & NA         & RU\\_Rosanov & В РНБ и за ее пределами & 229\\\\\n",
       "\t RU\\_NLR & krashen\\_52 & RU\\_RSL     & В РНБ и за ее пределами & 226\\\\\n",
       "\t RU\\_NLR & NA         & FI\\_NL      & В РНБ и за ее пределами & 210\\\\\n",
       "\t RU\\_NLR & olhin\\_46   & RU\\_RSL     & В РНБ и за ее пределами & 210\\\\\n",
       "\\end{tabular}\n"
      ],
      "text/markdown": [
       "\n",
       "A tibble: 6 × 5\n",
       "\n",
       "| RU_NLR &lt;chr&gt; | old_cat &lt;chr&gt; | new_cat &lt;chr&gt; | survived &lt;chr&gt; | n &lt;int&gt; |\n",
       "|---|---|---|---|---|\n",
       "| RU_NLR | NA         | RU_RSL     | В РНБ и за ее пределами | 520 |\n",
       "| RU_NLR | NA         | NA         | Только в РНБ            | 318 |\n",
       "| RU_NLR | NA         | RU_Rosanov | В РНБ и за ее пределами | 229 |\n",
       "| RU_NLR | krashen_52 | RU_RSL     | В РНБ и за ее пределами | 226 |\n",
       "| RU_NLR | NA         | FI_NL      | В РНБ и за ее пределами | 210 |\n",
       "| RU_NLR | olhin_46   | RU_RSL     | В РНБ и за ее пределами | 210 |\n",
       "\n"
      ],
      "text/plain": [
       "  RU_NLR old_cat    new_cat    survived                n  \n",
       "1 RU_NLR NA         RU_RSL     В РНБ и за ее пределами 520\n",
       "2 RU_NLR NA         NA         Только в РНБ            318\n",
       "3 RU_NLR NA         RU_Rosanov В РНБ и за ее пределами 229\n",
       "4 RU_NLR krashen_52 RU_RSL     В РНБ и за ее пределами 226\n",
       "5 RU_NLR NA         FI_NL      В РНБ и за ее пределами 210\n",
       "6 RU_NLR olhin_46   RU_RSL     В РНБ и за ее пределами 210"
      ]
     },
     "metadata": {},
     "output_type": "display_data"
    }
   ],
   "source": [
    "# combine tables & tags\n",
    "biblio_l <- biblio_s %>% \n",
    "  select(book_id, RU_NLR) %>% \n",
    "  left_join(old_cats, by = \"book_id\") %>% \n",
    "  left_join(new_cats, by = \"book_id\") %>% \n",
    "  left_join(only_rnl, by = \"book_id\") %>% \n",
    "  left_join(only_outside, by = \"book_id\") %>% \n",
    "  left_join(lost, by = \"book_id\") %>% \n",
    "  mutate(across(everything(), as.character)) \n",
    "\n",
    "# replace NAs\n",
    "biblio_l[is.na(biblio_l)] <- \"NA\"\n",
    "\n",
    "biblio_l <- biblio_l %>% \n",
    "  mutate(survived = paste(survived.x, survived.y, survived, sep = \"_\")) %>% \n",
    "  mutate(survived.x = str_remove_all(survived, \"NA_|_NA\")) %>% \n",
    "  mutate(survived = ifelse(survived.x == \"NA\", \n",
    "                           \"В РНБ и за ее пределами\",\n",
    "                           survived.x)) %>% \n",
    "  select(-c(survived.x, survived.y)) %>% \n",
    "  group_by(across(c(-book_id))) %>% \n",
    "  count(sort = T) %>% \n",
    "  ungroup()\n",
    "\n",
    "head(biblio_l)"
   ]
  },
  {
   "cell_type": "markdown",
   "id": "6e22e2f6",
   "metadata": {},
   "source": [
    "#### Alluvial plot"
   ]
  },
  {
   "cell_type": "code",
   "execution_count": 9,
   "id": "084e331c",
   "metadata": {},
   "outputs": [
    {
     "data": {
      "text/html": [
       "<table class=\"dataframe\">\n",
       "<caption>A tibble: 6 × 5</caption>\n",
       "<thead>\n",
       "\t<tr><th scope=col>survived</th><th scope=col>n</th><th scope=col>alluvium</th><th scope=col>Catalogues</th><th scope=col>stratum</th></tr>\n",
       "\t<tr><th scope=col>&lt;chr&gt;</th><th scope=col>&lt;int&gt;</th><th scope=col>&lt;int&gt;</th><th scope=col>&lt;fct&gt;</th><th scope=col>&lt;fct&gt;</th></tr>\n",
       "</thead>\n",
       "<tbody>\n",
       "\t<tr><td>В РНБ и за ее пределами</td><td>520</td><td>1</td><td>old_cat</td><td> Не найдено</td></tr>\n",
       "\t<tr><td>Только в РНБ           </td><td>318</td><td>2</td><td>old_cat</td><td> Не найдено</td></tr>\n",
       "\t<tr><td>В РНБ и за ее пределами</td><td>229</td><td>3</td><td>old_cat</td><td> Не найдено</td></tr>\n",
       "\t<tr><td>В РНБ и за ее пределами</td><td>226</td><td>4</td><td>old_cat</td><td>krashen_52 </td></tr>\n",
       "\t<tr><td>В РНБ и за ее пределами</td><td>210</td><td>5</td><td>old_cat</td><td> Не найдено</td></tr>\n",
       "\t<tr><td>В РНБ и за ее пределами</td><td>210</td><td>6</td><td>old_cat</td><td>olhin_46   </td></tr>\n",
       "</tbody>\n",
       "</table>\n"
      ],
      "text/latex": [
       "A tibble: 6 × 5\n",
       "\\begin{tabular}{lllll}\n",
       " survived & n & alluvium & Catalogues & stratum\\\\\n",
       " <chr> & <int> & <int> & <fct> & <fct>\\\\\n",
       "\\hline\n",
       "\t В РНБ и за ее пределами & 520 & 1 & old\\_cat &  Не найдено\\\\\n",
       "\t Только в РНБ            & 318 & 2 & old\\_cat &  Не найдено\\\\\n",
       "\t В РНБ и за ее пределами & 229 & 3 & old\\_cat &  Не найдено\\\\\n",
       "\t В РНБ и за ее пределами & 226 & 4 & old\\_cat & krashen\\_52 \\\\\n",
       "\t В РНБ и за ее пределами & 210 & 5 & old\\_cat &  Не найдено\\\\\n",
       "\t В РНБ и за ее пределами & 210 & 6 & old\\_cat & olhin\\_46   \\\\\n",
       "\\end{tabular}\n"
      ],
      "text/markdown": [
       "\n",
       "A tibble: 6 × 5\n",
       "\n",
       "| survived &lt;chr&gt; | n &lt;int&gt; | alluvium &lt;int&gt; | Catalogues &lt;fct&gt; | stratum &lt;fct&gt; |\n",
       "|---|---|---|---|---|\n",
       "| В РНБ и за ее пределами | 520 | 1 | old_cat |  Не найдено |\n",
       "| Только в РНБ            | 318 | 2 | old_cat |  Не найдено |\n",
       "| В РНБ и за ее пределами | 229 | 3 | old_cat |  Не найдено |\n",
       "| В РНБ и за ее пределами | 226 | 4 | old_cat | krashen_52  |\n",
       "| В РНБ и за ее пределами | 210 | 5 | old_cat |  Не найдено |\n",
       "| В РНБ и за ее пределами | 210 | 6 | old_cat | olhin_46    |\n",
       "\n"
      ],
      "text/plain": [
       "  survived                n   alluvium Catalogues stratum    \n",
       "1 В РНБ и за ее пределами 520 1        old_cat     Не найдено\n",
       "2 Только в РНБ            318 2        old_cat     Не найдено\n",
       "3 В РНБ и за ее пределами 229 3        old_cat     Не найдено\n",
       "4 В РНБ и за ее пределами 226 4        old_cat    krashen_52 \n",
       "5 В РНБ и за ее пределами 210 5        old_cat     Не найдено\n",
       "6 В РНБ и за ее пределами 210 6        old_cat    olhin_46   "
      ]
     },
     "metadata": {},
     "output_type": "display_data"
    }
   ],
   "source": [
    "bib_l <- biblio_l %>% \n",
    "  # filter books which are known from untrusted sources\n",
    "  filter(!(old_cat == \"NA\" & RU_NLR == \"NA\" & new_cat == \"NA\")) %>% \n",
    "  select(old_cat, RU_NLR, new_cat, survived, n) %>% \n",
    "  # change \"NA\" to different categories\n",
    "  mutate(old_cat = str_replace_all(old_cat, \"NA\", \" Не найдено\"),\n",
    "         RU_NLR = str_replace_all(RU_NLR, \"NA\", \" Не найдено\\nв РНБ\"),\n",
    "         new_cat = str_replace_all(new_cat, \"NA\", \" Не найдено\"))\n",
    "  \n",
    "\n",
    "# turn data to alluvium long type\n",
    "biblio_al <- to_lodes_form(bib_l, \n",
    "                           key = \"Catalogues\", \n",
    "                           axes = 1:3)\n",
    "head(biblio_al)"
   ]
  },
  {
   "cell_type": "code",
   "execution_count": null,
   "id": "dbf961b4",
   "metadata": {},
   "outputs": [],
   "source": [
    "# Plot\n",
    "\n",
    "biblio_al %>% \n",
    "  # rename stratum for prettier lables\n",
    "  mutate(stratum = str_replace_all(stratum, \"olhin_46\", \"1846 Ольхин\")) %>% \n",
    "  mutate(stratum = str_replace_all(stratum, \"krashen_52\", \"1852 Крашенин.\")) %>% \n",
    "  mutate(stratum = str_replace_all(stratum, \"kymmel_89\", \"1889 Киммель\")) %>% \n",
    "  mutate(stratum = str_replace_all(stratum, \"smirdin_1832\", \"1832 Смирдин\")) %>% \n",
    "  # remove additional catalogues\n",
    "  filter(stratum != \"MU_1838\" & stratum != \"kymmel_xxiv\") %>% \n",
    "  ggplot(aes(x = Catalogues,\n",
    "             stratum = stratum,\n",
    "             alluvium = alluvium,\n",
    "             y = n,\n",
    "             label = stratum)) +\n",
    "  geom_flow(aes(fill = survived), \n",
    "            alpha = 0.8) +\n",
    "  geom_stratum() + \n",
    "  geom_text(stat = \"stratum\", check_overlap = T) + \n",
    "  labs(x = \"\", y = \"\", fill = \"Книга найдена:\") + \n",
    "  theme_minimal() + \n",
    "  scale_fill_manual(values = c(\n",
    "      met.brewer(\"Veronese\")[4], met.brewer(\"Veronese\")[3],\n",
    "      met.brewer(\"Veronese\")[6], met.brewer(\"Veronese\")[1]\n",
    "    )) + \n",
    "  scale_x_discrete(labels = c(\"Каталоги 19-го в.\", \n",
    "                              \"РНБ\\n(держатель обязательных экз.)\", \n",
    "                              \"Другие\\nбиблиотеки\"),\n",
    "                   expand = c(0.1,0)) + \n",
    "  theme(axis.text.y = element_blank(),\n",
    "        legend.text = element_text(size = 12),\n",
    "        #legend.position = \"bottom\",\n",
    "        axis.text.x = element_text(size = 12))\n"
   ]
  },
  {
   "cell_type": "code",
   "execution_count": 30,
   "id": "780f0ca9",
   "metadata": {},
   "outputs": [],
   "source": [
    "ggsave(\"plots/Fig_1-2-1.jpeg\", plot = last_plot(), height = 8, width = 12, bg = \"white\",\n",
    "      dpi = 300)"
   ]
  },
  {
   "cell_type": "markdown",
   "id": "f973f404",
   "metadata": {},
   "source": [
    "Plot in black & white"
   ]
  },
  {
   "cell_type": "code",
   "execution_count": null,
   "id": "941d0a13",
   "metadata": {},
   "outputs": [],
   "source": [
    "biblio_al %>% \n",
    "  # rename stratum for prettier lables\n",
    "  mutate(stratum = str_replace_all(stratum, \"olhin_46\", \"1846 Ольхин\")) %>% \n",
    "  mutate(stratum = str_replace_all(stratum, \"krashen_52\", \"1852 Крашенин.\")) %>% \n",
    "  mutate(stratum = str_replace_all(stratum, \"kymmel_89\", \"1889 Киммель\")) %>% \n",
    "  mutate(stratum = str_replace_all(stratum, \"smirdin_1832\", \"1832 Смирдин\")) %>% \n",
    "  # remove additional catalogues\n",
    "  filter(stratum != \"MU_1838\" & stratum != \"kymmel_xxiv\") %>% \n",
    "  ggplot(aes(x = Catalogues,\n",
    "             stratum = stratum,\n",
    "             alluvium = alluvium,\n",
    "             y = n,\n",
    "             label = stratum)) +\n",
    "  geom_flow(aes(fill = survived), \n",
    "            alpha = 0.8) +\n",
    "  geom_stratum() + \n",
    "  geom_text(stat = \"stratum\", check_overlap = T) + \n",
    "  labs(x = \"\", y = \"\", fill = \"Книга найдена:\") + \n",
    "  theme_minimal() + \n",
    "  scale_fill_manual(values = c(\n",
    "      \"gray80\", \"gray60\", \"gray35\", \"black\"\n",
    "    )) + \n",
    "  scale_x_discrete(labels = c(\"Каталоги 19-го в.\", \n",
    "                              \"РНБ\\n(держатель обязательных экз.)\", \n",
    "                              \"Другие\\nбиблиотеки\"),\n",
    "                   expand = c(0.1,0)) + \n",
    "  theme(axis.text.y = element_blank(),\n",
    "        legend.text = element_text(size = 12),\n",
    "        #legend.position = \"bottom\",\n",
    "        axis.text.x = element_text(size = 12))\n"
   ]
  },
  {
   "cell_type": "code",
   "execution_count": 28,
   "id": "b4d636b3",
   "metadata": {},
   "outputs": [],
   "source": [
    "ggsave(\"plots/bw/Fig_1-2-1.jpeg\", plot = last_plot(), height = 8, width = 12, bg = \"white\",\n",
    "      dpi = 300)"
   ]
  },
  {
   "cell_type": "code",
   "execution_count": null,
   "id": "cf233d31",
   "metadata": {},
   "outputs": [],
   "source": []
  }
 ],
 "metadata": {
  "kernelspec": {
   "display_name": "R",
   "language": "R",
   "name": "ir"
  },
  "language_info": {
   "codemirror_mode": "r",
   "file_extension": ".r",
   "mimetype": "text/x-r-source",
   "name": "R",
   "pygments_lexer": "r",
   "version": "4.3.0"
  }
 },
 "nbformat": 4,
 "nbformat_minor": 5
}
