{
 "cells": [
  {
   "cell_type": "markdown",
   "id": "4f26219f",
   "metadata": {},
   "source": [
    "## Chapter 2.2. Poems in periodicals: statistics\n",
    "\n",
    "Load packages and periodicals data"
   ]
  },
  {
   "cell_type": "code",
   "execution_count": 13,
   "id": "373857a6",
   "metadata": {},
   "outputs": [
    {
     "name": "stderr",
     "output_type": "stream",
     "text": [
      "Registering fonts with R\n",
      "\n",
      "Ładowanie wymaganego pakietu: sysfonts\n",
      "\n",
      "Ładowanie wymaganego pakietu: showtextdb\n",
      "\n",
      "\n",
      "Dołączanie pakietu: ‘showtextdb’\n",
      "\n",
      "\n",
      "Następujący obiekt został zakryty z ‘package:extrafont’:\n",
      "\n",
      "    font_install\n",
      "\n",
      "\n"
     ]
    }
   ],
   "source": [
    "library(tidyverse)\n",
    "\n",
    "library(treemap)\n",
    "library(ggplotify)\n",
    "theme_set(theme_minimal())\n",
    "library(wesanderson)\n",
    "\n",
    "# fix problems with cyrillics\n",
    "library(extrafont)\n",
    "library(showtext)\n",
    "font_add(\"Arial\", \"/Library/Fonts/Arial.ttf\") \n",
    "showtext_auto()"
   ]
  },
  {
   "cell_type": "markdown",
   "id": "70ed3bae",
   "metadata": {},
   "source": [
    "Load data"
   ]
  },
  {
   "cell_type": "code",
   "execution_count": 6,
   "id": "383f9bb9",
   "metadata": {},
   "outputs": [
    {
     "name": "stdout",
     "output_type": "stream",
     "text": [
      "Rows: 1,402\n",
      "Columns: 29\n",
      "$ id               \u001b[3m\u001b[90m<chr>\u001b[39m\u001b[23m \"P_8\", \"P_9\", \"P_10\", \"P_11\", \"P_12\", \"P_13\", \"P_14\",…\n",
      "$ txt_raw          \u001b[3m\u001b[90m<chr>\u001b[39m\u001b[23m \"\", \"\", \"\", \"\", \"\", \"\", \"\", \"\", \"\", \"\", \"\", \"\", \"\", \"…\n",
      "$ text             \u001b[3m\u001b[90m<chr>\u001b[39m\u001b[23m \"1\", \"1\", \"1\", \"1\", \"1\", \"1\", \"1\", \"1\", \"1\", \"1\", \"1\"…\n",
      "$ Unmed..0         \u001b[3m\u001b[90m<int>\u001b[39m\u001b[23m NA, 2873, 1232, NA, NA, 12698, NA, NA, NA, 12683, NA,…\n",
      "$ author_nkrja     \u001b[3m\u001b[90m<chr>\u001b[39m\u001b[23m \"\", \"Е. А. Баратынский\", \"Л. А. Якубович\", \"\", \"\", \"А…\n",
      "$ A_ID             \u001b[3m\u001b[90m<chr>\u001b[39m\u001b[23m \"A-74\", \"A-2\", \"A-50\", \"A-138\", \"A-139\", \"A-11\", \"A-1…\n",
      "$ author           \u001b[3m\u001b[90m<chr>\u001b[39m\u001b[23m \"Марков М.А.\", \"Баратынский Е.А.\", \"Якубович Л.А.\", \"…\n",
      "$ title            \u001b[3m\u001b[90m<chr>\u001b[39m\u001b[23m \"Русский царь\", \"Запустение\", \"Молния\", \"Аполог\", \"По…\n",
      "$ first_line       \u001b[3m\u001b[90m<chr>\u001b[39m\u001b[23m \"Достигнула Европа цели\", \"Я посетил тебя, пленительн…\n",
      "$ PER_ID           \u001b[3m\u001b[90m<chr>\u001b[39m\u001b[23m \"БдЧ\", \"БдЧ\", \"БдЧ\", \"БдЧ\", \"БдЧ\", \"БдЧ\", \"БдЧ\", \"БдЧ…\n",
      "$ year             \u001b[3m\u001b[90m<int>\u001b[39m\u001b[23m 1835, 1835, 1835, 1835, 1835, 1835, 1835, 1835, 1835,…\n",
      "$ Vol              \u001b[3m\u001b[90m<chr>\u001b[39m\u001b[23m \"Т.8. Отд. 1\", \"Т.8. Отд. 1\", \"Т.8. Отд. 1\", \"Т.8. От…\n",
      "$ Num              \u001b[3m\u001b[90m<chr>\u001b[39m\u001b[23m NA, NA, NA, NA, NA, NA, NA, NA, NA, NA, NA, NA, NA, N…\n",
      "$ Pages            \u001b[3m\u001b[90m<chr>\u001b[39m\u001b[23m \"5-8\", \"19-21\", \"21\", \"22\", \"145-157\", \"158\", \"159\", …\n",
      "$ Subtitle         \u001b[3m\u001b[90m<chr>\u001b[39m\u001b[23m NA, \"Элегия\", NA, NA, \"Баллада\", NA, NA, NA, NA, \"Пес…\n",
      "$ Author_sign      \u001b[3m\u001b[90m<chr>\u001b[39m\u001b[23m \"М. Марков\", \"Е. Баратынский\", \"Л. Якубович\", \"А.И. К…\n",
      "$ Author_full_name \u001b[3m\u001b[90m<chr>\u001b[39m\u001b[23m \"Марков Михаил Александрович\", \"Баратынский Евгений А…\n",
      "$ Author_birth     \u001b[3m\u001b[90m<int>\u001b[39m\u001b[23m 1810, 1800, 1805, 1784, 1810, 1799, 1779, 1779, 1795,…\n",
      "$ Author_death     \u001b[3m\u001b[90m<chr>\u001b[39m\u001b[23m \"1876\", \"1844\", \"1839\", \"1812\", \"1857\", \"1837\", \"1840…\n",
      "$ RP_biography     \u001b[3m\u001b[90m<chr>\u001b[39m\u001b[23m \"3-528\", \"1-158\", NA, NA, \"5-151\", \"5\", \"3-5\", \"3-5\",…\n",
      "$ Comment          \u001b[3m\u001b[90m<chr>\u001b[39m\u001b[23m \"\", \"\", \"\", \"\", \"\", \"\", \"\", \"\", \"\", \"\", \"\", \"\", \"\", \"…\n",
      "$ text_raw         \u001b[3m\u001b[90m<chr>\u001b[39m\u001b[23m \"Достигнула! Европа цели, —\\nСвятая Русь поражена,\\nИ…\n",
      "$ text_lemm        \u001b[3m\u001b[90m<chr>\u001b[39m\u001b[23m \"достигнуть! европа цель, —\\nсвятой русь поражать,\\nи…\n",
      "$ meter            \u001b[3m\u001b[90m<chr>\u001b[39m\u001b[23m \"iamb\", \"iamb\", \"iamb\", \"trochee\", \"trochee\", \"troche…\n",
      "$ feet             \u001b[3m\u001b[90m<chr>\u001b[39m\u001b[23m \"4\", \"free\", \"free\", \"4\", \"4\", \"4\", NA, \"6\", \"free\", …\n",
      "$ perc_meter       \u001b[3m\u001b[90m<dbl>\u001b[39m\u001b[23m 1.0000000, 1.0000000, 1.0000000, 1.0000000, 0.9500000…\n",
      "$ perc_feet        \u001b[3m\u001b[90m<dbl>\u001b[39m\u001b[23m 0.7800000, NA, NA, 0.7500000, 0.8914141, 0.8846154, N…\n",
      "$ formula          \u001b[3m\u001b[90m<chr>\u001b[39m\u001b[23m \"iamb_4\", \"iamb_free\", \"iamb_free\", \"trochee_4\", \"tro…\n",
      "$ n_lines          \u001b[3m\u001b[90m<int>\u001b[39m\u001b[23m 100, 69, 16, 28, 400, 26, 14, 14, 18, 82, 54, 47, 91,…\n"
     ]
    }
   ],
   "source": [
    "# periodicals\n",
    "per <- read.csv(\"../../data/periodicals_lem.csv\") %>% \n",
    "            select(-X) %>% \n",
    "            rename(author = Author_Initials,\n",
    "                  year = Year, \n",
    "                  title = Text_title,\n",
    "                  first_line = First_line) %>% \n",
    "            filter(year != 1834)\n",
    "glimpse(per)"
   ]
  },
  {
   "cell_type": "code",
   "execution_count": 7,
   "id": "34038463",
   "metadata": {},
   "outputs": [
    {
     "data": {
      "text/html": [
       "<style>\n",
       ".list-inline {list-style: none; margin:0; padding: 0}\n",
       ".list-inline>li {display: inline-block}\n",
       ".list-inline>li:not(:last-child)::after {content: \"\\00b7\"; padding: 0 .5ex}\n",
       "</style>\n",
       "<ol class=list-inline><li>'ССБобров'</li><li>'САТучков'</li><li>'ССПестов'</li><li>'ППСумароков'</li><li>'НССмирнов'</li><li>'ПАСловцов'</li></ol>\n"
      ],
      "text/latex": [
       "\\begin{enumerate*}\n",
       "\\item 'ССБобров'\n",
       "\\item 'САТучков'\n",
       "\\item 'ССПестов'\n",
       "\\item 'ППСумароков'\n",
       "\\item 'НССмирнов'\n",
       "\\item 'ПАСловцов'\n",
       "\\end{enumerate*}\n"
      ],
      "text/markdown": [
       "1. 'ССБобров'\n",
       "2. 'САТучков'\n",
       "3. 'ССПестов'\n",
       "4. 'ППСумароков'\n",
       "5. 'НССмирнов'\n",
       "6. 'ПАСловцов'\n",
       "\n",
       "\n"
      ],
      "text/plain": [
       "[1] \"ССБобров\"    \"САТучков\"    \"ССПестов\"    \"ППСумароков\" \"НССмирнов\"  \n",
       "[6] \"ПАСловцов\"  "
      ]
     },
     "metadata": {},
     "output_type": "display_data"
    }
   ],
   "source": [
    "# RNC data\n",
    "load(\"../../data/nkrja_19th_lem.Rda\")\n",
    "\n",
    "rnc_authors <- c19 %>% \n",
    "    select(author) %>% \n",
    "    mutate(author = str_remove_all(author, \"[[:space:]]|[[:punct:]]\")) %>% \n",
    "    distinct() %>% \n",
    "    pull()\n",
    "\n",
    "head(rnc_authors)\n",
    "\n",
    "#rm(c19)"
   ]
  },
  {
   "cell_type": "code",
   "execution_count": 8,
   "id": "5db19320",
   "metadata": {},
   "outputs": [
    {
     "name": "stdout",
     "output_type": "stream",
     "text": [
      "[1] \"Total number of authors in periodicals:\"\n"
     ]
    },
    {
     "data": {
      "text/html": [
       "164"
      ],
      "text/latex": [
       "164"
      ],
      "text/markdown": [
       "164"
      ],
      "text/plain": [
       "[1] 164"
      ]
     },
     "metadata": {},
     "output_type": "display_data"
    },
    {
     "name": "stdout",
     "output_type": "stream",
     "text": [
      "[1] \"Number of authors with biography in RP:\"\n"
     ]
    },
    {
     "data": {
      "text/html": [
       "101"
      ],
      "text/latex": [
       "101"
      ],
      "text/markdown": [
       "101"
      ],
      "text/plain": [
       "[1] 101"
      ]
     },
     "metadata": {},
     "output_type": "display_data"
    },
    {
     "name": "stdout",
     "output_type": "stream",
     "text": [
      "[1] \"Number of authors included in RNC\"\n"
     ]
    },
    {
     "data": {
      "text/html": [
       "54"
      ],
      "text/latex": [
       "54"
      ],
      "text/markdown": [
       "54"
      ],
      "text/plain": [
       "[1] 54"
      ]
     },
     "metadata": {},
     "output_type": "display_data"
    }
   ],
   "source": [
    "print(\"Total number of authors in periodicals:\")\n",
    "per %>% \n",
    "    filter(!is.na(A_ID) & !is.na(author)) %>% # 1095 poems are with known author\n",
    "    select(author) %>% \n",
    "    count(author, sort = T) %>% nrow() \n",
    "\n",
    "print(\"Number of authors with biography in RP:\")\n",
    "per %>% \n",
    "    filter(!is.na(RP_biography)) %>% \n",
    "    select(RP_biography) %>% \n",
    "    count(RP_biography, sort = T) %>% nrow() \n",
    "\n",
    "print(\"Number of authors included in RNC\")\n",
    "per %>% \n",
    "    filter(!is.na(author)) %>% \n",
    "    select(author) %>% \n",
    "    mutate(author = str_replace_all(author, \"(.*?[[:space:]])(\\\\w\\\\.\\\\w.)\", \"\\\\2\\\\1\")) %>% \n",
    "    mutate(author = str_remove_all(author, \"[[:space:]]|[[:punct:]]\")) %>% \n",
    "    distinct() %>% \n",
    "    filter(author %in% rnc_authors) %>% nrow()"
   ]
  },
  {
   "cell_type": "markdown",
   "id": "5cb46e7c",
   "metadata": {},
   "source": [
    "## Textual intersections between RNC & periodicals\n",
    "- Create for each poem an id column containing two first lines\n",
    "- Mark the intersection with a special tag"
   ]
  },
  {
   "cell_type": "code",
   "execution_count": 9,
   "id": "20b81011",
   "metadata": {},
   "outputs": [
    {
     "name": "stdout",
     "output_type": "stream",
     "text": [
      "Rows: 1,399\n",
      "Columns: 30\n",
      "$ id               \u001b[3m\u001b[90m<chr>\u001b[39m\u001b[23m \"P_8\", \"P_9\", \"P_10\", \"P_11\", \"P_12\", \"P_13\", \"P_14\",…\n",
      "$ txt_raw          \u001b[3m\u001b[90m<chr>\u001b[39m\u001b[23m \"\", \"\", \"\", \"\", \"\", \"\", \"\", \"\", \"\", \"\", \"\", \"\", \"\", \"…\n",
      "$ text             \u001b[3m\u001b[90m<chr>\u001b[39m\u001b[23m \"1\", \"1\", \"1\", \"1\", \"1\", \"1\", \"1\", \"1\", \"1\", \"1\", \"1\"…\n",
      "$ Unmed..0         \u001b[3m\u001b[90m<int>\u001b[39m\u001b[23m NA, 2873, 1232, NA, NA, 12698, NA, NA, NA, 12683, NA,…\n",
      "$ author_nkrja     \u001b[3m\u001b[90m<chr>\u001b[39m\u001b[23m \"\", \"Е. А. Баратынский\", \"Л. А. Якубович\", \"\", \"\", \"А…\n",
      "$ A_ID             \u001b[3m\u001b[90m<chr>\u001b[39m\u001b[23m \"A-74\", \"A-2\", \"A-50\", \"A-138\", \"A-139\", \"A-11\", \"A-1…\n",
      "$ author           \u001b[3m\u001b[90m<chr>\u001b[39m\u001b[23m \"Марков М.А.\", \"Баратынский Е.А.\", \"Якубович Л.А.\", \"…\n",
      "$ title            \u001b[3m\u001b[90m<chr>\u001b[39m\u001b[23m \"Русский царь\", \"Запустение\", \"Молния\", \"Аполог\", \"По…\n",
      "$ first_line       \u001b[3m\u001b[90m<chr>\u001b[39m\u001b[23m \"Достигнула Европа цели\", \"Я посетил тебя, пленительн…\n",
      "$ PER_ID           \u001b[3m\u001b[90m<chr>\u001b[39m\u001b[23m \"БдЧ\", \"БдЧ\", \"БдЧ\", \"БдЧ\", \"БдЧ\", \"БдЧ\", \"БдЧ\", \"БдЧ…\n",
      "$ year             \u001b[3m\u001b[90m<int>\u001b[39m\u001b[23m 1835, 1835, 1835, 1835, 1835, 1835, 1835, 1835, 1835,…\n",
      "$ Vol              \u001b[3m\u001b[90m<chr>\u001b[39m\u001b[23m \"Т.8. Отд. 1\", \"Т.8. Отд. 1\", \"Т.8. Отд. 1\", \"Т.8. От…\n",
      "$ Num              \u001b[3m\u001b[90m<chr>\u001b[39m\u001b[23m NA, NA, NA, NA, NA, NA, NA, NA, NA, NA, NA, NA, NA, N…\n",
      "$ Pages            \u001b[3m\u001b[90m<chr>\u001b[39m\u001b[23m \"5-8\", \"19-21\", \"21\", \"22\", \"145-157\", \"158\", \"159\", …\n",
      "$ Subtitle         \u001b[3m\u001b[90m<chr>\u001b[39m\u001b[23m NA, \"Элегия\", NA, NA, \"Баллада\", NA, NA, NA, NA, \"Пес…\n",
      "$ Author_sign      \u001b[3m\u001b[90m<chr>\u001b[39m\u001b[23m \"М. Марков\", \"Е. Баратынский\", \"Л. Якубович\", \"А.И. К…\n",
      "$ Author_full_name \u001b[3m\u001b[90m<chr>\u001b[39m\u001b[23m \"Марков Михаил Александрович\", \"Баратынский Евгений А…\n",
      "$ Author_birth     \u001b[3m\u001b[90m<int>\u001b[39m\u001b[23m 1810, 1800, 1805, 1784, 1810, 1799, 1779, 1779, 1795,…\n",
      "$ Author_death     \u001b[3m\u001b[90m<chr>\u001b[39m\u001b[23m \"1876\", \"1844\", \"1839\", \"1812\", \"1857\", \"1837\", \"1840…\n",
      "$ RP_biography     \u001b[3m\u001b[90m<chr>\u001b[39m\u001b[23m \"3-528\", \"1-158\", NA, NA, \"5-151\", \"5\", \"3-5\", \"3-5\",…\n",
      "$ Comment          \u001b[3m\u001b[90m<chr>\u001b[39m\u001b[23m \"\", \"\", \"\", \"\", \"\", \"\", \"\", \"\", \"\", \"\", \"\", \"\", \"\", \"…\n",
      "$ text_raw         \u001b[3m\u001b[90m<chr>\u001b[39m\u001b[23m \"Достигнула! Европа цели, —\\nСвятая Русь поражена,\\nИ…\n",
      "$ text_lemm        \u001b[3m\u001b[90m<chr>\u001b[39m\u001b[23m \"достигнуть! европа цель, —\\nсвятой русь поражать,\\nи…\n",
      "$ meter            \u001b[3m\u001b[90m<chr>\u001b[39m\u001b[23m \"iamb\", \"iamb\", \"iamb\", \"trochee\", \"trochee\", \"troche…\n",
      "$ feet             \u001b[3m\u001b[90m<chr>\u001b[39m\u001b[23m \"4\", \"free\", \"free\", \"4\", \"4\", \"4\", NA, \"6\", \"free\", …\n",
      "$ perc_meter       \u001b[3m\u001b[90m<dbl>\u001b[39m\u001b[23m 1.0000000, 1.0000000, 1.0000000, 1.0000000, 0.9500000…\n",
      "$ perc_feet        \u001b[3m\u001b[90m<dbl>\u001b[39m\u001b[23m 0.7800000, NA, NA, 0.7500000, 0.8914141, 0.8846154, N…\n",
      "$ formula          \u001b[3m\u001b[90m<chr>\u001b[39m\u001b[23m \"iamb_4\", \"iamb_free\", \"iamb_free\", \"trochee_4\", \"tro…\n",
      "$ n_lines          \u001b[3m\u001b[90m<int>\u001b[39m\u001b[23m 100, 69, 16, 28, 400, 26, 14, 14, 18, 82, 54, 47, 91,…\n",
      "$ doublesCheck     \u001b[3m\u001b[90m<chr>\u001b[39m\u001b[23m \"достигнутьевропацельсвятойрусьпоражатьинаееземлясозр…\n"
     ]
    }
   ],
   "source": [
    "periodicals <- per %>% \n",
    "    filter(n_lines > 3) %>%\n",
    "    mutate(doublesCheck = str_extract(text_lemm, \"^.*?\\n.*?\\n.*?\\n\")) %>% \n",
    "    mutate(doublesCheck = str_remove_all(doublesCheck, \"[[:punct:]]|[[:space:]]\"))\n",
    "\n",
    "glimpse(periodicals)"
   ]
  },
  {
   "cell_type": "code",
   "execution_count": 10,
   "id": "d062b6e8",
   "metadata": {},
   "outputs": [
    {
     "name": "stdout",
     "output_type": "stream",
     "text": [
      "Rows: 15,569\n",
      "Columns: 4\n",
      "$ index        \u001b[3m\u001b[90m<int>\u001b[39m\u001b[23m 1, 2, 3, 4, 5, 6, 7, 8, 9, 10, 11, 12, 13, 14, 15, 16, 17…\n",
      "$ author       \u001b[3m\u001b[90m<chr>\u001b[39m\u001b[23m \"С. С. Бобров\", \"С. С. Бобров\", \"С. С. Бобров\", \"С. С. Бо…\n",
      "$ text_lemm    \u001b[3m\u001b[90m<chr>\u001b[39m\u001b[23m \"еще вкруг солнцев не вращаться \\n в превыспренний страна…\n",
      "$ doublesCheck \u001b[3m\u001b[90m<chr>\u001b[39m\u001b[23m \"ещевкругсолнцевневращатьсявпревыспреннийстранамирещевхао…\n"
     ]
    }
   ],
   "source": [
    "nkrja19 <- c19 %>% \n",
    "    rename(index = `Unnamed..0`,\n",
    "          text_lemm = lemma) %>% \n",
    "    select(index, author, text_lemm) %>%\n",
    "    mutate(doublesCheck = str_extract(text_lemm, \"^.*?\\n.*?\\n.*?\\n\")) %>% \n",
    "    mutate(doublesCheck = str_remove_all(doublesCheck, \"[[:punct:]]|[[:space:]]\"))\n",
    "\n",
    "glimpse(nkrja19)"
   ]
  },
  {
   "cell_type": "code",
   "execution_count": 14,
   "id": "8719dc26",
   "metadata": {},
   "outputs": [
    {
     "data": {
      "text/html": [
       "<table class=\"dataframe\">\n",
       "<caption>A data.frame: 6 × 6</caption>\n",
       "<thead>\n",
       "\t<tr><th></th><th scope=col>index</th><th scope=col>id</th><th scope=col>year</th><th scope=col>author.x</th><th scope=col>author.y</th><th scope=col>doublesCheck</th></tr>\n",
       "\t<tr><th></th><th scope=col>&lt;int&gt;</th><th scope=col>&lt;chr&gt;</th><th scope=col>&lt;int&gt;</th><th scope=col>&lt;chr&gt;</th><th scope=col>&lt;chr&gt;</th><th scope=col>&lt;chr&gt;</th></tr>\n",
       "</thead>\n",
       "<tbody>\n",
       "\t<tr><th scope=row>1</th><td> 2873</td><td>P_9 </td><td>1835</td><td>Баратынский Е.А.</td><td>Е. А. Баратынский</td><td>япосещатьтыпленительныйсеньневденьвеселыйживительныймайкогдазеленыйветвьпомавать</td></tr>\n",
       "\t<tr><th scope=row>2</th><td> 1232</td><td>P_10</td><td>1835</td><td>Якубович Л.А.   </td><td>Л. А. Якубович   </td><td>зачемснебесныйвысотаизгорнийжильеналонобурямчатьсяты                            </td></tr>\n",
       "\t<tr><th scope=row>3</th><td>12698</td><td>P_13</td><td>1835</td><td>Пушкин А.С.     </td><td>А. С. Пушкин     </td><td>чтотыржатьмойконьретивыйчтотышеяопускатьнепотряхиватьгрива                      </td></tr>\n",
       "\t<tr><th scope=row>4</th><td> 5661</td><td>P_16</td><td>1835</td><td>Грибоедов А.С.  </td><td>А. С. Грибоедов  </td><td>живойлиямертвыйлияичтозачудныйвидение                                           </td></tr>\n",
       "\t<tr><th scope=row>5</th><td>12683</td><td>P_17</td><td>1835</td><td>Пушкин А.С.     </td><td>А. С. Пушкин     </td><td>корольходитьбольшойшагвзадивпередпопалатачеловекспатькорольлишьнеспаться        </td></tr>\n",
       "\t<tr><th scope=row>6</th><td>12684</td><td>P_18</td><td>1835</td><td>Пушкин А.С.     </td><td>А. С. Пушкин     </td><td>чтовразъездбитьянкомарнавиччтоондоманесидетьсяотчегодваночьонсряду              </td></tr>\n",
       "</tbody>\n",
       "</table>\n"
      ],
      "text/latex": [
       "A data.frame: 6 × 6\n",
       "\\begin{tabular}{r|llllll}\n",
       "  & index & id & year & author.x & author.y & doublesCheck\\\\\n",
       "  & <int> & <chr> & <int> & <chr> & <chr> & <chr>\\\\\n",
       "\\hline\n",
       "\t1 &  2873 & P\\_9  & 1835 & Баратынский Е.А. & Е. А. Баратынский & япосещатьтыпленительныйсеньневденьвеселыйживительныймайкогдазеленыйветвьпомавать\\\\\n",
       "\t2 &  1232 & P\\_10 & 1835 & Якубович Л.А.    & Л. А. Якубович    & зачемснебесныйвысотаизгорнийжильеналонобурямчатьсяты                            \\\\\n",
       "\t3 & 12698 & P\\_13 & 1835 & Пушкин А.С.      & А. С. Пушкин      & чтотыржатьмойконьретивыйчтотышеяопускатьнепотряхиватьгрива                      \\\\\n",
       "\t4 &  5661 & P\\_16 & 1835 & Грибоедов А.С.   & А. С. Грибоедов   & живойлиямертвыйлияичтозачудныйвидение                                           \\\\\n",
       "\t5 & 12683 & P\\_17 & 1835 & Пушкин А.С.      & А. С. Пушкин      & корольходитьбольшойшагвзадивпередпопалатачеловекспатькорольлишьнеспаться        \\\\\n",
       "\t6 & 12684 & P\\_18 & 1835 & Пушкин А.С.      & А. С. Пушкин      & чтовразъездбитьянкомарнавиччтоондоманесидетьсяотчегодваночьонсряду              \\\\\n",
       "\\end{tabular}\n"
      ],
      "text/markdown": [
       "\n",
       "A data.frame: 6 × 6\n",
       "\n",
       "| <!--/--> | index &lt;int&gt; | id &lt;chr&gt; | year &lt;int&gt; | author.x &lt;chr&gt; | author.y &lt;chr&gt; | doublesCheck &lt;chr&gt; |\n",
       "|---|---|---|---|---|---|---|\n",
       "| 1 |  2873 | P_9  | 1835 | Баратынский Е.А. | Е. А. Баратынский | япосещатьтыпленительныйсеньневденьвеселыйживительныймайкогдазеленыйветвьпомавать |\n",
       "| 2 |  1232 | P_10 | 1835 | Якубович Л.А.    | Л. А. Якубович    | зачемснебесныйвысотаизгорнийжильеналонобурямчатьсяты                             |\n",
       "| 3 | 12698 | P_13 | 1835 | Пушкин А.С.      | А. С. Пушкин      | чтотыржатьмойконьретивыйчтотышеяопускатьнепотряхиватьгрива                       |\n",
       "| 4 |  5661 | P_16 | 1835 | Грибоедов А.С.   | А. С. Грибоедов   | живойлиямертвыйлияичтозачудныйвидение                                            |\n",
       "| 5 | 12683 | P_17 | 1835 | Пушкин А.С.      | А. С. Пушкин      | корольходитьбольшойшагвзадивпередпопалатачеловекспатькорольлишьнеспаться         |\n",
       "| 6 | 12684 | P_18 | 1835 | Пушкин А.С.      | А. С. Пушкин      | чтовразъездбитьянкомарнавиччтоондоманесидетьсяотчегодваночьонсряду               |\n",
       "\n"
      ],
      "text/plain": [
       "  index id   year author.x         author.y         \n",
       "1  2873 P_9  1835 Баратынский Е.А. Е. А. Баратынский\n",
       "2  1232 P_10 1835 Якубович Л.А.    Л. А. Якубович   \n",
       "3 12698 P_13 1835 Пушкин А.С.      А. С. Пушкин     \n",
       "4  5661 P_16 1835 Грибоедов А.С.   А. С. Грибоедов  \n",
       "5 12683 P_17 1835 Пушкин А.С.      А. С. Пушкин     \n",
       "6 12684 P_18 1835 Пушкин А.С.      А. С. Пушкин     \n",
       "  doublesCheck                                                                    \n",
       "1 япосещатьтыпленительныйсеньневденьвеселыйживительныймайкогдазеленыйветвьпомавать\n",
       "2 зачемснебесныйвысотаизгорнийжильеналонобурямчатьсяты                            \n",
       "3 чтотыржатьмойконьретивыйчтотышеяопускатьнепотряхиватьгрива                      \n",
       "4 живойлиямертвыйлияичтозачудныйвидение                                           \n",
       "5 корольходитьбольшойшагвзадивпередпопалатачеловекспатькорольлишьнеспаться        \n",
       "6 чтовразъездбитьянкомарнавиччтоондоманесидетьсяотчегодваночьонсряду              "
      ]
     },
     "metadata": {},
     "output_type": "display_data"
    }
   ],
   "source": [
    "doubles_id <- periodicals %>% \n",
    "    inner_join(nkrja19, by = \"doublesCheck\") %>% \n",
    "    select(index, id, year, author.x, author.y, doublesCheck, text_raw)\n",
    "\n",
    "doubles_id %>% select(-text_raw) %>% head"
   ]
  },
  {
   "cell_type": "code",
   "execution_count": 12,
   "id": "d6ecbc30",
   "metadata": {},
   "outputs": [
    {
     "name": "stdout",
     "output_type": "stream",
     "text": [
      "[1] \"Total number of intersected texts:\"\n"
     ]
    },
    {
     "data": {
      "text/html": [
       "251"
      ],
      "text/latex": [
       "251"
      ],
      "text/markdown": [
       "251"
      ],
      "text/plain": [
       "[1] 251"
      ]
     },
     "metadata": {},
     "output_type": "display_data"
    },
    {
     "name": "stdout",
     "output_type": "stream",
     "text": [
      "[1] \"Total number of texts in periodicals:\"\n"
     ]
    },
    {
     "data": {
      "text/html": [
       "1399"
      ],
      "text/latex": [
       "1399"
      ],
      "text/markdown": [
       "1399"
      ],
      "text/plain": [
       "[1] 1399"
      ]
     },
     "metadata": {},
     "output_type": "display_data"
    },
    {
     "name": "stdout",
     "output_type": "stream",
     "text": [
      "[1] \"Total % of intersected texts out for all periodicals texts:\"\n"
     ]
    },
    {
     "data": {
      "text/html": [
       "17.9"
      ],
      "text/latex": [
       "17.9"
      ],
      "text/markdown": [
       "17.9"
      ],
      "text/plain": [
       "[1] 17.9"
      ]
     },
     "metadata": {},
     "output_type": "display_data"
    }
   ],
   "source": [
    "print(\"Total number of intersected texts:\")\n",
    "nrow(doubles_id)\n",
    "\n",
    "print(\"Total number of texts in periodicals:\")\n",
    "nrow(periodicals)\n",
    "\n",
    "print(\"Total % of intersected texts out for all periodicals texts:\")\n",
    "round( (nrow(doubles_id)/nrow(periodicals))*100 , 1) "
   ]
  },
  {
   "cell_type": "code",
   "execution_count": 15,
   "id": "3eb9000e",
   "metadata": {},
   "outputs": [
    {
     "name": "stdout",
     "output_type": "stream",
     "text": [
      "Rows: 251\n",
      "Columns: 7\n",
      "$ index        \u001b[3m\u001b[90m<int>\u001b[39m\u001b[23m 2873, 1232, 12698, 5661, 12683, 12684, 12685, 12687, 1268…\n",
      "$ id           \u001b[3m\u001b[90m<chr>\u001b[39m\u001b[23m \"P_9\", \"P_10\", \"P_13\", \"P_16\", \"P_17\", \"P_18\", \"P_19\", \"P…\n",
      "$ year         \u001b[3m\u001b[90m<int>\u001b[39m\u001b[23m 1835, 1835, 1835, 1835, 1835, 1835, 1835, 1835, 1835, 183…\n",
      "$ author.x     \u001b[3m\u001b[90m<chr>\u001b[39m\u001b[23m \"Баратынский Е.А.\", \"Якубович Л.А.\", \"Пушкин А.С.\", \"Гриб…\n",
      "$ author.y     \u001b[3m\u001b[90m<chr>\u001b[39m\u001b[23m \"Е. А. Баратынский\", \"Л. А. Якубович\", \"А. С. Пушкин\", \"А…\n",
      "$ doublesCheck \u001b[3m\u001b[90m<chr>\u001b[39m\u001b[23m \"япосещатьтыпленительныйсеньневденьвеселыйживительныймайк…\n",
      "$ text_raw     \u001b[3m\u001b[90m<chr>\u001b[39m\u001b[23m \"Я посетил тебя, пленительная сень,\\nНе в дни весёлые жив…\n"
     ]
    },
    {
     "data": {
      "text/html": [
       "<table class=\"dataframe\">\n",
       "<caption>A tibble: 1 × 7</caption>\n",
       "<thead>\n",
       "\t<tr><th scope=col>group</th><th scope=col>1835</th><th scope=col>1836</th><th scope=col>1837</th><th scope=col>1838</th><th scope=col>1839</th><th scope=col>1840</th></tr>\n",
       "\t<tr><th scope=col>&lt;chr&gt;</th><th scope=col>&lt;int&gt;</th><th scope=col>&lt;int&gt;</th><th scope=col>&lt;int&gt;</th><th scope=col>&lt;int&gt;</th><th scope=col>&lt;int&gt;</th><th scope=col>&lt;int&gt;</th></tr>\n",
       "</thead>\n",
       "<tbody>\n",
       "\t<tr><td>Периодика и НКРЯ</td><td>27</td><td>58</td><td>47</td><td>34</td><td>40</td><td>45</td></tr>\n",
       "</tbody>\n",
       "</table>\n"
      ],
      "text/latex": [
       "A tibble: 1 × 7\n",
       "\\begin{tabular}{lllllll}\n",
       " group & 1835 & 1836 & 1837 & 1838 & 1839 & 1840\\\\\n",
       " <chr> & <int> & <int> & <int> & <int> & <int> & <int>\\\\\n",
       "\\hline\n",
       "\t Периодика и НКРЯ & 27 & 58 & 47 & 34 & 40 & 45\\\\\n",
       "\\end{tabular}\n"
      ],
      "text/markdown": [
       "\n",
       "A tibble: 1 × 7\n",
       "\n",
       "| group &lt;chr&gt; | 1835 &lt;int&gt; | 1836 &lt;int&gt; | 1837 &lt;int&gt; | 1838 &lt;int&gt; | 1839 &lt;int&gt; | 1840 &lt;int&gt; |\n",
       "|---|---|---|---|---|---|---|\n",
       "| Периодика и НКРЯ | 27 | 58 | 47 | 34 | 40 | 45 |\n",
       "\n"
      ],
      "text/plain": [
       "  group            1835 1836 1837 1838 1839 1840\n",
       "1 Периодика и НКРЯ 27   58   47   34   40   45  "
      ]
     },
     "metadata": {},
     "output_type": "display_data"
    }
   ],
   "source": [
    "glimpse(doubles_id)\n",
    "\n",
    "doubles_counts <- doubles_id %>% \n",
    "    count(year) %>% \n",
    "    mutate(group = \"Периодика и НКРЯ\")\n",
    "\n",
    "doubles_counts %>% pivot_wider(names_from = year, values_from = n)"
   ]
  },
  {
   "cell_type": "markdown",
   "id": "c1b803c0",
   "metadata": {},
   "source": [
    "### Plot 2.2.1"
   ]
  },
  {
   "cell_type": "code",
   "execution_count": 16,
   "id": "08b3e681",
   "metadata": {},
   "outputs": [
    {
     "data": {
      "text/html": [
       "<table class=\"dataframe\">\n",
       "<caption>A tibble: 1 × 7</caption>\n",
       "<thead>\n",
       "\t<tr><th scope=col>group</th><th scope=col>1835</th><th scope=col>1836</th><th scope=col>1837</th><th scope=col>1838</th><th scope=col>1839</th><th scope=col>1840</th></tr>\n",
       "\t<tr><th scope=col>&lt;chr&gt;</th><th scope=col>&lt;int&gt;</th><th scope=col>&lt;int&gt;</th><th scope=col>&lt;int&gt;</th><th scope=col>&lt;int&gt;</th><th scope=col>&lt;int&gt;</th><th scope=col>&lt;int&gt;</th></tr>\n",
       "</thead>\n",
       "<tbody>\n",
       "\t<tr><td>НКРЯ</td><td>196</td><td>149</td><td>180</td><td>146</td><td>238</td><td>303</td></tr>\n",
       "</tbody>\n",
       "</table>\n"
      ],
      "text/latex": [
       "A tibble: 1 × 7\n",
       "\\begin{tabular}{lllllll}\n",
       " group & 1835 & 1836 & 1837 & 1838 & 1839 & 1840\\\\\n",
       " <chr> & <int> & <int> & <int> & <int> & <int> & <int>\\\\\n",
       "\\hline\n",
       "\t НКРЯ & 196 & 149 & 180 & 146 & 238 & 303\\\\\n",
       "\\end{tabular}\n"
      ],
      "text/markdown": [
       "\n",
       "A tibble: 1 × 7\n",
       "\n",
       "| group &lt;chr&gt; | 1835 &lt;int&gt; | 1836 &lt;int&gt; | 1837 &lt;int&gt; | 1838 &lt;int&gt; | 1839 &lt;int&gt; | 1840 &lt;int&gt; |\n",
       "|---|---|---|---|---|---|---|\n",
       "| НКРЯ | 196 | 149 | 180 | 146 | 238 | 303 |\n",
       "\n"
      ],
      "text/plain": [
       "  group 1835 1836 1837 1838 1839 1840\n",
       "1 НКРЯ  196  149  180  146  238  303 "
      ]
     },
     "metadata": {},
     "output_type": "display_data"
    }
   ],
   "source": [
    "rnc_1835 <- c19 %>% \n",
    "    rename(index = `Unnamed..0`) %>% \n",
    "    # remove intersection\n",
    "    #anti_join(doubles_id %>% select(index), by = \"index\") %>%\n",
    "\n",
    "    # calculate number of unique poems\n",
    "    filter(year > 1834 & year < 1841) %>% \n",
    "    count(year, sort = F) %>% \n",
    "    mutate(group = \"НКРЯ\")\n",
    "\n",
    "rnc_1835 %>% pivot_wider(names_from = year, values_from = n)"
   ]
  },
  {
   "cell_type": "code",
   "execution_count": 17,
   "id": "65c3ee68",
   "metadata": {},
   "outputs": [
    {
     "data": {
      "text/html": [
       "<table class=\"dataframe\">\n",
       "<caption>A tibble: 3 × 7</caption>\n",
       "<thead>\n",
       "\t<tr><th scope=col>group</th><th scope=col>1835</th><th scope=col>1836</th><th scope=col>1837</th><th scope=col>1838</th><th scope=col>1839</th><th scope=col>1840</th></tr>\n",
       "\t<tr><th scope=col>&lt;chr&gt;</th><th scope=col>&lt;int&gt;</th><th scope=col>&lt;int&gt;</th><th scope=col>&lt;int&gt;</th><th scope=col>&lt;int&gt;</th><th scope=col>&lt;int&gt;</th><th scope=col>&lt;int&gt;</th></tr>\n",
       "</thead>\n",
       "<tbody>\n",
       "\t<tr><td>Периодика       </td><td>220</td><td>229</td><td>263</td><td>203</td><td>245</td><td>242</td></tr>\n",
       "\t<tr><td>НКРЯ            </td><td>196</td><td>149</td><td>180</td><td>146</td><td>238</td><td>303</td></tr>\n",
       "\t<tr><td>Периодика и НКРЯ</td><td> 27</td><td> 58</td><td> 47</td><td> 34</td><td> 40</td><td> 45</td></tr>\n",
       "</tbody>\n",
       "</table>\n"
      ],
      "text/latex": [
       "A tibble: 3 × 7\n",
       "\\begin{tabular}{lllllll}\n",
       " group & 1835 & 1836 & 1837 & 1838 & 1839 & 1840\\\\\n",
       " <chr> & <int> & <int> & <int> & <int> & <int> & <int>\\\\\n",
       "\\hline\n",
       "\t Периодика        & 220 & 229 & 263 & 203 & 245 & 242\\\\\n",
       "\t НКРЯ             & 196 & 149 & 180 & 146 & 238 & 303\\\\\n",
       "\t Периодика и НКРЯ &  27 &  58 &  47 &  34 &  40 &  45\\\\\n",
       "\\end{tabular}\n"
      ],
      "text/markdown": [
       "\n",
       "A tibble: 3 × 7\n",
       "\n",
       "| group &lt;chr&gt; | 1835 &lt;int&gt; | 1836 &lt;int&gt; | 1837 &lt;int&gt; | 1838 &lt;int&gt; | 1839 &lt;int&gt; | 1840 &lt;int&gt; |\n",
       "|---|---|---|---|---|---|---|\n",
       "| Периодика        | 220 | 229 | 263 | 203 | 245 | 242 |\n",
       "| НКРЯ             | 196 | 149 | 180 | 146 | 238 | 303 |\n",
       "| Периодика и НКРЯ |  27 |  58 |  47 |  34 |  40 |  45 |\n",
       "\n"
      ],
      "text/plain": [
       "  group            1835 1836 1837 1838 1839 1840\n",
       "1 Периодика        220  229  263  203  245  242 \n",
       "2 НКРЯ             196  149  180  146  238  303 \n",
       "3 Периодика и НКРЯ  27   58   47   34   40   45 "
      ]
     },
     "metadata": {},
     "output_type": "display_data"
    }
   ],
   "source": [
    "counter_1835 <- per %>% \n",
    "    # remove intersection\n",
    "    #anti_join(doubles_id %>% select(id), by = \"id\") %>%\n",
    "\n",
    "    count(year, sort = F) %>% \n",
    "    mutate(group = \"Периодика\") %>%\n",
    "    rbind(rnc_1835, doubles_counts)\n",
    "\n",
    "counter_1835 %>% pivot_wider(names_from = year, values_from = n)"
   ]
  },
  {
   "cell_type": "code",
   "execution_count": 18,
   "id": "97126af2",
   "metadata": {},
   "outputs": [
    {
     "data": {
      "image/png": "[encoded data removed]",
      "text/plain": [
       "plot without title"
      ]
     },
     "metadata": {
      "image/png": {
       "height": 420,
       "width": 420
      }
     },
     "output_type": "display_data"
    }
   ],
   "source": [
    "p2_2_1 <- counter_1835 %>%\n",
    "    ggplot(aes(x = year, y = n, fill = group)) + \n",
    "    geom_col(position = \"dodge\", width = 0.6) + \n",
    "    scale_fill_manual(values = c(\n",
    "                                wes_palette(\"Zissou1\")[4],\n",
    "                                wes_palette(\"Royal1\")[1], \n",
    "                                wes_palette(\"Royal1\")[2])) + \n",
    "    scale_x_continuous(breaks = 1835:1840) +\n",
    "    theme(axis.text = element_text(size = 14),\n",
    "         axis.title = element_text(size = 16),\n",
    "         legend.title = element_text(size = 16, face = \"bold\"),\n",
    "         legend.text = element_text(size = 14)) + \n",
    "    labs(x = \"Год\",\n",
    "        y = \"Количество текстов\",\n",
    "        fill = \"Корпус\")\n",
    "\n",
    "p2_2_1"
   ]
  },
  {
   "cell_type": "code",
   "execution_count": null,
   "id": "153f10fb",
   "metadata": {},
   "outputs": [],
   "source": [
    "# ggsave(file = \"plots/fig2_2_1.png\", plot = p2_2_1, dpi = 300,\n",
    "#       width = 8, height = 6, bg = \"white\")"
   ]
  },
  {
   "cell_type": "markdown",
   "id": "6b3b82df",
   "metadata": {},
   "source": [
    "## Sources statistics\n",
    "Analysis of poems published in different sources (journals & newspapers) and by different authors"
   ]
  },
  {
   "cell_type": "code",
   "execution_count": 19,
   "id": "9e153c9f",
   "metadata": {},
   "outputs": [
    {
     "name": "stdout",
     "output_type": "stream",
     "text": [
      "Rows: 1,402\n",
      "Columns: 29\n",
      "$ id               \u001b[3m\u001b[90m<chr>\u001b[39m\u001b[23m \"P_8\", \"P_9\", \"P_10\", \"P_11\", \"P_12\", \"P_13\", \"P_14\",…\n",
      "$ txt_raw          \u001b[3m\u001b[90m<chr>\u001b[39m\u001b[23m \"\", \"\", \"\", \"\", \"\", \"\", \"\", \"\", \"\", \"\", \"\", \"\", \"\", \"…\n",
      "$ text             \u001b[3m\u001b[90m<chr>\u001b[39m\u001b[23m \"1\", \"1\", \"1\", \"1\", \"1\", \"1\", \"1\", \"1\", \"1\", \"1\", \"1\"…\n",
      "$ Unmed..0         \u001b[3m\u001b[90m<int>\u001b[39m\u001b[23m NA, 2873, 1232, NA, NA, 12698, NA, NA, NA, 12683, NA,…\n",
      "$ author_nkrja     \u001b[3m\u001b[90m<chr>\u001b[39m\u001b[23m \"\", \"Е. А. Баратынский\", \"Л. А. Якубович\", \"\", \"\", \"А…\n",
      "$ A_ID             \u001b[3m\u001b[90m<chr>\u001b[39m\u001b[23m \"A-74\", \"A-2\", \"A-50\", \"A-138\", \"A-139\", \"A-11\", \"A-1…\n",
      "$ author           \u001b[3m\u001b[90m<chr>\u001b[39m\u001b[23m \"Марков М.А.\", \"Баратынский Е.А.\", \"Якубович Л.А.\", \"…\n",
      "$ title            \u001b[3m\u001b[90m<chr>\u001b[39m\u001b[23m \"Русский царь\", \"Запустение\", \"Молния\", \"Аполог\", \"По…\n",
      "$ first_line       \u001b[3m\u001b[90m<chr>\u001b[39m\u001b[23m \"Достигнула Европа цели\", \"Я посетил тебя, пленительн…\n",
      "$ PER_ID           \u001b[3m\u001b[90m<chr>\u001b[39m\u001b[23m \"БдЧ\", \"БдЧ\", \"БдЧ\", \"БдЧ\", \"БдЧ\", \"БдЧ\", \"БдЧ\", \"БдЧ…\n",
      "$ year             \u001b[3m\u001b[90m<int>\u001b[39m\u001b[23m 1835, 1835, 1835, 1835, 1835, 1835, 1835, 1835, 1835,…\n",
      "$ Vol              \u001b[3m\u001b[90m<chr>\u001b[39m\u001b[23m \"Т.8. Отд. 1\", \"Т.8. Отд. 1\", \"Т.8. Отд. 1\", \"Т.8. От…\n",
      "$ Num              \u001b[3m\u001b[90m<chr>\u001b[39m\u001b[23m NA, NA, NA, NA, NA, NA, NA, NA, NA, NA, NA, NA, NA, N…\n",
      "$ Pages            \u001b[3m\u001b[90m<chr>\u001b[39m\u001b[23m \"5-8\", \"19-21\", \"21\", \"22\", \"145-157\", \"158\", \"159\", …\n",
      "$ Subtitle         \u001b[3m\u001b[90m<chr>\u001b[39m\u001b[23m NA, \"Элегия\", NA, NA, \"Баллада\", NA, NA, NA, NA, \"Пес…\n",
      "$ Author_sign      \u001b[3m\u001b[90m<chr>\u001b[39m\u001b[23m \"М. Марков\", \"Е. Баратынский\", \"Л. Якубович\", \"А.И. К…\n",
      "$ Author_full_name \u001b[3m\u001b[90m<chr>\u001b[39m\u001b[23m \"Марков Михаил Александрович\", \"Баратынский Евгений А…\n",
      "$ Author_birth     \u001b[3m\u001b[90m<int>\u001b[39m\u001b[23m 1810, 1800, 1805, 1784, 1810, 1799, 1779, 1779, 1795,…\n",
      "$ Author_death     \u001b[3m\u001b[90m<chr>\u001b[39m\u001b[23m \"1876\", \"1844\", \"1839\", \"1812\", \"1857\", \"1837\", \"1840…\n",
      "$ RP_biography     \u001b[3m\u001b[90m<chr>\u001b[39m\u001b[23m \"3-528\", \"1-158\", NA, NA, \"5-151\", \"5\", \"3-5\", \"3-5\",…\n",
      "$ Comment          \u001b[3m\u001b[90m<chr>\u001b[39m\u001b[23m \"\", \"\", \"\", \"\", \"\", \"\", \"\", \"\", \"\", \"\", \"\", \"\", \"\", \"…\n",
      "$ text_raw         \u001b[3m\u001b[90m<chr>\u001b[39m\u001b[23m \"Достигнула! Европа цели, —\\nСвятая Русь поражена,\\nИ…\n",
      "$ text_lemm        \u001b[3m\u001b[90m<chr>\u001b[39m\u001b[23m \"достигнуть! европа цель, —\\nсвятой русь поражать,\\nи…\n",
      "$ meter            \u001b[3m\u001b[90m<chr>\u001b[39m\u001b[23m \"iamb\", \"iamb\", \"iamb\", \"trochee\", \"trochee\", \"troche…\n",
      "$ feet             \u001b[3m\u001b[90m<chr>\u001b[39m\u001b[23m \"4\", \"free\", \"free\", \"4\", \"4\", \"4\", NA, \"6\", \"free\", …\n",
      "$ perc_meter       \u001b[3m\u001b[90m<dbl>\u001b[39m\u001b[23m 1.0000000, 1.0000000, 1.0000000, 1.0000000, 0.9500000…\n",
      "$ perc_feet        \u001b[3m\u001b[90m<dbl>\u001b[39m\u001b[23m 0.7800000, NA, NA, 0.7500000, 0.8914141, 0.8846154, N…\n",
      "$ formula          \u001b[3m\u001b[90m<chr>\u001b[39m\u001b[23m \"iamb_4\", \"iamb_free\", \"iamb_free\", \"trochee_4\", \"tro…\n",
      "$ n_lines          \u001b[3m\u001b[90m<int>\u001b[39m\u001b[23m 100, 69, 16, 28, 400, 26, 14, 14, 18, 82, 54, 47, 91,…\n"
     ]
    }
   ],
   "source": [
    "glimpse(per)"
   ]
  },
  {
   "cell_type": "markdown",
   "id": "a518a0f5",
   "metadata": {},
   "source": [
    "Load full metadata"
   ]
  },
  {
   "cell_type": "code",
   "execution_count": 24,
   "id": "5a4c9729",
   "metadata": {},
   "outputs": [
    {
     "name": "stdout",
     "output_type": "stream",
     "text": [
      "Rows: 1,847\n",
      "Columns: 21\n",
      "$ text_ID          \u001b[3m\u001b[90m<chr>\u001b[39m\u001b[23m \"P_1\", \"P_2\", \"P_3\", \"P_4\", \"P_5\", \"P_6\", \"P_7\", \"P_8…\n",
      "$ txt_raw          \u001b[3m\u001b[90m<chr>\u001b[39m\u001b[23m \"\", \"\", \"\", \"\", \"\", \"\", \"\", \"\", \"\", \"\", \"\", \"\", \"\", \"…\n",
      "$ text             \u001b[3m\u001b[90m<chr>\u001b[39m\u001b[23m \"\", \"\", \"\", \"\", \"\", \"\", \"\", \"1\", \"1\", \"1\", \"1\", \"1\", …\n",
      "$ Unmed..0         \u001b[3m\u001b[90m<int>\u001b[39m\u001b[23m NA, NA, NA, NA, NA, 8934, NA, NA, 2873, 1232, NA, NA,…\n",
      "$ author_nkrja     \u001b[3m\u001b[90m<chr>\u001b[39m\u001b[23m \"\", \"\", \"\", \"\", \"\", \"И. П. Мятлев\", \"\", \"\", \"Е. А. Ба…\n",
      "$ A_ID             \u001b[3m\u001b[90m<chr>\u001b[39m\u001b[23m NA, NA, \"A-137\", NA, \"A-17\", NA, NA, \"A-74\", \"A-2\", \"…\n",
      "$ author           \u001b[3m\u001b[90m<chr>\u001b[39m\u001b[23m NA, NA, \"Шишков А.С.\", NA, \"Цитович Н.Д.\", NA, NA, \"М…\n",
      "$ title            \u001b[3m\u001b[90m<chr>\u001b[39m\u001b[23m \"Солдатская песня\", \"Прощальная песнь\", NA, NA, \"Голо…\n",
      "$ first_line       \u001b[3m\u001b[90m<chr>\u001b[39m\u001b[23m \"Ох жизнь, молодецкая\", \"В последний раз еще встречая…\n",
      "$ PER_ID           \u001b[3m\u001b[90m<chr>\u001b[39m\u001b[23m \"Сев_пч\", \"Сев_пч\", \"Сев_пч\", \"Сев_пч\", \"Сев_пч\", \"Се…\n",
      "$ year             \u001b[3m\u001b[90m<int>\u001b[39m\u001b[23m 1835, 1835, 1835, 1835, 1835, 1835, 1835, 1835, 1835,…\n",
      "$ Vol              \u001b[3m\u001b[90m<chr>\u001b[39m\u001b[23m NA, NA, NA, NA, NA, NA, NA, \"Т.8. Отд. 1\", \"Т.8. Отд.…\n",
      "$ Num              \u001b[3m\u001b[90m<chr>\u001b[39m\u001b[23m \"12\", \"37\", \"55\", \"61\", \"100\", \"108\", \"134\", NA, NA, …\n",
      "$ Pages            \u001b[3m\u001b[90m<chr>\u001b[39m\u001b[23m \"46\", \"148\", \"219\", \"242\", \"397\", \"429\", \"534\", \"5-8\"…\n",
      "$ Subtitle         \u001b[3m\u001b[90m<chr>\u001b[39m\u001b[23m NA, NA, NA, NA, NA, NA, NA, NA, \"Элегия\", NA, NA, \"Ба…\n",
      "$ Author_sign      \u001b[3m\u001b[90m<chr>\u001b[39m\u001b[23m NA, \"П. Любимов\", \"А.С. Шишков\", NA, \"Цитович Н.\", NA…\n",
      "$ Author_full_name \u001b[3m\u001b[90m<chr>\u001b[39m\u001b[23m NA, NA, \"Шишков Александр Семенович\", NA, \"Цитович Ни…\n",
      "$ Author_birth     \u001b[3m\u001b[90m<int>\u001b[39m\u001b[23m NA, NA, 1754, NA, NA, NA, NA, 1810, 1800, 1805, 1784,…\n",
      "$ Author_death     \u001b[3m\u001b[90m<chr>\u001b[39m\u001b[23m NA, NA, \"1841\", NA, NA, NA, NA, \"1876\", \"1844\", \"1839…\n",
      "$ RP_biography     \u001b[3m\u001b[90m<chr>\u001b[39m\u001b[23m NA, NA, NA, NA, NA, NA, NA, \"3-528\", \"1-158\", NA, NA,…\n",
      "$ Comment          \u001b[3m\u001b[90m<chr>\u001b[39m\u001b[23m \"\", \"\", \"\", \"\", \"\", \"\", \"\", \"\", \"\", \"\", \"\", \"\", \"\", \"…\n"
     ]
    }
   ],
   "source": [
    "per_full <- read.delim(\"../../meta/database_poems_published_in_journals.tsv\", sep = \"\\t\") %>% \n",
    "    rename(author = Author_Initials,\n",
    "                  year = Year, \n",
    "                  title = Text_title,\n",
    "                  first_line = First_line) %>% \n",
    "            filter(year != 1834)\n",
    "glimpse(per_full)"
   ]
  },
  {
   "cell_type": "code",
   "execution_count": 31,
   "id": "5cb625cc",
   "metadata": {},
   "outputs": [
    {
     "data": {
      "text/html": [
       "<table class=\"dataframe\">\n",
       "<caption>A tibble: 29 × 5</caption>\n",
       "<thead>\n",
       "\t<tr><th scope=col>year</th><th scope=col>PER_ID</th><th scope=col>n</th><th scope=col>total_n</th><th scope=col>to_digitise</th></tr>\n",
       "\t<tr><th scope=col>&lt;int&gt;</th><th scope=col>&lt;chr&gt;</th><th scope=col>&lt;int&gt;</th><th scope=col>&lt;int&gt;</th><th scope=col>&lt;int&gt;</th></tr>\n",
       "</thead>\n",
       "<tbody>\n",
       "\t<tr><td>1835</td><td>БдЧ   </td><td> 65</td><td> 65</td><td> 0</td></tr>\n",
       "\t<tr><td>1835</td><td>ЛПРИ  </td><td>153</td><td>154</td><td> 1</td></tr>\n",
       "\t<tr><td>1835</td><td>МН    </td><td>  2</td><td> 21</td><td>19</td></tr>\n",
       "\t<tr><td>1836</td><td>БдЧ   </td><td> 53</td><td> 57</td><td> 4</td></tr>\n",
       "\t<tr><td>1836</td><td>ЛПРИ  </td><td>108</td><td>111</td><td> 3</td></tr>\n",
       "\t<tr><td>1836</td><td>МН    </td><td>  4</td><td> 44</td><td>40</td></tr>\n",
       "\t<tr><td>1836</td><td>СО    </td><td> 14</td><td> 14</td><td> 0</td></tr>\n",
       "\t<tr><td>1836</td><td>Совр  </td><td> 50</td><td> 50</td><td> 0</td></tr>\n",
       "\t<tr><td>1837</td><td>БдЧ   </td><td> 58</td><td> 68</td><td>10</td></tr>\n",
       "\t<tr><td>1837</td><td>ЛПРИ  </td><td> 69</td><td> 72</td><td> 3</td></tr>\n",
       "\t<tr><td>1837</td><td>СО    </td><td> 77</td><td> 80</td><td> 3</td></tr>\n",
       "\t<tr><td>1837</td><td>Совр  </td><td> 59</td><td> 61</td><td> 2</td></tr>\n",
       "\t<tr><td>1838</td><td>БдЧ   </td><td> 62</td><td> 63</td><td> 1</td></tr>\n",
       "\t<tr><td>1838</td><td>ЛПРИ  </td><td> 91</td><td> 94</td><td> 3</td></tr>\n",
       "\t<tr><td>1838</td><td>СОиСА </td><td>  5</td><td> 87</td><td>82</td></tr>\n",
       "\t<tr><td>1838</td><td>Сев_пч</td><td>  1</td><td>  3</td><td> 2</td></tr>\n",
       "\t<tr><td>1838</td><td>Совр  </td><td> 44</td><td> 44</td><td> 0</td></tr>\n",
       "\t<tr><td>1839</td><td>БдЧ   </td><td> 63</td><td> 63</td><td> 0</td></tr>\n",
       "\t<tr><td>1839</td><td>ЛПРИ  </td><td> 67</td><td> 68</td><td> 1</td></tr>\n",
       "\t<tr><td>1839</td><td>ОЗ    </td><td> 62</td><td> 78</td><td>16</td></tr>\n",
       "\t<tr><td>1839</td><td>СО    </td><td>  1</td><td> 36</td><td>35</td></tr>\n",
       "\t<tr><td>1839</td><td>СОиСА </td><td>  4</td><td> 19</td><td>15</td></tr>\n",
       "\t<tr><td>1839</td><td>Совр  </td><td> 48</td><td> 48</td><td> 0</td></tr>\n",
       "\t<tr><td>1840</td><td>БдЧ   </td><td> 49</td><td> 49</td><td> 0</td></tr>\n",
       "\t<tr><td>1840</td><td>ЛГ    </td><td> 75</td><td> 75</td><td> 0</td></tr>\n",
       "\t<tr><td>1840</td><td>ОЗ    </td><td> 77</td><td>103</td><td>26</td></tr>\n",
       "\t<tr><td>1840</td><td>ПРиВЕТ</td><td>  6</td><td> 73</td><td>67</td></tr>\n",
       "\t<tr><td>1840</td><td>СО    </td><td>  2</td><td> 45</td><td>43</td></tr>\n",
       "\t<tr><td>1840</td><td>Совр  </td><td> 33</td><td> 33</td><td> 0</td></tr>\n",
       "</tbody>\n",
       "</table>\n"
      ],
      "text/latex": [
       "A tibble: 29 × 5\n",
       "\\begin{tabular}{lllll}\n",
       " year & PER\\_ID & n & total\\_n & to\\_digitise\\\\\n",
       " <int> & <chr> & <int> & <int> & <int>\\\\\n",
       "\\hline\n",
       "\t 1835 & БдЧ    &  65 &  65 &  0\\\\\n",
       "\t 1835 & ЛПРИ   & 153 & 154 &  1\\\\\n",
       "\t 1835 & МН     &   2 &  21 & 19\\\\\n",
       "\t 1836 & БдЧ    &  53 &  57 &  4\\\\\n",
       "\t 1836 & ЛПРИ   & 108 & 111 &  3\\\\\n",
       "\t 1836 & МН     &   4 &  44 & 40\\\\\n",
       "\t 1836 & СО     &  14 &  14 &  0\\\\\n",
       "\t 1836 & Совр   &  50 &  50 &  0\\\\\n",
       "\t 1837 & БдЧ    &  58 &  68 & 10\\\\\n",
       "\t 1837 & ЛПРИ   &  69 &  72 &  3\\\\\n",
       "\t 1837 & СО     &  77 &  80 &  3\\\\\n",
       "\t 1837 & Совр   &  59 &  61 &  2\\\\\n",
       "\t 1838 & БдЧ    &  62 &  63 &  1\\\\\n",
       "\t 1838 & ЛПРИ   &  91 &  94 &  3\\\\\n",
       "\t 1838 & СОиСА  &   5 &  87 & 82\\\\\n",
       "\t 1838 & Сев\\_пч &   1 &   3 &  2\\\\\n",
       "\t 1838 & Совр   &  44 &  44 &  0\\\\\n",
       "\t 1839 & БдЧ    &  63 &  63 &  0\\\\\n",
       "\t 1839 & ЛПРИ   &  67 &  68 &  1\\\\\n",
       "\t 1839 & ОЗ     &  62 &  78 & 16\\\\\n",
       "\t 1839 & СО     &   1 &  36 & 35\\\\\n",
       "\t 1839 & СОиСА  &   4 &  19 & 15\\\\\n",
       "\t 1839 & Совр   &  48 &  48 &  0\\\\\n",
       "\t 1840 & БдЧ    &  49 &  49 &  0\\\\\n",
       "\t 1840 & ЛГ     &  75 &  75 &  0\\\\\n",
       "\t 1840 & ОЗ     &  77 & 103 & 26\\\\\n",
       "\t 1840 & ПРиВЕТ &   6 &  73 & 67\\\\\n",
       "\t 1840 & СО     &   2 &  45 & 43\\\\\n",
       "\t 1840 & Совр   &  33 &  33 &  0\\\\\n",
       "\\end{tabular}\n"
      ],
      "text/markdown": [
       "\n",
       "A tibble: 29 × 5\n",
       "\n",
       "| year &lt;int&gt; | PER_ID &lt;chr&gt; | n &lt;int&gt; | total_n &lt;int&gt; | to_digitise &lt;int&gt; |\n",
       "|---|---|---|---|---|\n",
       "| 1835 | БдЧ    |  65 |  65 |  0 |\n",
       "| 1835 | ЛПРИ   | 153 | 154 |  1 |\n",
       "| 1835 | МН     |   2 |  21 | 19 |\n",
       "| 1836 | БдЧ    |  53 |  57 |  4 |\n",
       "| 1836 | ЛПРИ   | 108 | 111 |  3 |\n",
       "| 1836 | МН     |   4 |  44 | 40 |\n",
       "| 1836 | СО     |  14 |  14 |  0 |\n",
       "| 1836 | Совр   |  50 |  50 |  0 |\n",
       "| 1837 | БдЧ    |  58 |  68 | 10 |\n",
       "| 1837 | ЛПРИ   |  69 |  72 |  3 |\n",
       "| 1837 | СО     |  77 |  80 |  3 |\n",
       "| 1837 | Совр   |  59 |  61 |  2 |\n",
       "| 1838 | БдЧ    |  62 |  63 |  1 |\n",
       "| 1838 | ЛПРИ   |  91 |  94 |  3 |\n",
       "| 1838 | СОиСА  |   5 |  87 | 82 |\n",
       "| 1838 | Сев_пч |   1 |   3 |  2 |\n",
       "| 1838 | Совр   |  44 |  44 |  0 |\n",
       "| 1839 | БдЧ    |  63 |  63 |  0 |\n",
       "| 1839 | ЛПРИ   |  67 |  68 |  1 |\n",
       "| 1839 | ОЗ     |  62 |  78 | 16 |\n",
       "| 1839 | СО     |   1 |  36 | 35 |\n",
       "| 1839 | СОиСА  |   4 |  19 | 15 |\n",
       "| 1839 | Совр   |  48 |  48 |  0 |\n",
       "| 1840 | БдЧ    |  49 |  49 |  0 |\n",
       "| 1840 | ЛГ     |  75 |  75 |  0 |\n",
       "| 1840 | ОЗ     |  77 | 103 | 26 |\n",
       "| 1840 | ПРиВЕТ |   6 |  73 | 67 |\n",
       "| 1840 | СО     |   2 |  45 | 43 |\n",
       "| 1840 | Совр   |  33 |  33 |  0 |\n",
       "\n"
      ],
      "text/plain": [
       "   year PER_ID n   total_n to_digitise\n",
       "1  1835 БдЧ     65  65      0         \n",
       "2  1835 ЛПРИ   153 154      1         \n",
       "3  1835 МН       2  21     19         \n",
       "4  1836 БдЧ     53  57      4         \n",
       "5  1836 ЛПРИ   108 111      3         \n",
       "6  1836 МН       4  44     40         \n",
       "7  1836 СО      14  14      0         \n",
       "8  1836 Совр    50  50      0         \n",
       "9  1837 БдЧ     58  68     10         \n",
       "10 1837 ЛПРИ    69  72      3         \n",
       "11 1837 СО      77  80      3         \n",
       "12 1837 Совр    59  61      2         \n",
       "13 1838 БдЧ     62  63      1         \n",
       "14 1838 ЛПРИ    91  94      3         \n",
       "15 1838 СОиСА    5  87     82         \n",
       "16 1838 Сев_пч   1   3      2         \n",
       "17 1838 Совр    44  44      0         \n",
       "18 1839 БдЧ     63  63      0         \n",
       "19 1839 ЛПРИ    67  68      1         \n",
       "20 1839 ОЗ      62  78     16         \n",
       "21 1839 СО       1  36     35         \n",
       "22 1839 СОиСА    4  19     15         \n",
       "23 1839 Совр    48  48      0         \n",
       "24 1840 БдЧ     49  49      0         \n",
       "25 1840 ЛГ      75  75      0         \n",
       "26 1840 ОЗ      77 103     26         \n",
       "27 1840 ПРиВЕТ   6  73     67         \n",
       "28 1840 СО       2  45     43         \n",
       "29 1840 Совр    33  33      0         "
      ]
     },
     "metadata": {},
     "output_type": "display_data"
    }
   ],
   "source": [
    "totals <- per_full %>% \n",
    "    group_by(year, PER_ID) %>% \n",
    "    count(sort = F) %>% \n",
    "    ungroup() %>% \n",
    "    rename(total_n = n) %>% \n",
    "    mutate(source = paste0(year, \"_\", PER_ID)) %>% \n",
    "    select(-year, -PER_ID)\n",
    "\n",
    "# current state of digitisation\n",
    "\n",
    "per %>% \n",
    "    group_by(year, PER_ID) %>% \n",
    "    count(sort = F) %>% \n",
    "    ungroup() %>% \n",
    "    mutate(source = paste0(year, \"_\", PER_ID)) %>% \n",
    "    left_join(totals, by = \"source\") %>% \n",
    "    select(-source) %>% \n",
    "    mutate(to_digitise = total_n - n)"
   ]
  },
  {
   "cell_type": "code",
   "execution_count": 37,
   "id": "7cde7c4c",
   "metadata": {},
   "outputs": [],
   "source": [
    "#todo <- per_full %>% \n",
    "#    rename(id = text_ID) %>% \n",
    "#    anti_join(per, by = \"id\")\n",
    "\n",
    "#write.csv(todo, \"per_todo.csv\")"
   ]
  },
  {
   "cell_type": "code",
   "execution_count": null,
   "id": "bda3fb7e",
   "metadata": {},
   "outputs": [],
   "source": [
    "per %>% group_by(year, PER_ID) %>% count() %>% \n",
    "    ggplot(aes(x = year, y = n, fill = PER_ID)) + geom_col()"
   ]
  },
  {
   "cell_type": "code",
   "execution_count": null,
   "id": "3b720de4",
   "metadata": {},
   "outputs": [],
   "source": [
    "authors_sources <- per %>% \n",
    "    mutate(PER_ID = ifelse(str_detect(PER_ID,\"СОиСА\"), \"СО\", PER_ID)) %>% \n",
    "    filter(!is.na(author)) %>% \n",
    "    \n",
    "    # grouping by author, year and source\n",
    "    group_by(year, PER_ID, author) %>% \n",
    "    count(sort = T) %>% \n",
    "    ungroup() %>%\n",
    "    \n",
    "    # non-frequent authors grouped as \"others\"\n",
    "    mutate(author = ifelse(n < 3, \"Другие\", author)) %>% \n",
    "    group_by(year, PER_ID, author) %>% \n",
    "    # sum poems by others\n",
    "    summarise(n = sum(n)) %>% \n",
    "    mutate(author_label = paste0(author, \" (\", n, \")\"))\n",
    "\n",
    "head(authors_sources)"
   ]
  },
  {
   "cell_type": "code",
   "execution_count": null,
   "id": "5a905647",
   "metadata": {},
   "outputs": [],
   "source": [
    "light_palette <- \n",
    "    c(wes_palette(\"Chevalier1\")[1], \n",
    "    wes_palette(\"Chevalier1\")[2], \n",
    "    wes_palette(\"Chevalier1\")[3], \n",
    "    wes_palette(\"Darjeeling2\")[1], \n",
    "    wes_palette(\"Darjeeling2\")[2], \n",
    "    wes_palette(\"Darjeeling2\")[3])"
   ]
  },
  {
   "cell_type": "code",
   "execution_count": null,
   "id": "9236b098",
   "metadata": {},
   "outputs": [],
   "source": [
    "# treemap: https://cran.r-project.org/web/packages/treemap/treemap.pdf\n",
    "\n",
    "x <- NULL\n",
    "\n",
    "for (i in 1:length(unique(per$year))) {\n",
    "    \n",
    "    x <- unique(per$year)[i]\n",
    "    \n",
    "    filename = paste0(\"plots/treemaps/plot_\", x, \".png\")\n",
    "\n",
    "    png(filename, width = 600, height = 600)\n",
    "\n",
    "    t <- authors_sources %>% \n",
    "        filter(year == x) %>% \n",
    "        treemap(\n",
    "            index = c(\"PER_ID\", \"author_label\"),\n",
    "            vSize = \"n\",\n",
    "            type = \"index\",\n",
    "            palette = light_palette,\n",
    "            fontsize.labels = c(20, 16),\n",
    "            #position.legend = \"right\",\n",
    "            overlap.labels = 1,\n",
    "            title = x,\n",
    "            fontsize.title = 22\n",
    "        )\n",
    "\n",
    "    dev.off()\n",
    "}"
   ]
  },
  {
   "cell_type": "code",
   "execution_count": null,
   "id": "5bd031c2",
   "metadata": {},
   "outputs": [],
   "source": [
    "authors_sources %>% \n",
    "        filter(year == 1835) %>% \n",
    "        treemap(\n",
    "            index = c(\"PER_ID\", \"author_label\"),\n",
    "            vSize = \"n\",\n",
    "            type = \"index\",\n",
    "            palette = light_palette,\n",
    "            fontsize.labels = c(20, 16),\n",
    "            #position.legend = \"right\",\n",
    "            overlap.labels = 1,\n",
    "            title = \"1835\",\n",
    "            fontsize.title = 22\n",
    "        )"
   ]
  }
 ],
 "metadata": {
  "kernelspec": {
   "display_name": "R",
   "language": "R",
   "name": "ir"
  }
 },
 "nbformat": 4,
 "nbformat_minor": 5
}
