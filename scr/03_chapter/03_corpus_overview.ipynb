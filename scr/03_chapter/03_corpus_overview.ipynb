{
 "cells": [
  {
   "cell_type": "raw",
   "metadata": {},
   "source": [
    "---\n",
    "title: \"03_corpus_overview\"\n",
    "format: html\n",
    "editor: visual\n",
    "---"
   ]
  },
  {
   "cell_type": "markdown",
   "metadata": {},
   "source": [
    "# Corpus overview\n",
    "\n",
    "## load pckg"
   ]
  },
  {
   "cell_type": "code",
   "execution_count": 1,
   "metadata": {},
   "outputs": [
    {
     "name": "stderr",
     "output_type": "stream",
     "text": [
      "── \u001b[1mAttaching core tidyverse packages\u001b[22m ──────────────────────── tidyverse 2.0.0 ──\n",
      "\u001b[32m✔\u001b[39m \u001b[34mdplyr    \u001b[39m 1.1.2     \u001b[32m✔\u001b[39m \u001b[34mreadr    \u001b[39m 2.1.4\n",
      "\u001b[32m✔\u001b[39m \u001b[34mforcats  \u001b[39m 1.0.0     \u001b[32m✔\u001b[39m \u001b[34mstringr  \u001b[39m 1.5.0\n",
      "\u001b[32m✔\u001b[39m \u001b[34mggplot2  \u001b[39m 3.4.2     \u001b[32m✔\u001b[39m \u001b[34mtibble   \u001b[39m 3.2.1\n",
      "\u001b[32m✔\u001b[39m \u001b[34mlubridate\u001b[39m 1.9.2     \u001b[32m✔\u001b[39m \u001b[34mtidyr    \u001b[39m 1.3.0\n",
      "\u001b[32m✔\u001b[39m \u001b[34mpurrr    \u001b[39m 1.0.1     \n",
      "── \u001b[1mConflicts\u001b[22m ────────────────────────────────────────── tidyverse_conflicts() ──\n",
      "\u001b[31m✖\u001b[39m \u001b[34mdplyr\u001b[39m::\u001b[32mfilter()\u001b[39m masks \u001b[34mstats\u001b[39m::filter()\n",
      "\u001b[31m✖\u001b[39m \u001b[34mdplyr\u001b[39m::\u001b[32mlag()\u001b[39m    masks \u001b[34mstats\u001b[39m::lag()\n",
      "\u001b[36mℹ\u001b[39m Use the conflicted package (\u001b[3m\u001b[34m<http://conflicted.r-lib.org/>\u001b[39m\u001b[23m) to force all conflicts to become errors\n",
      "Registering fonts with R\n",
      "\n",
      "Ładowanie wymaganego pakietu: sysfonts\n",
      "\n",
      "Ładowanie wymaganego pakietu: showtextdb\n",
      "\n",
      "\n",
      "Dołączanie pakietu: ‘showtextdb’\n",
      "\n",
      "\n",
      "Następujący obiekt został zakryty z ‘package:extrafont’:\n",
      "\n",
      "    font_install\n",
      "\n",
      "\n"
     ]
    }
   ],
   "source": [
    "library(tidyverse)\n",
    "library(tidytext)\n",
    "\n",
    "library(MetBrewer)\n",
    "theme_set(theme_minimal())\n",
    "\n",
    "library(extrafont)\n",
    "library(showtext)\n",
    "font_add(\"Arial\", \"/Library/Fonts/Arial.ttf\") \n",
    "showtext_auto()"
   ]
  },
  {
   "cell_type": "markdown",
   "metadata": {},
   "source": [
    "## load data"
   ]
  },
  {
   "cell_type": "code",
   "execution_count": 2,
   "metadata": {},
   "outputs": [
    {
     "name": "stdout",
     "output_type": "stream",
     "text": [
      "Rows: 4,149\n",
      "Columns: 19\n",
      "$ text_id        \u001b[3m\u001b[90m<chr>\u001b[39m\u001b[23m \"C_101__1\", \"C_101__2\", \"C_101__3\", \"C_101__4\", \"C_101_…\n",
      "$ corpus         \u001b[3m\u001b[90m<chr>\u001b[39m\u001b[23m \"cols\", \"cols\", \"cols\", \"cols\", \"cols\", \"cols\", \"cols\",…\n",
      "$ subcorpus      \u001b[3m\u001b[90m<chr>\u001b[39m\u001b[23m \"col_lyr\", \"col_lyr\", \"col_lyr\", \"col_lyr\", \"col_lyr\", …\n",
      "$ A_ID           \u001b[3m\u001b[90m<chr>\u001b[39m\u001b[23m \"A_22\", \"A_22\", \"A_22\", \"A_22\", \"A_22\", \"A_22\", \"A_22\",…\n",
      "$ author         \u001b[3m\u001b[90m<chr>\u001b[39m\u001b[23m \"Кашкин Д.Е.\", \"Кашкин Д.Е.\", \"Кашкин Д.Е.\", \"Кашкин Д.…\n",
      "$ author_sign    \u001b[3m\u001b[90m<chr>\u001b[39m\u001b[23m \"Кашкин Д.Е.\", \"Кашкин Д.Е.\", \"Кашкин Д.Е.\", \"Кашкин Д.…\n",
      "$ text_title     \u001b[3m\u001b[90m<chr>\u001b[39m\u001b[23m \"Романс\", \"Романс\", \"Романс\", \"Романс\", \"Романс\", \"Рома…\n",
      "$ first_line     \u001b[3m\u001b[90m<chr>\u001b[39m\u001b[23m \"В власти - ль смертного забыть,\", \"Время протекло прия…\n",
      "$ subtitle       \u001b[3m\u001b[90m<chr>\u001b[39m\u001b[23m \"\", \"\", \"\", \"\", \"\", \"\", \"\", \"\", \"\", \"\", \"\", \"\", \"\", \"\",…\n",
      "$ source         \u001b[3m\u001b[90m<chr>\u001b[39m\u001b[23m \"Кашкин Д.Е. Сочинения Дмитрия Кашкина: В 3 т. Т. 1. М.…\n",
      "$ year           \u001b[3m\u001b[90m<dbl>\u001b[39m\u001b[23m 1836, 1836, 1836, 1836, 1836, 1836, 1836, 1836, 1836, 1…\n",
      "$ text_raw       \u001b[3m\u001b[90m<chr>\u001b[39m\u001b[23m \"В власти - ль смертного забыть,\\nЧто ему всего дороже?…\n",
      "$ text_lemm      \u001b[3m\u001b[90m<chr>\u001b[39m\u001b[23m \"в власть - ль смертный забывать,\\nчто он все дорогой?\\…\n",
      "$ text_acc       \u001b[3m\u001b[90m<chr>\u001b[39m\u001b[23m \"В вла'сти - ль сме'ртного забы'ть,\\nЧто ему' всего' до…\n",
      "$ meter          \u001b[3m\u001b[90m<fct>\u001b[39m\u001b[23m Dactyl, Trochee, Iamb, Iamb, Iamb, Iamb, Iamb, Trochee,…\n",
      "$ feet           \u001b[3m\u001b[90m<chr>\u001b[39m\u001b[23m \"3\", \"4\", \"4\", \"4\", \"4\", \"4\", \"3\", \"4\", \"4\", \"3\", \"3\", …\n",
      "$ formula        \u001b[3m\u001b[90m<chr>\u001b[39m\u001b[23m \"Dactyl_3\", \"Trochee_4\", \"Iamb_4\", \"Iamb_4\", \"Iamb_4\", …\n",
      "$ stress_pattern \u001b[3m\u001b[90m<chr>\u001b[39m\u001b[23m \"1010001, 00101010, 0010101, 00001000, 1010001, 0000001…\n",
      "$ n_lines        \u001b[3m\u001b[90m<int>\u001b[39m\u001b[23m 30, 36, 36, 36, 28, 36, 36, 28, 24, 24, 32, 32, 32, 48,…\n"
     ]
    }
   ],
   "source": [
    "load(\"../../data/corpus1835/corpus_1835.Rda\")\n",
    "glimpse(corpus_1835)"
   ]
  },
  {
   "cell_type": "markdown",
   "metadata": {},
   "source": [
    "## total size"
   ]
  },
  {
   "cell_type": "code",
   "execution_count": 4,
   "metadata": {},
   "outputs": [
    {
     "name": "stdout",
     "output_type": "stream",
     "text": [
      "[1] \"Number of poems: 4149\"\n",
      "[1] \"Number of poems in periodicals: 1814\"\n",
      "[1] \"Number of poems in collections: 2335\"\n",
      "[1] \"Number of lines: 163026\"\n"
     ]
    },
    {
     "data": {
      "text/html": [
       "<table class=\"dataframe\">\n",
       "<caption>A tibble: 2 × 2</caption>\n",
       "<thead>\n",
       "\t<tr><th scope=col>corpus</th><th scope=col>n</th></tr>\n",
       "\t<tr><th scope=col>&lt;chr&gt;</th><th scope=col>&lt;int&gt;</th></tr>\n",
       "</thead>\n",
       "<tbody>\n",
       "\t<tr><td>cols</td><td>95025</td></tr>\n",
       "\t<tr><td>per </td><td>68001</td></tr>\n",
       "</tbody>\n",
       "</table>\n"
      ],
      "text/latex": [
       "A tibble: 2 × 2\n",
       "\\begin{tabular}{ll}\n",
       " corpus & n\\\\\n",
       " <chr> & <int>\\\\\n",
       "\\hline\n",
       "\t cols & 95025\\\\\n",
       "\t per  & 68001\\\\\n",
       "\\end{tabular}\n"
      ],
      "text/markdown": [
       "\n",
       "A tibble: 2 × 2\n",
       "\n",
       "| corpus &lt;chr&gt; | n &lt;int&gt; |\n",
       "|---|---|\n",
       "| cols | 95025 |\n",
       "| per  | 68001 |\n",
       "\n"
      ],
      "text/plain": [
       "  corpus n    \n",
       "1 cols   95025\n",
       "2 per    68001"
      ]
     },
     "metadata": {},
     "output_type": "display_data"
    },
    {
     "name": "stdout",
     "output_type": "stream",
     "text": [
      "[1] \"Number of tokens:\"\n"
     ]
    },
    {
     "data": {
      "text/html": [
       "740628"
      ],
      "text/latex": [
       "740628"
      ],
      "text/markdown": [
       "740628"
      ],
      "text/plain": [
       "[1] 740628"
      ]
     },
     "metadata": {},
     "output_type": "display_data"
    },
    {
     "data": {
      "text/html": [
       "<table class=\"dataframe\">\n",
       "<caption>A data.frame: 2 × 2</caption>\n",
       "<thead>\n",
       "\t<tr><th scope=col>corpus</th><th scope=col>n</th></tr>\n",
       "\t<tr><th scope=col>&lt;chr&gt;</th><th scope=col>&lt;int&gt;</th></tr>\n",
       "</thead>\n",
       "<tbody>\n",
       "\t<tr><td>cols</td><td>427042</td></tr>\n",
       "\t<tr><td>per </td><td>313586</td></tr>\n",
       "</tbody>\n",
       "</table>\n"
      ],
      "text/latex": [
       "A data.frame: 2 × 2\n",
       "\\begin{tabular}{ll}\n",
       " corpus & n\\\\\n",
       " <chr> & <int>\\\\\n",
       "\\hline\n",
       "\t cols & 427042\\\\\n",
       "\t per  & 313586\\\\\n",
       "\\end{tabular}\n"
      ],
      "text/markdown": [
       "\n",
       "A data.frame: 2 × 2\n",
       "\n",
       "| corpus &lt;chr&gt; | n &lt;int&gt; |\n",
       "|---|---|\n",
       "| cols | 427042 |\n",
       "| per  | 313586 |\n",
       "\n"
      ],
      "text/plain": [
       "  corpus n     \n",
       "1 cols   427042\n",
       "2 per    313586"
      ]
     },
     "metadata": {},
     "output_type": "display_data"
    },
    {
     "name": "stdout",
     "output_type": "stream",
     "text": [
      "[1] \"Number of lemmas:\"\n"
     ]
    },
    {
     "data": {
      "text/html": [
       "28348"
      ],
      "text/latex": [
       "28348"
      ],
      "text/markdown": [
       "28348"
      ],
      "text/plain": [
       "[1] 28348"
      ]
     },
     "metadata": {},
     "output_type": "display_data"
    },
    {
     "data": {
      "text/html": [
       "<table class=\"dataframe\">\n",
       "<caption>A data.frame: 2 × 2</caption>\n",
       "<thead>\n",
       "\t<tr><th scope=col>corpus</th><th scope=col>n</th></tr>\n",
       "\t<tr><th scope=col>&lt;chr&gt;</th><th scope=col>&lt;int&gt;</th></tr>\n",
       "</thead>\n",
       "<tbody>\n",
       "\t<tr><td>cols</td><td>22390</td></tr>\n",
       "\t<tr><td>per </td><td>18154</td></tr>\n",
       "</tbody>\n",
       "</table>\n"
      ],
      "text/latex": [
       "A data.frame: 2 × 2\n",
       "\\begin{tabular}{ll}\n",
       " corpus & n\\\\\n",
       " <chr> & <int>\\\\\n",
       "\\hline\n",
       "\t cols & 22390\\\\\n",
       "\t per  & 18154\\\\\n",
       "\\end{tabular}\n"
      ],
      "text/markdown": [
       "\n",
       "A data.frame: 2 × 2\n",
       "\n",
       "| corpus &lt;chr&gt; | n &lt;int&gt; |\n",
       "|---|---|\n",
       "| cols | 22390 |\n",
       "| per  | 18154 |\n",
       "\n"
      ],
      "text/plain": [
       "  corpus n    \n",
       "1 cols   22390\n",
       "2 per    18154"
      ]
     },
     "metadata": {},
     "output_type": "display_data"
    }
   ],
   "source": [
    "print(paste0(\"Number of poems: \", nrow(corpus_1835)))\n",
    "\n",
    "print(paste0(\"Number of poems in periodicals: \", table(corpus_1835$corpus)[2]))\n",
    "print(paste0( \"Number of poems in collections: \", table(corpus_1835$corpus)[1]))\n",
    "\n",
    "print(paste0(\"Number of lines: \",\n",
    "corpus_1835 %>% \n",
    "  select(corpus, text_raw) %>% \n",
    "  separate_rows(text_raw, sep = \"\\n\") %>% \n",
    "  filter(text_raw != \"\") %>% nrow() ))\n",
    "\n",
    "corpus_1835 %>% \n",
    "  select(corpus, text_raw) %>% \n",
    "  separate_rows(text_raw, sep = \"\\n\") %>% \n",
    "  filter(text_raw != \"\") %>% \n",
    "  count(corpus)\n",
    "\n",
    "print(\"Number of tokens:\")\n",
    "corpus_1835 %>% \n",
    "  select(corpus, text_lemm) %>% \n",
    "  unnest_tokens(input = text_lemm, output = word, token = \"words\") %>% \n",
    "  nrow()\n",
    "\n",
    "corpus_1835 %>% \n",
    "  select(corpus, text_lemm) %>% \n",
    "  unnest_tokens(input = text_lemm, output = word, token = \"words\") %>% \n",
    "  count(corpus) \n",
    "\n",
    "  \n",
    "print(\"Number of lemmas:\")\n",
    "corpus_1835 %>% \n",
    "  select(corpus, text_lemm) %>% \n",
    "  unnest_tokens(input = text_lemm, output = word, token = \"words\") %>% \n",
    "  count(word) %>% nrow\n",
    "\n",
    "corpus_1835 %>% \n",
    "  select(corpus, text_lemm) %>% \n",
    "  unnest_tokens(input = text_lemm, output = word, token = \"words\") %>% \n",
    "  count(corpus, word) %>%\n",
    "  select(-n) %>%\n",
    "  ungroup() %>%\n",
    "  count(corpus)"
   ]
  },
  {
   "cell_type": "markdown",
   "metadata": {},
   "source": [
    "## size - poems"
   ]
  },
  {
   "cell_type": "code",
   "execution_count": 5,
   "metadata": {},
   "outputs": [
    {
     "data": {
      "image/png": "[encoded data removed]",
      "text/plain": [
       "plot without title"
      ]
     },
     "metadata": {
      "image/png": {
       "height": 420,
       "width": 420
      }
     },
     "output_type": "display_data"
    },
    {
     "data": {
      "image/png": "[encoded data removed]",
      "text/plain": [
       "plot without title"
      ]
     },
     "metadata": {
      "image/png": {
       "height": 420,
       "width": 420
      }
     },
     "output_type": "display_data"
    }
   ],
   "source": [
    "corpus_1835 %>% \n",
    "  count(year, corpus) %>% \n",
    "  ggplot(aes(x = year, y = n, fill = corpus)) + geom_col(position = \"dodge\")\n",
    "\n",
    "corpus_1835 %>% \n",
    "  count(year, corpus) %>% \n",
    "  ggplot(aes(x = year, y = n, fill = corpus)) + geom_col(position = \"stack\")"
   ]
  },
  {
   "cell_type": "markdown",
   "metadata": {},
   "source": [
    "## size - tokens"
   ]
  },
  {
   "cell_type": "code",
   "execution_count": 6,
   "metadata": {},
   "outputs": [
    {
     "data": {
      "image/png": "[encoded data removed]",
      "text/plain": [
       "plot without title"
      ]
     },
     "metadata": {
      "image/png": {
       "height": 420,
       "width": 420
      }
     },
     "output_type": "display_data"
    },
    {
     "data": {
      "text/html": [
       "740628"
      ],
      "text/latex": [
       "740628"
      ],
      "text/markdown": [
       "740628"
      ],
      "text/plain": [
       "[1] 740628"
      ]
     },
     "metadata": {},
     "output_type": "display_data"
    },
    {
     "data": {
      "image/png": "[encoded data removed]",
      "text/plain": [
       "plot without title"
      ]
     },
     "metadata": {
      "image/png": {
       "height": 420,
       "width": 420
      }
     },
     "output_type": "display_data"
    }
   ],
   "source": [
    "tokens <- corpus_1835 %>% \n",
    "  select(corpus, year, text_lemm) %>% \n",
    "  unnest_tokens(input = text_lemm, output = word, token = \"words\") %>% \n",
    "  count(corpus, year)\n",
    "  \n",
    "tokens %>%  \n",
    "  ggplot(aes(x = year, y = n, fill = corpus)) + geom_col(position = \"dodge\")\n",
    "\n",
    "tokens %>% \n",
    "  ggplot(aes(x = year, y = n, fill = corpus)) + geom_col(position = \"stack\")\n",
    "\n",
    "sum(tokens$n)"
   ]
  },
  {
   "cell_type": "markdown",
   "metadata": {},
   "source": [
    "## size - authors' corpus\n",
    "\n",
    "Poems"
   ]
  },
  {
   "cell_type": "code",
   "execution_count": 7,
   "metadata": {},
   "outputs": [
    {
     "data": {
      "text/html": [
       "<table class=\"dataframe\">\n",
       "<caption>A data.frame: 30 × 3</caption>\n",
       "<thead>\n",
       "\t<tr><th></th><th scope=col>author</th><th scope=col>corpus</th><th scope=col>n</th></tr>\n",
       "\t<tr><th></th><th scope=col>&lt;chr&gt;</th><th scope=col>&lt;chr&gt;</th><th scope=col>&lt;int&gt;</th></tr>\n",
       "</thead>\n",
       "<tbody>\n",
       "\t<tr><th scope=row>1</th><td>Суханов М.Д.     </td><td>cols</td><td>132</td></tr>\n",
       "\t<tr><th scope=row>2</th><td>Баратынский Е.А. </td><td>cols</td><td>131</td></tr>\n",
       "\t<tr><th scope=row>3</th><td>Мейснер А.Я.     </td><td>cols</td><td>106</td></tr>\n",
       "\t<tr><th scope=row>4</th><td>Быстроглазов А.  </td><td>cols</td><td> 97</td></tr>\n",
       "\t<tr><th scope=row>5</th><td>Меркли М.М.      </td><td>cols</td><td> 93</td></tr>\n",
       "\t<tr><th scope=row>6</th><td>Демидов М.А.     </td><td>cols</td><td> 75</td></tr>\n",
       "\t<tr><th scope=row>7</th><td>Башкатов А.      </td><td>cols</td><td> 69</td></tr>\n",
       "\t<tr><th scope=row>8</th><td>Тимофеев А.В.    </td><td>cols</td><td> 68</td></tr>\n",
       "\t<tr><th scope=row>9</th><td>Ушаков А.А.      </td><td>cols</td><td> 65</td></tr>\n",
       "\t<tr><th scope=row>10</th><td>Алексеев П.Ф.    </td><td>cols</td><td> 63</td></tr>\n",
       "\t<tr><th scope=row>11</th><td>Мартынов А.      </td><td>cols</td><td> 57</td></tr>\n",
       "\t<tr><th scope=row>12</th><td>Якубович Л.А.    </td><td>per </td><td> 57</td></tr>\n",
       "\t<tr><th scope=row>13</th><td>Смирнова А.      </td><td>cols</td><td> 55</td></tr>\n",
       "\t<tr><th scope=row>14</th><td>Теплова Н.С.     </td><td>cols</td><td> 54</td></tr>\n",
       "\t<tr><th scope=row>15</th><td>Бернет Е.        </td><td>cols</td><td> 51</td></tr>\n",
       "\t<tr><th scope=row>16</th><td>Бутырский Н.И.   </td><td>cols</td><td> 51</td></tr>\n",
       "\t<tr><th scope=row>17</th><td>Зилов А.М.       </td><td>cols</td><td> 50</td></tr>\n",
       "\t<tr><th scope=row>18</th><td>Кашкин Д.Е.      </td><td>cols</td><td> 46</td></tr>\n",
       "\t<tr><th scope=row>19</th><td>Деларю М.Д.      </td><td>cols</td><td> 45</td></tr>\n",
       "\t<tr><th scope=row>20</th><td>Ростопчина Е.П.  </td><td>per </td><td> 44</td></tr>\n",
       "\t<tr><th scope=row>21</th><td>Кольцов А.В.     </td><td>per </td><td> 40</td></tr>\n",
       "\t<tr><th scope=row>22</th><td>Тютчев Ф.И.      </td><td>per </td><td> 40</td></tr>\n",
       "\t<tr><th scope=row>23</th><td>Бакунин И.М.     </td><td>cols</td><td> 39</td></tr>\n",
       "\t<tr><th scope=row>24</th><td>Пуговишников А.М.</td><td>cols</td><td> 39</td></tr>\n",
       "\t<tr><th scope=row>25</th><td>Пушкин А.С.      </td><td>per </td><td> 38</td></tr>\n",
       "\t<tr><th scope=row>26</th><td>Козлов И.И.      </td><td>per </td><td> 37</td></tr>\n",
       "\t<tr><th scope=row>27</th><td>Шахова Е.Н.      </td><td>cols</td><td> 36</td></tr>\n",
       "\t<tr><th scope=row>28</th><td>Бенедиктов В.Г.  </td><td>per </td><td> 35</td></tr>\n",
       "\t<tr><th scope=row>29</th><td>Кони Ф.А.        </td><td>per </td><td> 35</td></tr>\n",
       "\t<tr><th scope=row>30</th><td>Красов В.И.      </td><td>per </td><td> 35</td></tr>\n",
       "</tbody>\n",
       "</table>\n"
      ],
      "text/latex": [
       "A data.frame: 30 × 3\n",
       "\\begin{tabular}{r|lll}\n",
       "  & author & corpus & n\\\\\n",
       "  & <chr> & <chr> & <int>\\\\\n",
       "\\hline\n",
       "\t1 & Суханов М.Д.      & cols & 132\\\\\n",
       "\t2 & Баратынский Е.А.  & cols & 131\\\\\n",
       "\t3 & Мейснер А.Я.      & cols & 106\\\\\n",
       "\t4 & Быстроглазов А.   & cols &  97\\\\\n",
       "\t5 & Меркли М.М.       & cols &  93\\\\\n",
       "\t6 & Демидов М.А.      & cols &  75\\\\\n",
       "\t7 & Башкатов А.       & cols &  69\\\\\n",
       "\t8 & Тимофеев А.В.     & cols &  68\\\\\n",
       "\t9 & Ушаков А.А.       & cols &  65\\\\\n",
       "\t10 & Алексеев П.Ф.     & cols &  63\\\\\n",
       "\t11 & Мартынов А.       & cols &  57\\\\\n",
       "\t12 & Якубович Л.А.     & per  &  57\\\\\n",
       "\t13 & Смирнова А.       & cols &  55\\\\\n",
       "\t14 & Теплова Н.С.      & cols &  54\\\\\n",
       "\t15 & Бернет Е.         & cols &  51\\\\\n",
       "\t16 & Бутырский Н.И.    & cols &  51\\\\\n",
       "\t17 & Зилов А.М.        & cols &  50\\\\\n",
       "\t18 & Кашкин Д.Е.       & cols &  46\\\\\n",
       "\t19 & Деларю М.Д.       & cols &  45\\\\\n",
       "\t20 & Ростопчина Е.П.   & per  &  44\\\\\n",
       "\t21 & Кольцов А.В.      & per  &  40\\\\\n",
       "\t22 & Тютчев Ф.И.       & per  &  40\\\\\n",
       "\t23 & Бакунин И.М.      & cols &  39\\\\\n",
       "\t24 & Пуговишников А.М. & cols &  39\\\\\n",
       "\t25 & Пушкин А.С.       & per  &  38\\\\\n",
       "\t26 & Козлов И.И.       & per  &  37\\\\\n",
       "\t27 & Шахова Е.Н.       & cols &  36\\\\\n",
       "\t28 & Бенедиктов В.Г.   & per  &  35\\\\\n",
       "\t29 & Кони Ф.А.         & per  &  35\\\\\n",
       "\t30 & Красов В.И.       & per  &  35\\\\\n",
       "\\end{tabular}\n"
      ],
      "text/markdown": [
       "\n",
       "A data.frame: 30 × 3\n",
       "\n",
       "| <!--/--> | author &lt;chr&gt; | corpus &lt;chr&gt; | n &lt;int&gt; |\n",
       "|---|---|---|---|\n",
       "| 1 | Суханов М.Д.      | cols | 132 |\n",
       "| 2 | Баратынский Е.А.  | cols | 131 |\n",
       "| 3 | Мейснер А.Я.      | cols | 106 |\n",
       "| 4 | Быстроглазов А.   | cols |  97 |\n",
       "| 5 | Меркли М.М.       | cols |  93 |\n",
       "| 6 | Демидов М.А.      | cols |  75 |\n",
       "| 7 | Башкатов А.       | cols |  69 |\n",
       "| 8 | Тимофеев А.В.     | cols |  68 |\n",
       "| 9 | Ушаков А.А.       | cols |  65 |\n",
       "| 10 | Алексеев П.Ф.     | cols |  63 |\n",
       "| 11 | Мартынов А.       | cols |  57 |\n",
       "| 12 | Якубович Л.А.     | per  |  57 |\n",
       "| 13 | Смирнова А.       | cols |  55 |\n",
       "| 14 | Теплова Н.С.      | cols |  54 |\n",
       "| 15 | Бернет Е.         | cols |  51 |\n",
       "| 16 | Бутырский Н.И.    | cols |  51 |\n",
       "| 17 | Зилов А.М.        | cols |  50 |\n",
       "| 18 | Кашкин Д.Е.       | cols |  46 |\n",
       "| 19 | Деларю М.Д.       | cols |  45 |\n",
       "| 20 | Ростопчина Е.П.   | per  |  44 |\n",
       "| 21 | Кольцов А.В.      | per  |  40 |\n",
       "| 22 | Тютчев Ф.И.       | per  |  40 |\n",
       "| 23 | Бакунин И.М.      | cols |  39 |\n",
       "| 24 | Пуговишников А.М. | cols |  39 |\n",
       "| 25 | Пушкин А.С.       | per  |  38 |\n",
       "| 26 | Козлов И.И.       | per  |  37 |\n",
       "| 27 | Шахова Е.Н.       | cols |  36 |\n",
       "| 28 | Бенедиктов В.Г.   | per  |  35 |\n",
       "| 29 | Кони Ф.А.         | per  |  35 |\n",
       "| 30 | Красов В.И.       | per  |  35 |\n",
       "\n"
      ],
      "text/plain": [
       "   author            corpus n  \n",
       "1  Суханов М.Д.      cols   132\n",
       "2  Баратынский Е.А.  cols   131\n",
       "3  Мейснер А.Я.      cols   106\n",
       "4  Быстроглазов А.   cols    97\n",
       "5  Меркли М.М.       cols    93\n",
       "6  Демидов М.А.      cols    75\n",
       "7  Башкатов А.       cols    69\n",
       "8  Тимофеев А.В.     cols    68\n",
       "9  Ушаков А.А.       cols    65\n",
       "10 Алексеев П.Ф.     cols    63\n",
       "11 Мартынов А.       cols    57\n",
       "12 Якубович Л.А.     per     57\n",
       "13 Смирнова А.       cols    55\n",
       "14 Теплова Н.С.      cols    54\n",
       "15 Бернет Е.         cols    51\n",
       "16 Бутырский Н.И.    cols    51\n",
       "17 Зилов А.М.        cols    50\n",
       "18 Кашкин Д.Е.       cols    46\n",
       "19 Деларю М.Д.       cols    45\n",
       "20 Ростопчина Е.П.   per     44\n",
       "21 Кольцов А.В.      per     40\n",
       "22 Тютчев Ф.И.       per     40\n",
       "23 Бакунин И.М.      cols    39\n",
       "24 Пуговишников А.М. cols    39\n",
       "25 Пушкин А.С.       per     38\n",
       "26 Козлов И.И.       per     37\n",
       "27 Шахова Е.Н.       cols    36\n",
       "28 Бенедиктов В.Г.   per     35\n",
       "29 Кони Ф.А.         per     35\n",
       "30 Красов В.И.       per     35"
      ]
     },
     "metadata": {},
     "output_type": "display_data"
    },
    {
     "data": {
      "image/png": "[encoded data removed]",
      "text/plain": [
       "plot without title"
      ]
     },
     "metadata": {
      "image/png": {
       "height": 420,
       "width": 420
      }
     },
     "output_type": "display_data"
    }
   ],
   "source": [
    "corpus_1835 %>%\n",
    "  mutate(author = ifelse(author == \"\", author_sign, author)) %>% \n",
    "  filter(author != \"\") %>% \n",
    "  count(author, corpus, sort = T) %>% \n",
    "  head(30)\n",
    "\n",
    "corpus_1835 %>%\n",
    "  mutate(author = ifelse(author == \"\", author_sign, author)) %>% \n",
    "  filter(author != \"\") %>% \n",
    "  count(author, corpus, sort = T) %>% \n",
    "  ggplot(aes(x = reorder_within(author, -n, -n), y = n, fill = corpus)) + geom_col()"
   ]
  },
  {
   "cell_type": "code",
   "execution_count": 8,
   "metadata": {},
   "outputs": [
    {
     "data": {
      "text/html": [
       "<table class=\"dataframe\">\n",
       "<caption>A data.frame: 30 × 2</caption>\n",
       "<thead>\n",
       "\t<tr><th></th><th scope=col>author</th><th scope=col>n</th></tr>\n",
       "\t<tr><th></th><th scope=col>&lt;chr&gt;</th><th scope=col>&lt;int&gt;</th></tr>\n",
       "</thead>\n",
       "<tbody>\n",
       "\t<tr><th scope=row>1</th><td>Кульман Е.Б.    </td><td>25338</td></tr>\n",
       "\t<tr><th scope=row>2</th><td>Бернет Е.       </td><td>22293</td></tr>\n",
       "\t<tr><th scope=row>3</th><td>Быстроглазов А. </td><td>19582</td></tr>\n",
       "\t<tr><th scope=row>4</th><td>Тимофеев А.В.   </td><td>19520</td></tr>\n",
       "\t<tr><th scope=row>5</th><td>Смирнова А.     </td><td>19216</td></tr>\n",
       "\t<tr><th scope=row>6</th><td>Баратынский Е.А.</td><td>17968</td></tr>\n",
       "\t<tr><th scope=row>7</th><td>Мартынов А.     </td><td>16607</td></tr>\n",
       "\t<tr><th scope=row>8</th><td>Башкатов А.     </td><td>16484</td></tr>\n",
       "\t<tr><th scope=row>9</th><td>Мейснер А.Я.    </td><td>15871</td></tr>\n",
       "\t<tr><th scope=row>10</th><td>Демидов М.А.    </td><td>14467</td></tr>\n",
       "\t<tr><th scope=row>11</th><td>Шахова Е.Н.     </td><td>13023</td></tr>\n",
       "\t<tr><th scope=row>12</th><td>Зилов А.М.      </td><td>11757</td></tr>\n",
       "\t<tr><th scope=row>13</th><td>Меркли М.М.     </td><td>11379</td></tr>\n",
       "\t<tr><th scope=row>14</th><td>Сушков Д.П.     </td><td>11188</td></tr>\n",
       "\t<tr><th scope=row>15</th><td>Ростопчина Е.П. </td><td>10998</td></tr>\n",
       "\t<tr><th scope=row>16</th><td>Суханов М.Д.    </td><td>10825</td></tr>\n",
       "\t<tr><th scope=row>17</th><td>Бенедиктов В.Г. </td><td>10479</td></tr>\n",
       "\t<tr><th scope=row>18</th><td>Ушаков А.А.     </td><td> 9520</td></tr>\n",
       "\t<tr><th scope=row>19</th><td>Бакунин И.М.    </td><td> 9241</td></tr>\n",
       "\t<tr><th scope=row>20</th><td>Пушкин А.С.     </td><td> 8346</td></tr>\n",
       "\t<tr><th scope=row>21</th><td>Козлов И.И.     </td><td> 8313</td></tr>\n",
       "\t<tr><th scope=row>22</th><td>Кашкин Д.Е.     </td><td> 7745</td></tr>\n",
       "\t<tr><th scope=row>23</th><td>Алексеев П.Ф.   </td><td> 7724</td></tr>\n",
       "\t<tr><th scope=row>24</th><td>Якубович Л.А.   </td><td> 7665</td></tr>\n",
       "\t<tr><th scope=row>25</th><td>Менцов Ф.Н.     </td><td> 7128</td></tr>\n",
       "\t<tr><th scope=row>26</th><td>Полежаев А.И.   </td><td> 6797</td></tr>\n",
       "\t<tr><th scope=row>27</th><td>Ершов П.П.      </td><td> 6216</td></tr>\n",
       "\t<tr><th scope=row>28</th><td>Кольцов А.В.    </td><td> 6085</td></tr>\n",
       "\t<tr><th scope=row>29</th><td>Глинка Ф.Н.     </td><td> 6080</td></tr>\n",
       "\t<tr><th scope=row>30</th><td>Соколовский В.И.</td><td> 5924</td></tr>\n",
       "</tbody>\n",
       "</table>\n"
      ],
      "text/latex": [
       "A data.frame: 30 × 2\n",
       "\\begin{tabular}{r|ll}\n",
       "  & author & n\\\\\n",
       "  & <chr> & <int>\\\\\n",
       "\\hline\n",
       "\t1 & Кульман Е.Б.     & 25338\\\\\n",
       "\t2 & Бернет Е.        & 22293\\\\\n",
       "\t3 & Быстроглазов А.  & 19582\\\\\n",
       "\t4 & Тимофеев А.В.    & 19520\\\\\n",
       "\t5 & Смирнова А.      & 19216\\\\\n",
       "\t6 & Баратынский Е.А. & 17968\\\\\n",
       "\t7 & Мартынов А.      & 16607\\\\\n",
       "\t8 & Башкатов А.      & 16484\\\\\n",
       "\t9 & Мейснер А.Я.     & 15871\\\\\n",
       "\t10 & Демидов М.А.     & 14467\\\\\n",
       "\t11 & Шахова Е.Н.      & 13023\\\\\n",
       "\t12 & Зилов А.М.       & 11757\\\\\n",
       "\t13 & Меркли М.М.      & 11379\\\\\n",
       "\t14 & Сушков Д.П.      & 11188\\\\\n",
       "\t15 & Ростопчина Е.П.  & 10998\\\\\n",
       "\t16 & Суханов М.Д.     & 10825\\\\\n",
       "\t17 & Бенедиктов В.Г.  & 10479\\\\\n",
       "\t18 & Ушаков А.А.      &  9520\\\\\n",
       "\t19 & Бакунин И.М.     &  9241\\\\\n",
       "\t20 & Пушкин А.С.      &  8346\\\\\n",
       "\t21 & Козлов И.И.      &  8313\\\\\n",
       "\t22 & Кашкин Д.Е.      &  7745\\\\\n",
       "\t23 & Алексеев П.Ф.    &  7724\\\\\n",
       "\t24 & Якубович Л.А.    &  7665\\\\\n",
       "\t25 & Менцов Ф.Н.      &  7128\\\\\n",
       "\t26 & Полежаев А.И.    &  6797\\\\\n",
       "\t27 & Ершов П.П.       &  6216\\\\\n",
       "\t28 & Кольцов А.В.     &  6085\\\\\n",
       "\t29 & Глинка Ф.Н.      &  6080\\\\\n",
       "\t30 & Соколовский В.И. &  5924\\\\\n",
       "\\end{tabular}\n"
      ],
      "text/markdown": [
       "\n",
       "A data.frame: 30 × 2\n",
       "\n",
       "| <!--/--> | author &lt;chr&gt; | n &lt;int&gt; |\n",
       "|---|---|---|\n",
       "| 1 | Кульман Е.Б.     | 25338 |\n",
       "| 2 | Бернет Е.        | 22293 |\n",
       "| 3 | Быстроглазов А.  | 19582 |\n",
       "| 4 | Тимофеев А.В.    | 19520 |\n",
       "| 5 | Смирнова А.      | 19216 |\n",
       "| 6 | Баратынский Е.А. | 17968 |\n",
       "| 7 | Мартынов А.      | 16607 |\n",
       "| 8 | Башкатов А.      | 16484 |\n",
       "| 9 | Мейснер А.Я.     | 15871 |\n",
       "| 10 | Демидов М.А.     | 14467 |\n",
       "| 11 | Шахова Е.Н.      | 13023 |\n",
       "| 12 | Зилов А.М.       | 11757 |\n",
       "| 13 | Меркли М.М.      | 11379 |\n",
       "| 14 | Сушков Д.П.      | 11188 |\n",
       "| 15 | Ростопчина Е.П.  | 10998 |\n",
       "| 16 | Суханов М.Д.     | 10825 |\n",
       "| 17 | Бенедиктов В.Г.  | 10479 |\n",
       "| 18 | Ушаков А.А.      |  9520 |\n",
       "| 19 | Бакунин И.М.     |  9241 |\n",
       "| 20 | Пушкин А.С.      |  8346 |\n",
       "| 21 | Козлов И.И.      |  8313 |\n",
       "| 22 | Кашкин Д.Е.      |  7745 |\n",
       "| 23 | Алексеев П.Ф.    |  7724 |\n",
       "| 24 | Якубович Л.А.    |  7665 |\n",
       "| 25 | Менцов Ф.Н.      |  7128 |\n",
       "| 26 | Полежаев А.И.    |  6797 |\n",
       "| 27 | Ершов П.П.       |  6216 |\n",
       "| 28 | Кольцов А.В.     |  6085 |\n",
       "| 29 | Глинка Ф.Н.      |  6080 |\n",
       "| 30 | Соколовский В.И. |  5924 |\n",
       "\n"
      ],
      "text/plain": [
       "   author           n    \n",
       "1  Кульман Е.Б.     25338\n",
       "2  Бернет Е.        22293\n",
       "3  Быстроглазов А.  19582\n",
       "4  Тимофеев А.В.    19520\n",
       "5  Смирнова А.      19216\n",
       "6  Баратынский Е.А. 17968\n",
       "7  Мартынов А.      16607\n",
       "8  Башкатов А.      16484\n",
       "9  Мейснер А.Я.     15871\n",
       "10 Демидов М.А.     14467\n",
       "11 Шахова Е.Н.      13023\n",
       "12 Зилов А.М.       11757\n",
       "13 Меркли М.М.      11379\n",
       "14 Сушков Д.П.      11188\n",
       "15 Ростопчина Е.П.  10998\n",
       "16 Суханов М.Д.     10825\n",
       "17 Бенедиктов В.Г.  10479\n",
       "18 Ушаков А.А.       9520\n",
       "19 Бакунин И.М.      9241\n",
       "20 Пушкин А.С.       8346\n",
       "21 Козлов И.И.       8313\n",
       "22 Кашкин Д.Е.       7745\n",
       "23 Алексеев П.Ф.     7724\n",
       "24 Якубович Л.А.     7665\n",
       "25 Менцов Ф.Н.       7128\n",
       "26 Полежаев А.И.     6797\n",
       "27 Ершов П.П.        6216\n",
       "28 Кольцов А.В.      6085\n",
       "29 Глинка Ф.Н.       6080\n",
       "30 Соколовский В.И.  5924"
      ]
     },
     "metadata": {},
     "output_type": "display_data"
    },
    {
     "data": {
      "image/png": "[encoded data removed]",
      "text/plain": [
       "plot without title"
      ]
     },
     "metadata": {
      "image/png": {
       "height": 420,
       "width": 420
      }
     },
     "output_type": "display_data"
    }
   ],
   "source": [
    "corpus_1835 %>%\n",
    "  mutate(author = ifelse(author == \"\", author_sign, author)) %>% \n",
    "  filter(author != \"\") %>% \n",
    "  select(author, corpus, text_lemm) %>% \n",
    "  unnest_tokens(input = text_lemm, output = word, token = \"words\") %>%\n",
    "  count(author, sort = T) %>% \n",
    "  head(30)\n",
    "\n",
    "corpus_1835 %>%\n",
    "  mutate(author = ifelse(author == \"\", author_sign, author)) %>% \n",
    "  filter(author != \"\") %>% \n",
    "  select(author, corpus, text_lemm) %>% \n",
    "  unnest_tokens(input = text_lemm, output = word, token = \"words\") %>%\n",
    "  count(author, corpus, sort = T) %>% \n",
    "  ggplot(aes(x = reorder_within(author, -n, -n), y = n, fill = corpus)) + geom_col()"
   ]
  },
  {
   "cell_type": "markdown",
   "metadata": {},
   "source": [
    "## Genre labels"
   ]
  },
  {
   "cell_type": "code",
   "execution_count": 18,
   "metadata": {},
   "outputs": [
    {
     "data": {
      "text/html": [
       "<table class=\"dataframe\">\n",
       "<caption>A data.frame: 40 × 2</caption>\n",
       "<thead>\n",
       "\t<tr><th></th><th scope=col>word</th><th scope=col>n</th></tr>\n",
       "\t<tr><th></th><th scope=col>&lt;chr&gt;</th><th scope=col>&lt;int&gt;</th></tr>\n",
       "</thead>\n",
       "<tbody>\n",
       "\t<tr><th scope=row>1</th><td>песня       </td><td>118</td></tr>\n",
       "\t<tr><th scope=row>2</th><td>романс      </td><td> 62</td></tr>\n",
       "\t<tr><th scope=row>3</th><td>шарада      </td><td> 51</td></tr>\n",
       "\t<tr><th scope=row>4</th><td>песнь       </td><td> 48</td></tr>\n",
       "\t<tr><th scope=row>5</th><td>ночь        </td><td> 39</td></tr>\n",
       "\t<tr><th scope=row>6</th><td>элегия      </td><td> 39</td></tr>\n",
       "\t<tr><th scope=row>7</th><td>русская     </td><td> 35</td></tr>\n",
       "\t<tr><th scope=row>8</th><td>смерть      </td><td> 35</td></tr>\n",
       "\t<tr><th scope=row>9</th><td>поэт        </td><td> 33</td></tr>\n",
       "\t<tr><th scope=row>10</th><td>две         </td><td> 30</td></tr>\n",
       "\t<tr><th scope=row>11</th><td>омоним      </td><td> 30</td></tr>\n",
       "\t<tr><th scope=row>12</th><td>альбом      </td><td> 28</td></tr>\n",
       "\t<tr><th scope=row>13</th><td>воспоминание</td><td> 27</td></tr>\n",
       "\t<tr><th scope=row>14</th><td>поэту       </td><td> 25</td></tr>\n",
       "\t<tr><th scope=row>15</th><td>день        </td><td> 23</td></tr>\n",
       "\t<tr><th scope=row>16</th><td>молитва     </td><td> 23</td></tr>\n",
       "\t<tr><th scope=row>17</th><td>любовь      </td><td> 22</td></tr>\n",
       "\t<tr><th scope=row>18</th><td>года        </td><td> 21</td></tr>\n",
       "\t<tr><th scope=row>19</th><td>два         </td><td> 21</td></tr>\n",
       "\t<tr><th scope=row>20</th><td>поэта       </td><td> 20</td></tr>\n",
       "\t<tr><th scope=row>21</th><td>при         </td><td> 20</td></tr>\n",
       "\t<tr><th scope=row>22</th><td>сон         </td><td> 20</td></tr>\n",
       "\t<tr><th scope=row>23</th><td>отрывок     </td><td> 19</td></tr>\n",
       "\t<tr><th scope=row>24</th><td>роза        </td><td> 19</td></tr>\n",
       "\t<tr><th scope=row>25</th><td>другу       </td><td> 18</td></tr>\n",
       "\t<tr><th scope=row>26</th><td>могила      </td><td> 18</td></tr>\n",
       "\t<tr><th scope=row>27</th><td>море        </td><td> 18</td></tr>\n",
       "\t<tr><th scope=row>28</th><td>послание    </td><td> 18</td></tr>\n",
       "\t<tr><th scope=row>29</th><td>псалом      </td><td> 18</td></tr>\n",
       "\t<tr><th scope=row>30</th><td>жизнь       </td><td> 17</td></tr>\n",
       "\t<tr><th scope=row>31</th><td>моя         </td><td> 17</td></tr>\n",
       "\t<tr><th scope=row>32</th><td>год         </td><td> 16</td></tr>\n",
       "\t<tr><th scope=row>33</th><td>сонет       </td><td> 16</td></tr>\n",
       "\t<tr><th scope=row>34</th><td>стихи       </td><td> 16</td></tr>\n",
       "\t<tr><th scope=row>35</th><td>жизни       </td><td> 15</td></tr>\n",
       "\t<tr><th scope=row>36</th><td>звезда      </td><td> 15</td></tr>\n",
       "\t<tr><th scope=row>37</th><td>дума        </td><td> 14</td></tr>\n",
       "\t<tr><th scope=row>38</th><td>ответ       </td><td> 13</td></tr>\n",
       "\t<tr><th scope=row>39</th><td>певец       </td><td> 13</td></tr>\n",
       "\t<tr><th scope=row>40</th><td>письмо      </td><td> 13</td></tr>\n",
       "</tbody>\n",
       "</table>\n"
      ],
      "text/latex": [
       "A data.frame: 40 × 2\n",
       "\\begin{tabular}{r|ll}\n",
       "  & word & n\\\\\n",
       "  & <chr> & <int>\\\\\n",
       "\\hline\n",
       "\t1 & песня        & 118\\\\\n",
       "\t2 & романс       &  62\\\\\n",
       "\t3 & шарада       &  51\\\\\n",
       "\t4 & песнь        &  48\\\\\n",
       "\t5 & ночь         &  39\\\\\n",
       "\t6 & элегия       &  39\\\\\n",
       "\t7 & русская      &  35\\\\\n",
       "\t8 & смерть       &  35\\\\\n",
       "\t9 & поэт         &  33\\\\\n",
       "\t10 & две          &  30\\\\\n",
       "\t11 & омоним       &  30\\\\\n",
       "\t12 & альбом       &  28\\\\\n",
       "\t13 & воспоминание &  27\\\\\n",
       "\t14 & поэту        &  25\\\\\n",
       "\t15 & день         &  23\\\\\n",
       "\t16 & молитва      &  23\\\\\n",
       "\t17 & любовь       &  22\\\\\n",
       "\t18 & года         &  21\\\\\n",
       "\t19 & два          &  21\\\\\n",
       "\t20 & поэта        &  20\\\\\n",
       "\t21 & при          &  20\\\\\n",
       "\t22 & сон          &  20\\\\\n",
       "\t23 & отрывок      &  19\\\\\n",
       "\t24 & роза         &  19\\\\\n",
       "\t25 & другу        &  18\\\\\n",
       "\t26 & могила       &  18\\\\\n",
       "\t27 & море         &  18\\\\\n",
       "\t28 & послание     &  18\\\\\n",
       "\t29 & псалом       &  18\\\\\n",
       "\t30 & жизнь        &  17\\\\\n",
       "\t31 & моя          &  17\\\\\n",
       "\t32 & год          &  16\\\\\n",
       "\t33 & сонет        &  16\\\\\n",
       "\t34 & стихи        &  16\\\\\n",
       "\t35 & жизни        &  15\\\\\n",
       "\t36 & звезда       &  15\\\\\n",
       "\t37 & дума         &  14\\\\\n",
       "\t38 & ответ        &  13\\\\\n",
       "\t39 & певец        &  13\\\\\n",
       "\t40 & письмо       &  13\\\\\n",
       "\\end{tabular}\n"
      ],
      "text/markdown": [
       "\n",
       "A data.frame: 40 × 2\n",
       "\n",
       "| <!--/--> | word &lt;chr&gt; | n &lt;int&gt; |\n",
       "|---|---|---|\n",
       "| 1 | песня        | 118 |\n",
       "| 2 | романс       |  62 |\n",
       "| 3 | шарада       |  51 |\n",
       "| 4 | песнь        |  48 |\n",
       "| 5 | ночь         |  39 |\n",
       "| 6 | элегия       |  39 |\n",
       "| 7 | русская      |  35 |\n",
       "| 8 | смерть       |  35 |\n",
       "| 9 | поэт         |  33 |\n",
       "| 10 | две          |  30 |\n",
       "| 11 | омоним       |  30 |\n",
       "| 12 | альбом       |  28 |\n",
       "| 13 | воспоминание |  27 |\n",
       "| 14 | поэту        |  25 |\n",
       "| 15 | день         |  23 |\n",
       "| 16 | молитва      |  23 |\n",
       "| 17 | любовь       |  22 |\n",
       "| 18 | года         |  21 |\n",
       "| 19 | два          |  21 |\n",
       "| 20 | поэта        |  20 |\n",
       "| 21 | при          |  20 |\n",
       "| 22 | сон          |  20 |\n",
       "| 23 | отрывок      |  19 |\n",
       "| 24 | роза         |  19 |\n",
       "| 25 | другу        |  18 |\n",
       "| 26 | могила       |  18 |\n",
       "| 27 | море         |  18 |\n",
       "| 28 | послание     |  18 |\n",
       "| 29 | псалом       |  18 |\n",
       "| 30 | жизнь        |  17 |\n",
       "| 31 | моя          |  17 |\n",
       "| 32 | год          |  16 |\n",
       "| 33 | сонет        |  16 |\n",
       "| 34 | стихи        |  16 |\n",
       "| 35 | жизни        |  15 |\n",
       "| 36 | звезда       |  15 |\n",
       "| 37 | дума         |  14 |\n",
       "| 38 | ответ        |  13 |\n",
       "| 39 | певец        |  13 |\n",
       "| 40 | письмо       |  13 |\n",
       "\n"
      ],
      "text/plain": [
       "   word         n  \n",
       "1  песня        118\n",
       "2  романс        62\n",
       "3  шарада        51\n",
       "4  песнь         48\n",
       "5  ночь          39\n",
       "6  элегия        39\n",
       "7  русская       35\n",
       "8  смерть        35\n",
       "9  поэт          33\n",
       "10 две           30\n",
       "11 омоним        30\n",
       "12 альбом        28\n",
       "13 воспоминание  27\n",
       "14 поэту         25\n",
       "15 день          23\n",
       "16 молитва       23\n",
       "17 любовь        22\n",
       "18 года          21\n",
       "19 два           21\n",
       "20 поэта         20\n",
       "21 при           20\n",
       "22 сон           20\n",
       "23 отрывок       19\n",
       "24 роза          19\n",
       "25 другу         18\n",
       "26 могила        18\n",
       "27 море          18\n",
       "28 послание      18\n",
       "29 псалом        18\n",
       "30 жизнь         17\n",
       "31 моя           17\n",
       "32 год           16\n",
       "33 сонет         16\n",
       "34 стихи         16\n",
       "35 жизни         15\n",
       "36 звезда        15\n",
       "37 дума          14\n",
       "38 ответ         13\n",
       "39 певец         13\n",
       "40 письмо        13"
      ]
     },
     "metadata": {},
     "output_type": "display_data"
    },
    {
     "data": {
      "text/html": [
       "<table class=\"dataframe\">\n",
       "<caption>A data.frame: 30 × 2</caption>\n",
       "<thead>\n",
       "\t<tr><th></th><th scope=col>word</th><th scope=col>n</th></tr>\n",
       "\t<tr><th></th><th scope=col>&lt;chr&gt;</th><th scope=col>&lt;int&gt;</th></tr>\n",
       "</thead>\n",
       "<tbody>\n",
       "\t<tr><th scope=row>1</th><td>песни         </td><td>87</td></tr>\n",
       "\t<tr><th scope=row>2</th><td>басня         </td><td>54</td></tr>\n",
       "\t<tr><th scope=row>3</th><td>стихотворения </td><td>39</td></tr>\n",
       "\t<tr><th scope=row>4</th><td>баллада       </td><td>31</td></tr>\n",
       "\t<tr><th scope=row>5</th><td>три           </td><td>25</td></tr>\n",
       "\t<tr><th scope=row>6</th><td>подражание    </td><td>23</td></tr>\n",
       "\t<tr><th scope=row>7</th><td>гюго          </td><td>21</td></tr>\n",
       "\t<tr><th scope=row>8</th><td>сонет         </td><td>20</td></tr>\n",
       "\t<tr><th scope=row>9</th><td>гете          </td><td>18</td></tr>\n",
       "\t<tr><th scope=row>10</th><td>отрывок       </td><td>18</td></tr>\n",
       "\t<tr><th scope=row>11</th><td>поэмы         </td><td>18</td></tr>\n",
       "\t<tr><th scope=row>12</th><td>славянские    </td><td>18</td></tr>\n",
       "\t<tr><th scope=row>13</th><td>перевод       </td><td>17</td></tr>\n",
       "\t<tr><th scope=row>14</th><td>фантазии      </td><td>17</td></tr>\n",
       "\t<tr><th scope=row>15</th><td>антологические</td><td>16</td></tr>\n",
       "\t<tr><th scope=row>16</th><td>виктора       </td><td>16</td></tr>\n",
       "\t<tr><th scope=row>17</th><td>две           </td><td>16</td></tr>\n",
       "\t<tr><th scope=row>18</th><td>песнословия   </td><td>16</td></tr>\n",
       "\t<tr><th scope=row>19</th><td>западных      </td><td>15</td></tr>\n",
       "\t<tr><th scope=row>20</th><td>посвящается   </td><td>15</td></tr>\n",
       "\t<tr><th scope=row>21</th><td>славян        </td><td>15</td></tr>\n",
       "\t<tr><th scope=row>22</th><td>два           </td><td>14</td></tr>\n",
       "\t<tr><th scope=row>23</th><td>сонета        </td><td>14</td></tr>\n",
       "\t<tr><th scope=row>24</th><td>эпиграммы     </td><td>14</td></tr>\n",
       "\t<tr><th scope=row>25</th><td>вой           </td><td>13</td></tr>\n",
       "\t<tr><th scope=row>26</th><td>германии      </td><td>13</td></tr>\n",
       "\t<tr><th scope=row>27</th><td>присланные    </td><td>13</td></tr>\n",
       "\t<tr><th scope=row>28</th><td>басни         </td><td>12</td></tr>\n",
       "\t<tr><th scope=row>29</th><td>дума          </td><td>12</td></tr>\n",
       "\t<tr><th scope=row>30</th><td>канона        </td><td>12</td></tr>\n",
       "</tbody>\n",
       "</table>\n"
      ],
      "text/latex": [
       "A data.frame: 30 × 2\n",
       "\\begin{tabular}{r|ll}\n",
       "  & word & n\\\\\n",
       "  & <chr> & <int>\\\\\n",
       "\\hline\n",
       "\t1 & песни          & 87\\\\\n",
       "\t2 & басня          & 54\\\\\n",
       "\t3 & стихотворения  & 39\\\\\n",
       "\t4 & баллада        & 31\\\\\n",
       "\t5 & три            & 25\\\\\n",
       "\t6 & подражание     & 23\\\\\n",
       "\t7 & гюго           & 21\\\\\n",
       "\t8 & сонет          & 20\\\\\n",
       "\t9 & гете           & 18\\\\\n",
       "\t10 & отрывок        & 18\\\\\n",
       "\t11 & поэмы          & 18\\\\\n",
       "\t12 & славянские     & 18\\\\\n",
       "\t13 & перевод        & 17\\\\\n",
       "\t14 & фантазии       & 17\\\\\n",
       "\t15 & антологические & 16\\\\\n",
       "\t16 & виктора        & 16\\\\\n",
       "\t17 & две            & 16\\\\\n",
       "\t18 & песнословия    & 16\\\\\n",
       "\t19 & западных       & 15\\\\\n",
       "\t20 & посвящается    & 15\\\\\n",
       "\t21 & славян         & 15\\\\\n",
       "\t22 & два            & 14\\\\\n",
       "\t23 & сонета         & 14\\\\\n",
       "\t24 & эпиграммы      & 14\\\\\n",
       "\t25 & вой            & 13\\\\\n",
       "\t26 & германии       & 13\\\\\n",
       "\t27 & присланные     & 13\\\\\n",
       "\t28 & басни          & 12\\\\\n",
       "\t29 & дума           & 12\\\\\n",
       "\t30 & канона         & 12\\\\\n",
       "\\end{tabular}\n"
      ],
      "text/markdown": [
       "\n",
       "A data.frame: 30 × 2\n",
       "\n",
       "| <!--/--> | word &lt;chr&gt; | n &lt;int&gt; |\n",
       "|---|---|---|\n",
       "| 1 | песни          | 87 |\n",
       "| 2 | басня          | 54 |\n",
       "| 3 | стихотворения  | 39 |\n",
       "| 4 | баллада        | 31 |\n",
       "| 5 | три            | 25 |\n",
       "| 6 | подражание     | 23 |\n",
       "| 7 | гюго           | 21 |\n",
       "| 8 | сонет          | 20 |\n",
       "| 9 | гете           | 18 |\n",
       "| 10 | отрывок        | 18 |\n",
       "| 11 | поэмы          | 18 |\n",
       "| 12 | славянские     | 18 |\n",
       "| 13 | перевод        | 17 |\n",
       "| 14 | фантазии       | 17 |\n",
       "| 15 | антологические | 16 |\n",
       "| 16 | виктора        | 16 |\n",
       "| 17 | две            | 16 |\n",
       "| 18 | песнословия    | 16 |\n",
       "| 19 | западных       | 15 |\n",
       "| 20 | посвящается    | 15 |\n",
       "| 21 | славян         | 15 |\n",
       "| 22 | два            | 14 |\n",
       "| 23 | сонета         | 14 |\n",
       "| 24 | эпиграммы      | 14 |\n",
       "| 25 | вой            | 13 |\n",
       "| 26 | германии       | 13 |\n",
       "| 27 | присланные     | 13 |\n",
       "| 28 | басни          | 12 |\n",
       "| 29 | дума           | 12 |\n",
       "| 30 | канона         | 12 |\n",
       "\n"
      ],
      "text/plain": [
       "   word           n \n",
       "1  песни          87\n",
       "2  басня          54\n",
       "3  стихотворения  39\n",
       "4  баллада        31\n",
       "5  три            25\n",
       "6  подражание     23\n",
       "7  гюго           21\n",
       "8  сонет          20\n",
       "9  гете           18\n",
       "10 отрывок        18\n",
       "11 поэмы          18\n",
       "12 славянские     18\n",
       "13 перевод        17\n",
       "14 фантазии       17\n",
       "15 антологические 16\n",
       "16 виктора        16\n",
       "17 две            16\n",
       "18 песнословия    16\n",
       "19 западных       15\n",
       "20 посвящается    15\n",
       "21 славян         15\n",
       "22 два            14\n",
       "23 сонета         14\n",
       "24 эпиграммы      14\n",
       "25 вой            13\n",
       "26 германии       13\n",
       "27 присланные     13\n",
       "28 басни          12\n",
       "29 дума           12\n",
       "30 канона         12"
      ]
     },
     "metadata": {},
     "output_type": "display_data"
    }
   ],
   "source": [
    "corpus_1835 %>% \n",
    "    select(year, text_title)  %>% \n",
    "    unnest_tokens(input = text_title, output = word, token = \"words\") %>% \n",
    "    count(word, sort = T)  %>% \n",
    "    filter(nchar(word) > 2)  %>% \n",
    "    head(40)\n",
    "\n",
    "corpus_1835 %>% \n",
    "    select(year, subtitle)  %>% \n",
    "    unnest_tokens(input = subtitle, output = word, token = \"words\") %>% \n",
    "    count(word, sort = T)  %>% \n",
    "    filter(nchar(word) > 2)  %>% \n",
    "    head(30)"
   ]
  },
  {
   "cell_type": "code",
   "execution_count": 32,
   "metadata": {},
   "outputs": [
    {
     "data": {
      "image/png": "[encoded data removed]",
      "text/plain": [
       "plot without title"
      ]
     },
     "metadata": {
      "image/png": {
       "height": 420,
       "width": 420
      }
     },
     "output_type": "display_data"
    }
   ],
   "source": [
    "genre_words <- paste(c(\"песня\", \"романс\", \"шарада\", \"песнь\", \"элегия\", \"омоним\",\n",
    "                \"альбом\", \"послание\", \"псалом\", \"сонет\", \"дума\", \"песни\",\n",
    "                \"басня\", \"баллада\", \"подражание\", \"отрывок\", \"сонета\", \n",
    "                \"эпиграммы\", \"басни\"), collapse = \"|\")\n",
    "\n",
    "gt <- corpus_1835 %>% \n",
    "    #filter(corpus == \"per\") %>% \n",
    "    select(text_id, year, text_title, subtitle)  %>% \n",
    "    filter(str_detect(text_title, genre_words)|str_detect(subtitle, genre_words)) %>% \n",
    "    mutate(genre_title = 1)\n",
    "\n",
    "corpus_1835 %>% \n",
    "    #filter(corpus == \"per\") %>% \n",
    "    left_join(gt %>% select(text_id, genre_title), by = \"text_id\")  %>% \n",
    "    count(year, genre_title)  %>% \n",
    "    mutate(genre_title = ifelse(is.na(genre_title), 0, 1)) %>% \n",
    "    ggplot(aes(x = year, y = n, fill = as.factor(genre_title))) + geom_col(position = \"dodge\")"
   ]
  },
  {
   "cell_type": "markdown",
   "metadata": {},
   "source": [
    "## basic metrics"
   ]
  },
  {
   "cell_type": "code",
   "execution_count": 33,
   "metadata": {},
   "outputs": [
    {
     "name": "stdout",
     "output_type": "stream",
     "text": [
      "Rows: 4,149\n",
      "Columns: 19\n",
      "$ text_id        \u001b[3m\u001b[90m<chr>\u001b[39m\u001b[23m \"C_101__1\", \"C_101__2\", \"C_101__3\", \"C_101__4\", \"C_101_…\n",
      "$ corpus         \u001b[3m\u001b[90m<chr>\u001b[39m\u001b[23m \"cols\", \"cols\", \"cols\", \"cols\", \"cols\", \"cols\", \"cols\",…\n",
      "$ subcorpus      \u001b[3m\u001b[90m<chr>\u001b[39m\u001b[23m \"col_lyr\", \"col_lyr\", \"col_lyr\", \"col_lyr\", \"col_lyr\", …\n",
      "$ A_ID           \u001b[3m\u001b[90m<chr>\u001b[39m\u001b[23m \"A_22\", \"A_22\", \"A_22\", \"A_22\", \"A_22\", \"A_22\", \"A_22\",…\n",
      "$ author         \u001b[3m\u001b[90m<chr>\u001b[39m\u001b[23m \"Кашкин Д.Е.\", \"Кашкин Д.Е.\", \"Кашкин Д.Е.\", \"Кашкин Д.…\n",
      "$ author_sign    \u001b[3m\u001b[90m<chr>\u001b[39m\u001b[23m \"Кашкин Д.Е.\", \"Кашкин Д.Е.\", \"Кашкин Д.Е.\", \"Кашкин Д.…\n",
      "$ text_title     \u001b[3m\u001b[90m<chr>\u001b[39m\u001b[23m \"Романс\", \"Романс\", \"Романс\", \"Романс\", \"Романс\", \"Рома…\n",
      "$ first_line     \u001b[3m\u001b[90m<chr>\u001b[39m\u001b[23m \"В власти - ль смертного забыть,\", \"Время протекло прия…\n",
      "$ subtitle       \u001b[3m\u001b[90m<chr>\u001b[39m\u001b[23m \"\", \"\", \"\", \"\", \"\", \"\", \"\", \"\", \"\", \"\", \"\", \"\", \"\", \"\",…\n",
      "$ source         \u001b[3m\u001b[90m<chr>\u001b[39m\u001b[23m \"Кашкин Д.Е. Сочинения Дмитрия Кашкина: В 3 т. Т. 1. М.…\n",
      "$ year           \u001b[3m\u001b[90m<dbl>\u001b[39m\u001b[23m 1836, 1836, 1836, 1836, 1836, 1836, 1836, 1836, 1836, 1…\n",
      "$ text_raw       \u001b[3m\u001b[90m<chr>\u001b[39m\u001b[23m \"В власти - ль смертного забыть,\\nЧто ему всего дороже?…\n",
      "$ text_lemm      \u001b[3m\u001b[90m<chr>\u001b[39m\u001b[23m \"в власть - ль смертный забывать,\\nчто он все дорогой?\\…\n",
      "$ text_acc       \u001b[3m\u001b[90m<chr>\u001b[39m\u001b[23m \"В вла'сти - ль сме'ртного забы'ть,\\nЧто ему' всего' до…\n",
      "$ meter          \u001b[3m\u001b[90m<fct>\u001b[39m\u001b[23m Dactyl, Trochee, Iamb, Iamb, Iamb, Iamb, Iamb, Trochee,…\n",
      "$ feet           \u001b[3m\u001b[90m<chr>\u001b[39m\u001b[23m \"3\", \"4\", \"4\", \"4\", \"4\", \"4\", \"3\", \"4\", \"4\", \"3\", \"3\", …\n",
      "$ formula        \u001b[3m\u001b[90m<chr>\u001b[39m\u001b[23m \"Dactyl_3\", \"Trochee_4\", \"Iamb_4\", \"Iamb_4\", \"Iamb_4\", …\n",
      "$ stress_pattern \u001b[3m\u001b[90m<chr>\u001b[39m\u001b[23m \"1010001, 00101010, 0010101, 00001000, 1010001, 0000001…\n",
      "$ n_lines        \u001b[3m\u001b[90m<int>\u001b[39m\u001b[23m 30, 36, 36, 36, 28, 36, 36, 28, 24, 24, 32, 32, 32, 48,…\n"
     ]
    }
   ],
   "source": [
    "glimpse(corpus_1835)"
   ]
  },
  {
   "cell_type": "code",
   "execution_count": 40,
   "metadata": {},
   "outputs": [
    {
     "data": {
      "text/html": [
       "<table class=\"dataframe\">\n",
       "<caption>A data.frame: 6 × 4</caption>\n",
       "<thead>\n",
       "\t<tr><th scope=col>meter</th><th scope=col>n</th><th scope=col>total</th><th scope=col>perc</th></tr>\n",
       "\t<tr><th scope=col>&lt;fct&gt;</th><th scope=col>&lt;int&gt;</th><th scope=col>&lt;int&gt;</th><th scope=col>&lt;dbl&gt;</th></tr>\n",
       "</thead>\n",
       "<tbody>\n",
       "\t<tr><td>Iamb      </td><td>2618</td><td>4149</td><td>63.1</td></tr>\n",
       "\t<tr><td>Trochee   </td><td> 770</td><td>4149</td><td>18.6</td></tr>\n",
       "\t<tr><td>Amphibrach</td><td> 370</td><td>4149</td><td> 8.9</td></tr>\n",
       "\t<tr><td>Other?    </td><td> 185</td><td>4149</td><td> 4.5</td></tr>\n",
       "\t<tr><td>Anapest   </td><td> 129</td><td>4149</td><td> 3.1</td></tr>\n",
       "\t<tr><td>Dactyl    </td><td>  77</td><td>4149</td><td> 1.9</td></tr>\n",
       "</tbody>\n",
       "</table>\n"
      ],
      "text/latex": [
       "A data.frame: 6 × 4\n",
       "\\begin{tabular}{llll}\n",
       " meter & n & total & perc\\\\\n",
       " <fct> & <int> & <int> & <dbl>\\\\\n",
       "\\hline\n",
       "\t Iamb       & 2618 & 4149 & 63.1\\\\\n",
       "\t Trochee    &  770 & 4149 & 18.6\\\\\n",
       "\t Amphibrach &  370 & 4149 &  8.9\\\\\n",
       "\t Other?     &  185 & 4149 &  4.5\\\\\n",
       "\t Anapest    &  129 & 4149 &  3.1\\\\\n",
       "\t Dactyl     &   77 & 4149 &  1.9\\\\\n",
       "\\end{tabular}\n"
      ],
      "text/markdown": [
       "\n",
       "A data.frame: 6 × 4\n",
       "\n",
       "| meter &lt;fct&gt; | n &lt;int&gt; | total &lt;int&gt; | perc &lt;dbl&gt; |\n",
       "|---|---|---|---|\n",
       "| Iamb       | 2618 | 4149 | 63.1 |\n",
       "| Trochee    |  770 | 4149 | 18.6 |\n",
       "| Amphibrach |  370 | 4149 |  8.9 |\n",
       "| Other?     |  185 | 4149 |  4.5 |\n",
       "| Anapest    |  129 | 4149 |  3.1 |\n",
       "| Dactyl     |   77 | 4149 |  1.9 |\n",
       "\n"
      ],
      "text/plain": [
       "  meter      n    total perc\n",
       "1 Iamb       2618 4149  63.1\n",
       "2 Trochee     770 4149  18.6\n",
       "3 Amphibrach  370 4149   8.9\n",
       "4 Other?      185 4149   4.5\n",
       "5 Anapest     129 4149   3.1\n",
       "6 Dactyl       77 4149   1.9"
      ]
     },
     "metadata": {},
     "output_type": "display_data"
    }
   ],
   "source": [
    "corpus_1835 %>% \n",
    "    count(meter)  %>% \n",
    "    mutate(total = nrow(corpus_1835),\n",
    "          perc = round((n/total)*100, 1)\n",
    "          )  %>% \n",
    "    arrange(desc(perc))  "
   ]
  },
  {
   "cell_type": "code",
   "execution_count": 38,
   "metadata": {},
   "outputs": [
    {
     "data": {
      "text/plain": [
       "\n",
       "cols  per \n",
       "2335 1814 "
      ]
     },
     "metadata": {},
     "output_type": "display_data"
    },
    {
     "data": {
      "text/html": [
       "2335"
      ],
      "text/latex": [
       "2335"
      ],
      "text/markdown": [
       "2335"
      ],
      "text/plain": [
       "[1] 2335"
      ]
     },
     "metadata": {},
     "output_type": "display_data"
    },
    {
     "data": {
      "text/html": [
       "1814"
      ],
      "text/latex": [
       "1814"
      ],
      "text/markdown": [
       "1814"
      ],
      "text/plain": [
       "[1] 1814"
      ]
     },
     "metadata": {},
     "output_type": "display_data"
    },
    {
     "data": {
      "text/html": [
       "<table class=\"dataframe\">\n",
       "<caption>A data.frame: 12 × 5</caption>\n",
       "<thead>\n",
       "\t<tr><th scope=col>corpus</th><th scope=col>meter</th><th scope=col>n</th><th scope=col>total</th><th scope=col>perc</th></tr>\n",
       "\t<tr><th scope=col>&lt;chr&gt;</th><th scope=col>&lt;fct&gt;</th><th scope=col>&lt;int&gt;</th><th scope=col>&lt;int&gt;</th><th scope=col>&lt;dbl&gt;</th></tr>\n",
       "</thead>\n",
       "<tbody>\n",
       "\t<tr><td>per </td><td>Iamb      </td><td>1074</td><td>1814</td><td>59.2</td></tr>\n",
       "\t<tr><td>per </td><td>Trochee   </td><td> 363</td><td>1814</td><td>20.0</td></tr>\n",
       "\t<tr><td>per </td><td>Amphibrach</td><td> 184</td><td>1814</td><td>10.1</td></tr>\n",
       "\t<tr><td>per </td><td>Other?    </td><td> 100</td><td>1814</td><td> 5.5</td></tr>\n",
       "\t<tr><td>per </td><td>Anapest   </td><td>  62</td><td>1814</td><td> 3.4</td></tr>\n",
       "\t<tr><td>per </td><td>Dactyl    </td><td>  31</td><td>1814</td><td> 1.7</td></tr>\n",
       "\t<tr><td>cols</td><td>Iamb      </td><td>1544</td><td>2335</td><td>66.1</td></tr>\n",
       "\t<tr><td>cols</td><td>Trochee   </td><td> 407</td><td>2335</td><td>17.4</td></tr>\n",
       "\t<tr><td>cols</td><td>Amphibrach</td><td> 186</td><td>2335</td><td> 8.0</td></tr>\n",
       "\t<tr><td>cols</td><td>Other?    </td><td>  85</td><td>2335</td><td> 3.6</td></tr>\n",
       "\t<tr><td>cols</td><td>Anapest   </td><td>  67</td><td>2335</td><td> 2.9</td></tr>\n",
       "\t<tr><td>cols</td><td>Dactyl    </td><td>  46</td><td>2335</td><td> 2.0</td></tr>\n",
       "</tbody>\n",
       "</table>\n"
      ],
      "text/latex": [
       "A data.frame: 12 × 5\n",
       "\\begin{tabular}{lllll}\n",
       " corpus & meter & n & total & perc\\\\\n",
       " <chr> & <fct> & <int> & <int> & <dbl>\\\\\n",
       "\\hline\n",
       "\t per  & Iamb       & 1074 & 1814 & 59.2\\\\\n",
       "\t per  & Trochee    &  363 & 1814 & 20.0\\\\\n",
       "\t per  & Amphibrach &  184 & 1814 & 10.1\\\\\n",
       "\t per  & Other?     &  100 & 1814 &  5.5\\\\\n",
       "\t per  & Anapest    &   62 & 1814 &  3.4\\\\\n",
       "\t per  & Dactyl     &   31 & 1814 &  1.7\\\\\n",
       "\t cols & Iamb       & 1544 & 2335 & 66.1\\\\\n",
       "\t cols & Trochee    &  407 & 2335 & 17.4\\\\\n",
       "\t cols & Amphibrach &  186 & 2335 &  8.0\\\\\n",
       "\t cols & Other?     &   85 & 2335 &  3.6\\\\\n",
       "\t cols & Anapest    &   67 & 2335 &  2.9\\\\\n",
       "\t cols & Dactyl     &   46 & 2335 &  2.0\\\\\n",
       "\\end{tabular}\n"
      ],
      "text/markdown": [
       "\n",
       "A data.frame: 12 × 5\n",
       "\n",
       "| corpus &lt;chr&gt; | meter &lt;fct&gt; | n &lt;int&gt; | total &lt;int&gt; | perc &lt;dbl&gt; |\n",
       "|---|---|---|---|---|\n",
       "| per  | Iamb       | 1074 | 1814 | 59.2 |\n",
       "| per  | Trochee    |  363 | 1814 | 20.0 |\n",
       "| per  | Amphibrach |  184 | 1814 | 10.1 |\n",
       "| per  | Other?     |  100 | 1814 |  5.5 |\n",
       "| per  | Anapest    |   62 | 1814 |  3.4 |\n",
       "| per  | Dactyl     |   31 | 1814 |  1.7 |\n",
       "| cols | Iamb       | 1544 | 2335 | 66.1 |\n",
       "| cols | Trochee    |  407 | 2335 | 17.4 |\n",
       "| cols | Amphibrach |  186 | 2335 |  8.0 |\n",
       "| cols | Other?     |   85 | 2335 |  3.6 |\n",
       "| cols | Anapest    |   67 | 2335 |  2.9 |\n",
       "| cols | Dactyl     |   46 | 2335 |  2.0 |\n",
       "\n"
      ],
      "text/plain": [
       "   corpus meter      n    total perc\n",
       "1  per    Iamb       1074 1814  59.2\n",
       "2  per    Trochee     363 1814  20.0\n",
       "3  per    Amphibrach  184 1814  10.1\n",
       "4  per    Other?      100 1814   5.5\n",
       "5  per    Anapest      62 1814   3.4\n",
       "6  per    Dactyl       31 1814   1.7\n",
       "7  cols   Iamb       1544 2335  66.1\n",
       "8  cols   Trochee     407 2335  17.4\n",
       "9  cols   Amphibrach  186 2335   8.0\n",
       "10 cols   Other?       85 2335   3.6\n",
       "11 cols   Anapest      67 2335   2.9\n",
       "12 cols   Dactyl       46 2335   2.0"
      ]
     },
     "metadata": {},
     "output_type": "display_data"
    }
   ],
   "source": [
    "table(corpus_1835$corpus)\n",
    "table(corpus_1835$corpus)[[1]]\n",
    "table(corpus_1835$corpus)[[2]]\n",
    "\n",
    "corpus_1835 %>% \n",
    "    count(corpus, meter)  %>% \n",
    "    mutate(total = ifelse(corpus == \"cols\", \n",
    "                          table(corpus_1835$corpus)[[1]], \n",
    "                          table(corpus_1835$corpus)[[2]]),\n",
    "          perc = round((n/total)*100, 1)\n",
    "          )  %>% \n",
    "    arrange(desc(perc))  %>% \n",
    "    arrange(desc(corpus))"
   ]
  },
  {
   "cell_type": "markdown",
   "metadata": {},
   "source": [
    "#### formulas"
   ]
  },
  {
   "cell_type": "code",
   "execution_count": 52,
   "metadata": {},
   "outputs": [
    {
     "data": {
      "text/html": [
       "<table class=\"dataframe\">\n",
       "<caption>A data.frame: 42 × 4</caption>\n",
       "<thead>\n",
       "\t<tr><th scope=col>formula</th><th scope=col>n</th><th scope=col>total</th><th scope=col>perc</th></tr>\n",
       "\t<tr><th scope=col>&lt;chr&gt;</th><th scope=col>&lt;int&gt;</th><th scope=col>&lt;int&gt;</th><th scope=col>&lt;dbl&gt;</th></tr>\n",
       "</thead>\n",
       "<tbody>\n",
       "\t<tr><td>Iamb_4                     </td><td>1374</td><td>4149</td><td>33.1</td></tr>\n",
       "\t<tr><td>Iamb_other                 </td><td> 648</td><td>4149</td><td>15.6</td></tr>\n",
       "\t<tr><td>Trochee_4                  </td><td> 580</td><td>4149</td><td>14.0</td></tr>\n",
       "\t<tr><td>Iamb_6                     </td><td> 342</td><td>4149</td><td> 8.2</td></tr>\n",
       "\t<tr><td>Iamb_5                     </td><td> 200</td><td>4149</td><td> 4.8</td></tr>\n",
       "\t<tr><td>Other?_?                   </td><td> 185</td><td>4149</td><td> 4.5</td></tr>\n",
       "\t<tr><td>Amphibrach_4               </td><td> 170</td><td>4149</td><td> 4.1</td></tr>\n",
       "\t<tr><td>Amphibrach_other           </td><td> 129</td><td>4149</td><td> 3.1</td></tr>\n",
       "\t<tr><td>Trochee_other              </td><td> 110</td><td>4149</td><td> 2.7</td></tr>\n",
       "\t<tr><td>Iamb_3                     </td><td>  75</td><td>4149</td><td> 1.8</td></tr>\n",
       "\t<tr><td>Anapest_other              </td><td>  62</td><td>4149</td><td> 1.5</td></tr>\n",
       "\t<tr><td>Dactyl_other               </td><td>  37</td><td>4149</td><td> 0.9</td></tr>\n",
       "\t<tr><td>Anapest_2                  </td><td>  28</td><td>4149</td><td> 0.7</td></tr>\n",
       "\t<tr><td>Amphibrach_3               </td><td>  26</td><td>4149</td><td> 0.6</td></tr>\n",
       "\t<tr><td>Trochee_3                  </td><td>  23</td><td>4149</td><td> 0.6</td></tr>\n",
       "\t<tr><td>Amphibrach_2               </td><td>  21</td><td>4149</td><td> 0.5</td></tr>\n",
       "\t<tr><td>Trochee_5                  </td><td>  19</td><td>4149</td><td> 0.5</td></tr>\n",
       "\t<tr><td>Dactyl_3                   </td><td>  18</td><td>4149</td><td> 0.4</td></tr>\n",
       "\t<tr><td>Anapest_3                  </td><td>  12</td><td>4149</td><td> 0.3</td></tr>\n",
       "\t<tr><td>Trochee_6                  </td><td>  11</td><td>4149</td><td> 0.3</td></tr>\n",
       "\t<tr><td>Amphibrach_1.33333333333333</td><td>   9</td><td>4149</td><td> 0.2</td></tr>\n",
       "\t<tr><td>Anapest_4                  </td><td>   9</td><td>4149</td><td> 0.2</td></tr>\n",
       "\t<tr><td>Dactyl_4                   </td><td>   9</td><td>4149</td><td> 0.2</td></tr>\n",
       "\t<tr><td>Amphibrach_2.33333333333333</td><td>   4</td><td>4149</td><td> 0.1</td></tr>\n",
       "\t<tr><td>Amphibrach_5               </td><td>   5</td><td>4149</td><td> 0.1</td></tr>\n",
       "\t<tr><td>Amphibrach_6               </td><td>   3</td><td>4149</td><td> 0.1</td></tr>\n",
       "\t<tr><td>Anapest_1                  </td><td>   3</td><td>4149</td><td> 0.1</td></tr>\n",
       "\t<tr><td>Anapest_3.66666666666667   </td><td>   6</td><td>4149</td><td> 0.1</td></tr>\n",
       "\t<tr><td>Anapest_5.33333333333333   </td><td>   4</td><td>4149</td><td> 0.1</td></tr>\n",
       "\t<tr><td>Dactyl_2                   </td><td>   4</td><td>4149</td><td> 0.1</td></tr>\n",
       "\t<tr><td>Dactyl_3.66666666666667    </td><td>   3</td><td>4149</td><td> 0.1</td></tr>\n",
       "\t<tr><td>Dactyl_6                   </td><td>   4</td><td>4149</td><td> 0.1</td></tr>\n",
       "\t<tr><td>Iamb_2                     </td><td>   5</td><td>4149</td><td> 0.1</td></tr>\n",
       "\t<tr><td>Amphibrach_2.66666666666667</td><td>   1</td><td>4149</td><td> 0.0</td></tr>\n",
       "\t<tr><td>Amphibrach_3.33333333333333</td><td>   1</td><td>4149</td><td> 0.0</td></tr>\n",
       "\t<tr><td>Amphibrach_4.66666666666667</td><td>   1</td><td>4149</td><td> 0.0</td></tr>\n",
       "\t<tr><td>Anapest_2.33333333333333   </td><td>   2</td><td>4149</td><td> 0.0</td></tr>\n",
       "\t<tr><td>Anapest_5                  </td><td>   2</td><td>4149</td><td> 0.0</td></tr>\n",
       "\t<tr><td>Anapest_5.66666666666667   </td><td>   1</td><td>4149</td><td> 0.0</td></tr>\n",
       "\t<tr><td>Dactyl_5                   </td><td>   1</td><td>4149</td><td> 0.0</td></tr>\n",
       "\t<tr><td>Dactyl_5.33333333333333    </td><td>   1</td><td>4149</td><td> 0.0</td></tr>\n",
       "\t<tr><td>Iamb_1                     </td><td>   1</td><td>4149</td><td> 0.0</td></tr>\n",
       "</tbody>\n",
       "</table>\n"
      ],
      "text/latex": [
       "A data.frame: 42 × 4\n",
       "\\begin{tabular}{llll}\n",
       " formula & n & total & perc\\\\\n",
       " <chr> & <int> & <int> & <dbl>\\\\\n",
       "\\hline\n",
       "\t Iamb\\_4                      & 1374 & 4149 & 33.1\\\\\n",
       "\t Iamb\\_other                  &  648 & 4149 & 15.6\\\\\n",
       "\t Trochee\\_4                   &  580 & 4149 & 14.0\\\\\n",
       "\t Iamb\\_6                      &  342 & 4149 &  8.2\\\\\n",
       "\t Iamb\\_5                      &  200 & 4149 &  4.8\\\\\n",
       "\t Other?\\_?                    &  185 & 4149 &  4.5\\\\\n",
       "\t Amphibrach\\_4                &  170 & 4149 &  4.1\\\\\n",
       "\t Amphibrach\\_other            &  129 & 4149 &  3.1\\\\\n",
       "\t Trochee\\_other               &  110 & 4149 &  2.7\\\\\n",
       "\t Iamb\\_3                      &   75 & 4149 &  1.8\\\\\n",
       "\t Anapest\\_other               &   62 & 4149 &  1.5\\\\\n",
       "\t Dactyl\\_other                &   37 & 4149 &  0.9\\\\\n",
       "\t Anapest\\_2                   &   28 & 4149 &  0.7\\\\\n",
       "\t Amphibrach\\_3                &   26 & 4149 &  0.6\\\\\n",
       "\t Trochee\\_3                   &   23 & 4149 &  0.6\\\\\n",
       "\t Amphibrach\\_2                &   21 & 4149 &  0.5\\\\\n",
       "\t Trochee\\_5                   &   19 & 4149 &  0.5\\\\\n",
       "\t Dactyl\\_3                    &   18 & 4149 &  0.4\\\\\n",
       "\t Anapest\\_3                   &   12 & 4149 &  0.3\\\\\n",
       "\t Trochee\\_6                   &   11 & 4149 &  0.3\\\\\n",
       "\t Amphibrach\\_1.33333333333333 &    9 & 4149 &  0.2\\\\\n",
       "\t Anapest\\_4                   &    9 & 4149 &  0.2\\\\\n",
       "\t Dactyl\\_4                    &    9 & 4149 &  0.2\\\\\n",
       "\t Amphibrach\\_2.33333333333333 &    4 & 4149 &  0.1\\\\\n",
       "\t Amphibrach\\_5                &    5 & 4149 &  0.1\\\\\n",
       "\t Amphibrach\\_6                &    3 & 4149 &  0.1\\\\\n",
       "\t Anapest\\_1                   &    3 & 4149 &  0.1\\\\\n",
       "\t Anapest\\_3.66666666666667    &    6 & 4149 &  0.1\\\\\n",
       "\t Anapest\\_5.33333333333333    &    4 & 4149 &  0.1\\\\\n",
       "\t Dactyl\\_2                    &    4 & 4149 &  0.1\\\\\n",
       "\t Dactyl\\_3.66666666666667     &    3 & 4149 &  0.1\\\\\n",
       "\t Dactyl\\_6                    &    4 & 4149 &  0.1\\\\\n",
       "\t Iamb\\_2                      &    5 & 4149 &  0.1\\\\\n",
       "\t Amphibrach\\_2.66666666666667 &    1 & 4149 &  0.0\\\\\n",
       "\t Amphibrach\\_3.33333333333333 &    1 & 4149 &  0.0\\\\\n",
       "\t Amphibrach\\_4.66666666666667 &    1 & 4149 &  0.0\\\\\n",
       "\t Anapest\\_2.33333333333333    &    2 & 4149 &  0.0\\\\\n",
       "\t Anapest\\_5                   &    2 & 4149 &  0.0\\\\\n",
       "\t Anapest\\_5.66666666666667    &    1 & 4149 &  0.0\\\\\n",
       "\t Dactyl\\_5                    &    1 & 4149 &  0.0\\\\\n",
       "\t Dactyl\\_5.33333333333333     &    1 & 4149 &  0.0\\\\\n",
       "\t Iamb\\_1                      &    1 & 4149 &  0.0\\\\\n",
       "\\end{tabular}\n"
      ],
      "text/markdown": [
       "\n",
       "A data.frame: 42 × 4\n",
       "\n",
       "| formula &lt;chr&gt; | n &lt;int&gt; | total &lt;int&gt; | perc &lt;dbl&gt; |\n",
       "|---|---|---|---|\n",
       "| Iamb_4                      | 1374 | 4149 | 33.1 |\n",
       "| Iamb_other                  |  648 | 4149 | 15.6 |\n",
       "| Trochee_4                   |  580 | 4149 | 14.0 |\n",
       "| Iamb_6                      |  342 | 4149 |  8.2 |\n",
       "| Iamb_5                      |  200 | 4149 |  4.8 |\n",
       "| Other?_?                    |  185 | 4149 |  4.5 |\n",
       "| Amphibrach_4                |  170 | 4149 |  4.1 |\n",
       "| Amphibrach_other            |  129 | 4149 |  3.1 |\n",
       "| Trochee_other               |  110 | 4149 |  2.7 |\n",
       "| Iamb_3                      |   75 | 4149 |  1.8 |\n",
       "| Anapest_other               |   62 | 4149 |  1.5 |\n",
       "| Dactyl_other                |   37 | 4149 |  0.9 |\n",
       "| Anapest_2                   |   28 | 4149 |  0.7 |\n",
       "| Amphibrach_3                |   26 | 4149 |  0.6 |\n",
       "| Trochee_3                   |   23 | 4149 |  0.6 |\n",
       "| Amphibrach_2                |   21 | 4149 |  0.5 |\n",
       "| Trochee_5                   |   19 | 4149 |  0.5 |\n",
       "| Dactyl_3                    |   18 | 4149 |  0.4 |\n",
       "| Anapest_3                   |   12 | 4149 |  0.3 |\n",
       "| Trochee_6                   |   11 | 4149 |  0.3 |\n",
       "| Amphibrach_1.33333333333333 |    9 | 4149 |  0.2 |\n",
       "| Anapest_4                   |    9 | 4149 |  0.2 |\n",
       "| Dactyl_4                    |    9 | 4149 |  0.2 |\n",
       "| Amphibrach_2.33333333333333 |    4 | 4149 |  0.1 |\n",
       "| Amphibrach_5                |    5 | 4149 |  0.1 |\n",
       "| Amphibrach_6                |    3 | 4149 |  0.1 |\n",
       "| Anapest_1                   |    3 | 4149 |  0.1 |\n",
       "| Anapest_3.66666666666667    |    6 | 4149 |  0.1 |\n",
       "| Anapest_5.33333333333333    |    4 | 4149 |  0.1 |\n",
       "| Dactyl_2                    |    4 | 4149 |  0.1 |\n",
       "| Dactyl_3.66666666666667     |    3 | 4149 |  0.1 |\n",
       "| Dactyl_6                    |    4 | 4149 |  0.1 |\n",
       "| Iamb_2                      |    5 | 4149 |  0.1 |\n",
       "| Amphibrach_2.66666666666667 |    1 | 4149 |  0.0 |\n",
       "| Amphibrach_3.33333333333333 |    1 | 4149 |  0.0 |\n",
       "| Amphibrach_4.66666666666667 |    1 | 4149 |  0.0 |\n",
       "| Anapest_2.33333333333333    |    2 | 4149 |  0.0 |\n",
       "| Anapest_5                   |    2 | 4149 |  0.0 |\n",
       "| Anapest_5.66666666666667    |    1 | 4149 |  0.0 |\n",
       "| Dactyl_5                    |    1 | 4149 |  0.0 |\n",
       "| Dactyl_5.33333333333333     |    1 | 4149 |  0.0 |\n",
       "| Iamb_1                      |    1 | 4149 |  0.0 |\n",
       "\n"
      ],
      "text/plain": [
       "   formula                     n    total perc\n",
       "1  Iamb_4                      1374 4149  33.1\n",
       "2  Iamb_other                   648 4149  15.6\n",
       "3  Trochee_4                    580 4149  14.0\n",
       "4  Iamb_6                       342 4149   8.2\n",
       "5  Iamb_5                       200 4149   4.8\n",
       "6  Other?_?                     185 4149   4.5\n",
       "7  Amphibrach_4                 170 4149   4.1\n",
       "8  Amphibrach_other             129 4149   3.1\n",
       "9  Trochee_other                110 4149   2.7\n",
       "10 Iamb_3                        75 4149   1.8\n",
       "11 Anapest_other                 62 4149   1.5\n",
       "12 Dactyl_other                  37 4149   0.9\n",
       "13 Anapest_2                     28 4149   0.7\n",
       "14 Amphibrach_3                  26 4149   0.6\n",
       "15 Trochee_3                     23 4149   0.6\n",
       "16 Amphibrach_2                  21 4149   0.5\n",
       "17 Trochee_5                     19 4149   0.5\n",
       "18 Dactyl_3                      18 4149   0.4\n",
       "19 Anapest_3                     12 4149   0.3\n",
       "20 Trochee_6                     11 4149   0.3\n",
       "21 Amphibrach_1.33333333333333    9 4149   0.2\n",
       "22 Anapest_4                      9 4149   0.2\n",
       "23 Dactyl_4                       9 4149   0.2\n",
       "24 Amphibrach_2.33333333333333    4 4149   0.1\n",
       "25 Amphibrach_5                   5 4149   0.1\n",
       "26 Amphibrach_6                   3 4149   0.1\n",
       "27 Anapest_1                      3 4149   0.1\n",
       "28 Anapest_3.66666666666667       6 4149   0.1\n",
       "29 Anapest_5.33333333333333       4 4149   0.1\n",
       "30 Dactyl_2                       4 4149   0.1\n",
       "31 Dactyl_3.66666666666667        3 4149   0.1\n",
       "32 Dactyl_6                       4 4149   0.1\n",
       "33 Iamb_2                         5 4149   0.1\n",
       "34 Amphibrach_2.66666666666667    1 4149   0.0\n",
       "35 Amphibrach_3.33333333333333    1 4149   0.0\n",
       "36 Amphibrach_4.66666666666667    1 4149   0.0\n",
       "37 Anapest_2.33333333333333       2 4149   0.0\n",
       "38 Anapest_5                      2 4149   0.0\n",
       "39 Anapest_5.66666666666667       1 4149   0.0\n",
       "40 Dactyl_5                       1 4149   0.0\n",
       "41 Dactyl_5.33333333333333        1 4149   0.0\n",
       "42 Iamb_1                         1 4149   0.0"
      ]
     },
     "metadata": {},
     "output_type": "display_data"
    }
   ],
   "source": [
    "corpus_1835  %>% \n",
    "    count(formula)  %>% \n",
    "    mutate(total = nrow(corpus_1835),\n",
    "          perc = round((n/total)*100, 1)\n",
    "          )  %>% \n",
    "    arrange(desc(perc)) #%>% head(10)"
   ]
  },
  {
   "cell_type": "code",
   "execution_count": 56,
   "metadata": {},
   "outputs": [
    {
     "data": {
      "text/html": [
       "<table class=\"dataframe\">\n",
       "<caption>A grouped_df: 32 × 5</caption>\n",
       "<thead>\n",
       "\t<tr><th scope=col>corpus</th><th scope=col>formula</th><th scope=col>n</th><th scope=col>total</th><th scope=col>perc</th></tr>\n",
       "\t<tr><th scope=col>&lt;chr&gt;</th><th scope=col>&lt;chr&gt;</th><th scope=col>&lt;int&gt;</th><th scope=col>&lt;int&gt;</th><th scope=col>&lt;dbl&gt;</th></tr>\n",
       "</thead>\n",
       "<tbody>\n",
       "\t<tr><td>cols</td><td>Iamb_4          </td><td>851</td><td>2335</td><td>36.4</td></tr>\n",
       "\t<tr><td>cols</td><td>Iamb_other      </td><td>351</td><td>2335</td><td>15.0</td></tr>\n",
       "\t<tr><td>cols</td><td>Trochee_4       </td><td>311</td><td>2335</td><td>13.3</td></tr>\n",
       "\t<tr><td>cols</td><td>Iamb_6          </td><td>196</td><td>2335</td><td> 8.4</td></tr>\n",
       "\t<tr><td>cols</td><td>Iamb_5          </td><td> 98</td><td>2335</td><td> 4.2</td></tr>\n",
       "\t<tr><td>cols</td><td>Other?_?        </td><td> 85</td><td>2335</td><td> 3.6</td></tr>\n",
       "\t<tr><td>cols</td><td>Amphibrach_4    </td><td> 82</td><td>2335</td><td> 3.5</td></tr>\n",
       "\t<tr><td>cols</td><td>Iamb_3          </td><td> 62</td><td>2335</td><td> 2.7</td></tr>\n",
       "\t<tr><td>cols</td><td>Amphibrach_other</td><td> 60</td><td>2335</td><td> 2.6</td></tr>\n",
       "\t<tr><td>cols</td><td>Trochee_other   </td><td> 52</td><td>2335</td><td> 2.2</td></tr>\n",
       "\t<tr><td>cols</td><td>Anapest_other   </td><td> 34</td><td>2335</td><td> 1.5</td></tr>\n",
       "\t<tr><td>cols</td><td>Dactyl_other    </td><td> 19</td><td>2335</td><td> 0.8</td></tr>\n",
       "\t<tr><td>cols</td><td>Amphibrach_2    </td><td> 16</td><td>2335</td><td> 0.7</td></tr>\n",
       "\t<tr><td>cols</td><td>Amphibrach_3    </td><td> 16</td><td>2335</td><td> 0.7</td></tr>\n",
       "\t<tr><td>cols</td><td>Anapest_2       </td><td> 13</td><td>2335</td><td> 0.6</td></tr>\n",
       "\t<tr><td>cols</td><td>Dactyl_3        </td><td> 13</td><td>2335</td><td> 0.6</td></tr>\n",
       "\t<tr><td>per </td><td>Iamb_4          </td><td>523</td><td>1814</td><td>28.8</td></tr>\n",
       "\t<tr><td>per </td><td>Iamb_other      </td><td>297</td><td>1814</td><td>16.4</td></tr>\n",
       "\t<tr><td>per </td><td>Trochee_4       </td><td>269</td><td>1814</td><td>14.8</td></tr>\n",
       "\t<tr><td>per </td><td>Iamb_6          </td><td>146</td><td>1814</td><td> 8.0</td></tr>\n",
       "\t<tr><td>per </td><td>Iamb_5          </td><td>102</td><td>1814</td><td> 5.6</td></tr>\n",
       "\t<tr><td>per </td><td>Other?_?        </td><td>100</td><td>1814</td><td> 5.5</td></tr>\n",
       "\t<tr><td>per </td><td>Amphibrach_4    </td><td> 88</td><td>1814</td><td> 4.9</td></tr>\n",
       "\t<tr><td>per </td><td>Amphibrach_other</td><td> 69</td><td>1814</td><td> 3.8</td></tr>\n",
       "\t<tr><td>per </td><td>Trochee_other   </td><td> 58</td><td>1814</td><td> 3.2</td></tr>\n",
       "\t<tr><td>per </td><td>Anapest_other   </td><td> 28</td><td>1814</td><td> 1.5</td></tr>\n",
       "\t<tr><td>per </td><td>Dactyl_other    </td><td> 18</td><td>1814</td><td> 1.0</td></tr>\n",
       "\t<tr><td>per </td><td>Anapest_2       </td><td> 15</td><td>1814</td><td> 0.8</td></tr>\n",
       "\t<tr><td>per </td><td>Iamb_3          </td><td> 13</td><td>1814</td><td> 0.7</td></tr>\n",
       "\t<tr><td>per </td><td>Trochee_5       </td><td> 12</td><td>1814</td><td> 0.7</td></tr>\n",
       "\t<tr><td>per </td><td>Amphibrach_3    </td><td> 10</td><td>1814</td><td> 0.6</td></tr>\n",
       "\t<tr><td>per </td><td>Trochee_3       </td><td> 11</td><td>1814</td><td> 0.6</td></tr>\n",
       "</tbody>\n",
       "</table>\n"
      ],
      "text/latex": [
       "A grouped\\_df: 32 × 5\n",
       "\\begin{tabular}{lllll}\n",
       " corpus & formula & n & total & perc\\\\\n",
       " <chr> & <chr> & <int> & <int> & <dbl>\\\\\n",
       "\\hline\n",
       "\t cols & Iamb\\_4           & 851 & 2335 & 36.4\\\\\n",
       "\t cols & Iamb\\_other       & 351 & 2335 & 15.0\\\\\n",
       "\t cols & Trochee\\_4        & 311 & 2335 & 13.3\\\\\n",
       "\t cols & Iamb\\_6           & 196 & 2335 &  8.4\\\\\n",
       "\t cols & Iamb\\_5           &  98 & 2335 &  4.2\\\\\n",
       "\t cols & Other?\\_?         &  85 & 2335 &  3.6\\\\\n",
       "\t cols & Amphibrach\\_4     &  82 & 2335 &  3.5\\\\\n",
       "\t cols & Iamb\\_3           &  62 & 2335 &  2.7\\\\\n",
       "\t cols & Amphibrach\\_other &  60 & 2335 &  2.6\\\\\n",
       "\t cols & Trochee\\_other    &  52 & 2335 &  2.2\\\\\n",
       "\t cols & Anapest\\_other    &  34 & 2335 &  1.5\\\\\n",
       "\t cols & Dactyl\\_other     &  19 & 2335 &  0.8\\\\\n",
       "\t cols & Amphibrach\\_2     &  16 & 2335 &  0.7\\\\\n",
       "\t cols & Amphibrach\\_3     &  16 & 2335 &  0.7\\\\\n",
       "\t cols & Anapest\\_2        &  13 & 2335 &  0.6\\\\\n",
       "\t cols & Dactyl\\_3         &  13 & 2335 &  0.6\\\\\n",
       "\t per  & Iamb\\_4           & 523 & 1814 & 28.8\\\\\n",
       "\t per  & Iamb\\_other       & 297 & 1814 & 16.4\\\\\n",
       "\t per  & Trochee\\_4        & 269 & 1814 & 14.8\\\\\n",
       "\t per  & Iamb\\_6           & 146 & 1814 &  8.0\\\\\n",
       "\t per  & Iamb\\_5           & 102 & 1814 &  5.6\\\\\n",
       "\t per  & Other?\\_?         & 100 & 1814 &  5.5\\\\\n",
       "\t per  & Amphibrach\\_4     &  88 & 1814 &  4.9\\\\\n",
       "\t per  & Amphibrach\\_other &  69 & 1814 &  3.8\\\\\n",
       "\t per  & Trochee\\_other    &  58 & 1814 &  3.2\\\\\n",
       "\t per  & Anapest\\_other    &  28 & 1814 &  1.5\\\\\n",
       "\t per  & Dactyl\\_other     &  18 & 1814 &  1.0\\\\\n",
       "\t per  & Anapest\\_2        &  15 & 1814 &  0.8\\\\\n",
       "\t per  & Iamb\\_3           &  13 & 1814 &  0.7\\\\\n",
       "\t per  & Trochee\\_5        &  12 & 1814 &  0.7\\\\\n",
       "\t per  & Amphibrach\\_3     &  10 & 1814 &  0.6\\\\\n",
       "\t per  & Trochee\\_3        &  11 & 1814 &  0.6\\\\\n",
       "\\end{tabular}\n"
      ],
      "text/markdown": [
       "\n",
       "A grouped_df: 32 × 5\n",
       "\n",
       "| corpus &lt;chr&gt; | formula &lt;chr&gt; | n &lt;int&gt; | total &lt;int&gt; | perc &lt;dbl&gt; |\n",
       "|---|---|---|---|---|\n",
       "| cols | Iamb_4           | 851 | 2335 | 36.4 |\n",
       "| cols | Iamb_other       | 351 | 2335 | 15.0 |\n",
       "| cols | Trochee_4        | 311 | 2335 | 13.3 |\n",
       "| cols | Iamb_6           | 196 | 2335 |  8.4 |\n",
       "| cols | Iamb_5           |  98 | 2335 |  4.2 |\n",
       "| cols | Other?_?         |  85 | 2335 |  3.6 |\n",
       "| cols | Amphibrach_4     |  82 | 2335 |  3.5 |\n",
       "| cols | Iamb_3           |  62 | 2335 |  2.7 |\n",
       "| cols | Amphibrach_other |  60 | 2335 |  2.6 |\n",
       "| cols | Trochee_other    |  52 | 2335 |  2.2 |\n",
       "| cols | Anapest_other    |  34 | 2335 |  1.5 |\n",
       "| cols | Dactyl_other     |  19 | 2335 |  0.8 |\n",
       "| cols | Amphibrach_2     |  16 | 2335 |  0.7 |\n",
       "| cols | Amphibrach_3     |  16 | 2335 |  0.7 |\n",
       "| cols | Anapest_2        |  13 | 2335 |  0.6 |\n",
       "| cols | Dactyl_3         |  13 | 2335 |  0.6 |\n",
       "| per  | Iamb_4           | 523 | 1814 | 28.8 |\n",
       "| per  | Iamb_other       | 297 | 1814 | 16.4 |\n",
       "| per  | Trochee_4        | 269 | 1814 | 14.8 |\n",
       "| per  | Iamb_6           | 146 | 1814 |  8.0 |\n",
       "| per  | Iamb_5           | 102 | 1814 |  5.6 |\n",
       "| per  | Other?_?         | 100 | 1814 |  5.5 |\n",
       "| per  | Amphibrach_4     |  88 | 1814 |  4.9 |\n",
       "| per  | Amphibrach_other |  69 | 1814 |  3.8 |\n",
       "| per  | Trochee_other    |  58 | 1814 |  3.2 |\n",
       "| per  | Anapest_other    |  28 | 1814 |  1.5 |\n",
       "| per  | Dactyl_other     |  18 | 1814 |  1.0 |\n",
       "| per  | Anapest_2        |  15 | 1814 |  0.8 |\n",
       "| per  | Iamb_3           |  13 | 1814 |  0.7 |\n",
       "| per  | Trochee_5        |  12 | 1814 |  0.7 |\n",
       "| per  | Amphibrach_3     |  10 | 1814 |  0.6 |\n",
       "| per  | Trochee_3        |  11 | 1814 |  0.6 |\n",
       "\n"
      ],
      "text/plain": [
       "   corpus formula          n   total perc\n",
       "1  cols   Iamb_4           851 2335  36.4\n",
       "2  cols   Iamb_other       351 2335  15.0\n",
       "3  cols   Trochee_4        311 2335  13.3\n",
       "4  cols   Iamb_6           196 2335   8.4\n",
       "5  cols   Iamb_5            98 2335   4.2\n",
       "6  cols   Other?_?          85 2335   3.6\n",
       "7  cols   Amphibrach_4      82 2335   3.5\n",
       "8  cols   Iamb_3            62 2335   2.7\n",
       "9  cols   Amphibrach_other  60 2335   2.6\n",
       "10 cols   Trochee_other     52 2335   2.2\n",
       "11 cols   Anapest_other     34 2335   1.5\n",
       "12 cols   Dactyl_other      19 2335   0.8\n",
       "13 cols   Amphibrach_2      16 2335   0.7\n",
       "14 cols   Amphibrach_3      16 2335   0.7\n",
       "15 cols   Anapest_2         13 2335   0.6\n",
       "16 cols   Dactyl_3          13 2335   0.6\n",
       "17 per    Iamb_4           523 1814  28.8\n",
       "18 per    Iamb_other       297 1814  16.4\n",
       "19 per    Trochee_4        269 1814  14.8\n",
       "20 per    Iamb_6           146 1814   8.0\n",
       "21 per    Iamb_5           102 1814   5.6\n",
       "22 per    Other?_?         100 1814   5.5\n",
       "23 per    Amphibrach_4      88 1814   4.9\n",
       "24 per    Amphibrach_other  69 1814   3.8\n",
       "25 per    Trochee_other     58 1814   3.2\n",
       "26 per    Anapest_other     28 1814   1.5\n",
       "27 per    Dactyl_other      18 1814   1.0\n",
       "28 per    Anapest_2         15 1814   0.8\n",
       "29 per    Iamb_3            13 1814   0.7\n",
       "30 per    Trochee_5         12 1814   0.7\n",
       "31 per    Amphibrach_3      10 1814   0.6\n",
       "32 per    Trochee_3         11 1814   0.6"
      ]
     },
     "metadata": {},
     "output_type": "display_data"
    }
   ],
   "source": [
    "corpus_1835 %>% \n",
    "    count(corpus, formula)  %>% \n",
    "    mutate(total = ifelse(corpus == \"cols\", \n",
    "                          table(corpus_1835$corpus)[[1]], \n",
    "                          table(corpus_1835$corpus)[[2]]),\n",
    "          perc = round((n/total)*100, 1)\n",
    "          )  %>% \n",
    "    arrange(desc(perc))  %>% \n",
    "    arrange(desc(corpus))  %>% \n",
    "    group_by(corpus)  %>% \n",
    "    slice_max(n = 15, order_by = perc)"
   ]
  },
  {
   "cell_type": "code",
   "execution_count": null,
   "metadata": {},
   "outputs": [],
   "source": []
  },
  {
   "cell_type": "code",
   "execution_count": null,
   "metadata": {},
   "outputs": [],
   "source": []
  },
  {
   "cell_type": "markdown",
   "metadata": {},
   "source": [
    "### rnc"
   ]
  },
  {
   "cell_type": "code",
   "execution_count": 43,
   "metadata": {},
   "outputs": [
    {
     "name": "stdout",
     "output_type": "stream",
     "text": [
      "Rows: 15,569\n",
      "Columns: 41\n",
      "$ Unnamed..0          \u001b[3m\u001b[90m<int>\u001b[39m\u001b[23m 1, 2, 3, 4, 5, 6, 7, 8, 9, 10, 11, 12, 13, 14, 15,…\n",
      "$ path                \u001b[3m\u001b[90m<chr>\u001b[39m\u001b[23m \"xix/1790-1810_poets/poets-001\", \"xix/1790-1810_po…\n",
      "$ author              \u001b[3m\u001b[90m<chr>\u001b[39m\u001b[23m \"С. С. Бобров\", \"С. С. Бобров\", \"С. С. Бобров\", \"С…\n",
      "$ dub                 \u001b[3m\u001b[90m<lgl>\u001b[39m\u001b[23m NA, NA, NA, NA, NA, NA, NA, NA, NA, NA, NA, NA, NA…\n",
      "$ original            \u001b[3m\u001b[90m<chr>\u001b[39m\u001b[23m \"\", \"\", \"Гораций\", \"\", \"\", \"\", \"\", \"\", \"\", \"\", \"\",…\n",
      "$ language            \u001b[3m\u001b[90m<chr>\u001b[39m\u001b[23m \"\", \"\", \"латинский\", \"\", \"\", \"\", \"\", \"\", \"\", \"\", \"…\n",
      "$ header              \u001b[3m\u001b[90m<chr>\u001b[39m\u001b[23m \"Царство всеобщей любви : «Еще вкруг солнцев не вр…\n",
      "$ cyclus              \u001b[3m\u001b[90m<chr>\u001b[39m\u001b[23m \"\", \"\", \"\", \"\", \"\", \"\", \"\", \"\", \"\", \"\", \"\", \"\", \"\"…\n",
      "$ liber               \u001b[3m\u001b[90m<chr>\u001b[39m\u001b[23m \"\", \"\", \"\", \"\", \"\", \"\", \"\", \"\", \"\", \"\", \"\", \"\", \"\"…\n",
      "$ created             \u001b[3m\u001b[90m<chr>\u001b[39m\u001b[23m \"1785\", \"1785\", \"1787\", \"1789\", \"1789\", \"1789\", \"1…\n",
      "$ start               \u001b[3m\u001b[90m<dbl>\u001b[39m\u001b[23m 1785, 1785, 1787, 1789, 1789, 1789, 1792, 1800, 18…\n",
      "$ end                 \u001b[3m\u001b[90m<dbl>\u001b[39m\u001b[23m NA, NA, NA, NA, NA, NA, 1800, NA, NA, 1803, 1803, …\n",
      "$ exact               \u001b[3m\u001b[90m<chr>\u001b[39m\u001b[23m \"неточная\", \"неточная\", \"неточная\", \"неточная\", \"н…\n",
      "$ sphere              \u001b[3m\u001b[90m<chr>\u001b[39m\u001b[23m \"художественная\", \"художественная\", \"художественна…\n",
      "$ genre_fi            \u001b[3m\u001b[90m<chr>\u001b[39m\u001b[23m \"стихотворение\", \"стихотворение\", \"стихотворение :…\n",
      "$ audience_age        \u001b[3m\u001b[90m<chr>\u001b[39m\u001b[23m \"н-возраст\", \"н-возраст\", \"н-возраст\", \"н-возраст\"…\n",
      "$ audience_level      \u001b[3m\u001b[90m<chr>\u001b[39m\u001b[23m \"н-уровень\", \"н-уровень\", \"н-уровень\", \"н-уровень\"…\n",
      "$ audience_size       \u001b[3m\u001b[90m<chr>\u001b[39m\u001b[23m \"большая\", \"большая\", \"большая\", \"большая\", \"больш…\n",
      "$ source              \u001b[3m\u001b[90m<chr>\u001b[39m\u001b[23m \"Поэты 1790-1810-х годов. Библиотека поэта. Второе…\n",
      "$ publication         \u001b[3m\u001b[90m<chr>\u001b[39m\u001b[23m \"\", \"\", \"\", \"\", \"\", \"\", \"\", \"\", \"\", \"\", \"\", \"\", \"\"…\n",
      "$ publisher           \u001b[3m\u001b[90m<chr>\u001b[39m\u001b[23m \"\", \"\", \"\", \"\", \"\", \"\", \"\", \"\", \"\", \"\", \"\", \"\", \"\"…\n",
      "$ publ_year           \u001b[3m\u001b[90m<chr>\u001b[39m\u001b[23m \"\", \"\", \"\", \"\", \"\", \"\", \"\", \"\", \"\", \"\", \"\", \"\", \"\"…\n",
      "$ medium              \u001b[3m\u001b[90m<chr>\u001b[39m\u001b[23m \"книга\", \"книга\", \"книга\", \"книга\", \"книга\", \"книг…\n",
      "$ subcorpus           \u001b[3m\u001b[90m<chr>\u001b[39m\u001b[23m \"поэтический\", \"поэтический\", \"поэтический\", \"поэт…\n",
      "$ meter               \u001b[3m\u001b[90m<chr>\u001b[39m\u001b[23m \"Я\", \"Я\", \"Я\", \"Я\", \"Я\", \"Я\", \"Я\", \"Х\", \"Я\", \"Я\", …\n",
      "$ feet                \u001b[3m\u001b[90m<chr>\u001b[39m\u001b[23m \"4\", \"6\", \"4\", \"4\", \"4\", \"6\", \"4(5)\", \"4\", \"4\", \"4…\n",
      "$ clausula            \u001b[3m\u001b[90m<chr>\u001b[39m\u001b[23m \"регулярная : жмжм жж мжжм\", \"регулярная : жм\", \"р…\n",
      "$ strophe             \u001b[3m\u001b[90m<chr>\u001b[39m\u001b[23m \"10 : одическая строфа\", \"4\", \"4\", \"10 : одическая…\n",
      "$ gr_strophe          \u001b[3m\u001b[90m<chr>\u001b[39m\u001b[23m \"\", \"\", \"8\", \"\", \"\", \"вольная\", \"\", \"\", \"\", \"вольн…\n",
      "$ rhyme               \u001b[3m\u001b[90m<chr>\u001b[39m\u001b[23m \"сложная : абаб вв гддг\", \"перекрестная : абаб\", \"…\n",
      "$ formula             \u001b[3m\u001b[90m<chr>\u001b[39m\u001b[23m \"Я4жм\", \"Я6жм\", \"Я4жм\", \"Я4жм\", \"Я4жм\", \"Я6жжмм\", …\n",
      "$ extra               \u001b[3m\u001b[90m<chr>\u001b[39m\u001b[23m \"\", \"\", \"\", \"\", \"\", \"нарушения строфики\", \"\", \"\", …\n",
      "$ verses              \u001b[3m\u001b[90m<dbl>\u001b[39m\u001b[23m 110, 36, 32, 70, 144, 56, 216, 8, 335, 66, 195, 23…\n",
      "$ location            \u001b[3m\u001b[90m<chr>\u001b[39m\u001b[23m \"\", \"\", \"\", \"\", \"\", \"\", \"\", \"\", \"\", \"\", \"\", \"\", \"\"…\n",
      "$ location_normalized \u001b[3m\u001b[90m<chr>\u001b[39m\u001b[23m \"\", \"\", \"\", \"\", \"\", \"\", \"\", \"\", \"\", \"\", \"\", \"\", \"\"…\n",
      "$ paths_tidy          \u001b[3m\u001b[90m<chr>\u001b[39m\u001b[23m \"texts_plain/xix/1790-1810_poets/poets-001.txt\", \"…\n",
      "$ diff                \u001b[3m\u001b[90m<int>\u001b[39m\u001b[23m 0, 0, 0, 0, 0, 0, 8, 0, 0, 1, 1, 0, 0, 0, 0, 0, 9,…\n",
      "$ year                \u001b[3m\u001b[90m<int>\u001b[39m\u001b[23m 1785, 1785, 1787, 1789, 1789, 1789, 1800, 1800, 18…\n",
      "$ year_start          \u001b[3m\u001b[90m<int>\u001b[39m\u001b[23m 1785, 1785, 1787, 1789, 1789, 1789, 1792, 1800, 18…\n",
      "$ text_raw            \u001b[3m\u001b[90m<chr>\u001b[39m\u001b[23m \"Еще вкруг солнцев не вращались \\n В превыспренних…\n",
      "$ lemma               \u001b[3m\u001b[90m<chr>\u001b[39m\u001b[23m \"еще вкруг солнцев не вращаться \\n в превыспренний…\n"
     ]
    }
   ],
   "source": [
    "load(\"../../data/nkrja_19th_lem.Rda\")\n",
    "glimpse(c19)"
   ]
  },
  {
   "cell_type": "code",
   "execution_count": 47,
   "metadata": {},
   "outputs": [
    {
     "data": {
      "text/html": [
       "2055"
      ],
      "text/latex": [
       "2055"
      ],
      "text/markdown": [
       "2055"
      ],
      "text/plain": [
       "[1] 2055"
      ]
     },
     "metadata": {},
     "output_type": "display_data"
    },
    {
     "data": {
      "text/html": [
       "<table class=\"dataframe\">\n",
       "<caption>A data.frame: 10 × 3</caption>\n",
       "<thead>\n",
       "\t<tr><th></th><th scope=col>meter</th><th scope=col>n</th><th scope=col>perc</th></tr>\n",
       "\t<tr><th></th><th scope=col>&lt;chr&gt;</th><th scope=col>&lt;int&gt;</th><th scope=col>&lt;dbl&gt;</th></tr>\n",
       "</thead>\n",
       "<tbody>\n",
       "\t<tr><th scope=row>1</th><td>Я                        </td><td>1228</td><td>59.8</td></tr>\n",
       "\t<tr><th scope=row>2</th><td>Х                        </td><td> 422</td><td>20.5</td></tr>\n",
       "\t<tr><th scope=row>3</th><td>Аф                       </td><td> 132</td><td> 6.4</td></tr>\n",
       "\t<tr><th scope=row>4</th><td>Ан                       </td><td>  54</td><td> 2.6</td></tr>\n",
       "\t<tr><th scope=row>5</th><td>Д                        </td><td>  41</td><td> 2.0</td></tr>\n",
       "\t<tr><th scope=row>6</th><td>Д, тонический : Гек + Пен</td><td>  23</td><td> 1.1</td></tr>\n",
       "\t<tr><th scope=row>7</th><td>Д, тонический : Гек      </td><td>  13</td><td> 0.6</td></tr>\n",
       "\t<tr><th scope=row>8</th><td>Ан, Аф                   </td><td>   9</td><td> 0.4</td></tr>\n",
       "\t<tr><th scope=row>9</th><td>Я # Х                    </td><td>   8</td><td> 0.4</td></tr>\n",
       "\t<tr><th scope=row>10</th><td>Д, тонический : Гек, Дк  </td><td>   6</td><td> 0.3</td></tr>\n",
       "</tbody>\n",
       "</table>\n"
      ],
      "text/latex": [
       "A data.frame: 10 × 3\n",
       "\\begin{tabular}{r|lll}\n",
       "  & meter & n & perc\\\\\n",
       "  & <chr> & <int> & <dbl>\\\\\n",
       "\\hline\n",
       "\t1 & Я                         & 1228 & 59.8\\\\\n",
       "\t2 & Х                         &  422 & 20.5\\\\\n",
       "\t3 & Аф                        &  132 &  6.4\\\\\n",
       "\t4 & Ан                        &   54 &  2.6\\\\\n",
       "\t5 & Д                         &   41 &  2.0\\\\\n",
       "\t6 & Д, тонический : Гек + Пен &   23 &  1.1\\\\\n",
       "\t7 & Д, тонический : Гек       &   13 &  0.6\\\\\n",
       "\t8 & Ан, Аф                    &    9 &  0.4\\\\\n",
       "\t9 & Я \\# Х                     &    8 &  0.4\\\\\n",
       "\t10 & Д, тонический : Гек, Дк   &    6 &  0.3\\\\\n",
       "\\end{tabular}\n"
      ],
      "text/markdown": [
       "\n",
       "A data.frame: 10 × 3\n",
       "\n",
       "| <!--/--> | meter &lt;chr&gt; | n &lt;int&gt; | perc &lt;dbl&gt; |\n",
       "|---|---|---|---|\n",
       "| 1 | Я                         | 1228 | 59.8 |\n",
       "| 2 | Х                         |  422 | 20.5 |\n",
       "| 3 | Аф                        |  132 |  6.4 |\n",
       "| 4 | Ан                        |   54 |  2.6 |\n",
       "| 5 | Д                         |   41 |  2.0 |\n",
       "| 6 | Д, тонический : Гек + Пен |   23 |  1.1 |\n",
       "| 7 | Д, тонический : Гек       |   13 |  0.6 |\n",
       "| 8 | Ан, Аф                    |    9 |  0.4 |\n",
       "| 9 | Я # Х                     |    8 |  0.4 |\n",
       "| 10 | Д, тонический : Гек, Дк   |    6 |  0.3 |\n",
       "\n"
      ],
      "text/plain": [
       "   meter                     n    perc\n",
       "1  Я                         1228 59.8\n",
       "2  Х                          422 20.5\n",
       "3  Аф                         132  6.4\n",
       "4  Ан                          54  2.6\n",
       "5  Д                           41  2.0\n",
       "6  Д, тонический : Гек + Пен   23  1.1\n",
       "7  Д, тонический : Гек         13  0.6\n",
       "8  Ан, Аф                       9  0.4\n",
       "9  Я # Х                        8  0.4\n",
       "10 Д, тонический : Гек, Дк      6  0.3"
      ]
     },
     "metadata": {},
     "output_type": "display_data"
    }
   ],
   "source": [
    "rnc1830 <- c19 %>% \n",
    "    filter(year > 1830 & year < 1841) \n",
    "\n",
    "nrow(rnc1830)\n",
    "\n",
    "rnc1830 %>% \n",
    "    count(meter, sort = T)  %>% \n",
    "    mutate(perc = round(n/nrow(rnc1830)*100, 1)) %>% \n",
    "    head(10)"
   ]
  },
  {
   "cell_type": "code",
   "execution_count": 61,
   "metadata": {},
   "outputs": [
    {
     "data": {
      "text/html": [
       "<table class=\"dataframe\">\n",
       "<caption>A data.frame: 30 × 3</caption>\n",
       "<thead>\n",
       "\t<tr><th></th><th scope=col>formula</th><th scope=col>n</th><th scope=col>perc</th></tr>\n",
       "\t<tr><th></th><th scope=col>&lt;chr&gt;</th><th scope=col>&lt;int&gt;</th><th scope=col>&lt;dbl&gt;</th></tr>\n",
       "</thead>\n",
       "<tbody>\n",
       "\t<tr><th scope=row>1</th><td>Я_4                          </td><td>549</td><td>26.7</td></tr>\n",
       "\t<tr><th scope=row>2</th><td>Х_4                          </td><td>340</td><td>16.5</td></tr>\n",
       "\t<tr><th scope=row>3</th><td>Я_free                       </td><td>192</td><td> 9.3</td></tr>\n",
       "\t<tr><th scope=row>4</th><td>Я_5                          </td><td>171</td><td> 8.3</td></tr>\n",
       "\t<tr><th scope=row>5</th><td>Я_6                          </td><td>152</td><td> 7.4</td></tr>\n",
       "\t<tr><th scope=row>6</th><td>Аф_4                         </td><td> 63</td><td> 3.1</td></tr>\n",
       "\t<tr><th scope=row>7</th><td>Я_3                          </td><td> 29</td><td> 1.4</td></tr>\n",
       "\t<tr><th scope=row>8</th><td>Д, тонический : Гек + Пен_6  </td><td> 23</td><td> 1.1</td></tr>\n",
       "\t<tr><th scope=row>9</th><td>Я_регулярная : 4+3           </td><td> 23</td><td> 1.1</td></tr>\n",
       "\t<tr><th scope=row>10</th><td>Х_3                          </td><td> 19</td><td> 0.9</td></tr>\n",
       "\t<tr><th scope=row>11</th><td>Аф_регулярная : 4+3          </td><td> 17</td><td> 0.8</td></tr>\n",
       "\t<tr><th scope=row>12</th><td>Ан_2                         </td><td> 14</td><td> 0.7</td></tr>\n",
       "\t<tr><th scope=row>13</th><td>Х_регулярная : 4+3           </td><td> 14</td><td> 0.7</td></tr>\n",
       "\t<tr><th scope=row>14</th><td>Х_free                       </td><td> 13</td><td> 0.6</td></tr>\n",
       "\t<tr><th scope=row>15</th><td>Ан_1                         </td><td> 11</td><td> 0.5</td></tr>\n",
       "\t<tr><th scope=row>16</th><td>Аф_2                         </td><td> 11</td><td> 0.5</td></tr>\n",
       "\t<tr><th scope=row>17</th><td>Я_регулярная : 6+4           </td><td> 11</td><td> 0.5</td></tr>\n",
       "\t<tr><th scope=row>18</th><td>Аф_3                         </td><td> 10</td><td> 0.5</td></tr>\n",
       "\t<tr><th scope=row>19</th><td>Я_регулярная : 5+4           </td><td> 10</td><td> 0.5</td></tr>\n",
       "\t<tr><th scope=row>20</th><td>Д, тонический : Гек_6        </td><td>  9</td><td> 0.4</td></tr>\n",
       "\t<tr><th scope=row>21</th><td>Я_2                          </td><td>  9</td><td> 0.4</td></tr>\n",
       "\t<tr><th scope=row>22</th><td>Д_2                          </td><td>  8</td><td> 0.4</td></tr>\n",
       "\t<tr><th scope=row>23</th><td>Д_6                          </td><td>  8</td><td> 0.4</td></tr>\n",
       "\t<tr><th scope=row>24</th><td>Х_5                          </td><td>  8</td><td> 0.4</td></tr>\n",
       "\t<tr><th scope=row>25</th><td>Ан_3                         </td><td>  7</td><td> 0.3</td></tr>\n",
       "\t<tr><th scope=row>26</th><td>Ан_регулярная : 4+3          </td><td>  6</td><td> 0.3</td></tr>\n",
       "\t<tr><th scope=row>27</th><td>Аф_регулярная : 4+3+4+3+4+4  </td><td>  6</td><td> 0.3</td></tr>\n",
       "\t<tr><th scope=row>28</th><td>Д_4                          </td><td>  6</td><td> 0.3</td></tr>\n",
       "\t<tr><th scope=row>29</th><td>Д_регулярная : 4+3           </td><td>  6</td><td> 0.3</td></tr>\n",
       "\t<tr><th scope=row>30</th><td>Ан, Аф, тонический : Тк, Ак_3</td><td>  5</td><td> 0.2</td></tr>\n",
       "</tbody>\n",
       "</table>\n"
      ],
      "text/latex": [
       "A data.frame: 30 × 3\n",
       "\\begin{tabular}{r|lll}\n",
       "  & formula & n & perc\\\\\n",
       "  & <chr> & <int> & <dbl>\\\\\n",
       "\\hline\n",
       "\t1 & Я\\_4                           & 549 & 26.7\\\\\n",
       "\t2 & Х\\_4                           & 340 & 16.5\\\\\n",
       "\t3 & Я\\_free                        & 192 &  9.3\\\\\n",
       "\t4 & Я\\_5                           & 171 &  8.3\\\\\n",
       "\t5 & Я\\_6                           & 152 &  7.4\\\\\n",
       "\t6 & Аф\\_4                          &  63 &  3.1\\\\\n",
       "\t7 & Я\\_3                           &  29 &  1.4\\\\\n",
       "\t8 & Д, тонический : Гек + Пен\\_6   &  23 &  1.1\\\\\n",
       "\t9 & Я\\_регулярная : 4+3            &  23 &  1.1\\\\\n",
       "\t10 & Х\\_3                           &  19 &  0.9\\\\\n",
       "\t11 & Аф\\_регулярная : 4+3           &  17 &  0.8\\\\\n",
       "\t12 & Ан\\_2                          &  14 &  0.7\\\\\n",
       "\t13 & Х\\_регулярная : 4+3            &  14 &  0.7\\\\\n",
       "\t14 & Х\\_free                        &  13 &  0.6\\\\\n",
       "\t15 & Ан\\_1                          &  11 &  0.5\\\\\n",
       "\t16 & Аф\\_2                          &  11 &  0.5\\\\\n",
       "\t17 & Я\\_регулярная : 6+4            &  11 &  0.5\\\\\n",
       "\t18 & Аф\\_3                          &  10 &  0.5\\\\\n",
       "\t19 & Я\\_регулярная : 5+4            &  10 &  0.5\\\\\n",
       "\t20 & Д, тонический : Гек\\_6         &   9 &  0.4\\\\\n",
       "\t21 & Я\\_2                           &   9 &  0.4\\\\\n",
       "\t22 & Д\\_2                           &   8 &  0.4\\\\\n",
       "\t23 & Д\\_6                           &   8 &  0.4\\\\\n",
       "\t24 & Х\\_5                           &   8 &  0.4\\\\\n",
       "\t25 & Ан\\_3                          &   7 &  0.3\\\\\n",
       "\t26 & Ан\\_регулярная : 4+3           &   6 &  0.3\\\\\n",
       "\t27 & Аф\\_регулярная : 4+3+4+3+4+4   &   6 &  0.3\\\\\n",
       "\t28 & Д\\_4                           &   6 &  0.3\\\\\n",
       "\t29 & Д\\_регулярная : 4+3            &   6 &  0.3\\\\\n",
       "\t30 & Ан, Аф, тонический : Тк, Ак\\_3 &   5 &  0.2\\\\\n",
       "\\end{tabular}\n"
      ],
      "text/markdown": [
       "\n",
       "A data.frame: 30 × 3\n",
       "\n",
       "| <!--/--> | formula &lt;chr&gt; | n &lt;int&gt; | perc &lt;dbl&gt; |\n",
       "|---|---|---|---|\n",
       "| 1 | Я_4                           | 549 | 26.7 |\n",
       "| 2 | Х_4                           | 340 | 16.5 |\n",
       "| 3 | Я_free                        | 192 |  9.3 |\n",
       "| 4 | Я_5                           | 171 |  8.3 |\n",
       "| 5 | Я_6                           | 152 |  7.4 |\n",
       "| 6 | Аф_4                          |  63 |  3.1 |\n",
       "| 7 | Я_3                           |  29 |  1.4 |\n",
       "| 8 | Д, тонический : Гек + Пен_6   |  23 |  1.1 |\n",
       "| 9 | Я_регулярная : 4+3            |  23 |  1.1 |\n",
       "| 10 | Х_3                           |  19 |  0.9 |\n",
       "| 11 | Аф_регулярная : 4+3           |  17 |  0.8 |\n",
       "| 12 | Ан_2                          |  14 |  0.7 |\n",
       "| 13 | Х_регулярная : 4+3            |  14 |  0.7 |\n",
       "| 14 | Х_free                        |  13 |  0.6 |\n",
       "| 15 | Ан_1                          |  11 |  0.5 |\n",
       "| 16 | Аф_2                          |  11 |  0.5 |\n",
       "| 17 | Я_регулярная : 6+4            |  11 |  0.5 |\n",
       "| 18 | Аф_3                          |  10 |  0.5 |\n",
       "| 19 | Я_регулярная : 5+4            |  10 |  0.5 |\n",
       "| 20 | Д, тонический : Гек_6         |   9 |  0.4 |\n",
       "| 21 | Я_2                           |   9 |  0.4 |\n",
       "| 22 | Д_2                           |   8 |  0.4 |\n",
       "| 23 | Д_6                           |   8 |  0.4 |\n",
       "| 24 | Х_5                           |   8 |  0.4 |\n",
       "| 25 | Ан_3                          |   7 |  0.3 |\n",
       "| 26 | Ан_регулярная : 4+3           |   6 |  0.3 |\n",
       "| 27 | Аф_регулярная : 4+3+4+3+4+4   |   6 |  0.3 |\n",
       "| 28 | Д_4                           |   6 |  0.3 |\n",
       "| 29 | Д_регулярная : 4+3            |   6 |  0.3 |\n",
       "| 30 | Ан, Аф, тонический : Тк, Ак_3 |   5 |  0.2 |\n",
       "\n"
      ],
      "text/plain": [
       "   formula                       n   perc\n",
       "1  Я_4                           549 26.7\n",
       "2  Х_4                           340 16.5\n",
       "3  Я_free                        192  9.3\n",
       "4  Я_5                           171  8.3\n",
       "5  Я_6                           152  7.4\n",
       "6  Аф_4                           63  3.1\n",
       "7  Я_3                            29  1.4\n",
       "8  Д, тонический : Гек + Пен_6    23  1.1\n",
       "9  Я_регулярная : 4+3             23  1.1\n",
       "10 Х_3                            19  0.9\n",
       "11 Аф_регулярная : 4+3            17  0.8\n",
       "12 Ан_2                           14  0.7\n",
       "13 Х_регулярная : 4+3             14  0.7\n",
       "14 Х_free                         13  0.6\n",
       "15 Ан_1                           11  0.5\n",
       "16 Аф_2                           11  0.5\n",
       "17 Я_регулярная : 6+4             11  0.5\n",
       "18 Аф_3                           10  0.5\n",
       "19 Я_регулярная : 5+4             10  0.5\n",
       "20 Д, тонический : Гек_6           9  0.4\n",
       "21 Я_2                             9  0.4\n",
       "22 Д_2                             8  0.4\n",
       "23 Д_6                             8  0.4\n",
       "24 Х_5                             8  0.4\n",
       "25 Ан_3                            7  0.3\n",
       "26 Ан_регулярная : 4+3             6  0.3\n",
       "27 Аф_регулярная : 4+3+4+3+4+4     6  0.3\n",
       "28 Д_4                             6  0.3\n",
       "29 Д_регулярная : 4+3              6  0.3\n",
       "30 Ан, Аф, тонический : Тк, Ак_3   5  0.2"
      ]
     },
     "metadata": {},
     "output_type": "display_data"
    }
   ],
   "source": [
    "rnc1830 %>% \n",
    "    mutate(feet = ifelse(str_detect(feet, \"вольная\"), \"free\", feet),\n",
    "           feet = str_remove_all(feet, \"\\\\(\\\\d+\\\\)\"),\n",
    "        formula = paste0(meter, \"_\", feet))  %>% \n",
    "    count(formula, sort = T)  %>% \n",
    "    mutate(perc = round(n/nrow(rnc1830)*100, 1)) %>% \n",
    "    head(30)"
   ]
  },
  {
   "cell_type": "code",
   "execution_count": null,
   "metadata": {},
   "outputs": [],
   "source": []
  }
 ],
 "metadata": {
  "kernelspec": {
   "display_name": "R",
   "language": "R",
   "name": "ir"
  },
  "language_info": {
   "codemirror_mode": "r",
   "file_extension": ".r",
   "mimetype": "text/x-r-source",
   "name": "R",
   "pygments_lexer": "r",
   "version": "4.3.0"
  }
 },
 "nbformat": 4,
 "nbformat_minor": 4
}
