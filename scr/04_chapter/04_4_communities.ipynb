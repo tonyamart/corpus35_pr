{
  "cells": [
    {
      "cell_type": "raw",
      "metadata": {},
      "source": [
        "---\n",
        "title: \"04_4_communities\"\n",
        "format: html\n",
        "editor: visual\n",
        "---"
      ]
    },
    {
      "cell_type": "markdown",
      "metadata": {},
      "source": [
        "## load pckg & data"
      ]
    },
    {
      "cell_type": "code",
      "metadata": {},
      "source": [
        "library(tidyverse)\n",
        "\n",
        "# networks\n",
        "library(igraph)\n",
        "library(tidygraph)\n",
        "library(ggraph)\n",
        "library(ggforce) # for geom_mark_hull annotation\n",
        "library(concaveman)\n",
        "\n",
        "\n",
        "# basic colouring and layout options\n",
        "library(wesanderson)\n",
        "library(patchwork)\n",
        "theme_set(theme_minimal())"
      ],
      "execution_count": null,
      "outputs": []
    },
    {
      "cell_type": "code",
      "metadata": {},
      "source": [
        "# load model output\n",
        "load(\"data/lda75_output.Rda\")\n",
        "\n",
        "# load code for edges calculation\n",
        "source(\"04_fn_calculate_edges.R\")\n",
        "\n",
        "# function to extract topic lables:\n",
        "get_topic_labels = function(x, n_labels = 10) {\n",
        "  \n",
        "  #takes beta-matrix as an input\n",
        "  top_terms = x %>%\n",
        "    group_by(topic) %>%\n",
        "    top_n(20, beta) %>%\n",
        "    ungroup() %>%\n",
        "    arrange(topic, -beta)\n",
        "  \n",
        "  topic_labels = top_terms %>%\n",
        "    group_by(topic) %>%\n",
        "    top_n(n_labels, beta) %>%\n",
        "    summarise(label=paste(term, collapse=\" \")) %>%\n",
        "    mutate(label = paste(topic, label, sep=\"_\"))\n",
        "  \n",
        "  return(topic_labels)\n",
        "}\n",
        "\n",
        "# prepare gamma data\n",
        "gamma_rnc <- gamma %>% \n",
        "    # select ONLY RNC connections & topics\n",
        "    filter(corpus == \"N\") %>% \n",
        "    # add index for create_edges function\n",
        "    # mutate(index = paste0(corpus, \"_\", id)) %>% \n",
        "    # fix typo\n",
        "    rename(author = first_line)\n",
        "\n",
        "gamma <- gamma %>% \n",
        "  rename(author = first_line)\n",
        "\n",
        "glimpse(gamma)\n",
        "glimpse(gamma_rnc)"
      ],
      "execution_count": null,
      "outputs": []
    },
    {
      "cell_type": "code",
      "metadata": {},
      "source": [
        "topic_labels <- get_topic_labels(beta, n_labels = 5)\n",
        "head(topic_labels)"
      ],
      "execution_count": null,
      "outputs": []
    },
    {
      "cell_type": "markdown",
      "metadata": {},
      "source": [
        "### RNC communities"
      ]
    },
    {
      "cell_type": "code",
      "metadata": {},
      "source": [
        "edges_raw <- compute_edges(gamma_rnc,\n",
        "                           gamma_thresh = 0.05,\n",
        "                           time_slice = 5)\n",
        "\n",
        "# create links\n",
        "links <- edges_raw %>% \n",
        "  mutate(meter = formula) %>%\n",
        "  # filter out only iambic hexameter\n",
        "  #filter(meter == \"iamb_6\") %>% \n",
        "  # group and count edges\n",
        "  group_by(slice, meter, corpus) %>% \n",
        "  count(slice, meter, edge_id, source, target, sort = T) %>% \n",
        "  # filter non-frequent edges\n",
        "  filter(n > 2) %>% \n",
        "  ungroup() \n",
        "\n",
        "# quick check\n",
        "head(links)"
      ],
      "execution_count": null,
      "outputs": []
    },
    {
      "cell_type": "code",
      "metadata": {},
      "source": [
        "edgelist <- links %>% \n",
        "  select(source, target, n, meter, slice, corpus) %>% \n",
        "  mutate(width = n/10) %>% \n",
        "  filter(slice != 1850) %>% \n",
        "  rename(N_connections = n) %>% \n",
        "  mutate(facet_title = slice)\n",
        "\n",
        "nodelist <- tibble(source = unique(c(links$source, links$target))) %>% \n",
        "  mutate(idn = as.numeric(str_extract(source, \"^\\\\d+\"))) \n",
        "\n",
        "head(edgelist)\n",
        "head(nodelist) \n",
        "\n",
        "summary(edgelist)"
      ],
      "execution_count": null,
      "outputs": []
    },
    {
      "cell_type": "code",
      "metadata": {},
      "source": [
        "custom_edgelist <- function(edgelist_input, meter_v, slices, min_connections) {\n",
        "    edgelist_input %>% \n",
        "    #filter time slice \n",
        "    filter(slice %in% slices) %>% \n",
        "    # select meter and connection frequency threshold\n",
        "    filter(meter == meter_v & N_connections > min_connections) %>% \n",
        "    select(-slice) %>% \n",
        "    mutate(source_target = paste0(source, \"__\", target)) %>% \n",
        "    group_by(source_target) %>% \n",
        "    # sum number of connections for the whole period (if more than 1 time slice is chosen)\n",
        "    summarise(sum_links = sum(N_connections)) %>% \n",
        "    separate(source_target, into = c(\"source\", \"target\"), sep = \"__\")\n",
        "}\n",
        "\n",
        "custom_nodelist <- function(source_vec, target_vec) {\n",
        "    x <- tibble(source = unique(c(source_vec,\n",
        "                                 target_vec)),\n",
        "               idn = as.numeric(str_replace(source, \"^([0-9].*?)_.*\", \"\\\\1\")))\n",
        "    return(x)\n",
        "}"
      ],
      "execution_count": null,
      "outputs": []
    },
    {
      "cell_type": "markdown",
      "metadata": {},
      "source": [
        "### iamb 4\n",
        "\n",
        "#### rnc"
      ]
    },
    {
      "cell_type": "code",
      "metadata": {},
      "source": [
        "edgelist %>% \n",
        "  filter(meter == \"iamb_4\") %>% \n",
        "  ggplot(aes(x = N_connections)) + geom_boxplot()\n",
        "\n",
        "edgelist %>% filter(meter == \"iamb_4\") %>% select(N_connections) %>% pull %>% \n",
        "  quantile(probs = c(0.1, 0.25, 0.5, 0.75, 0.9, 0.95, 0.97, 1))\n",
        "\n",
        "?quantile\n",
        "\n",
        "\n",
        "edgelist_i6 <- custom_edgelist(edgelist, \n",
        "                               meter_v = \"iamb_4\", \n",
        "                            # choices for the Fig. 2:\n",
        "                               slices = c(1815:1829), \n",
        "                               min_connections = 8)\n",
        "head(edgelist_i6)\n",
        "nrow(edgelist_i6)\n",
        "nodelist_i6 <- custom_nodelist(edgelist_i6$source, edgelist_i6$target)\n",
        "head(nodelist_i6)"
      ],
      "execution_count": null,
      "outputs": []
    },
    {
      "cell_type": "code",
      "metadata": {},
      "source": [
        "# create tidy graph\n",
        "net_t <- tbl_graph(nodes = nodelist_i6,\n",
        "                  edges = edgelist_i6,\n",
        "                  directed = FALSE)\n",
        "\n",
        "# detect communities with louvain method\n",
        "t_community <- net_t %>% \n",
        "    activate(nodes) %>% \n",
        "    mutate(community = as.factor(group_louvain())) "
      ],
      "execution_count": null,
      "outputs": []
    },
    {
      "cell_type": "code",
      "metadata": {},
      "source": [
        "t_community %>% \n",
        "  activate(nodes) %>% \n",
        "  #filter(community == 1)\n",
        "  select(community) %>% distinct() %>% pull\n",
        "\n",
        "t_community %>% \n",
        "  activate(nodes) %>% \n",
        "  filter(community == 1)"
      ],
      "execution_count": null,
      "outputs": []
    },
    {
      "cell_type": "code",
      "metadata": {},
      "source": [
        "t_community %>% \n",
        "  ggraph('kk') + geom_edge_link(aes(width = sum_links), \n",
        "                   alpha = 0.5) + \n",
        "  geom_node_point(aes(colour = community\n",
        "                       ), size = 10) + \n",
        "  geom_node_text(aes(label = source), size = 5)"
      ],
      "execution_count": null,
      "outputs": []
    },
    {
      "cell_type": "markdown",
      "metadata": {},
      "source": [
        "#### marginals"
      ]
    },
    {
      "cell_type": "code",
      "metadata": {},
      "source": [
        "edges_raw <- compute_edges(gamma,\n",
        "                           gamma_thresh = 0.05,\n",
        "                           time_slice = 5)\n",
        "\n",
        "\n",
        "head(edges_raw)\n",
        "\n",
        "# create links\n",
        "m_links <- edges_raw %>% \n",
        "  filter(corpus == \"M\") %>% \n",
        "  mutate(meter = formula) %>%\n",
        "  # filter out only iambic hexameter\n",
        "  #filter(meter == \"iamb_6\") %>% \n",
        "  # group and count edges\n",
        "  group_by(slice, meter, corpus) %>% \n",
        "  count(slice, meter, edge_id, source, target, sort = T) %>% \n",
        "  # filter non-frequent edges\n",
        "  filter(n > 2) %>% \n",
        "  ungroup() \n",
        "\n",
        "# quick check\n",
        "head(m_links)\n",
        "\n",
        "\n",
        "m_edgelist <- m_links %>% \n",
        "  select(source, target, n, meter, slice, corpus) %>% \n",
        "  mutate(width = n/10) %>% \n",
        "  filter(slice != 1850) %>% \n",
        "  rename(N_connections = n) %>% \n",
        "  mutate(facet_title = slice)\n",
        "\n",
        "m_nodelist <- tibble(source = unique(c(m_links$source, m_links$target))) %>% \n",
        "  mutate(idn = as.numeric(str_extract(source, \"^\\\\d+\"))) \n",
        "\n",
        "head(m_edgelist)\n",
        "head(m_nodelist) \n",
        "\n",
        "summary(m_edgelist)\n"
      ],
      "execution_count": null,
      "outputs": []
    },
    {
      "cell_type": "code",
      "metadata": {},
      "source": [
        "m_edgelist %>% filter(meter == \"iamb_4\") %>% select(N_connections) %>% pull %>% \n",
        "  quantile(probs = c(0.1, 0.25, 0.5, 0.75, 0.9, 0.95, 0.97, 1))\n",
        "\n",
        "m_edgelist_i4 <- custom_edgelist(m_edgelist, \n",
        "                               meter_v = \"iamb_4\", \n",
        "                            # choices for the Fig. 2:\n",
        "                               slices = c(1835:1845), \n",
        "                               min_connections = 13)\n",
        "head(m_edgelist_i4)\n",
        "nrow(m_edgelist_i4)\n",
        "m_nodelist_i4 <- custom_nodelist(m_edgelist_i4$source, m_edgelist_i4$target)\n",
        "head(m_nodelist_i4)"
      ],
      "execution_count": null,
      "outputs": []
    },
    {
      "cell_type": "code",
      "metadata": {},
      "source": [
        "# create tidy graph\n",
        "net_m <- tbl_graph(nodes = m_nodelist_i4,\n",
        "                  edges = m_edgelist_i4,\n",
        "                  directed = FALSE)\n",
        "\n",
        "# detect communities with louvain method\n",
        "m_community <- net_m %>% \n",
        "    activate(nodes) %>% \n",
        "    mutate(community = as.factor(group_louvain())) \n",
        "\n",
        "m_community %>% \n",
        "  activate(nodes) %>% \n",
        "  #filter(community == 1)\n",
        "  select(community) %>% distinct() %>% pull\n",
        "\n",
        "m_community %>% \n",
        "  activate(nodes) %>% \n",
        "  filter(community == 1)\n",
        "\n",
        "m_community %>% \n",
        "  ggraph('kk') + \n",
        "  # geom_mark_hull(aes(x,y, \n",
        "  #                    fill = community,\n",
        "  #                    color = community)) + \n",
        "  geom_edge_link(aes(width = sum_links), \n",
        "                   alpha = 0.5) + \n",
        "  geom_node_point(aes(colour = community\n",
        "                       ), size = 10) + \n",
        "  geom_node_text(aes(label = source), size = 5)"
      ],
      "execution_count": null,
      "outputs": []
    },
    {
      "cell_type": "markdown",
      "metadata": {},
      "source": [
        "### iamb-6\n",
        "\n",
        "#### rnc "
      ]
    },
    {
      "cell_type": "code",
      "metadata": {},
      "source": [
        "edgelist %>% filter(meter == \"iamb_6\") %>% \n",
        "  filter(slice > 1799 & slice < 1830) %>% \n",
        "  select(N_connections) %>% \n",
        "  pull %>% \n",
        "  quantile(probs = c(0.1, 0.25, 0.5, 0.75, 0.9, 0.95, 0.97, 1))\n",
        "\n",
        "edgelist_i6 <- custom_edgelist(edgelist, \n",
        "                               meter_v = \"iamb_6\", \n",
        "                            # choices for the Fig. 2:\n",
        "                               slices = c(1800:1829), \n",
        "                               min_connections = 5)\n",
        "head(edgelist_i6)\n",
        "nrow(edgelist_i6)\n",
        "nodelist_i6 <- custom_nodelist(edgelist_i6$source, edgelist_i6$target)\n",
        "head(nodelist_i6)"
      ],
      "execution_count": null,
      "outputs": []
    },
    {
      "cell_type": "code",
      "metadata": {},
      "source": [
        "# create tidy graph\n",
        "net_t <- tbl_graph(nodes = nodelist_i6,\n",
        "                  edges = edgelist_i6,\n",
        "                  directed = FALSE)\n",
        "\n",
        "# detect communities with louvain method\n",
        "t_community <- net_t %>% \n",
        "    activate(nodes) %>% \n",
        "    mutate(community = as.factor(group_louvain())) \n",
        "\n",
        "t_community %>% \n",
        "  ggraph('kk') + geom_edge_link(aes(width = sum_links), \n",
        "                   alpha = 0.5) + \n",
        "  geom_node_point(aes(colour = community\n",
        "                       ), size = 10) + \n",
        "  geom_node_text(aes(label = source), size = 5)"
      ],
      "execution_count": null,
      "outputs": []
    },
    {
      "cell_type": "markdown",
      "metadata": {},
      "source": [
        "#### marginals"
      ]
    },
    {
      "cell_type": "code",
      "metadata": {},
      "source": [
        "m_edgelist %>% filter(meter == \"iamb_6\") %>% select(N_connections) %>% pull %>% \n",
        "  quantile(probs = c(0.1, 0.25, 0.5, 0.75, 0.9, 0.95, 0.97, 1))\n",
        "\n",
        "m_edgelist_i4 <- custom_edgelist(m_edgelist, \n",
        "                               meter_v = \"iamb_6\", \n",
        "                            # choices for the Fig. 2:\n",
        "                               slices = c(1835:1845), \n",
        "                               min_connections = 6)\n",
        "head(m_edgelist_i4)\n",
        "nrow(m_edgelist_i4)\n",
        "m_nodelist_i4 <- custom_nodelist(m_edgelist_i4$source, m_edgelist_i4$target)\n",
        "head(m_nodelist_i4)\n",
        "nrow(m_nodelist_i4)"
      ],
      "execution_count": null,
      "outputs": []
    },
    {
      "cell_type": "code",
      "metadata": {},
      "source": [
        "# create tidy graph\n",
        "net_m <- tbl_graph(nodes = m_nodelist_i4,\n",
        "                  edges = m_edgelist_i4,\n",
        "                  directed = FALSE)\n",
        "\n",
        "# detect communities with louvain method\n",
        "m_community <- net_m %>% \n",
        "    activate(nodes) %>% \n",
        "    mutate(community = as.factor(group_louvain())) \n",
        "\n",
        "m_community %>% \n",
        "  activate(nodes) %>% \n",
        "  #filter(community == 1)\n",
        "  select(community) %>% distinct() %>% pull\n",
        "\n",
        "m_community %>% \n",
        "  activate(nodes) %>% \n",
        "  filter(community == 1)\n",
        "\n",
        "m_community %>% \n",
        "  ggraph('kk') + \n",
        "  # geom_mark_hull(aes(x,y, \n",
        "  #                    fill = community,\n",
        "  #                    color = community)) + \n",
        "  geom_edge_link(aes(width = sum_links), \n",
        "                   alpha = 0.5) + \n",
        "  geom_node_point(aes(colour = community\n",
        "                       ), size = 10) + \n",
        "  geom_node_text(aes(label = source), size = 5)"
      ],
      "execution_count": null,
      "outputs": []
    },
    {
      "cell_type": "markdown",
      "metadata": {},
      "source": [
        "### trochee 4\n",
        "\n",
        "#### rnc"
      ]
    },
    {
      "cell_type": "code",
      "metadata": {},
      "source": [
        "edgelist %>% filter(meter == \"trochee_4\") %>% \n",
        "  filter(slice > 1829 & slice < 1845) %>% \n",
        "  select(N_connections) %>% \n",
        "  pull %>% \n",
        "  quantile(probs = c(0.1, 0.25, 0.5, 0.75, 0.9, 0.95, 0.97, 1))\n",
        "\n",
        "edgelist_i6 <- custom_edgelist(edgelist, \n",
        "                               meter_v = \"trochee_4\", \n",
        "                            # choices for the Fig. 2:\n",
        "                               slices = c(1830:1840), \n",
        "                               min_connections = 5)\n",
        "head(edgelist_i6)\n",
        "nrow(edgelist_i6)\n",
        "\n",
        "nodelist_i6 <- custom_nodelist(edgelist_i6$source, edgelist_i6$target)\n",
        "head(nodelist_i6)\n",
        "nrow(nodelist_i6)"
      ],
      "execution_count": null,
      "outputs": []
    },
    {
      "cell_type": "code",
      "metadata": {},
      "source": [
        "# create tidy graph\n",
        "net_t <- tbl_graph(nodes = nodelist_i6,\n",
        "                  edges = edgelist_i6,\n",
        "                  directed = FALSE)\n",
        "\n",
        "# detect communities with louvain method\n",
        "t_community <- net_t %>% \n",
        "    activate(nodes) %>% \n",
        "    mutate(community = as.factor(group_louvain())) \n",
        "\n",
        "t_community %>% \n",
        "  ggraph('kk') + geom_edge_link(aes(width = sum_links), \n",
        "                   alpha = 0.5) + \n",
        "  geom_node_point(aes(colour = community\n",
        "                       ), size = 10) + \n",
        "  geom_node_text(aes(label = source), size = 5)"
      ],
      "execution_count": null,
      "outputs": []
    },
    {
      "cell_type": "markdown",
      "metadata": {},
      "source": [
        "#### marginals"
      ]
    },
    {
      "cell_type": "code",
      "metadata": {},
      "source": [
        "m_edgelist %>% filter(meter == \"trochee_4\") %>% select(N_connections) %>% pull %>% \n",
        "  quantile(probs = c(0.1, 0.25, 0.5, 0.75, 0.9, 0.95, 0.97, 1))\n",
        "\n",
        "m_edgelist_i4 <- custom_edgelist(m_edgelist, \n",
        "                               meter_v = \"trochee_4\", \n",
        "                            # choices for the Fig. 2:\n",
        "                               slices = c(1835:1845), \n",
        "                               min_connections = 8)\n",
        "head(m_edgelist_i4)\n",
        "nrow(m_edgelist_i4)\n",
        "m_nodelist_i4 <- custom_nodelist(m_edgelist_i4$source, m_edgelist_i4$target)\n",
        "head(m_nodelist_i4)\n",
        "nrow(m_nodelist_i4)"
      ],
      "execution_count": null,
      "outputs": []
    },
    {
      "cell_type": "code",
      "metadata": {},
      "source": [
        "# create tidy graph\n",
        "net_m <- tbl_graph(nodes = m_nodelist_i4,\n",
        "                  edges = m_edgelist_i4,\n",
        "                  directed = FALSE)\n",
        "\n",
        "# detect communities with louvain method\n",
        "m_community <- net_m %>% \n",
        "    activate(nodes) %>% \n",
        "    mutate(community = as.factor(group_louvain())) \n",
        "\n",
        "m_community %>% \n",
        "  activate(nodes) %>% \n",
        "  #filter(community == 1)\n",
        "  select(community) %>% distinct() %>% pull\n",
        "\n",
        "m_community %>% \n",
        "  activate(nodes) %>% \n",
        "  filter(community == 1)\n",
        "\n",
        "m_community %>% \n",
        "  ggraph('kk') + \n",
        "  # geom_mark_hull(aes(x,y, \n",
        "  #                    fill = community,\n",
        "  #                    color = community)) + \n",
        "  geom_edge_link(aes(width = sum_links), \n",
        "                   alpha = 0.5) + \n",
        "  geom_node_point(aes(colour = community\n",
        "                       ), size = 10) + \n",
        "  geom_node_text(aes(label = source), size = 5)"
      ],
      "execution_count": null,
      "outputs": []
    }
  ],
  "metadata": {
    "kernelspec": {
      "name": "ir",
      "language": "R",
      "display_name": "R"
    }
  },
  "nbformat": 4,
  "nbformat_minor": 4
}