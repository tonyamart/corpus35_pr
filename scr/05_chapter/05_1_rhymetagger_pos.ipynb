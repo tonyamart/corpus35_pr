{
 "cells": [
  {
   "cell_type": "markdown",
   "id": "76bc476b",
   "metadata": {},
   "source": [
    "### Tag rhymes & POS"
   ]
  },
  {
   "cell_type": "code",
   "execution_count": 1,
   "id": "ec1595f2",
   "metadata": {},
   "outputs": [],
   "source": [
    "from rhymetagger import RhymeTagger\n",
    "from nltk.tokenize import RegexpTokenizer\n",
    "import pandas as pd\n",
    "import os\n",
    "import re\n",
    "from datetime import datetime"
   ]
  },
  {
   "cell_type": "code",
   "execution_count": 2,
   "id": "0652cf9e",
   "metadata": {},
   "outputs": [],
   "source": [
    "# initialise tokenizer that would clean punct\n",
    "tokenizer = RegexpTokenizer(r'\\w+')"
   ]
  },
  {
   "cell_type": "code",
   "execution_count": 3,
   "id": "405bac6c",
   "metadata": {},
   "outputs": [
    {
     "name": "stdout",
     "output_type": "stream",
     "text": [
      "====================================\n",
      "Model loaded with following settings:\n",
      "====================================\n",
      "  frequency_min: 3\n",
      "           lang: ru\n",
      "       max_iter: 20\n",
      "          ngram: 3\n",
      "   ngram_length: 3\n",
      "   prob_ipa_min: 0.9\n",
      " prob_ngram_min: 0.9\n",
      "     same_words: False\n",
      "   stanza_limit: True\n",
      "         stress: True\n",
      "       syll_max: 2\n",
      "    t_score_min: 3.078\n",
      "   vowel_length: True\n",
      "         window: 5\n",
      "====================================\n"
     ]
    }
   ],
   "source": [
    "# load RhymeTagger model\n",
    "rt = RhymeTagger()\n",
    "rt.load_model(model = 'ru')"
   ]
  },
  {
   "cell_type": "markdown",
   "id": "6d0fd2bf",
   "metadata": {},
   "source": [
    "### Extract rhymes"
   ]
  },
  {
   "cell_type": "code",
   "execution_count": 4,
   "id": "739c474b",
   "metadata": {},
   "outputs": [],
   "source": [
    "os.chdir('data/texts') # path for the corpus with poems as separate .txt-s"
   ]
  },
  {
   "cell_type": "code",
   "execution_count": 8,
   "id": "d6e69ead",
   "metadata": {},
   "outputs": [
    {
     "data": {
      "text/plain": [
       "['C_156__20.txt',\n",
       " 'P_518.txt',\n",
       " 'C_101__42.txt',\n",
       " 'C_70__25.txt',\n",
       " 'C_84__24.txt',\n",
       " 'P_1086.txt',\n",
       " 'C_111__56.txt',\n",
       " 'P_1092.txt',\n",
       " 'C_70__31.txt',\n",
       " 'C_84__30.txt',\n",
       " 'C_111__42.txt',\n",
       " 'C_257__11.txt',\n",
       " 'C_156__34.txt',\n",
       " 'C_197__1.txt',\n",
       " 'C_319__13.txt',\n",
       " 'P_524.txt',\n",
       " 'C_327__8.txt',\n",
       " 'C_160__36.txt',\n",
       " 'C_194__37.txt']"
      ]
     },
     "execution_count": 8,
     "metadata": {},
     "output_type": "execute_result"
    }
   ],
   "source": [
    "os.listdir()[1:20] # check the directory"
   ]
  },
  {
   "cell_type": "code",
   "execution_count": 9,
   "id": "2a4e02f6",
   "metadata": {},
   "outputs": [
    {
     "data": {
      "text/plain": [
       "4798"
      ]
     },
     "execution_count": 9,
     "metadata": {},
     "output_type": "execute_result"
    }
   ],
   "source": [
    "len(os.listdir()) # number of files in the folder"
   ]
  },
  {
   "cell_type": "code",
   "execution_count": null,
   "id": "eb207413",
   "metadata": {},
   "outputs": [],
   "source": [
    "time_start = datetime.now()\n",
    "print('start: ', time_start)\n",
    "\n",
    "poem = []\n",
    "poem_id = []\n",
    "verse = []\n",
    "rhyme_words = []\n",
    "rhyme_list = []\n",
    "errors = []\n",
    "\n",
    "# regex for cleaning lines from digits (other things can be added)\n",
    "regex = re.compile('\\d+\\W*')\n",
    "\n",
    "for file in os.listdir():\n",
    "    if file.endswith('.txt'):\n",
    "        with open(file, 'r') as text:\n",
    "            \n",
    "            try:\n",
    "                for line in text:\n",
    "                    #if line != '\\n': # filter empty lines\n",
    "                    if not re.match(r\"^\\d*\\W*$\", line): # filter empty & non-character lines as .....\n",
    "                        poem_id.append(file)\n",
    "                        line = line.strip()\n",
    "                        poem.append(line)\n",
    "                        verse = tokenizer.tokenize(line) # tokenization\n",
    "                        verse = [i for i in verse if not regex.match(i)] # remove non-word tokens\n",
    "                        rhyme_words.append(verse[len(verse)-1]) # last word attachment\n",
    "                rhymes = rt.tag(poem, output_format = 3) # rhyme analysis for the poem compiled by if not...\n",
    "                rhyme_list.append(rhymes) # append results\n",
    "                rhymes, poem, verse = [],[],[] # cleaning iterating vars\n",
    "                print('just finished:', file)\n",
    "            \n",
    "            except:\n",
    "                print('error in:', file)\n",
    "                errors.append(file)\n",
    "                \n",
    "print('end: ', datetime.now())\n",
    "total_time = datetime.now() - time_start\n",
    "print('total time:', total_time)"
   ]
  },
  {
   "cell_type": "code",
   "execution_count": 12,
   "id": "f59d5d9f",
   "metadata": {},
   "outputs": [
    {
     "data": {
      "text/plain": [
       "0"
      ]
     },
     "execution_count": 12,
     "metadata": {},
     "output_type": "execute_result"
    }
   ],
   "source": [
    "# total time for full corpus-1835: 0:26:41\n",
    "\n",
    "# check errors\n",
    "len(errors)"
   ]
  },
  {
   "cell_type": "markdown",
   "id": "cd350cc8",
   "metadata": {},
   "source": [
    "### RNC corpus"
   ]
  },
  {
   "cell_type": "code",
   "execution_count": 4,
   "id": "21dc1d68",
   "metadata": {},
   "outputs": [],
   "source": [
    "os.chdir('data/rnc') # path for rnc corpus"
   ]
  },
  {
   "cell_type": "code",
   "execution_count": 6,
   "id": "01c79cd0",
   "metadata": {},
   "outputs": [
    {
     "data": {
      "text/plain": [
       "['7600_1832.txt',\n",
       " '6700_1830.txt',\n",
       " '12637_1830.txt',\n",
       " '7246_1846.txt',\n",
       " '16012_1831.txt',\n",
       " '6701_1830.txt',\n",
       " '12636_1830.txt',\n",
       " '14685_1839.txt',\n",
       " '7601_1832.txt',\n",
       " '3808_1810.txt',\n",
       " '17666_1806.txt',\n",
       " '20056_1791.txt',\n",
       " '17416_1784.txt',\n",
       " '6448_1792.txt',\n",
       " '1581_1846.txt',\n",
       " '9502_1848.txt',\n",
       " '10470_1846.txt',\n",
       " '5892_1836.txt',\n",
       " '18488_1783.txt']"
      ]
     },
     "execution_count": 6,
     "metadata": {},
     "output_type": "execute_result"
    }
   ],
   "source": [
    "os.listdir()[1:20]"
   ]
  },
  {
   "cell_type": "code",
   "execution_count": 8,
   "id": "bf536696",
   "metadata": {},
   "outputs": [
    {
     "data": {
      "text/plain": [
       "10367"
      ]
     },
     "execution_count": 8,
     "metadata": {},
     "output_type": "execute_result"
    }
   ],
   "source": [
    "len(os.listdir()) # number of files in the folder"
   ]
  },
  {
   "cell_type": "code",
   "execution_count": null,
   "id": "b43eae34",
   "metadata": {},
   "outputs": [],
   "source": [
    "time_start = datetime.now()\n",
    "print('start: ', time_start)\n",
    "\n",
    "poem = []\n",
    "poem_id = []\n",
    "verse = []\n",
    "rhyme_words = []\n",
    "rhyme_list = []\n",
    "errors = []\n",
    "\n",
    "# regex for cleaning lines from digits (other things can be added)\n",
    "regex = re.compile('\\d+\\W*')\n",
    "\n",
    "for file in os.listdir():\n",
    "    if file.endswith('.txt'):\n",
    "        with open(file, 'r') as text:\n",
    "            \n",
    "            try:\n",
    "                for line in text:\n",
    "                    #if line != '\\n': # filter empty lines\n",
    "                    if not re.match(r\"^\\d*\\W*$\", line): # filter empty & non-character lines as .....\n",
    "                        poem_id.append(file)\n",
    "                        line = line.strip()\n",
    "                        poem.append(line)\n",
    "                        verse = tokenizer.tokenize(line) # tokenization\n",
    "                        verse = [i for i in verse if not regex.match(i)] # remove non-word tokens\n",
    "                        rhyme_words.append(verse[len(verse)-1]) # last word attachment\n",
    "                rhymes = rt.tag(poem, output_format = 3) # rhyme analysis for the poem compiled by if not...\n",
    "                rhyme_list.append(rhymes) # append results\n",
    "                rhymes, poem, verse = [],[],[] # cleaning iterating vars\n",
    "                print('just finished:', file)\n",
    "            \n",
    "            except:\n",
    "                print('error in:', file)\n",
    "                errors.append(file)\n",
    "                \n",
    "print('end: ', datetime.now())\n",
    "total_time = datetime.now() - time_start\n",
    "print('total time:', total_time)"
   ]
  },
  {
   "cell_type": "code",
   "execution_count": 15,
   "id": "1f826b8d",
   "metadata": {},
   "outputs": [
    {
     "name": "stdout",
     "output_type": "stream",
     "text": [
      "total time: 1:04:25.333390\n"
     ]
    }
   ],
   "source": [
    "total_time = datetime.now() - time_start\n",
    "print('total time:', total_time)"
   ]
  },
  {
   "cell_type": "markdown",
   "id": "4bbe6150",
   "metadata": {},
   "source": [
    "Create rhyme lists & write rhyme seq"
   ]
  },
  {
   "cell_type": "code",
   "execution_count": 13,
   "id": "f7dc4f66",
   "metadata": {},
   "outputs": [],
   "source": [
    "# flat the nested list from rhyme tagger\n",
    "flat_rhymes = [item for sublist in rhyme_list for item in sublist]"
   ]
  },
  {
   "cell_type": "code",
   "execution_count": 14,
   "id": "39fcb044",
   "metadata": {},
   "outputs": [
    {
     "data": {
      "text/plain": [
       "[2, 1, 1, 2, 3, None, 4, 3, 4]"
      ]
     },
     "execution_count": 14,
     "metadata": {},
     "output_type": "execute_result"
    }
   ],
   "source": [
    "flat_rhymes[1:10]"
   ]
  },
  {
   "cell_type": "code",
   "execution_count": 15,
   "id": "69516e02",
   "metadata": {},
   "outputs": [
    {
     "data": {
      "text/plain": [
       "['краса',\n",
       " 'мечтала',\n",
       " 'вперяла',\n",
       " 'небеса',\n",
       " 'собою',\n",
       " 'своим',\n",
       " 'огневым',\n",
       " 'порою',\n",
       " 'земным']"
      ]
     },
     "execution_count": 15,
     "metadata": {},
     "output_type": "execute_result"
    }
   ],
   "source": [
    "rhyme_words[1:10]"
   ]
  },
  {
   "cell_type": "markdown",
   "id": "4a70d866",
   "metadata": {},
   "source": [
    "##### add POS tags"
   ]
  },
  {
   "cell_type": "code",
   "execution_count": 16,
   "id": "efd19d7a",
   "metadata": {},
   "outputs": [
    {
     "name": "stdout",
     "output_type": "stream",
     "text": [
      "start:  2024-02-02 19:42:54.046816\n",
      "end:  2024-02-02 19:43:10.239727\n",
      "total time: 0:00:16.193100\n"
     ]
    }
   ],
   "source": [
    "from pymystem3 import Mystem\n",
    "m = Mystem()\n",
    "\n",
    "pos_list = []\n",
    "errors_pos = []\n",
    "\n",
    "time_start = datetime.now()\n",
    "print('start: ', time_start)\n",
    "\n",
    "for word in rhyme_words:\n",
    "    try:\n",
    "        analysis = m.analyze(word)\n",
    "        pos_list.append(analysis[0]['analysis'][0]['gr'])\n",
    "    except:\n",
    "        errors_pos.append(word)\n",
    "        pos_list.append(\" \")\n",
    "        \n",
    "    \n",
    "print('end: ', datetime.now())\n",
    "total_time = datetime.now() - time_start\n",
    "print('total time:', total_time)"
   ]
  },
  {
   "cell_type": "code",
   "execution_count": 17,
   "id": "b386a9dd",
   "metadata": {},
   "outputs": [
    {
     "data": {
      "text/plain": [
       "117"
      ]
     },
     "execution_count": 17,
     "metadata": {},
     "output_type": "execute_result"
    }
   ],
   "source": [
    "len(errors_pos)"
   ]
  },
  {
   "cell_type": "code",
   "execution_count": 18,
   "id": "f60c4959",
   "metadata": {},
   "outputs": [
    {
     "data": {
      "text/plain": [
       "['несомй',\n",
       " 'речахь',\n",
       " '__',\n",
       " 'мертвець',\n",
       " 'ovo',\n",
       " 'état',\n",
       " 'перигю',\n",
       " 'покаянъе',\n",
       " 'молвя',\n",
       " 'Харишы',\n",
       " 'ва',\n",
       " 'сновидеийй',\n",
       " '_',\n",
       " 'ненаменносгь',\n",
       " 'речъю',\n",
       " 'щемтггь',\n",
       " 'далыюй',\n",
       " 'turbot',\n",
       " 'Ру6о',\n",
       " 'Doré',\n",
       " 'любезный1',\n",
       " 'ви',\n",
       " 'изнеможеныи',\n",
       " 'тмы',\n",
       " 'цветй',\n",
       " 'подвебесыо',\n",
       " 'I',\n",
       " 'Халкидскихь',\n",
       " 'мпй',\n",
       " 'ла',\n",
       " 'устрояя',\n",
       " 'минувшихь',\n",
       " '_',\n",
       " 'Сый',\n",
       " 'Dames',\n",
       " 'paré',\n",
       " 'дстойИы',\n",
       " 'векй',\n",
       " 'нх',\n",
       " 'своевольныхь',\n",
       " 'Sospiri',\n",
       " 'd',\n",
       " 'monde',\n",
       " 'vis',\n",
       " 'кпппт',\n",
       " 'нм',\n",
       " 'цепяхь',\n",
       " 'менл',\n",
       " 'Salute',\n",
       " 'урокя',\n",
       " '__',\n",
       " 'secretaire',\n",
       " 'tête',\n",
       " 'полцеиы',\n",
       " 'покорныи',\n",
       " 'черныи',\n",
       " 'темнокрылыи',\n",
       " 'смелыи',\n",
       " 'donc',\n",
       " 'снегь',\n",
       " 'небесньй',\n",
       " 'пурпурныи',\n",
       " 'ceatera',\n",
       " 'прекрасныхь',\n",
       " 'свът',\n",
       " 'шагь',\n",
       " '_',\n",
       " '_',\n",
       " 'вссь',\n",
       " 'юмы',\n",
       " 'рск',\n",
       " 'шумигь',\n",
       " 'ои',\n",
       " 'тообю',\n",
       " 'ьхп',\n",
       " 'Werck',\n",
       " 'растерзаьь',\n",
       " 'посвя',\n",
       " 'complaisance',\n",
       " 'nom',\n",
       " 'parole',\n",
       " '__',\n",
       " 'XXX',\n",
       " 'свящепаый',\n",
       " 'убийцз',\n",
       " 'рукь',\n",
       " 'гроаы',\n",
       " 'мигь',\n",
       " 'Сый',\n",
       " 'необъятнойd',\n",
       " 'delicieuse',\n",
       " 'delicieuse',\n",
       " 'птиецй',\n",
       " 'etceteru',\n",
       " 'очн',\n",
       " 'ever',\n",
       " 'ше',\n",
       " 'ъ',\n",
       " 'ннмн',\n",
       " 'I',\n",
       " 'темнокрылыи',\n",
       " 'свиданьй',\n",
       " 'ич',\n",
       " 'зеилбй',\n",
       " 'II',\n",
       " 'III',\n",
       " 'IV',\n",
       " 'V',\n",
       " 'II',\n",
       " 'III',\n",
       " 'I',\n",
       " 'II',\n",
       " 'III',\n",
       " 'IV',\n",
       " 'Просвещенъе',\n",
       " '_',\n",
       " 'лbлей']"
      ]
     },
     "execution_count": 18,
     "metadata": {},
     "output_type": "execute_result"
    }
   ],
   "source": [
    "errors_pos"
   ]
  },
  {
   "cell_type": "code",
   "execution_count": 19,
   "id": "23067108",
   "metadata": {},
   "outputs": [
    {
     "data": {
      "text/html": [
       "<div>\n",
       "<style scoped>\n",
       "    .dataframe tbody tr th:only-of-type {\n",
       "        vertical-align: middle;\n",
       "    }\n",
       "\n",
       "    .dataframe tbody tr th {\n",
       "        vertical-align: top;\n",
       "    }\n",
       "\n",
       "    .dataframe thead th {\n",
       "        text-align: right;\n",
       "    }\n",
       "</style>\n",
       "<table border=\"1\" class=\"dataframe\">\n",
       "  <thead>\n",
       "    <tr style=\"text-align: right;\">\n",
       "      <th></th>\n",
       "      <th>poem_id</th>\n",
       "      <th>rhyme_words</th>\n",
       "      <th>rhymes</th>\n",
       "      <th>pos</th>\n",
       "    </tr>\n",
       "  </thead>\n",
       "  <tbody>\n",
       "    <tr>\n",
       "      <th>0</th>\n",
       "      <td>P_1938.txt</td>\n",
       "      <td>стояла</td>\n",
       "      <td>1.0</td>\n",
       "      <td>V,несов,нп=прош,ед,изъяв,жен</td>\n",
       "    </tr>\n",
       "    <tr>\n",
       "      <th>1</th>\n",
       "      <td>P_1938.txt</td>\n",
       "      <td>краса</td>\n",
       "      <td>2.0</td>\n",
       "      <td>S,жен,неод=им,ед</td>\n",
       "    </tr>\n",
       "    <tr>\n",
       "      <th>2</th>\n",
       "      <td>P_1938.txt</td>\n",
       "      <td>мечтала</td>\n",
       "      <td>1.0</td>\n",
       "      <td>V,несов,нп=прош,ед,изъяв,жен</td>\n",
       "    </tr>\n",
       "    <tr>\n",
       "      <th>3</th>\n",
       "      <td>P_1938.txt</td>\n",
       "      <td>вперяла</td>\n",
       "      <td>1.0</td>\n",
       "      <td>V,пе=прош,ед,изъяв,жен,несов</td>\n",
       "    </tr>\n",
       "    <tr>\n",
       "      <th>4</th>\n",
       "      <td>P_1938.txt</td>\n",
       "      <td>небеса</td>\n",
       "      <td>2.0</td>\n",
       "      <td>S,сред,неод=(вин,мн|им,мн)</td>\n",
       "    </tr>\n",
       "    <tr>\n",
       "      <th>...</th>\n",
       "      <td>...</td>\n",
       "      <td>...</td>\n",
       "      <td>...</td>\n",
       "      <td>...</td>\n",
       "    </tr>\n",
       "    <tr>\n",
       "      <th>190701</th>\n",
       "      <td>C_194__12.txt</td>\n",
       "      <td>дня</td>\n",
       "      <td>12.0</td>\n",
       "      <td>S,муж,неод=род,ед</td>\n",
       "    </tr>\n",
       "    <tr>\n",
       "      <th>190702</th>\n",
       "      <td>C_194__12.txt</td>\n",
       "      <td>счастии</td>\n",
       "      <td>11.0</td>\n",
       "      <td>S,сред,неод=пр,ед</td>\n",
       "    </tr>\n",
       "    <tr>\n",
       "      <th>190703</th>\n",
       "      <td>C_194__12.txt</td>\n",
       "      <td>грозит</td>\n",
       "      <td>13.0</td>\n",
       "      <td>V,несов,нп=непрош,ед,изъяв,3-л</td>\n",
       "    </tr>\n",
       "    <tr>\n",
       "      <th>190704</th>\n",
       "      <td>C_194__12.txt</td>\n",
       "      <td>ненастия</td>\n",
       "      <td>NaN</td>\n",
       "      <td>S,жен,неод=им,ед</td>\n",
       "    </tr>\n",
       "    <tr>\n",
       "      <th>190705</th>\n",
       "      <td>C_194__12.txt</td>\n",
       "      <td>дарит</td>\n",
       "      <td>13.0</td>\n",
       "      <td>V,несов,пе=непрош,ед,изъяв,3-л</td>\n",
       "    </tr>\n",
       "  </tbody>\n",
       "</table>\n",
       "<p>190706 rows × 4 columns</p>\n",
       "</div>"
      ],
      "text/plain": [
       "              poem_id rhyme_words  rhymes                             pos\n",
       "0          P_1938.txt      стояла     1.0    V,несов,нп=прош,ед,изъяв,жен\n",
       "1          P_1938.txt       краса     2.0                S,жен,неод=им,ед\n",
       "2          P_1938.txt     мечтала     1.0    V,несов,нп=прош,ед,изъяв,жен\n",
       "3          P_1938.txt     вперяла     1.0    V,пе=прош,ед,изъяв,жен,несов\n",
       "4          P_1938.txt      небеса     2.0      S,сред,неод=(вин,мн|им,мн)\n",
       "...               ...         ...     ...                             ...\n",
       "190701  C_194__12.txt         дня    12.0               S,муж,неод=род,ед\n",
       "190702  C_194__12.txt     счастии    11.0               S,сред,неод=пр,ед\n",
       "190703  C_194__12.txt      грозит    13.0  V,несов,нп=непрош,ед,изъяв,3-л\n",
       "190704  C_194__12.txt    ненастия     NaN                S,жен,неод=им,ед\n",
       "190705  C_194__12.txt       дарит    13.0  V,несов,пе=непрош,ед,изъяв,3-л\n",
       "\n",
       "[190706 rows x 4 columns]"
      ]
     },
     "execution_count": 19,
     "metadata": {},
     "output_type": "execute_result"
    }
   ],
   "source": [
    "df = pd.DataFrame({'poem_id':poem_id,\n",
    "                  'rhyme_words':rhyme_words,\n",
    "                  'rhymes':flat_rhymes\n",
    "                  ,\n",
    "                   'pos':pos_list\n",
    "                  })\n",
    "df"
   ]
  },
  {
   "cell_type": "code",
   "execution_count": 53,
   "id": "d4549a29",
   "metadata": {},
   "outputs": [
    {
     "data": {
      "text/html": [
       "<div>\n",
       "<style scoped>\n",
       "    .dataframe tbody tr th:only-of-type {\n",
       "        vertical-align: middle;\n",
       "    }\n",
       "\n",
       "    .dataframe tbody tr th {\n",
       "        vertical-align: top;\n",
       "    }\n",
       "\n",
       "    .dataframe thead th {\n",
       "        text-align: right;\n",
       "    }\n",
       "</style>\n",
       "<table border=\"1\" class=\"dataframe\">\n",
       "  <thead>\n",
       "    <tr style=\"text-align: right;\">\n",
       "      <th></th>\n",
       "      <th>poem_id</th>\n",
       "      <th>rhyme_words</th>\n",
       "      <th>rhymes</th>\n",
       "    </tr>\n",
       "  </thead>\n",
       "  <tbody>\n",
       "    <tr>\n",
       "      <th>110</th>\n",
       "      <td>P_18.txt</td>\n",
       "      <td>8</td>\n",
       "      <td>NaN</td>\n",
       "    </tr>\n",
       "  </tbody>\n",
       "</table>\n",
       "</div>"
      ],
      "text/plain": [
       "      poem_id rhyme_words  rhymes\n",
       "110  P_18.txt           8     NaN"
      ]
     },
     "execution_count": 53,
     "metadata": {},
     "output_type": "execute_result"
    }
   ],
   "source": [
    "#df.loc[df['rhyme_words'] == '8']"
   ]
  },
  {
   "cell_type": "code",
   "execution_count": 20,
   "id": "cd3b10d2",
   "metadata": {},
   "outputs": [],
   "source": [
    "#df.to_csv('../per_rhymes_pos.csv')\n",
    "\n",
    "# df.to_csv('../rnc_rhymes_only.csv')\n",
    "# df.to_csv('../rnc_rhymes_pos.csv')\n",
    "\n",
    "df.to_csv('corpus-35_rhymes.csv')"
   ]
  },
  {
   "cell_type": "markdown",
   "id": "7291899d",
   "metadata": {},
   "source": [
    "### Add POS & features annotation to all words"
   ]
  },
  {
   "cell_type": "code",
   "execution_count": 4,
   "id": "f9507a06",
   "metadata": {},
   "outputs": [],
   "source": [
    "from pymystem3 import Mystem\n",
    "m = Mystem()"
   ]
  },
  {
   "cell_type": "code",
   "execution_count": 5,
   "id": "1c84cc8b",
   "metadata": {},
   "outputs": [
    {
     "name": "stdout",
     "output_type": "stream",
     "text": [
      "start:  2024-07-31 17:08:23.214667\n",
      "end:  2024-07-31 17:08:25.443504\n",
      "total time: 0:00:02.229110\n"
     ]
    }
   ],
   "source": [
    "# load prepared data with all unique forms occured in Corpus-1835\n",
    "\n",
    "# counter = 0\n",
    "analysis = []\n",
    "word_form = []\n",
    "lemma = []\n",
    "pos_list = []\n",
    "errors_pos = []\n",
    "\n",
    "time_start = datetime.now()\n",
    "print('start: ', time_start)\n",
    "\n",
    "with open('k_endwords.txt', 'r') as words:\n",
    "    for word in words:\n",
    "        #if counter < 50:\n",
    "            #print(word)\n",
    "        #    counter += 1\n",
    "                    \n",
    "        word = word.strip()                \n",
    "        word_form.append(word)\n",
    "        try: \n",
    "            analysis = m.analyze(word)\n",
    "\n",
    "            \n",
    "            lemma.append(analysis[0]['analysis'][0]['lex'])\n",
    "            pos_list.append(analysis[0]['analysis'][0]['gr'])\n",
    "\n",
    "        except:                \n",
    "            errors_pos.append(word)\n",
    "            lemma.append(\" \")\n",
    "            pos_list.append(\" \")\n",
    "\n",
    "    \n",
    "print('end: ', datetime.now())\n",
    "total_time = datetime.now() - time_start\n",
    "print('total time:', total_time)"
   ]
  },
  {
   "cell_type": "code",
   "execution_count": 6,
   "id": "1c73ab9d",
   "metadata": {},
   "outputs": [
    {
     "data": {
      "text/plain": [
       "['брызги',\n",
       " 'нагрянул',\n",
       " 'отцам',\n",
       " 'великий',\n",
       " 'и',\n",
       " 'не',\n",
       " 'брачном',\n",
       " 'новым',\n",
       " 'встрепенулся',\n",
       " 'зла']"
      ]
     },
     "execution_count": 6,
     "metadata": {},
     "output_type": "execute_result"
    }
   ],
   "source": [
    "word_form[10:20]"
   ]
  },
  {
   "cell_type": "code",
   "execution_count": 7,
   "id": "6cdbf94f",
   "metadata": {},
   "outputs": [
    {
     "name": "stdout",
     "output_type": "stream",
     "text": [
      "1010 1010 1010\n"
     ]
    }
   ],
   "source": [
    "print(len(word_form), len(lemma), len(pos_list))"
   ]
  },
  {
   "cell_type": "code",
   "execution_count": 8,
   "id": "f2c0ccaa",
   "metadata": {},
   "outputs": [
    {
     "data": {
      "text/plain": [
       "['du', 'пею', 'ня']"
      ]
     },
     "execution_count": 8,
     "metadata": {},
     "output_type": "execute_result"
    }
   ],
   "source": [
    "errors_pos"
   ]
  },
  {
   "cell_type": "code",
   "execution_count": 9,
   "id": "027ef1fe",
   "metadata": {},
   "outputs": [
    {
     "data": {
      "text/html": [
       "<div>\n",
       "<style scoped>\n",
       "    .dataframe tbody tr th:only-of-type {\n",
       "        vertical-align: middle;\n",
       "    }\n",
       "\n",
       "    .dataframe tbody tr th {\n",
       "        vertical-align: top;\n",
       "    }\n",
       "\n",
       "    .dataframe thead th {\n",
       "        text-align: right;\n",
       "    }\n",
       "</style>\n",
       "<table border=\"1\" class=\"dataframe\">\n",
       "  <thead>\n",
       "    <tr style=\"text-align: right;\">\n",
       "      <th></th>\n",
       "      <th>word_from</th>\n",
       "      <th>lemma</th>\n",
       "      <th>pos</th>\n",
       "    </tr>\n",
       "  </thead>\n",
       "  <tbody>\n",
       "    <tr>\n",
       "      <th>0</th>\n",
       "      <td>какое</td>\n",
       "      <td>какой</td>\n",
       "      <td>APRO=(вин,ед,сред|им,ед,сред)</td>\n",
       "    </tr>\n",
       "    <tr>\n",
       "      <th>1</th>\n",
       "      <td>певец</td>\n",
       "      <td>певец</td>\n",
       "      <td>S,муж,од=им,ед</td>\n",
       "    </tr>\n",
       "    <tr>\n",
       "      <th>2</th>\n",
       "      <td>себя</td>\n",
       "      <td>себя</td>\n",
       "      <td>SPRO=(вин|род)</td>\n",
       "    </tr>\n",
       "    <tr>\n",
       "      <th>3</th>\n",
       "      <td>ль</td>\n",
       "      <td>ль</td>\n",
       "      <td>PART=</td>\n",
       "    </tr>\n",
       "    <tr>\n",
       "      <th>4</th>\n",
       "      <td>в</td>\n",
       "      <td>в</td>\n",
       "      <td>S,сокр=(пр,мн|пр,ед|вин,мн|вин,ед|дат,мн|дат,е...</td>\n",
       "    </tr>\n",
       "    <tr>\n",
       "      <th>...</th>\n",
       "      <td>...</td>\n",
       "      <td>...</td>\n",
       "      <td>...</td>\n",
       "    </tr>\n",
       "    <tr>\n",
       "      <th>1005</th>\n",
       "      <td>счастливыми</td>\n",
       "      <td>счастливый</td>\n",
       "      <td>A=твор,мн,полн</td>\n",
       "    </tr>\n",
       "    <tr>\n",
       "      <th>1006</th>\n",
       "      <td>поп</td>\n",
       "      <td>поп</td>\n",
       "      <td>S,муж,од=им,ед</td>\n",
       "    </tr>\n",
       "    <tr>\n",
       "      <th>1007</th>\n",
       "      <td>жалобный</td>\n",
       "      <td>жалобный</td>\n",
       "      <td>A=(вин,ед,полн,муж,неод|им,ед,полн,муж)</td>\n",
       "    </tr>\n",
       "    <tr>\n",
       "      <th>1008</th>\n",
       "      <td>ня</td>\n",
       "      <td></td>\n",
       "      <td></td>\n",
       "    </tr>\n",
       "    <tr>\n",
       "      <th>1009</th>\n",
       "      <td>его</td>\n",
       "      <td>он</td>\n",
       "      <td>SPRO,ед,3-л,муж=(вин|род)</td>\n",
       "    </tr>\n",
       "  </tbody>\n",
       "</table>\n",
       "<p>1010 rows × 3 columns</p>\n",
       "</div>"
      ],
      "text/plain": [
       "        word_from       lemma  \\\n",
       "0           какое       какой   \n",
       "1           певец       певец   \n",
       "2            себя        себя   \n",
       "3              ль          ль   \n",
       "4               в           в   \n",
       "...           ...         ...   \n",
       "1005  счастливыми  счастливый   \n",
       "1006          поп         поп   \n",
       "1007     жалобный    жалобный   \n",
       "1008           ня               \n",
       "1009          его          он   \n",
       "\n",
       "                                                    pos  \n",
       "0                         APRO=(вин,ед,сред|им,ед,сред)  \n",
       "1                                        S,муж,од=им,ед  \n",
       "2                                        SPRO=(вин|род)  \n",
       "3                                                 PART=  \n",
       "4     S,сокр=(пр,мн|пр,ед|вин,мн|вин,ед|дат,мн|дат,е...  \n",
       "...                                                 ...  \n",
       "1005                                     A=твор,мн,полн  \n",
       "1006                                     S,муж,од=им,ед  \n",
       "1007            A=(вин,ед,полн,муж,неод|им,ед,полн,муж)  \n",
       "1008                                                     \n",
       "1009                          SPRO,ед,3-л,муж=(вин|род)  \n",
       "\n",
       "[1010 rows x 3 columns]"
      ]
     },
     "execution_count": 9,
     "metadata": {},
     "output_type": "execute_result"
    }
   ],
   "source": [
    "df = pd.DataFrame({'word_from':word_form,\n",
    "                  'lemma':lemma,\n",
    "                   'pos':pos_list\n",
    "                  })\n",
    "df"
   ]
  },
  {
   "cell_type": "code",
   "execution_count": 10,
   "id": "5ca50003",
   "metadata": {},
   "outputs": [],
   "source": [
    "df.to_csv('k_endwords.csv')"
   ]
  },
  {
   "cell_type": "markdown",
   "id": "b3d99a43",
   "metadata": {},
   "source": [
    "### POS tagging & other tests"
   ]
  },
  {
   "cell_type": "code",
   "execution_count": null,
   "id": "465e1b40",
   "metadata": {},
   "outputs": [],
   "source": [
    "poem = []\n",
    "poem_id = []\n",
    "verse = []\n",
    "verse_cln = []\n",
    "rhyme_words = []\n",
    "rhyme_list = []\n",
    "\n",
    "# regex for cleaning lines from digits (other things can be added)\n",
    "regex = re.compile('\\d+')\n",
    "\n",
    "for file in os.listdir():\n",
    "    if file.endswith('.txt'):\n",
    "        with open(file, 'r') as text:\n",
    "            for line in text:\n",
    "                #if line != '\\n': # filter empty lines\n",
    "                if not re.match(r\"\\W+\", line): # filter non-character lines as .....\n",
    "                    poem_id.append(file)\n",
    "                    line = line.strip()\n",
    "                    poem.append(line)\n",
    "                    verse = tokenizer.tokenize(line)\n",
    "                    verse = [i for i in verse if not regex.match(i)]\n",
    "                    print(verse)\n",
    "                        "
   ]
  },
  {
   "cell_type": "code",
   "execution_count": 19,
   "id": "3f6e46e5",
   "metadata": {},
   "outputs": [
    {
     "name": "stdout",
     "output_type": "stream",
     "text": [
      "false\n"
     ]
    }
   ],
   "source": [
    "line = '\\n\\nohhh'\n",
    "if re.match(r\"^\\d*\\W*$\", line):\n",
    "    print('true')\n",
    "else:\n",
    "    print('false')"
   ]
  },
  {
   "cell_type": "code",
   "execution_count": 16,
   "id": "de2e1870",
   "metadata": {},
   "outputs": [],
   "source": [
    "import spacy\n",
    "nlp = spacy.load('ru_core_news_lg')"
   ]
  },
  {
   "cell_type": "code",
   "execution_count": 21,
   "id": "37052521",
   "metadata": {},
   "outputs": [
    {
     "name": "stdout",
     "output_type": "stream",
     "text": [
      "DET\n"
     ]
    }
   ],
   "source": [
    "test = ['мой', 'душа', 'гоняю']\n",
    "\n",
    "doc = nlp(\"мой\")\n",
    "\n",
    "for token in doc:\n",
    "    print(token.pos_)"
   ]
  },
  {
   "cell_type": "code",
   "execution_count": 23,
   "id": "c657cfd9",
   "metadata": {},
   "outputs": [],
   "source": [
    "pos_list = []\n",
    "\n",
    "for i in test:\n",
    "    doc = nlp(i)\n",
    "    for token in doc:\n",
    "        pos_list.append(token.pos_)"
   ]
  },
  {
   "cell_type": "code",
   "execution_count": 30,
   "id": "2d5e0582",
   "metadata": {},
   "outputs": [
    {
     "data": {
      "text/plain": [
       "['DET', 'NOUN', 'VERB']"
      ]
     },
     "execution_count": 30,
     "metadata": {},
     "output_type": "execute_result"
    }
   ],
   "source": [
    "pos_list"
   ]
  },
  {
   "cell_type": "code",
   "execution_count": 28,
   "id": "9bcd7c5c",
   "metadata": {},
   "outputs": [
    {
     "data": {
      "text/plain": [
       "['поля',\n",
       " 'надежда',\n",
       " 'земля',\n",
       " 'безмятежно',\n",
       " 'мечта',\n",
       " 'безрубежной',\n",
       " 'облита',\n",
       " 'простора',\n",
       " 'чудес']"
      ]
     },
     "execution_count": 28,
     "metadata": {},
     "output_type": "execute_result"
    }
   ],
   "source": [
    "rhyme_words[1:10]"
   ]
  },
  {
   "cell_type": "code",
   "execution_count": 32,
   "id": "d055f139",
   "metadata": {},
   "outputs": [],
   "source": [
    "pos_list = [token.pos_ for word in rhyme_words[1:10] for token in nlp(word)]"
   ]
  },
  {
   "cell_type": "code",
   "execution_count": 33,
   "id": "abd8e10e",
   "metadata": {},
   "outputs": [
    {
     "data": {
      "text/plain": [
       "['NOUN', 'NOUN', 'NOUN', 'ADJ', 'NOUN', 'NOUN', 'VERB', 'NOUN', 'NOUN']"
      ]
     },
     "execution_count": 33,
     "metadata": {},
     "output_type": "execute_result"
    }
   ],
   "source": [
    "pos_list"
   ]
  },
  {
   "cell_type": "markdown",
   "id": "8af62951",
   "metadata": {},
   "source": [
    "#### mystem\n",
    "Some checking how the tagger works"
   ]
  },
  {
   "cell_type": "code",
   "execution_count": 45,
   "id": "29fa234f",
   "metadata": {},
   "outputs": [],
   "source": [
    "from pymystem3 import Mystem\n",
    "m = Mystem()"
   ]
  },
  {
   "cell_type": "code",
   "execution_count": 47,
   "id": "b8335f1e",
   "metadata": {},
   "outputs": [
    {
     "data": {
      "text/plain": [
       "[{'analysis': [{'lex': 'слово', 'gr': 'S,сред,неод=(вин,ед|им,ед)'}],\n",
       "  'text': 'слово'},\n",
       " {'text': ' '},\n",
       " {'analysis': [{'lex': 'безмятежно', 'gr': 'ADV='}], 'text': 'безмятежно'},\n",
       " {'text': '\\n'}]"
      ]
     },
     "execution_count": 47,
     "metadata": {},
     "output_type": "execute_result"
    }
   ],
   "source": [
    "m.analyze(\"слово безмятежно\")"
   ]
  },
  {
   "cell_type": "code",
   "execution_count": 52,
   "id": "4abbe665",
   "metadata": {},
   "outputs": [
    {
     "data": {
      "text/plain": [
       "{'analysis': [{'lex': 'безмятежно', 'gr': 'ADV='}], 'text': 'безмятежно'}"
      ]
     },
     "execution_count": 52,
     "metadata": {},
     "output_type": "execute_result"
    }
   ],
   "source": [
    "analysis = m.analyze(\"безмятежно\")\n",
    "analysis[0]"
   ]
  },
  {
   "cell_type": "code",
   "execution_count": 57,
   "id": "c85783b6",
   "metadata": {},
   "outputs": [
    {
     "data": {
      "text/plain": [
       "'ADV='"
      ]
     },
     "execution_count": 57,
     "metadata": {},
     "output_type": "execute_result"
    }
   ],
   "source": [
    "d = analysis[0]\n",
    "d['analysis'][0]['gr']"
   ]
  },
  {
   "cell_type": "code",
   "execution_count": 58,
   "id": "03606b34",
   "metadata": {},
   "outputs": [
    {
     "data": {
      "text/plain": [
       "'ADV='"
      ]
     },
     "execution_count": 58,
     "metadata": {},
     "output_type": "execute_result"
    }
   ],
   "source": [
    "analysis[0]['analysis'][0]['gr']"
   ]
  },
  {
   "cell_type": "code",
   "execution_count": 59,
   "id": "6e27e92d",
   "metadata": {},
   "outputs": [
    {
     "data": {
      "text/plain": [
       "['поля',\n",
       " 'надежда',\n",
       " 'земля',\n",
       " 'безмятежно',\n",
       " 'мечта',\n",
       " 'безрубежной',\n",
       " 'облита',\n",
       " 'простора',\n",
       " 'чудес']"
      ]
     },
     "execution_count": 59,
     "metadata": {},
     "output_type": "execute_result"
    }
   ],
   "source": [
    "rhyme_words[1:10]"
   ]
  },
  {
   "cell_type": "code",
   "execution_count": 65,
   "id": "4f85bb45",
   "metadata": {},
   "outputs": [],
   "source": [
    "pos_list = []\n",
    "\n",
    "for word in rhyme_words[1:10]:\n",
    "    analysis = m.analyze(word)\n",
    "    pos_list.append(analysis[0]['analysis'][0]['gr'])"
   ]
  },
  {
   "cell_type": "code",
   "execution_count": 66,
   "id": "a8f77173",
   "metadata": {},
   "outputs": [
    {
     "data": {
      "text/plain": [
       "['S,сред,неод=(вин,мн|род,ед|им,мн)',\n",
       " 'S,жен,неод=им,ед',\n",
       " 'S,жен,неод=им,ед',\n",
       " 'ADV=',\n",
       " 'S,жен,неод=им,ед',\n",
       " 'A=(пр,ед,полн,жен|дат,ед,полн,жен|род,ед,полн,жен|твор,ед,полн,жен)',\n",
       " 'V=прош,ед,прич,кр,жен,сов,страд',\n",
       " 'S,муж,неод=род,ед',\n",
       " 'S,сред,неод=род,мн']"
      ]
     },
     "execution_count": 66,
     "metadata": {},
     "output_type": "execute_result"
    }
   ],
   "source": [
    "pos_list"
   ]
  },
  {
   "cell_type": "code",
   "execution_count": 62,
   "id": "0e613cd6",
   "metadata": {},
   "outputs": [],
   "source": [
    "pos_list = []"
   ]
  },
  {
   "cell_type": "code",
   "execution_count": null,
   "id": "fc03cc5b",
   "metadata": {},
   "outputs": [],
   "source": []
  }
 ],
 "metadata": {
  "kernelspec": {
   "display_name": "Python 3 (ipykernel)",
   "language": "python",
   "name": "python3"
  },
  "language_info": {
   "codemirror_mode": {
    "name": "ipython",
    "version": 3
   },
   "file_extension": ".py",
   "mimetype": "text/x-python",
   "name": "python",
   "nbconvert_exporter": "python",
   "pygments_lexer": "ipython3",
   "version": "3.9.16"
  }
 },
 "nbformat": 4,
 "nbformat_minor": 5
}
